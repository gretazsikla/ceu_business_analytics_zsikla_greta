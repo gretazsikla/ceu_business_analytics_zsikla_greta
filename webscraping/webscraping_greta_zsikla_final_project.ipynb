{
  "nbformat": 4,
  "nbformat_minor": 0,
  "metadata": {
    "colab": {
      "provenance": []
    },
    "kernelspec": {
      "name": "python3",
      "display_name": "Python 3"
    },
    "language_info": {
      "name": "python"
    }
  },
  "cells": [
    {
      "cell_type": "code",
      "execution_count": 102,
      "metadata": {
        "colab": {
          "base_uri": "https://localhost:8080/"
        },
        "id": "91deolm8fyYk",
        "outputId": "45d39934-579c-405b-e2ed-d531ac70878f"
      },
      "outputs": [
        {
          "output_type": "stream",
          "name": "stdout",
          "text": [
            "Requirement already satisfied: scrapethat in /usr/local/lib/python3.10/dist-packages (1.0.3)\n",
            "Requirement already satisfied: bs4 in /usr/local/lib/python3.10/dist-packages (from scrapethat) (0.0.2)\n",
            "Requirement already satisfied: requests in /usr/local/lib/python3.10/dist-packages (from scrapethat) (2.32.3)\n",
            "Requirement already satisfied: pandas in /usr/local/lib/python3.10/dist-packages (from scrapethat) (2.2.2)\n",
            "Requirement already satisfied: cloudscraper in /usr/local/lib/python3.10/dist-packages (from scrapethat) (1.2.71)\n",
            "Requirement already satisfied: beautifulsoup4 in /usr/local/lib/python3.10/dist-packages (from bs4->scrapethat) (4.12.3)\n",
            "Requirement already satisfied: pyparsing>=2.4.7 in /usr/local/lib/python3.10/dist-packages (from cloudscraper->scrapethat) (3.2.0)\n",
            "Requirement already satisfied: requests-toolbelt>=0.9.1 in /usr/local/lib/python3.10/dist-packages (from cloudscraper->scrapethat) (1.0.0)\n",
            "Requirement already satisfied: charset-normalizer<4,>=2 in /usr/local/lib/python3.10/dist-packages (from requests->scrapethat) (3.4.0)\n",
            "Requirement already satisfied: idna<4,>=2.5 in /usr/local/lib/python3.10/dist-packages (from requests->scrapethat) (3.10)\n",
            "Requirement already satisfied: urllib3<3,>=1.21.1 in /usr/local/lib/python3.10/dist-packages (from requests->scrapethat) (2.2.3)\n",
            "Requirement already satisfied: certifi>=2017.4.17 in /usr/local/lib/python3.10/dist-packages (from requests->scrapethat) (2024.12.14)\n",
            "Requirement already satisfied: numpy>=1.22.4 in /usr/local/lib/python3.10/dist-packages (from pandas->scrapethat) (1.26.4)\n",
            "Requirement already satisfied: python-dateutil>=2.8.2 in /usr/local/lib/python3.10/dist-packages (from pandas->scrapethat) (2.8.2)\n",
            "Requirement already satisfied: pytz>=2020.1 in /usr/local/lib/python3.10/dist-packages (from pandas->scrapethat) (2024.2)\n",
            "Requirement already satisfied: tzdata>=2022.7 in /usr/local/lib/python3.10/dist-packages (from pandas->scrapethat) (2024.2)\n",
            "Requirement already satisfied: six>=1.5 in /usr/local/lib/python3.10/dist-packages (from python-dateutil>=2.8.2->pandas->scrapethat) (1.17.0)\n",
            "Requirement already satisfied: soupsieve>1.2 in /usr/local/lib/python3.10/dist-packages (from beautifulsoup4->bs4->scrapethat) (2.6)\n"
          ]
        }
      ],
      "source": [
        "!pip install scrapethat"
      ]
    },
    {
      "cell_type": "code",
      "source": [
        "from scrapethat import *\n",
        "import pandas as pd\n",
        "import plotnine as p9\n",
        "from plotnine import ggplot, aes, geom_bar, coord_flip, element_text\n",
        "import statsmodels.formula.api as smf\n",
        "import numpy as np"
      ],
      "metadata": {
        "id": "LTQAexkhgMZA"
      },
      "execution_count": 103,
      "outputs": []
    },
    {
      "cell_type": "markdown",
      "source": [
        "###Getting the link from the alberlet.hu website's first page's first element"
      ],
      "metadata": {
        "id": "dOB2xGD9y6GX"
      }
    },
    {
      "cell_type": "code",
      "source": [
        "main_webpage = read_cloud('https://www.alberlet.hu/kiado_alberlet/ingatlan-tipus:lakas/megye:budapest/keres:normal/limit:24')"
      ],
      "metadata": {
        "id": "9YLeakFPgMuz"
      },
      "execution_count": 104,
      "outputs": []
    },
    {
      "cell_type": "code",
      "source": [
        "main_webpage.select('.col-xl-3')[0].select('.advert-data')[0].select_one('a')['href']"
      ],
      "metadata": {
        "colab": {
          "base_uri": "https://localhost:8080/",
          "height": 35
        },
        "id": "XRrFthklmc7Q",
        "outputId": "f07449bb-43c0-41e7-83f7-4d724220001d"
      },
      "execution_count": 105,
      "outputs": [
        {
          "output_type": "execute_result",
          "data": {
            "text/plain": [
              "'/kiado_alberlet/budapest-VIII-kerulet-tomo-utca--50m2-2-szoba_752985'"
            ],
            "application/vnd.google.colaboratory.intrinsic+json": {
              "type": "string"
            }
          },
          "metadata": {},
          "execution_count": 105
        }
      ]
    },
    {
      "cell_type": "markdown",
      "source": [
        "###Getting all the links from the first page"
      ],
      "metadata": {
        "id": "by28VDuhzVPg"
      }
    },
    {
      "cell_type": "code",
      "source": [
        "links_from_first_page = [\n",
        "    x.select_one('a')['href'] for x in main_webpage.select('.col-xl-3 .advert-data') if x.select_one('a')\n",
        "]\n",
        "\n",
        "print(links_from_first_page)"
      ],
      "metadata": {
        "colab": {
          "base_uri": "https://localhost:8080/"
        },
        "id": "krBhoBQFkDum",
        "outputId": "72328dbd-a650-4ae1-d10f-335c658149fc"
      },
      "execution_count": 106,
      "outputs": [
        {
          "output_type": "stream",
          "name": "stdout",
          "text": [
            "['/kiado_alberlet/budapest-VIII-kerulet-tomo-utca--50m2-2-szoba_752985', '/kiado_alberlet/budapest-III-kerulet-punkosdfurdo-utca-47m2-2-szoba_756171', '/kiado_alberlet/budapest-VI-kerulet-nagymezo-utca-60m2-3-szoba_753763', '/kiado_alberlet/budapest-V-kerulet-petofi-sandor-utca-66m2-2-szoba_755961', '/kiado_alberlet/budapest-V-kerulet-zrinyi-utca-47m2-1-szoba_725312', '/kiado_alberlet/budapest-II-kerulet-tarogato-ut-70m2-3-szoba_750733', '/kiado_alberlet/budapest-XIV-kerulet-kerepesi-ut--37m2-1-szoba_756113', '/kiado_alberlet/budapest-XII-kerulet-taltos-utca--50m2-2-szoba_754877', '/kiado_alberlet/budapest-IX-kerulet-erkel-utca-45m2-2-szoba_756112', '/kiado_alberlet/budapest-XIII-kerulet-cserhalom--45m2-2-szoba_755489', '/kiado_alberlet/budapest-XIV-kerulet-kalocsai-utca-32m2-1-szoba_676177', '/kiado_alberlet/budapest-II-kerulet-torokvesz-ut-78m2-3-szoba_755524', '/kiado_alberlet/budapest-XI-kerulet-tars-utca-27m2-1-szoba_756086', '/kiado_alberlet/budapest-II-kerulet-filler-utca-72m2-2-szoba_754866', '/kiado_alberlet/budapest-XI-kerulet-menedekes-utca-56m2-3-szoba_755987', '/kiado_alberlet/budapest-XVIII-kerulet-margo-tivadar-utca-28m2-1-szoba_728920', '/kiado_alberlet/budapest-XI-kerulet-barazda-utca-68m2-3-szoba_750181', '/kiado_alberlet/budapest-XIII-kerulet-lehel-utca-43m2-2-szoba_689994', '/kiado_alberlet/budapest-XIII-kerulet-baber-utca-39m2-2-szoba_596521', '/kiado_alberlet/budapest-XIV-kerulet-ilka-utca-35m2-1-szoba_755994', '/kiado_alberlet/budapest-XIV-kerulet-thokoly-ut-32m2-1-szoba_540390', '/kiado_alberlet/budapest-XIII-kerulet-vaci-ut-53m2-2-szoba_755900', '/kiado_alberlet/budapest-XIV-kerulet-laky-adolf-utca-39m2-1-szoba_663217', '/kiado_alberlet/budapest-XIII-kerulet-visegradi-utca-80m2-3-szoba_731457']\n"
          ]
        }
      ]
    },
    {
      "cell_type": "code",
      "source": [
        "len(links_from_first_page)"
      ],
      "metadata": {
        "colab": {
          "base_uri": "https://localhost:8080/"
        },
        "id": "gXpGIUKukDrp",
        "outputId": "fe448e47-89ee-4222-95f9-8d1f327c0a75"
      },
      "execution_count": 107,
      "outputs": [
        {
          "output_type": "execute_result",
          "data": {
            "text/plain": [
              "24"
            ]
          },
          "metadata": {},
          "execution_count": 107
        }
      ]
    },
    {
      "cell_type": "code",
      "source": [
        "full_links = ['https://www.alberlet.hu/' + link for link in links_from_first_page]\n",
        "full_links[0:3]"
      ],
      "metadata": {
        "colab": {
          "base_uri": "https://localhost:8080/"
        },
        "id": "i3Q6GDiEkDo_",
        "outputId": "f8de65ac-706e-4c0c-f0e2-727badb9c9e3"
      },
      "execution_count": 108,
      "outputs": [
        {
          "output_type": "execute_result",
          "data": {
            "text/plain": [
              "['https://www.alberlet.hu//kiado_alberlet/budapest-VIII-kerulet-tomo-utca--50m2-2-szoba_752985',\n",
              " 'https://www.alberlet.hu//kiado_alberlet/budapest-III-kerulet-punkosdfurdo-utca-47m2-2-szoba_756171',\n",
              " 'https://www.alberlet.hu//kiado_alberlet/budapest-VI-kerulet-nagymezo-utca-60m2-3-szoba_753763']"
            ]
          },
          "metadata": {},
          "execution_count": 108
        }
      ]
    },
    {
      "cell_type": "markdown",
      "source": [
        "###Getting links from other pages as well"
      ],
      "metadata": {
        "id": "ykfO2WTTzcdy"
      }
    },
    {
      "cell_type": "code",
      "source": [
        "page = read_cloud('https://www.alberlet.hu/kiado_alberlet/page:2/ingatlan-tipus:lakas/megye:budapest/keres:normal/limit:24')\n",
        "links_from_second_page = [\n",
        "    x.select_one('a')['href'] for x in page.select('.col-xl-3 .advert-data') if x.select_one('a')\n",
        "]\n",
        "\n",
        "print(links_from_second_page)\n"
      ],
      "metadata": {
        "colab": {
          "base_uri": "https://localhost:8080/"
        },
        "id": "3tSAPdsukDjQ",
        "outputId": "d9cedff5-3ab4-4eb1-9426-47d5e53feb4f"
      },
      "execution_count": 109,
      "outputs": [
        {
          "output_type": "stream",
          "name": "stdout",
          "text": [
            "['/kiado_alberlet/budapest-V-kerulet-kecskemeti-utca-68m2-2-szoba_756179', '/kiado_alberlet/budapest-II-kerulet-trombitas-ut-72m2-3-szoba_756178', '/kiado_alberlet/budapest-XIV-kerulet-abonyi-utca-12m2-1-szoba_756177', '/kiado_alberlet/budapest-III-kerulet-kadosa-utca-54m2-3-szoba_756175', '/kiado_alberlet/budapest-IX-kerulet-nadasdy-utca-38m2-2-szoba_756167', '/kiado_alberlet/budapest-III-kerulet-timar-utca-42m2-1-szoba_756166', '/kiado_alberlet/budapest-XIV-kerulet-istvanmezei-ut-26m2-1-szoba_756162', '/kiado_alberlet/budapest-XIII-kerulet-kis-gomb-utca-44m2-2-szoba_756161', '/kiado_alberlet/budapest-XIII-kerulet-devai-utca-33m2-2-szoba_756156', '/kiado_alberlet/budapest-XIII-kerulet-pap-karoly-utca-42m2-2-szoba_756151', '/kiado_alberlet/budapest-IV-kerulet-lebstuck-m--48m2-2-szoba_756146', '/kiado_alberlet/budapest-VII-kerulet-sajo-utca-28m2-1-szoba_756140', '/kiado_alberlet/budapest-VIII-kerulet-brody-sandor-utca-65m2-3-szoba_756133', '/kiado_alberlet/budapest-VII-kerulet-karoly-korut-78m2-3-szoba_756132', '/kiado_alberlet/budapest-VI-kerulet-paulay-ede-utca-120m2-3-szoba_756131', '/kiado_alberlet/budapest-XVI-kerulet-bobitas-ut-34m2-1-szoba_756121', '/kiado_alberlet/budapest-XX-kerulet-kossuth-lajos-utca--37m2-1-szoba_756119', '/kiado_alberlet/budapest-XIV-kerulet-gyarmat-utca-56m2-2-szoba_756111', '/kiado_alberlet/budapest-III-kerulet-szentendrei-ut--50m2-2-szoba_756109', '/kiado_alberlet/budapest-XIV-kerulet-gvadanyi-utca-46m2-2-szoba_756107', '/kiado_alberlet/budapest-XVI-kerulet-bekecs-utca-25m2-1-szoba_756106', '/kiado_alberlet/budapest-X-kerulet-hang-utca-36m2-1-szoba_756105', '/kiado_alberlet/budapest-XIII-kerulet-vaci-ut-28m2-1-szoba_756104', '/kiado_alberlet/budapest-XX-kerulet-kulcsar-utca-50m2-2-szoba_756103']\n"
          ]
        }
      ]
    },
    {
      "cell_type": "code",
      "source": [
        "all_links = []\n",
        "for i in range(1,64):\n",
        "    page = read_cloud(f'https://www.alberlet.hu/kiado_alberlet/page:{i}/ingatlan-tipus:lakas/megye:budapest/keres:normal/limit:24')\n",
        "    links_from_other_pages = [x.select_one('a')['href'] for x in page.select('.col-xl-3 .advert-data') if x.select_one('a')]\n",
        "    all_links.extend(links_from_other_pages)\n"
      ],
      "metadata": {
        "id": "CrMnSFTgkDgq"
      },
      "execution_count": 110,
      "outputs": []
    },
    {
      "cell_type": "code",
      "source": [
        "len(all_links)"
      ],
      "metadata": {
        "colab": {
          "base_uri": "https://localhost:8080/"
        },
        "id": "9HLjnwUkkDat",
        "outputId": "80d09d1d-e2c7-4b75-d76a-c485e65c3506"
      },
      "execution_count": 111,
      "outputs": [
        {
          "output_type": "execute_result",
          "data": {
            "text/plain": [
              "1387"
            ]
          },
          "metadata": {},
          "execution_count": 111
        }
      ]
    },
    {
      "cell_type": "code",
      "source": [
        "full_links = ['https://www.alberlet.hu/' + link for link in all_links]\n",
        "full_links[0:3]"
      ],
      "metadata": {
        "colab": {
          "base_uri": "https://localhost:8080/"
        },
        "collapsed": true,
        "id": "Wl5GBox9kDYe",
        "outputId": "a7f4b8c3-76a0-4b17-8d25-ad54f597e2fa"
      },
      "execution_count": 112,
      "outputs": [
        {
          "output_type": "execute_result",
          "data": {
            "text/plain": [
              "['https://www.alberlet.hu//kiado_alberlet/budapest-VIII-kerulet-tomo-utca--50m2-2-szoba_752985',\n",
              " 'https://www.alberlet.hu//kiado_alberlet/budapest-III-kerulet-punkosdfurdo-utca-47m2-2-szoba_756171',\n",
              " 'https://www.alberlet.hu//kiado_alberlet/budapest-VI-kerulet-nagymezo-utca-60m2-3-szoba_753763']"
            ]
          },
          "metadata": {},
          "execution_count": 112
        }
      ]
    },
    {
      "cell_type": "markdown",
      "source": [
        "###Getting data from each link"
      ],
      "metadata": {
        "id": "0E5sHnZzzkoE"
      }
    },
    {
      "cell_type": "code",
      "source": [
        "t = read_cloud(full_links[1])"
      ],
      "metadata": {
        "id": "wPsiUA49kDVf"
      },
      "execution_count": 113,
      "outputs": []
    },
    {
      "cell_type": "code",
      "source": [
        "t.select_one('#main-info .price').text"
      ],
      "metadata": {
        "colab": {
          "base_uri": "https://localhost:8080/",
          "height": 35
        },
        "id": "j73sVi91kDSX",
        "outputId": "88954515-14b7-4623-c61b-ac15748fd17c"
      },
      "execution_count": 114,
      "outputs": [
        {
          "output_type": "execute_result",
          "data": {
            "text/plain": [
              "'295 000'"
            ],
            "application/vnd.google.colaboratory.intrinsic+json": {
              "type": "string"
            }
          },
          "metadata": {},
          "execution_count": 114
        }
      ]
    },
    {
      "cell_type": "code",
      "source": [
        "t.select_one('#main-info .address').text"
      ],
      "metadata": {
        "colab": {
          "base_uri": "https://localhost:8080/",
          "height": 35
        },
        "id": "VK9lQgeR6KNV",
        "outputId": "376b8e82-b270-4ac6-f135-263d00846a9b"
      },
      "execution_count": 115,
      "outputs": [
        {
          "output_type": "execute_result",
          "data": {
            "text/plain": [
              "'Pünkösdfürdő utcaBudapest, III. kerület'"
            ],
            "application/vnd.google.colaboratory.intrinsic+json": {
              "type": "string"
            }
          },
          "metadata": {},
          "execution_count": 115
        }
      ]
    },
    {
      "cell_type": "code",
      "source": [
        "t.select_one('#main-info .mb-1').text"
      ],
      "metadata": {
        "colab": {
          "base_uri": "https://localhost:8080/",
          "height": 35
        },
        "id": "QGBh_xr66qWa",
        "outputId": "403e8f0b-5b99-4504-f8d3-4bd091719460"
      },
      "execution_count": 116,
      "outputs": [
        {
          "output_type": "execute_result",
          "data": {
            "text/plain": [
              "'2 szoba, 47 m2'"
            ],
            "application/vnd.google.colaboratory.intrinsic+json": {
              "type": "string"
            }
          },
          "metadata": {},
          "execution_count": 116
        }
      ]
    },
    {
      "cell_type": "code",
      "source": [
        "t.select_one('.advert-infos .custom-gutter-5').select('.advert-info-title')"
      ],
      "metadata": {
        "colab": {
          "base_uri": "https://localhost:8080/"
        },
        "id": "9wtVFuEHEXwa",
        "outputId": "836067f5-2eba-49b1-d716-63286f4a0d65"
      },
      "execution_count": 117,
      "outputs": [
        {
          "output_type": "execute_result",
          "data": {
            "text/plain": [
              "[<div class=\"advert-info-title\">Épület típusa</div>,\n",
              " <div class=\"advert-info-title\">Közös költség</div>,\n",
              " <div class=\"advert-info-title\">Fűtés</div>,\n",
              " <div class=\"advert-info-title\">Minimum bérlési idő</div>,\n",
              " <div class=\"advert-info-title\">Berendezés</div>,\n",
              " <div class=\"advert-info-title\">Különnyíló szoba</div>,\n",
              " <div class=\"advert-info-title\">Emelet</div>,\n",
              " <div class=\"advert-info-title\">Lift</div>,\n",
              " <div class=\"advert-info-title\">Kilátás</div>,\n",
              " <div class=\"advert-info-title\">Erkélyek száma</div>,\n",
              " <div class=\"advert-info-title\">Amerikai konyha</div>,\n",
              " <div class=\"advert-info-title\">Min. bérlési idő</div>,\n",
              " <div class=\"advert-info-title\">Diákoknak</div>,\n",
              " <div class=\"advert-info-title\">Mosógép van</div>,\n",
              " <div class=\"advert-info-title\">Energiatanúsítvány</div>]"
            ]
          },
          "metadata": {},
          "execution_count": 117
        }
      ]
    },
    {
      "cell_type": "code",
      "source": [
        "t.select_one('.advert-infos .custom-gutter-5').select('.advert-info-text')[0]"
      ],
      "metadata": {
        "colab": {
          "base_uri": "https://localhost:8080/"
        },
        "id": "L6jUZZ_KE-va",
        "outputId": "5a97e56b-ddcc-427a-e5b2-d0c47c45bae3"
      },
      "execution_count": 118,
      "outputs": [
        {
          "output_type": "execute_result",
          "data": {
            "text/plain": [
              "<div class=\"advert-info-text\">\n",
              "\t\t\t\t\t\t\t\t\t\t\t\t\t\t\t\t\t\t\t\t\t\t\t\t\t\t\tLakás\t\t\t\t\t\t\t\t\t\t\t\t\t\t\t\t\t\t\t\t\t\t\t\t\t\t\t\t\t\t\t\t\t\t\t\t\t\t\t</div>"
            ]
          },
          "metadata": {},
          "execution_count": 118
        }
      ]
    },
    {
      "cell_type": "code",
      "source": [
        "def process_elements(html):\n",
        "    texts = []\n",
        "    values = []\n",
        "    i = 0\n",
        "    valami = html.select('.advert-info-title')\n",
        "    while i < len(valami):\n",
        "        texts.append(valami[i])\n",
        "        valami2 = html.select('.advert-info-text')\n",
        "        values.append(valami2[i].text.strip())\n",
        "        i += 1\n",
        "\n",
        "    df = pd.DataFrame({'Text': texts, 'Value': values})\n",
        "    return df"
      ],
      "metadata": {
        "id": "vwE7eRCmFQS1"
      },
      "execution_count": 119,
      "outputs": []
    },
    {
      "cell_type": "code",
      "source": [
        "html = t.select_one('.advert-infos .custom-gutter-5')"
      ],
      "metadata": {
        "id": "qTsqQGlFMBmZ"
      },
      "execution_count": 120,
      "outputs": []
    },
    {
      "cell_type": "code",
      "source": [
        "df = process_elements(html)\n",
        "df"
      ],
      "metadata": {
        "colab": {
          "base_uri": "https://localhost:8080/",
          "height": 520
        },
        "id": "19_AOm2gNHg3",
        "outputId": "22a5f084-5bc5-4afa-995a-d5b117af8f00"
      },
      "execution_count": 121,
      "outputs": [
        {
          "output_type": "execute_result",
          "data": {
            "text/plain": [
              "                     Text                Value\n",
              "0         [Épület típusa]                Lakás\n",
              "1         [Közös költség]         15 000 Ft/hó\n",
              "2                 [Fűtés]  Házközp. mérőórával\n",
              "3   [Minimum bérlési idő]        Legalább 1 év\n",
              "4            [Berendezés]     Üres, gépesített\n",
              "5      [Különnyíló szoba]                    1\n",
              "6                [Emelet]                    7\n",
              "7                  [Lift]                  Van\n",
              "8               [Kilátás]  Hegyvidéki panoráma\n",
              "9        [Erkélyek száma]                    1\n",
              "10      [Amerikai konyha]                  Van\n",
              "11     [Min. bérlési idő]        Legalább 1 év\n",
              "12            [Diákoknak]                 Igen\n",
              "13          [Mosógép van]                 Igen\n",
              "14   [Energiatanúsítvány]            Nem adott"
            ],
            "text/html": [
              "\n",
              "  <div id=\"df-e8ce5e9a-7d99-41f8-b105-5f86b4a65cd3\" class=\"colab-df-container\">\n",
              "    <div>\n",
              "<style scoped>\n",
              "    .dataframe tbody tr th:only-of-type {\n",
              "        vertical-align: middle;\n",
              "    }\n",
              "\n",
              "    .dataframe tbody tr th {\n",
              "        vertical-align: top;\n",
              "    }\n",
              "\n",
              "    .dataframe thead th {\n",
              "        text-align: right;\n",
              "    }\n",
              "</style>\n",
              "<table border=\"1\" class=\"dataframe\">\n",
              "  <thead>\n",
              "    <tr style=\"text-align: right;\">\n",
              "      <th></th>\n",
              "      <th>Text</th>\n",
              "      <th>Value</th>\n",
              "    </tr>\n",
              "  </thead>\n",
              "  <tbody>\n",
              "    <tr>\n",
              "      <th>0</th>\n",
              "      <td>[Épület típusa]</td>\n",
              "      <td>Lakás</td>\n",
              "    </tr>\n",
              "    <tr>\n",
              "      <th>1</th>\n",
              "      <td>[Közös költség]</td>\n",
              "      <td>15 000 Ft/hó</td>\n",
              "    </tr>\n",
              "    <tr>\n",
              "      <th>2</th>\n",
              "      <td>[Fűtés]</td>\n",
              "      <td>Házközp. mérőórával</td>\n",
              "    </tr>\n",
              "    <tr>\n",
              "      <th>3</th>\n",
              "      <td>[Minimum bérlési idő]</td>\n",
              "      <td>Legalább 1 év</td>\n",
              "    </tr>\n",
              "    <tr>\n",
              "      <th>4</th>\n",
              "      <td>[Berendezés]</td>\n",
              "      <td>Üres, gépesített</td>\n",
              "    </tr>\n",
              "    <tr>\n",
              "      <th>5</th>\n",
              "      <td>[Különnyíló szoba]</td>\n",
              "      <td>1</td>\n",
              "    </tr>\n",
              "    <tr>\n",
              "      <th>6</th>\n",
              "      <td>[Emelet]</td>\n",
              "      <td>7</td>\n",
              "    </tr>\n",
              "    <tr>\n",
              "      <th>7</th>\n",
              "      <td>[Lift]</td>\n",
              "      <td>Van</td>\n",
              "    </tr>\n",
              "    <tr>\n",
              "      <th>8</th>\n",
              "      <td>[Kilátás]</td>\n",
              "      <td>Hegyvidéki panoráma</td>\n",
              "    </tr>\n",
              "    <tr>\n",
              "      <th>9</th>\n",
              "      <td>[Erkélyek száma]</td>\n",
              "      <td>1</td>\n",
              "    </tr>\n",
              "    <tr>\n",
              "      <th>10</th>\n",
              "      <td>[Amerikai konyha]</td>\n",
              "      <td>Van</td>\n",
              "    </tr>\n",
              "    <tr>\n",
              "      <th>11</th>\n",
              "      <td>[Min. bérlési idő]</td>\n",
              "      <td>Legalább 1 év</td>\n",
              "    </tr>\n",
              "    <tr>\n",
              "      <th>12</th>\n",
              "      <td>[Diákoknak]</td>\n",
              "      <td>Igen</td>\n",
              "    </tr>\n",
              "    <tr>\n",
              "      <th>13</th>\n",
              "      <td>[Mosógép van]</td>\n",
              "      <td>Igen</td>\n",
              "    </tr>\n",
              "    <tr>\n",
              "      <th>14</th>\n",
              "      <td>[Energiatanúsítvány]</td>\n",
              "      <td>Nem adott</td>\n",
              "    </tr>\n",
              "  </tbody>\n",
              "</table>\n",
              "</div>\n",
              "    <div class=\"colab-df-buttons\">\n",
              "\n",
              "  <div class=\"colab-df-container\">\n",
              "    <button class=\"colab-df-convert\" onclick=\"convertToInteractive('df-e8ce5e9a-7d99-41f8-b105-5f86b4a65cd3')\"\n",
              "            title=\"Convert this dataframe to an interactive table.\"\n",
              "            style=\"display:none;\">\n",
              "\n",
              "  <svg xmlns=\"http://www.w3.org/2000/svg\" height=\"24px\" viewBox=\"0 -960 960 960\">\n",
              "    <path d=\"M120-120v-720h720v720H120Zm60-500h600v-160H180v160Zm220 220h160v-160H400v160Zm0 220h160v-160H400v160ZM180-400h160v-160H180v160Zm440 0h160v-160H620v160ZM180-180h160v-160H180v160Zm440 0h160v-160H620v160Z\"/>\n",
              "  </svg>\n",
              "    </button>\n",
              "\n",
              "  <style>\n",
              "    .colab-df-container {\n",
              "      display:flex;\n",
              "      gap: 12px;\n",
              "    }\n",
              "\n",
              "    .colab-df-convert {\n",
              "      background-color: #E8F0FE;\n",
              "      border: none;\n",
              "      border-radius: 50%;\n",
              "      cursor: pointer;\n",
              "      display: none;\n",
              "      fill: #1967D2;\n",
              "      height: 32px;\n",
              "      padding: 0 0 0 0;\n",
              "      width: 32px;\n",
              "    }\n",
              "\n",
              "    .colab-df-convert:hover {\n",
              "      background-color: #E2EBFA;\n",
              "      box-shadow: 0px 1px 2px rgba(60, 64, 67, 0.3), 0px 1px 3px 1px rgba(60, 64, 67, 0.15);\n",
              "      fill: #174EA6;\n",
              "    }\n",
              "\n",
              "    .colab-df-buttons div {\n",
              "      margin-bottom: 4px;\n",
              "    }\n",
              "\n",
              "    [theme=dark] .colab-df-convert {\n",
              "      background-color: #3B4455;\n",
              "      fill: #D2E3FC;\n",
              "    }\n",
              "\n",
              "    [theme=dark] .colab-df-convert:hover {\n",
              "      background-color: #434B5C;\n",
              "      box-shadow: 0px 1px 3px 1px rgba(0, 0, 0, 0.15);\n",
              "      filter: drop-shadow(0px 1px 2px rgba(0, 0, 0, 0.3));\n",
              "      fill: #FFFFFF;\n",
              "    }\n",
              "  </style>\n",
              "\n",
              "    <script>\n",
              "      const buttonEl =\n",
              "        document.querySelector('#df-e8ce5e9a-7d99-41f8-b105-5f86b4a65cd3 button.colab-df-convert');\n",
              "      buttonEl.style.display =\n",
              "        google.colab.kernel.accessAllowed ? 'block' : 'none';\n",
              "\n",
              "      async function convertToInteractive(key) {\n",
              "        const element = document.querySelector('#df-e8ce5e9a-7d99-41f8-b105-5f86b4a65cd3');\n",
              "        const dataTable =\n",
              "          await google.colab.kernel.invokeFunction('convertToInteractive',\n",
              "                                                    [key], {});\n",
              "        if (!dataTable) return;\n",
              "\n",
              "        const docLinkHtml = 'Like what you see? Visit the ' +\n",
              "          '<a target=\"_blank\" href=https://colab.research.google.com/notebooks/data_table.ipynb>data table notebook</a>'\n",
              "          + ' to learn more about interactive tables.';\n",
              "        element.innerHTML = '';\n",
              "        dataTable['output_type'] = 'display_data';\n",
              "        await google.colab.output.renderOutput(dataTable, element);\n",
              "        const docLink = document.createElement('div');\n",
              "        docLink.innerHTML = docLinkHtml;\n",
              "        element.appendChild(docLink);\n",
              "      }\n",
              "    </script>\n",
              "  </div>\n",
              "\n",
              "\n",
              "<div id=\"df-ea0fc91e-e37e-4ed4-9377-fb0ed33789e4\">\n",
              "  <button class=\"colab-df-quickchart\" onclick=\"quickchart('df-ea0fc91e-e37e-4ed4-9377-fb0ed33789e4')\"\n",
              "            title=\"Suggest charts\"\n",
              "            style=\"display:none;\">\n",
              "\n",
              "<svg xmlns=\"http://www.w3.org/2000/svg\" height=\"24px\"viewBox=\"0 0 24 24\"\n",
              "     width=\"24px\">\n",
              "    <g>\n",
              "        <path d=\"M19 3H5c-1.1 0-2 .9-2 2v14c0 1.1.9 2 2 2h14c1.1 0 2-.9 2-2V5c0-1.1-.9-2-2-2zM9 17H7v-7h2v7zm4 0h-2V7h2v10zm4 0h-2v-4h2v4z\"/>\n",
              "    </g>\n",
              "</svg>\n",
              "  </button>\n",
              "\n",
              "<style>\n",
              "  .colab-df-quickchart {\n",
              "      --bg-color: #E8F0FE;\n",
              "      --fill-color: #1967D2;\n",
              "      --hover-bg-color: #E2EBFA;\n",
              "      --hover-fill-color: #174EA6;\n",
              "      --disabled-fill-color: #AAA;\n",
              "      --disabled-bg-color: #DDD;\n",
              "  }\n",
              "\n",
              "  [theme=dark] .colab-df-quickchart {\n",
              "      --bg-color: #3B4455;\n",
              "      --fill-color: #D2E3FC;\n",
              "      --hover-bg-color: #434B5C;\n",
              "      --hover-fill-color: #FFFFFF;\n",
              "      --disabled-bg-color: #3B4455;\n",
              "      --disabled-fill-color: #666;\n",
              "  }\n",
              "\n",
              "  .colab-df-quickchart {\n",
              "    background-color: var(--bg-color);\n",
              "    border: none;\n",
              "    border-radius: 50%;\n",
              "    cursor: pointer;\n",
              "    display: none;\n",
              "    fill: var(--fill-color);\n",
              "    height: 32px;\n",
              "    padding: 0;\n",
              "    width: 32px;\n",
              "  }\n",
              "\n",
              "  .colab-df-quickchart:hover {\n",
              "    background-color: var(--hover-bg-color);\n",
              "    box-shadow: 0 1px 2px rgba(60, 64, 67, 0.3), 0 1px 3px 1px rgba(60, 64, 67, 0.15);\n",
              "    fill: var(--button-hover-fill-color);\n",
              "  }\n",
              "\n",
              "  .colab-df-quickchart-complete:disabled,\n",
              "  .colab-df-quickchart-complete:disabled:hover {\n",
              "    background-color: var(--disabled-bg-color);\n",
              "    fill: var(--disabled-fill-color);\n",
              "    box-shadow: none;\n",
              "  }\n",
              "\n",
              "  .colab-df-spinner {\n",
              "    border: 2px solid var(--fill-color);\n",
              "    border-color: transparent;\n",
              "    border-bottom-color: var(--fill-color);\n",
              "    animation:\n",
              "      spin 1s steps(1) infinite;\n",
              "  }\n",
              "\n",
              "  @keyframes spin {\n",
              "    0% {\n",
              "      border-color: transparent;\n",
              "      border-bottom-color: var(--fill-color);\n",
              "      border-left-color: var(--fill-color);\n",
              "    }\n",
              "    20% {\n",
              "      border-color: transparent;\n",
              "      border-left-color: var(--fill-color);\n",
              "      border-top-color: var(--fill-color);\n",
              "    }\n",
              "    30% {\n",
              "      border-color: transparent;\n",
              "      border-left-color: var(--fill-color);\n",
              "      border-top-color: var(--fill-color);\n",
              "      border-right-color: var(--fill-color);\n",
              "    }\n",
              "    40% {\n",
              "      border-color: transparent;\n",
              "      border-right-color: var(--fill-color);\n",
              "      border-top-color: var(--fill-color);\n",
              "    }\n",
              "    60% {\n",
              "      border-color: transparent;\n",
              "      border-right-color: var(--fill-color);\n",
              "    }\n",
              "    80% {\n",
              "      border-color: transparent;\n",
              "      border-right-color: var(--fill-color);\n",
              "      border-bottom-color: var(--fill-color);\n",
              "    }\n",
              "    90% {\n",
              "      border-color: transparent;\n",
              "      border-bottom-color: var(--fill-color);\n",
              "    }\n",
              "  }\n",
              "</style>\n",
              "\n",
              "  <script>\n",
              "    async function quickchart(key) {\n",
              "      const quickchartButtonEl =\n",
              "        document.querySelector('#' + key + ' button');\n",
              "      quickchartButtonEl.disabled = true;  // To prevent multiple clicks.\n",
              "      quickchartButtonEl.classList.add('colab-df-spinner');\n",
              "      try {\n",
              "        const charts = await google.colab.kernel.invokeFunction(\n",
              "            'suggestCharts', [key], {});\n",
              "      } catch (error) {\n",
              "        console.error('Error during call to suggestCharts:', error);\n",
              "      }\n",
              "      quickchartButtonEl.classList.remove('colab-df-spinner');\n",
              "      quickchartButtonEl.classList.add('colab-df-quickchart-complete');\n",
              "    }\n",
              "    (() => {\n",
              "      let quickchartButtonEl =\n",
              "        document.querySelector('#df-ea0fc91e-e37e-4ed4-9377-fb0ed33789e4 button');\n",
              "      quickchartButtonEl.style.display =\n",
              "        google.colab.kernel.accessAllowed ? 'block' : 'none';\n",
              "    })();\n",
              "  </script>\n",
              "</div>\n",
              "\n",
              "  <div id=\"id_507c2a4a-9c2c-4239-ad96-994bac3ab098\">\n",
              "    <style>\n",
              "      .colab-df-generate {\n",
              "        background-color: #E8F0FE;\n",
              "        border: none;\n",
              "        border-radius: 50%;\n",
              "        cursor: pointer;\n",
              "        display: none;\n",
              "        fill: #1967D2;\n",
              "        height: 32px;\n",
              "        padding: 0 0 0 0;\n",
              "        width: 32px;\n",
              "      }\n",
              "\n",
              "      .colab-df-generate:hover {\n",
              "        background-color: #E2EBFA;\n",
              "        box-shadow: 0px 1px 2px rgba(60, 64, 67, 0.3), 0px 1px 3px 1px rgba(60, 64, 67, 0.15);\n",
              "        fill: #174EA6;\n",
              "      }\n",
              "\n",
              "      [theme=dark] .colab-df-generate {\n",
              "        background-color: #3B4455;\n",
              "        fill: #D2E3FC;\n",
              "      }\n",
              "\n",
              "      [theme=dark] .colab-df-generate:hover {\n",
              "        background-color: #434B5C;\n",
              "        box-shadow: 0px 1px 3px 1px rgba(0, 0, 0, 0.15);\n",
              "        filter: drop-shadow(0px 1px 2px rgba(0, 0, 0, 0.3));\n",
              "        fill: #FFFFFF;\n",
              "      }\n",
              "    </style>\n",
              "    <button class=\"colab-df-generate\" onclick=\"generateWithVariable('df')\"\n",
              "            title=\"Generate code using this dataframe.\"\n",
              "            style=\"display:none;\">\n",
              "\n",
              "  <svg xmlns=\"http://www.w3.org/2000/svg\" height=\"24px\"viewBox=\"0 0 24 24\"\n",
              "       width=\"24px\">\n",
              "    <path d=\"M7,19H8.4L18.45,9,17,7.55,7,17.6ZM5,21V16.75L18.45,3.32a2,2,0,0,1,2.83,0l1.4,1.43a1.91,1.91,0,0,1,.58,1.4,1.91,1.91,0,0,1-.58,1.4L9.25,21ZM18.45,9,17,7.55Zm-12,3A5.31,5.31,0,0,0,4.9,8.1,5.31,5.31,0,0,0,1,6.5,5.31,5.31,0,0,0,4.9,4.9,5.31,5.31,0,0,0,6.5,1,5.31,5.31,0,0,0,8.1,4.9,5.31,5.31,0,0,0,12,6.5,5.46,5.46,0,0,0,6.5,12Z\"/>\n",
              "  </svg>\n",
              "    </button>\n",
              "    <script>\n",
              "      (() => {\n",
              "      const buttonEl =\n",
              "        document.querySelector('#id_507c2a4a-9c2c-4239-ad96-994bac3ab098 button.colab-df-generate');\n",
              "      buttonEl.style.display =\n",
              "        google.colab.kernel.accessAllowed ? 'block' : 'none';\n",
              "\n",
              "      buttonEl.onclick = () => {\n",
              "        google.colab.notebook.generateWithVariable('df');\n",
              "      }\n",
              "      })();\n",
              "    </script>\n",
              "  </div>\n",
              "\n",
              "    </div>\n",
              "  </div>\n"
            ],
            "application/vnd.google.colaboratory.intrinsic+json": {
              "type": "dataframe",
              "variable_name": "df",
              "summary": "{\n  \"name\": \"df\",\n  \"rows\": 15,\n  \"fields\": [\n    {\n      \"column\": \"Text\",\n      \"properties\": {\n        \"dtype\": \"string\",\n        \"num_unique_values\": 15,\n        \"samples\": [\n          \"<div class=\\\"advert-info-title\\\">Erk\\u00e9lyek sz\\u00e1ma</div>\",\n          \"<div class=\\\"advert-info-title\\\">Min. b\\u00e9rl\\u00e9si id\\u0151</div>\",\n          \"<div class=\\\"advert-info-title\\\">\\u00c9p\\u00fclet t\\u00edpusa</div>\"\n        ],\n        \"semantic_type\": \"\",\n        \"description\": \"\"\n      }\n    },\n    {\n      \"column\": \"Value\",\n      \"properties\": {\n        \"dtype\": \"string\",\n        \"num_unique_values\": 11,\n        \"samples\": [\n          \"1\",\n          \"Lak\\u00e1s\",\n          \"Igen\"\n        ],\n        \"semantic_type\": \"\",\n        \"description\": \"\"\n      }\n    }\n  ]\n}"
            }
          },
          "metadata": {},
          "execution_count": 121
        }
      ]
    },
    {
      "cell_type": "code",
      "source": [
        "def process_elements(html, base_data=None):\n",
        "    if base_data is None:\n",
        "        base_data = {}\n",
        "\n",
        "    titles = html.select('.advert-info-title')\n",
        "    texts = html.select('.advert-info-text')\n",
        "\n",
        "    for i in range(len(titles)):\n",
        "        key = titles[i].text.strip().replace(' ', '_').lower()\n",
        "        value = texts[i].text.strip()\n",
        "        base_data[key] = [value]\n",
        "\n",
        "    return pd.DataFrame(base_data)"
      ],
      "metadata": {
        "id": "Hfu0ci7ALIyz"
      },
      "execution_count": 122,
      "outputs": []
    },
    {
      "cell_type": "code",
      "source": [
        "df=process_elements(html)\n",
        "df"
      ],
      "metadata": {
        "colab": {
          "base_uri": "https://localhost:8080/",
          "height": 118
        },
        "id": "TaBFVI7hPaOv",
        "outputId": "6101b743-a9cb-472c-9f0c-cf364eeb5b69"
      },
      "execution_count": 123,
      "outputs": [
        {
          "output_type": "execute_result",
          "data": {
            "text/plain": [
              "  épület_típusa közös_költség                fűtés minimum_bérlési_idő  \\\n",
              "0         Lakás  15 000 Ft/hó  Házközp. mérőórával       Legalább 1 év   \n",
              "\n",
              "         berendezés különnyíló_szoba emelet lift              kilátás  \\\n",
              "0  Üres, gépesített                1      7  Van  Hegyvidéki panoráma   \n",
              "\n",
              "  erkélyek_száma amerikai_konyha min._bérlési_idő diákoknak mosógép_van  \\\n",
              "0              1             Van    Legalább 1 év      Igen        Igen   \n",
              "\n",
              "  energiatanúsítvány  \n",
              "0          Nem adott  "
            ],
            "text/html": [
              "\n",
              "  <div id=\"df-a744792d-370d-4feb-829f-bfa6fab1956a\" class=\"colab-df-container\">\n",
              "    <div>\n",
              "<style scoped>\n",
              "    .dataframe tbody tr th:only-of-type {\n",
              "        vertical-align: middle;\n",
              "    }\n",
              "\n",
              "    .dataframe tbody tr th {\n",
              "        vertical-align: top;\n",
              "    }\n",
              "\n",
              "    .dataframe thead th {\n",
              "        text-align: right;\n",
              "    }\n",
              "</style>\n",
              "<table border=\"1\" class=\"dataframe\">\n",
              "  <thead>\n",
              "    <tr style=\"text-align: right;\">\n",
              "      <th></th>\n",
              "      <th>épület_típusa</th>\n",
              "      <th>közös_költség</th>\n",
              "      <th>fűtés</th>\n",
              "      <th>minimum_bérlési_idő</th>\n",
              "      <th>berendezés</th>\n",
              "      <th>különnyíló_szoba</th>\n",
              "      <th>emelet</th>\n",
              "      <th>lift</th>\n",
              "      <th>kilátás</th>\n",
              "      <th>erkélyek_száma</th>\n",
              "      <th>amerikai_konyha</th>\n",
              "      <th>min._bérlési_idő</th>\n",
              "      <th>diákoknak</th>\n",
              "      <th>mosógép_van</th>\n",
              "      <th>energiatanúsítvány</th>\n",
              "    </tr>\n",
              "  </thead>\n",
              "  <tbody>\n",
              "    <tr>\n",
              "      <th>0</th>\n",
              "      <td>Lakás</td>\n",
              "      <td>15 000 Ft/hó</td>\n",
              "      <td>Házközp. mérőórával</td>\n",
              "      <td>Legalább 1 év</td>\n",
              "      <td>Üres, gépesített</td>\n",
              "      <td>1</td>\n",
              "      <td>7</td>\n",
              "      <td>Van</td>\n",
              "      <td>Hegyvidéki panoráma</td>\n",
              "      <td>1</td>\n",
              "      <td>Van</td>\n",
              "      <td>Legalább 1 év</td>\n",
              "      <td>Igen</td>\n",
              "      <td>Igen</td>\n",
              "      <td>Nem adott</td>\n",
              "    </tr>\n",
              "  </tbody>\n",
              "</table>\n",
              "</div>\n",
              "    <div class=\"colab-df-buttons\">\n",
              "\n",
              "  <div class=\"colab-df-container\">\n",
              "    <button class=\"colab-df-convert\" onclick=\"convertToInteractive('df-a744792d-370d-4feb-829f-bfa6fab1956a')\"\n",
              "            title=\"Convert this dataframe to an interactive table.\"\n",
              "            style=\"display:none;\">\n",
              "\n",
              "  <svg xmlns=\"http://www.w3.org/2000/svg\" height=\"24px\" viewBox=\"0 -960 960 960\">\n",
              "    <path d=\"M120-120v-720h720v720H120Zm60-500h600v-160H180v160Zm220 220h160v-160H400v160Zm0 220h160v-160H400v160ZM180-400h160v-160H180v160Zm440 0h160v-160H620v160ZM180-180h160v-160H180v160Zm440 0h160v-160H620v160Z\"/>\n",
              "  </svg>\n",
              "    </button>\n",
              "\n",
              "  <style>\n",
              "    .colab-df-container {\n",
              "      display:flex;\n",
              "      gap: 12px;\n",
              "    }\n",
              "\n",
              "    .colab-df-convert {\n",
              "      background-color: #E8F0FE;\n",
              "      border: none;\n",
              "      border-radius: 50%;\n",
              "      cursor: pointer;\n",
              "      display: none;\n",
              "      fill: #1967D2;\n",
              "      height: 32px;\n",
              "      padding: 0 0 0 0;\n",
              "      width: 32px;\n",
              "    }\n",
              "\n",
              "    .colab-df-convert:hover {\n",
              "      background-color: #E2EBFA;\n",
              "      box-shadow: 0px 1px 2px rgba(60, 64, 67, 0.3), 0px 1px 3px 1px rgba(60, 64, 67, 0.15);\n",
              "      fill: #174EA6;\n",
              "    }\n",
              "\n",
              "    .colab-df-buttons div {\n",
              "      margin-bottom: 4px;\n",
              "    }\n",
              "\n",
              "    [theme=dark] .colab-df-convert {\n",
              "      background-color: #3B4455;\n",
              "      fill: #D2E3FC;\n",
              "    }\n",
              "\n",
              "    [theme=dark] .colab-df-convert:hover {\n",
              "      background-color: #434B5C;\n",
              "      box-shadow: 0px 1px 3px 1px rgba(0, 0, 0, 0.15);\n",
              "      filter: drop-shadow(0px 1px 2px rgba(0, 0, 0, 0.3));\n",
              "      fill: #FFFFFF;\n",
              "    }\n",
              "  </style>\n",
              "\n",
              "    <script>\n",
              "      const buttonEl =\n",
              "        document.querySelector('#df-a744792d-370d-4feb-829f-bfa6fab1956a button.colab-df-convert');\n",
              "      buttonEl.style.display =\n",
              "        google.colab.kernel.accessAllowed ? 'block' : 'none';\n",
              "\n",
              "      async function convertToInteractive(key) {\n",
              "        const element = document.querySelector('#df-a744792d-370d-4feb-829f-bfa6fab1956a');\n",
              "        const dataTable =\n",
              "          await google.colab.kernel.invokeFunction('convertToInteractive',\n",
              "                                                    [key], {});\n",
              "        if (!dataTable) return;\n",
              "\n",
              "        const docLinkHtml = 'Like what you see? Visit the ' +\n",
              "          '<a target=\"_blank\" href=https://colab.research.google.com/notebooks/data_table.ipynb>data table notebook</a>'\n",
              "          + ' to learn more about interactive tables.';\n",
              "        element.innerHTML = '';\n",
              "        dataTable['output_type'] = 'display_data';\n",
              "        await google.colab.output.renderOutput(dataTable, element);\n",
              "        const docLink = document.createElement('div');\n",
              "        docLink.innerHTML = docLinkHtml;\n",
              "        element.appendChild(docLink);\n",
              "      }\n",
              "    </script>\n",
              "  </div>\n",
              "\n",
              "\n",
              "  <div id=\"id_4377a1cd-c204-4f67-96fd-770aa52bdb48\">\n",
              "    <style>\n",
              "      .colab-df-generate {\n",
              "        background-color: #E8F0FE;\n",
              "        border: none;\n",
              "        border-radius: 50%;\n",
              "        cursor: pointer;\n",
              "        display: none;\n",
              "        fill: #1967D2;\n",
              "        height: 32px;\n",
              "        padding: 0 0 0 0;\n",
              "        width: 32px;\n",
              "      }\n",
              "\n",
              "      .colab-df-generate:hover {\n",
              "        background-color: #E2EBFA;\n",
              "        box-shadow: 0px 1px 2px rgba(60, 64, 67, 0.3), 0px 1px 3px 1px rgba(60, 64, 67, 0.15);\n",
              "        fill: #174EA6;\n",
              "      }\n",
              "\n",
              "      [theme=dark] .colab-df-generate {\n",
              "        background-color: #3B4455;\n",
              "        fill: #D2E3FC;\n",
              "      }\n",
              "\n",
              "      [theme=dark] .colab-df-generate:hover {\n",
              "        background-color: #434B5C;\n",
              "        box-shadow: 0px 1px 3px 1px rgba(0, 0, 0, 0.15);\n",
              "        filter: drop-shadow(0px 1px 2px rgba(0, 0, 0, 0.3));\n",
              "        fill: #FFFFFF;\n",
              "      }\n",
              "    </style>\n",
              "    <button class=\"colab-df-generate\" onclick=\"generateWithVariable('df')\"\n",
              "            title=\"Generate code using this dataframe.\"\n",
              "            style=\"display:none;\">\n",
              "\n",
              "  <svg xmlns=\"http://www.w3.org/2000/svg\" height=\"24px\"viewBox=\"0 0 24 24\"\n",
              "       width=\"24px\">\n",
              "    <path d=\"M7,19H8.4L18.45,9,17,7.55,7,17.6ZM5,21V16.75L18.45,3.32a2,2,0,0,1,2.83,0l1.4,1.43a1.91,1.91,0,0,1,.58,1.4,1.91,1.91,0,0,1-.58,1.4L9.25,21ZM18.45,9,17,7.55Zm-12,3A5.31,5.31,0,0,0,4.9,8.1,5.31,5.31,0,0,0,1,6.5,5.31,5.31,0,0,0,4.9,4.9,5.31,5.31,0,0,0,6.5,1,5.31,5.31,0,0,0,8.1,4.9,5.31,5.31,0,0,0,12,6.5,5.46,5.46,0,0,0,6.5,12Z\"/>\n",
              "  </svg>\n",
              "    </button>\n",
              "    <script>\n",
              "      (() => {\n",
              "      const buttonEl =\n",
              "        document.querySelector('#id_4377a1cd-c204-4f67-96fd-770aa52bdb48 button.colab-df-generate');\n",
              "      buttonEl.style.display =\n",
              "        google.colab.kernel.accessAllowed ? 'block' : 'none';\n",
              "\n",
              "      buttonEl.onclick = () => {\n",
              "        google.colab.notebook.generateWithVariable('df');\n",
              "      }\n",
              "      })();\n",
              "    </script>\n",
              "  </div>\n",
              "\n",
              "    </div>\n",
              "  </div>\n"
            ],
            "application/vnd.google.colaboratory.intrinsic+json": {
              "type": "dataframe",
              "variable_name": "df",
              "summary": "{\n  \"name\": \"df\",\n  \"rows\": 1,\n  \"fields\": [\n    {\n      \"column\": \"\\u00e9p\\u00fclet_t\\u00edpusa\",\n      \"properties\": {\n        \"dtype\": \"string\",\n        \"num_unique_values\": 1,\n        \"samples\": [\n          \"Lak\\u00e1s\"\n        ],\n        \"semantic_type\": \"\",\n        \"description\": \"\"\n      }\n    },\n    {\n      \"column\": \"k\\u00f6z\\u00f6s_k\\u00f6lts\\u00e9g\",\n      \"properties\": {\n        \"dtype\": \"string\",\n        \"num_unique_values\": 1,\n        \"samples\": [\n          \"15 000 Ft/h\\u00f3\"\n        ],\n        \"semantic_type\": \"\",\n        \"description\": \"\"\n      }\n    },\n    {\n      \"column\": \"f\\u0171t\\u00e9s\",\n      \"properties\": {\n        \"dtype\": \"string\",\n        \"num_unique_values\": 1,\n        \"samples\": [\n          \"H\\u00e1zk\\u00f6zp. m\\u00e9r\\u0151\\u00f3r\\u00e1val\"\n        ],\n        \"semantic_type\": \"\",\n        \"description\": \"\"\n      }\n    },\n    {\n      \"column\": \"minimum_b\\u00e9rl\\u00e9si_id\\u0151\",\n      \"properties\": {\n        \"dtype\": \"string\",\n        \"num_unique_values\": 1,\n        \"samples\": [\n          \"Legal\\u00e1bb 1 \\u00e9v\"\n        ],\n        \"semantic_type\": \"\",\n        \"description\": \"\"\n      }\n    },\n    {\n      \"column\": \"berendez\\u00e9s\",\n      \"properties\": {\n        \"dtype\": \"string\",\n        \"num_unique_values\": 1,\n        \"samples\": [\n          \"\\u00dcres, g\\u00e9pes\\u00edtett\"\n        ],\n        \"semantic_type\": \"\",\n        \"description\": \"\"\n      }\n    },\n    {\n      \"column\": \"k\\u00fcl\\u00f6nny\\u00edl\\u00f3_szoba\",\n      \"properties\": {\n        \"dtype\": \"string\",\n        \"num_unique_values\": 1,\n        \"samples\": [\n          \"1\"\n        ],\n        \"semantic_type\": \"\",\n        \"description\": \"\"\n      }\n    },\n    {\n      \"column\": \"emelet\",\n      \"properties\": {\n        \"dtype\": \"string\",\n        \"num_unique_values\": 1,\n        \"samples\": [\n          \"7\"\n        ],\n        \"semantic_type\": \"\",\n        \"description\": \"\"\n      }\n    },\n    {\n      \"column\": \"lift\",\n      \"properties\": {\n        \"dtype\": \"string\",\n        \"num_unique_values\": 1,\n        \"samples\": [\n          \"Van\"\n        ],\n        \"semantic_type\": \"\",\n        \"description\": \"\"\n      }\n    },\n    {\n      \"column\": \"kil\\u00e1t\\u00e1s\",\n      \"properties\": {\n        \"dtype\": \"string\",\n        \"num_unique_values\": 1,\n        \"samples\": [\n          \"Hegyvid\\u00e9ki panor\\u00e1ma\"\n        ],\n        \"semantic_type\": \"\",\n        \"description\": \"\"\n      }\n    },\n    {\n      \"column\": \"erk\\u00e9lyek_sz\\u00e1ma\",\n      \"properties\": {\n        \"dtype\": \"string\",\n        \"num_unique_values\": 1,\n        \"samples\": [\n          \"1\"\n        ],\n        \"semantic_type\": \"\",\n        \"description\": \"\"\n      }\n    },\n    {\n      \"column\": \"amerikai_konyha\",\n      \"properties\": {\n        \"dtype\": \"string\",\n        \"num_unique_values\": 1,\n        \"samples\": [\n          \"Van\"\n        ],\n        \"semantic_type\": \"\",\n        \"description\": \"\"\n      }\n    },\n    {\n      \"column\": \"min._b\\u00e9rl\\u00e9si_id\\u0151\",\n      \"properties\": {\n        \"dtype\": \"string\",\n        \"num_unique_values\": 1,\n        \"samples\": [\n          \"Legal\\u00e1bb 1 \\u00e9v\"\n        ],\n        \"semantic_type\": \"\",\n        \"description\": \"\"\n      }\n    },\n    {\n      \"column\": \"di\\u00e1koknak\",\n      \"properties\": {\n        \"dtype\": \"string\",\n        \"num_unique_values\": 1,\n        \"samples\": [\n          \"Igen\"\n        ],\n        \"semantic_type\": \"\",\n        \"description\": \"\"\n      }\n    },\n    {\n      \"column\": \"mos\\u00f3g\\u00e9p_van\",\n      \"properties\": {\n        \"dtype\": \"string\",\n        \"num_unique_values\": 1,\n        \"samples\": [\n          \"Igen\"\n        ],\n        \"semantic_type\": \"\",\n        \"description\": \"\"\n      }\n    },\n    {\n      \"column\": \"energiatan\\u00fas\\u00edtv\\u00e1ny\",\n      \"properties\": {\n        \"dtype\": \"string\",\n        \"num_unique_values\": 1,\n        \"samples\": [\n          \"Nem adott\"\n        ],\n        \"semantic_type\": \"\",\n        \"description\": \"\"\n      }\n    }\n  ]\n}"
            }
          },
          "metadata": {},
          "execution_count": 123
        }
      ]
    },
    {
      "cell_type": "code",
      "source": [
        "def extract_data_from_html(html_text):\n",
        "    data = {}\n",
        "    titles = html_text.split('<div class=\"advert-info-title\">')[1:]\n",
        "    for title_block in titles:\n",
        "        title_end = title_block.find('</div>')\n",
        "        key = title_block[:title_end].strip().replace(' ', '_').lower()\n",
        "\n",
        "        text_start = title_block.find('<div class=\"advert-info-text\">') + len('<div class=\"advert-info-text\">')\n",
        "        text_end = title_block.find('</div>', text_start)\n",
        "        value = title_block[text_start:text_end].strip()\n",
        "\n",
        "        data[key] = value\n",
        "\n",
        "    return data"
      ],
      "metadata": {
        "id": "Dp96rkivPkIr"
      },
      "execution_count": 124,
      "outputs": []
    },
    {
      "cell_type": "code",
      "source": [
        "def process_elements_from_links(full_links):\n",
        "\n",
        "    all_data = []\n",
        "    for link in full_links:\n",
        "        t = read_cloud(link)\n",
        "        html_text = str(t.select_one('.advert-infos .custom-gutter-5'))\n",
        "        advert_data = extract_data_from_html(html_text)\n",
        "\n",
        "        advert_data['price'] = t.select_one('#main-info .price').text.strip() if t.select_one('#main-info .price') else 'Na'\n",
        "        advert_data['address'] = t.select_one('#main-info .address').text.strip() if t.select_one('#main-info .address') else 'Na'\n",
        "        advert_data['rooms_and_sqrt'] = t.select_one('#main-info .mb-1').text.strip() if t.select_one('#main-info .mb-1') else 'Na'\n",
        "        advert_data['link'] = link\n",
        "\n",
        "        all_data.append(advert_data)\n",
        "\n",
        "    return pd.DataFrame(all_data)"
      ],
      "metadata": {
        "id": "agGoXwgSTc0t"
      },
      "execution_count": 125,
      "outputs": []
    },
    {
      "cell_type": "code",
      "source": [
        "df = process_elements_from_links(full_links)"
      ],
      "metadata": {
        "id": "6k-Ow_eHTpND"
      },
      "execution_count": 126,
      "outputs": []
    },
    {
      "cell_type": "code",
      "source": [
        "df.head(3).T"
      ],
      "metadata": {
        "colab": {
          "base_uri": "https://localhost:8080/",
          "height": 1000
        },
        "id": "2DlH1PecVp-3",
        "outputId": "ec764ab3-13eb-4ca3-d2f9-e6eee9cf6f4e"
      },
      "execution_count": 127,
      "outputs": [
        {
          "output_type": "execute_result",
          "data": {
            "text/plain": [
              "                                                                                                                  0  \\\n",
              "épület_típusa                                                                                                 Lakás   \n",
              "közös_költség                                                                                          14 000 Ft/hó   \n",
              "rezsi_költség                                                                                          15 000 Ft/hó   \n",
              "fűtés                                                                                                      Távfűtés   \n",
              "minimum_bérlési_idő                                                                                   Legalább 1 év   \n",
              "beköltözhető                                                                                             2024-10-15   \n",
              "berendezés                                                                          Részben berendezett, gépesített   \n",
              "különnyíló_szoba                                                                                                  2   \n",
              "emelet                                                                                                 Több mint 10   \n",
              "lift                                                                                                            Van   \n",
              "kilátás                                                                                             Városi panoráma   \n",
              "erkélyek_száma                                                                                                    1   \n",
              "min._bérlési_idő                                                                                      Legalább 1 év   \n",
              "diákoknak                                                                                                      Igen   \n",
              "mosógép_van                                                                                                    Igen   \n",
              "energiatanúsítvány                                                                                        Nem adott   \n",
              "price                                                                                                       240 000   \n",
              "address                                                                           Tömő utca Budapest, VIII. kerület   \n",
              "rooms_and_sqrt                                                                                       2 szoba, 50 m2   \n",
              "link                   https://www.alberlet.hu//kiado_alberlet/budapest-VIII-kerulet-tomo-utca--50m2-2-szoba_752985   \n",
              "amerikai_konyha                                                                                                 NaN   \n",
              "városrész                                                                                                       NaN   \n",
              "gyermekbarát                                                                                                    NaN   \n",
              "hónapokra_is                                                                                                    NaN   \n",
              "bérleti_díj_hónapokra                                                                                           NaN   \n",
              "kisállat                                                                                                        NaN   \n",
              "kaució_hónapokra                                                                                                NaN   \n",
              "hall                                                                                                            NaN   \n",
              "dohányzás                                                                                                       NaN   \n",
              "kaució                                                                                                          NaN   \n",
              "\n",
              "                                                                                                                        1  \\\n",
              "épület_típusa                                                                                                       Lakás   \n",
              "közös_költség                                                                                                15 000 Ft/hó   \n",
              "rezsi_költség                                                                                                         NaN   \n",
              "fűtés                                                                                                 Házközp. mérőórával   \n",
              "minimum_bérlési_idő                                                                                         Legalább 1 év   \n",
              "beköltözhető                                                                                                          NaN   \n",
              "berendezés                                                                                               Üres, gépesített   \n",
              "különnyíló_szoba                                                                                                        1   \n",
              "emelet                                                                                                                  7   \n",
              "lift                                                                                                                  Van   \n",
              "kilátás                                                                                               Hegyvidéki panoráma   \n",
              "erkélyek_száma                                                                                                          1   \n",
              "min._bérlési_idő                                                                                            Legalább 1 év   \n",
              "diákoknak                                                                                                            Igen   \n",
              "mosógép_van                                                                                                          Igen   \n",
              "energiatanúsítvány                                                                                              Nem adott   \n",
              "price                                                                                                             295 000   \n",
              "address                                                                           Pünkösdfürdő utcaBudapest, III. kerület   \n",
              "rooms_and_sqrt                                                                                             2 szoba, 47 m2   \n",
              "link                   https://www.alberlet.hu//kiado_alberlet/budapest-III-kerulet-punkosdfurdo-utca-47m2-2-szoba_756171   \n",
              "amerikai_konyha                                                                                                       Van   \n",
              "városrész                                                                                                             NaN   \n",
              "gyermekbarát                                                                                                          NaN   \n",
              "hónapokra_is                                                                                                          NaN   \n",
              "bérleti_díj_hónapokra                                                                                                 NaN   \n",
              "kisállat                                                                                                              NaN   \n",
              "kaució_hónapokra                                                                                                      NaN   \n",
              "hall                                                                                                                  NaN   \n",
              "dohányzás                                                                                                             NaN   \n",
              "kaució                                                                                                                NaN   \n",
              "\n",
              "                                                                                                                   2  \n",
              "épület_típusa                                                                                                  Lakás  \n",
              "közös_költség                                                                                           19 000 Ft/hó  \n",
              "rezsi_költség                                                                                           30 000 Ft/hó  \n",
              "fűtés                                                                                                          Cirkó  \n",
              "minimum_bérlési_idő                                                                                    Legalább 1 év  \n",
              "beköltözhető                                                                                              2024-12-13  \n",
              "berendezés                                                                                   Berendezett, gépesített  \n",
              "különnyíló_szoba                                                                                                   2  \n",
              "emelet                                                                                                             3  \n",
              "lift                                                                                                             Van  \n",
              "kilátás                                                                                              Udvari, világos  \n",
              "erkélyek_száma                                                                                                   NaN  \n",
              "min._bérlési_idő                                                                                       Legalább 1 év  \n",
              "diákoknak                                                                                                        NaN  \n",
              "mosógép_van                                                                                                     Igen  \n",
              "energiatanúsítvány                                                                                         Nem adott  \n",
              "price                                                                                                        280 000  \n",
              "address                                                                           Nagymező utcaBudapest, VI. kerület  \n",
              "rooms_and_sqrt                                                                                        3 szoba, 60 m2  \n",
              "link                   https://www.alberlet.hu//kiado_alberlet/budapest-VI-kerulet-nagymezo-utca-60m2-3-szoba_753763  \n",
              "amerikai_konyha                                                                                                  Van  \n",
              "városrész                                                                                                 Terézváros  \n",
              "gyermekbarát                                                                                                     NaN  \n",
              "hónapokra_is                                                                                                     NaN  \n",
              "bérleti_díj_hónapokra                                                                                            NaN  \n",
              "kisállat                                                                                                         NaN  \n",
              "kaució_hónapokra                                                                                                 NaN  \n",
              "hall                                                                                                             NaN  \n",
              "dohányzás                                                                                                        NaN  \n",
              "kaució                                                                                                           NaN  "
            ],
            "text/html": [
              "\n",
              "  <div id=\"df-b5027272-8001-4b20-9c5b-4e3f2338b5c8\" class=\"colab-df-container\">\n",
              "    <div>\n",
              "<style scoped>\n",
              "    .dataframe tbody tr th:only-of-type {\n",
              "        vertical-align: middle;\n",
              "    }\n",
              "\n",
              "    .dataframe tbody tr th {\n",
              "        vertical-align: top;\n",
              "    }\n",
              "\n",
              "    .dataframe thead th {\n",
              "        text-align: right;\n",
              "    }\n",
              "</style>\n",
              "<table border=\"1\" class=\"dataframe\">\n",
              "  <thead>\n",
              "    <tr style=\"text-align: right;\">\n",
              "      <th></th>\n",
              "      <th>0</th>\n",
              "      <th>1</th>\n",
              "      <th>2</th>\n",
              "    </tr>\n",
              "  </thead>\n",
              "  <tbody>\n",
              "    <tr>\n",
              "      <th>épület_típusa</th>\n",
              "      <td>Lakás</td>\n",
              "      <td>Lakás</td>\n",
              "      <td>Lakás</td>\n",
              "    </tr>\n",
              "    <tr>\n",
              "      <th>közös_költség</th>\n",
              "      <td>14 000 Ft/hó</td>\n",
              "      <td>15 000 Ft/hó</td>\n",
              "      <td>19 000 Ft/hó</td>\n",
              "    </tr>\n",
              "    <tr>\n",
              "      <th>rezsi_költség</th>\n",
              "      <td>15 000 Ft/hó</td>\n",
              "      <td>NaN</td>\n",
              "      <td>30 000 Ft/hó</td>\n",
              "    </tr>\n",
              "    <tr>\n",
              "      <th>fűtés</th>\n",
              "      <td>Távfűtés</td>\n",
              "      <td>Házközp. mérőórával</td>\n",
              "      <td>Cirkó</td>\n",
              "    </tr>\n",
              "    <tr>\n",
              "      <th>minimum_bérlési_idő</th>\n",
              "      <td>Legalább 1 év</td>\n",
              "      <td>Legalább 1 év</td>\n",
              "      <td>Legalább 1 év</td>\n",
              "    </tr>\n",
              "    <tr>\n",
              "      <th>beköltözhető</th>\n",
              "      <td>2024-10-15</td>\n",
              "      <td>NaN</td>\n",
              "      <td>2024-12-13</td>\n",
              "    </tr>\n",
              "    <tr>\n",
              "      <th>berendezés</th>\n",
              "      <td>Részben berendezett, gépesített</td>\n",
              "      <td>Üres, gépesített</td>\n",
              "      <td>Berendezett, gépesített</td>\n",
              "    </tr>\n",
              "    <tr>\n",
              "      <th>különnyíló_szoba</th>\n",
              "      <td>2</td>\n",
              "      <td>1</td>\n",
              "      <td>2</td>\n",
              "    </tr>\n",
              "    <tr>\n",
              "      <th>emelet</th>\n",
              "      <td>Több mint 10</td>\n",
              "      <td>7</td>\n",
              "      <td>3</td>\n",
              "    </tr>\n",
              "    <tr>\n",
              "      <th>lift</th>\n",
              "      <td>Van</td>\n",
              "      <td>Van</td>\n",
              "      <td>Van</td>\n",
              "    </tr>\n",
              "    <tr>\n",
              "      <th>kilátás</th>\n",
              "      <td>Városi panoráma</td>\n",
              "      <td>Hegyvidéki panoráma</td>\n",
              "      <td>Udvari, világos</td>\n",
              "    </tr>\n",
              "    <tr>\n",
              "      <th>erkélyek_száma</th>\n",
              "      <td>1</td>\n",
              "      <td>1</td>\n",
              "      <td>NaN</td>\n",
              "    </tr>\n",
              "    <tr>\n",
              "      <th>min._bérlési_idő</th>\n",
              "      <td>Legalább 1 év</td>\n",
              "      <td>Legalább 1 év</td>\n",
              "      <td>Legalább 1 év</td>\n",
              "    </tr>\n",
              "    <tr>\n",
              "      <th>diákoknak</th>\n",
              "      <td>Igen</td>\n",
              "      <td>Igen</td>\n",
              "      <td>NaN</td>\n",
              "    </tr>\n",
              "    <tr>\n",
              "      <th>mosógép_van</th>\n",
              "      <td>Igen</td>\n",
              "      <td>Igen</td>\n",
              "      <td>Igen</td>\n",
              "    </tr>\n",
              "    <tr>\n",
              "      <th>energiatanúsítvány</th>\n",
              "      <td>Nem adott</td>\n",
              "      <td>Nem adott</td>\n",
              "      <td>Nem adott</td>\n",
              "    </tr>\n",
              "    <tr>\n",
              "      <th>price</th>\n",
              "      <td>240 000</td>\n",
              "      <td>295 000</td>\n",
              "      <td>280 000</td>\n",
              "    </tr>\n",
              "    <tr>\n",
              "      <th>address</th>\n",
              "      <td>Tömő utca Budapest, VIII. kerület</td>\n",
              "      <td>Pünkösdfürdő utcaBudapest, III. kerület</td>\n",
              "      <td>Nagymező utcaBudapest, VI. kerület</td>\n",
              "    </tr>\n",
              "    <tr>\n",
              "      <th>rooms_and_sqrt</th>\n",
              "      <td>2 szoba, 50 m2</td>\n",
              "      <td>2 szoba, 47 m2</td>\n",
              "      <td>3 szoba, 60 m2</td>\n",
              "    </tr>\n",
              "    <tr>\n",
              "      <th>link</th>\n",
              "      <td>https://www.alberlet.hu//kiado_alberlet/budapest-VIII-kerulet-tomo-utca--50m2-2-szoba_752985</td>\n",
              "      <td>https://www.alberlet.hu//kiado_alberlet/budapest-III-kerulet-punkosdfurdo-utca-47m2-2-szoba_756171</td>\n",
              "      <td>https://www.alberlet.hu//kiado_alberlet/budapest-VI-kerulet-nagymezo-utca-60m2-3-szoba_753763</td>\n",
              "    </tr>\n",
              "    <tr>\n",
              "      <th>amerikai_konyha</th>\n",
              "      <td>NaN</td>\n",
              "      <td>Van</td>\n",
              "      <td>Van</td>\n",
              "    </tr>\n",
              "    <tr>\n",
              "      <th>városrész</th>\n",
              "      <td>NaN</td>\n",
              "      <td>NaN</td>\n",
              "      <td>Terézváros</td>\n",
              "    </tr>\n",
              "    <tr>\n",
              "      <th>gyermekbarát</th>\n",
              "      <td>NaN</td>\n",
              "      <td>NaN</td>\n",
              "      <td>NaN</td>\n",
              "    </tr>\n",
              "    <tr>\n",
              "      <th>hónapokra_is</th>\n",
              "      <td>NaN</td>\n",
              "      <td>NaN</td>\n",
              "      <td>NaN</td>\n",
              "    </tr>\n",
              "    <tr>\n",
              "      <th>bérleti_díj_hónapokra</th>\n",
              "      <td>NaN</td>\n",
              "      <td>NaN</td>\n",
              "      <td>NaN</td>\n",
              "    </tr>\n",
              "    <tr>\n",
              "      <th>kisállat</th>\n",
              "      <td>NaN</td>\n",
              "      <td>NaN</td>\n",
              "      <td>NaN</td>\n",
              "    </tr>\n",
              "    <tr>\n",
              "      <th>kaució_hónapokra</th>\n",
              "      <td>NaN</td>\n",
              "      <td>NaN</td>\n",
              "      <td>NaN</td>\n",
              "    </tr>\n",
              "    <tr>\n",
              "      <th>hall</th>\n",
              "      <td>NaN</td>\n",
              "      <td>NaN</td>\n",
              "      <td>NaN</td>\n",
              "    </tr>\n",
              "    <tr>\n",
              "      <th>dohányzás</th>\n",
              "      <td>NaN</td>\n",
              "      <td>NaN</td>\n",
              "      <td>NaN</td>\n",
              "    </tr>\n",
              "    <tr>\n",
              "      <th>kaució</th>\n",
              "      <td>NaN</td>\n",
              "      <td>NaN</td>\n",
              "      <td>NaN</td>\n",
              "    </tr>\n",
              "  </tbody>\n",
              "</table>\n",
              "</div>\n",
              "    <div class=\"colab-df-buttons\">\n",
              "\n",
              "  <div class=\"colab-df-container\">\n",
              "    <button class=\"colab-df-convert\" onclick=\"convertToInteractive('df-b5027272-8001-4b20-9c5b-4e3f2338b5c8')\"\n",
              "            title=\"Convert this dataframe to an interactive table.\"\n",
              "            style=\"display:none;\">\n",
              "\n",
              "  <svg xmlns=\"http://www.w3.org/2000/svg\" height=\"24px\" viewBox=\"0 -960 960 960\">\n",
              "    <path d=\"M120-120v-720h720v720H120Zm60-500h600v-160H180v160Zm220 220h160v-160H400v160Zm0 220h160v-160H400v160ZM180-400h160v-160H180v160Zm440 0h160v-160H620v160ZM180-180h160v-160H180v160Zm440 0h160v-160H620v160Z\"/>\n",
              "  </svg>\n",
              "    </button>\n",
              "\n",
              "  <style>\n",
              "    .colab-df-container {\n",
              "      display:flex;\n",
              "      gap: 12px;\n",
              "    }\n",
              "\n",
              "    .colab-df-convert {\n",
              "      background-color: #E8F0FE;\n",
              "      border: none;\n",
              "      border-radius: 50%;\n",
              "      cursor: pointer;\n",
              "      display: none;\n",
              "      fill: #1967D2;\n",
              "      height: 32px;\n",
              "      padding: 0 0 0 0;\n",
              "      width: 32px;\n",
              "    }\n",
              "\n",
              "    .colab-df-convert:hover {\n",
              "      background-color: #E2EBFA;\n",
              "      box-shadow: 0px 1px 2px rgba(60, 64, 67, 0.3), 0px 1px 3px 1px rgba(60, 64, 67, 0.15);\n",
              "      fill: #174EA6;\n",
              "    }\n",
              "\n",
              "    .colab-df-buttons div {\n",
              "      margin-bottom: 4px;\n",
              "    }\n",
              "\n",
              "    [theme=dark] .colab-df-convert {\n",
              "      background-color: #3B4455;\n",
              "      fill: #D2E3FC;\n",
              "    }\n",
              "\n",
              "    [theme=dark] .colab-df-convert:hover {\n",
              "      background-color: #434B5C;\n",
              "      box-shadow: 0px 1px 3px 1px rgba(0, 0, 0, 0.15);\n",
              "      filter: drop-shadow(0px 1px 2px rgba(0, 0, 0, 0.3));\n",
              "      fill: #FFFFFF;\n",
              "    }\n",
              "  </style>\n",
              "\n",
              "    <script>\n",
              "      const buttonEl =\n",
              "        document.querySelector('#df-b5027272-8001-4b20-9c5b-4e3f2338b5c8 button.colab-df-convert');\n",
              "      buttonEl.style.display =\n",
              "        google.colab.kernel.accessAllowed ? 'block' : 'none';\n",
              "\n",
              "      async function convertToInteractive(key) {\n",
              "        const element = document.querySelector('#df-b5027272-8001-4b20-9c5b-4e3f2338b5c8');\n",
              "        const dataTable =\n",
              "          await google.colab.kernel.invokeFunction('convertToInteractive',\n",
              "                                                    [key], {});\n",
              "        if (!dataTable) return;\n",
              "\n",
              "        const docLinkHtml = 'Like what you see? Visit the ' +\n",
              "          '<a target=\"_blank\" href=https://colab.research.google.com/notebooks/data_table.ipynb>data table notebook</a>'\n",
              "          + ' to learn more about interactive tables.';\n",
              "        element.innerHTML = '';\n",
              "        dataTable['output_type'] = 'display_data';\n",
              "        await google.colab.output.renderOutput(dataTable, element);\n",
              "        const docLink = document.createElement('div');\n",
              "        docLink.innerHTML = docLinkHtml;\n",
              "        element.appendChild(docLink);\n",
              "      }\n",
              "    </script>\n",
              "  </div>\n",
              "\n",
              "\n",
              "<div id=\"df-6350730e-1ae0-4128-8c99-935bd2971ea9\">\n",
              "  <button class=\"colab-df-quickchart\" onclick=\"quickchart('df-6350730e-1ae0-4128-8c99-935bd2971ea9')\"\n",
              "            title=\"Suggest charts\"\n",
              "            style=\"display:none;\">\n",
              "\n",
              "<svg xmlns=\"http://www.w3.org/2000/svg\" height=\"24px\"viewBox=\"0 0 24 24\"\n",
              "     width=\"24px\">\n",
              "    <g>\n",
              "        <path d=\"M19 3H5c-1.1 0-2 .9-2 2v14c0 1.1.9 2 2 2h14c1.1 0 2-.9 2-2V5c0-1.1-.9-2-2-2zM9 17H7v-7h2v7zm4 0h-2V7h2v10zm4 0h-2v-4h2v4z\"/>\n",
              "    </g>\n",
              "</svg>\n",
              "  </button>\n",
              "\n",
              "<style>\n",
              "  .colab-df-quickchart {\n",
              "      --bg-color: #E8F0FE;\n",
              "      --fill-color: #1967D2;\n",
              "      --hover-bg-color: #E2EBFA;\n",
              "      --hover-fill-color: #174EA6;\n",
              "      --disabled-fill-color: #AAA;\n",
              "      --disabled-bg-color: #DDD;\n",
              "  }\n",
              "\n",
              "  [theme=dark] .colab-df-quickchart {\n",
              "      --bg-color: #3B4455;\n",
              "      --fill-color: #D2E3FC;\n",
              "      --hover-bg-color: #434B5C;\n",
              "      --hover-fill-color: #FFFFFF;\n",
              "      --disabled-bg-color: #3B4455;\n",
              "      --disabled-fill-color: #666;\n",
              "  }\n",
              "\n",
              "  .colab-df-quickchart {\n",
              "    background-color: var(--bg-color);\n",
              "    border: none;\n",
              "    border-radius: 50%;\n",
              "    cursor: pointer;\n",
              "    display: none;\n",
              "    fill: var(--fill-color);\n",
              "    height: 32px;\n",
              "    padding: 0;\n",
              "    width: 32px;\n",
              "  }\n",
              "\n",
              "  .colab-df-quickchart:hover {\n",
              "    background-color: var(--hover-bg-color);\n",
              "    box-shadow: 0 1px 2px rgba(60, 64, 67, 0.3), 0 1px 3px 1px rgba(60, 64, 67, 0.15);\n",
              "    fill: var(--button-hover-fill-color);\n",
              "  }\n",
              "\n",
              "  .colab-df-quickchart-complete:disabled,\n",
              "  .colab-df-quickchart-complete:disabled:hover {\n",
              "    background-color: var(--disabled-bg-color);\n",
              "    fill: var(--disabled-fill-color);\n",
              "    box-shadow: none;\n",
              "  }\n",
              "\n",
              "  .colab-df-spinner {\n",
              "    border: 2px solid var(--fill-color);\n",
              "    border-color: transparent;\n",
              "    border-bottom-color: var(--fill-color);\n",
              "    animation:\n",
              "      spin 1s steps(1) infinite;\n",
              "  }\n",
              "\n",
              "  @keyframes spin {\n",
              "    0% {\n",
              "      border-color: transparent;\n",
              "      border-bottom-color: var(--fill-color);\n",
              "      border-left-color: var(--fill-color);\n",
              "    }\n",
              "    20% {\n",
              "      border-color: transparent;\n",
              "      border-left-color: var(--fill-color);\n",
              "      border-top-color: var(--fill-color);\n",
              "    }\n",
              "    30% {\n",
              "      border-color: transparent;\n",
              "      border-left-color: var(--fill-color);\n",
              "      border-top-color: var(--fill-color);\n",
              "      border-right-color: var(--fill-color);\n",
              "    }\n",
              "    40% {\n",
              "      border-color: transparent;\n",
              "      border-right-color: var(--fill-color);\n",
              "      border-top-color: var(--fill-color);\n",
              "    }\n",
              "    60% {\n",
              "      border-color: transparent;\n",
              "      border-right-color: var(--fill-color);\n",
              "    }\n",
              "    80% {\n",
              "      border-color: transparent;\n",
              "      border-right-color: var(--fill-color);\n",
              "      border-bottom-color: var(--fill-color);\n",
              "    }\n",
              "    90% {\n",
              "      border-color: transparent;\n",
              "      border-bottom-color: var(--fill-color);\n",
              "    }\n",
              "  }\n",
              "</style>\n",
              "\n",
              "  <script>\n",
              "    async function quickchart(key) {\n",
              "      const quickchartButtonEl =\n",
              "        document.querySelector('#' + key + ' button');\n",
              "      quickchartButtonEl.disabled = true;  // To prevent multiple clicks.\n",
              "      quickchartButtonEl.classList.add('colab-df-spinner');\n",
              "      try {\n",
              "        const charts = await google.colab.kernel.invokeFunction(\n",
              "            'suggestCharts', [key], {});\n",
              "      } catch (error) {\n",
              "        console.error('Error during call to suggestCharts:', error);\n",
              "      }\n",
              "      quickchartButtonEl.classList.remove('colab-df-spinner');\n",
              "      quickchartButtonEl.classList.add('colab-df-quickchart-complete');\n",
              "    }\n",
              "    (() => {\n",
              "      let quickchartButtonEl =\n",
              "        document.querySelector('#df-6350730e-1ae0-4128-8c99-935bd2971ea9 button');\n",
              "      quickchartButtonEl.style.display =\n",
              "        google.colab.kernel.accessAllowed ? 'block' : 'none';\n",
              "    })();\n",
              "  </script>\n",
              "</div>\n",
              "\n",
              "    </div>\n",
              "  </div>\n"
            ],
            "application/vnd.google.colaboratory.intrinsic+json": {
              "type": "dataframe",
              "variable_name": "df"
            }
          },
          "metadata": {},
          "execution_count": 127
        }
      ]
    },
    {
      "cell_type": "code",
      "source": [
        "df.head(3)"
      ],
      "metadata": {
        "colab": {
          "base_uri": "https://localhost:8080/",
          "height": 262
        },
        "id": "vS_QbFGSl9ng",
        "outputId": "b1d9575f-7a9b-4539-fb10-45a6e21edae7"
      },
      "execution_count": 128,
      "outputs": [
        {
          "output_type": "execute_result",
          "data": {
            "text/plain": [
              "  épület_típusa közös_költség rezsi_költség                fűtés  \\\n",
              "0         Lakás  14 000 Ft/hó  15 000 Ft/hó             Távfűtés   \n",
              "1         Lakás  15 000 Ft/hó           NaN  Házközp. mérőórával   \n",
              "2         Lakás  19 000 Ft/hó  30 000 Ft/hó                Cirkó   \n",
              "\n",
              "  minimum_bérlési_idő beköltözhető                       berendezés  \\\n",
              "0       Legalább 1 év   2024-10-15  Részben berendezett, gépesített   \n",
              "1       Legalább 1 év          NaN                 Üres, gépesített   \n",
              "2       Legalább 1 év   2024-12-13          Berendezett, gépesített   \n",
              "\n",
              "  különnyíló_szoba        emelet lift  ... amerikai_konyha   városrész  \\\n",
              "0                2  Több mint 10  Van  ...             NaN         NaN   \n",
              "1                1             7  Van  ...             Van         NaN   \n",
              "2                2             3  Van  ...             Van  Terézváros   \n",
              "\n",
              "  gyermekbarát hónapokra_is bérleti_díj_hónapokra kisállat kaució_hónapokra  \\\n",
              "0          NaN          NaN                   NaN      NaN              NaN   \n",
              "1          NaN          NaN                   NaN      NaN              NaN   \n",
              "2          NaN          NaN                   NaN      NaN              NaN   \n",
              "\n",
              "  hall dohányzás kaució  \n",
              "0  NaN       NaN    NaN  \n",
              "1  NaN       NaN    NaN  \n",
              "2  NaN       NaN    NaN  \n",
              "\n",
              "[3 rows x 30 columns]"
            ],
            "text/html": [
              "\n",
              "  <div id=\"df-a8fd8334-6f10-48c5-bd85-2ce4d6e8ccd4\" class=\"colab-df-container\">\n",
              "    <div>\n",
              "<style scoped>\n",
              "    .dataframe tbody tr th:only-of-type {\n",
              "        vertical-align: middle;\n",
              "    }\n",
              "\n",
              "    .dataframe tbody tr th {\n",
              "        vertical-align: top;\n",
              "    }\n",
              "\n",
              "    .dataframe thead th {\n",
              "        text-align: right;\n",
              "    }\n",
              "</style>\n",
              "<table border=\"1\" class=\"dataframe\">\n",
              "  <thead>\n",
              "    <tr style=\"text-align: right;\">\n",
              "      <th></th>\n",
              "      <th>épület_típusa</th>\n",
              "      <th>közös_költség</th>\n",
              "      <th>rezsi_költség</th>\n",
              "      <th>fűtés</th>\n",
              "      <th>minimum_bérlési_idő</th>\n",
              "      <th>beköltözhető</th>\n",
              "      <th>berendezés</th>\n",
              "      <th>különnyíló_szoba</th>\n",
              "      <th>emelet</th>\n",
              "      <th>lift</th>\n",
              "      <th>...</th>\n",
              "      <th>amerikai_konyha</th>\n",
              "      <th>városrész</th>\n",
              "      <th>gyermekbarát</th>\n",
              "      <th>hónapokra_is</th>\n",
              "      <th>bérleti_díj_hónapokra</th>\n",
              "      <th>kisállat</th>\n",
              "      <th>kaució_hónapokra</th>\n",
              "      <th>hall</th>\n",
              "      <th>dohányzás</th>\n",
              "      <th>kaució</th>\n",
              "    </tr>\n",
              "  </thead>\n",
              "  <tbody>\n",
              "    <tr>\n",
              "      <th>0</th>\n",
              "      <td>Lakás</td>\n",
              "      <td>14 000 Ft/hó</td>\n",
              "      <td>15 000 Ft/hó</td>\n",
              "      <td>Távfűtés</td>\n",
              "      <td>Legalább 1 év</td>\n",
              "      <td>2024-10-15</td>\n",
              "      <td>Részben berendezett, gépesített</td>\n",
              "      <td>2</td>\n",
              "      <td>Több mint 10</td>\n",
              "      <td>Van</td>\n",
              "      <td>...</td>\n",
              "      <td>NaN</td>\n",
              "      <td>NaN</td>\n",
              "      <td>NaN</td>\n",
              "      <td>NaN</td>\n",
              "      <td>NaN</td>\n",
              "      <td>NaN</td>\n",
              "      <td>NaN</td>\n",
              "      <td>NaN</td>\n",
              "      <td>NaN</td>\n",
              "      <td>NaN</td>\n",
              "    </tr>\n",
              "    <tr>\n",
              "      <th>1</th>\n",
              "      <td>Lakás</td>\n",
              "      <td>15 000 Ft/hó</td>\n",
              "      <td>NaN</td>\n",
              "      <td>Házközp. mérőórával</td>\n",
              "      <td>Legalább 1 év</td>\n",
              "      <td>NaN</td>\n",
              "      <td>Üres, gépesített</td>\n",
              "      <td>1</td>\n",
              "      <td>7</td>\n",
              "      <td>Van</td>\n",
              "      <td>...</td>\n",
              "      <td>Van</td>\n",
              "      <td>NaN</td>\n",
              "      <td>NaN</td>\n",
              "      <td>NaN</td>\n",
              "      <td>NaN</td>\n",
              "      <td>NaN</td>\n",
              "      <td>NaN</td>\n",
              "      <td>NaN</td>\n",
              "      <td>NaN</td>\n",
              "      <td>NaN</td>\n",
              "    </tr>\n",
              "    <tr>\n",
              "      <th>2</th>\n",
              "      <td>Lakás</td>\n",
              "      <td>19 000 Ft/hó</td>\n",
              "      <td>30 000 Ft/hó</td>\n",
              "      <td>Cirkó</td>\n",
              "      <td>Legalább 1 év</td>\n",
              "      <td>2024-12-13</td>\n",
              "      <td>Berendezett, gépesített</td>\n",
              "      <td>2</td>\n",
              "      <td>3</td>\n",
              "      <td>Van</td>\n",
              "      <td>...</td>\n",
              "      <td>Van</td>\n",
              "      <td>Terézváros</td>\n",
              "      <td>NaN</td>\n",
              "      <td>NaN</td>\n",
              "      <td>NaN</td>\n",
              "      <td>NaN</td>\n",
              "      <td>NaN</td>\n",
              "      <td>NaN</td>\n",
              "      <td>NaN</td>\n",
              "      <td>NaN</td>\n",
              "    </tr>\n",
              "  </tbody>\n",
              "</table>\n",
              "<p>3 rows × 30 columns</p>\n",
              "</div>\n",
              "    <div class=\"colab-df-buttons\">\n",
              "\n",
              "  <div class=\"colab-df-container\">\n",
              "    <button class=\"colab-df-convert\" onclick=\"convertToInteractive('df-a8fd8334-6f10-48c5-bd85-2ce4d6e8ccd4')\"\n",
              "            title=\"Convert this dataframe to an interactive table.\"\n",
              "            style=\"display:none;\">\n",
              "\n",
              "  <svg xmlns=\"http://www.w3.org/2000/svg\" height=\"24px\" viewBox=\"0 -960 960 960\">\n",
              "    <path d=\"M120-120v-720h720v720H120Zm60-500h600v-160H180v160Zm220 220h160v-160H400v160Zm0 220h160v-160H400v160ZM180-400h160v-160H180v160Zm440 0h160v-160H620v160ZM180-180h160v-160H180v160Zm440 0h160v-160H620v160Z\"/>\n",
              "  </svg>\n",
              "    </button>\n",
              "\n",
              "  <style>\n",
              "    .colab-df-container {\n",
              "      display:flex;\n",
              "      gap: 12px;\n",
              "    }\n",
              "\n",
              "    .colab-df-convert {\n",
              "      background-color: #E8F0FE;\n",
              "      border: none;\n",
              "      border-radius: 50%;\n",
              "      cursor: pointer;\n",
              "      display: none;\n",
              "      fill: #1967D2;\n",
              "      height: 32px;\n",
              "      padding: 0 0 0 0;\n",
              "      width: 32px;\n",
              "    }\n",
              "\n",
              "    .colab-df-convert:hover {\n",
              "      background-color: #E2EBFA;\n",
              "      box-shadow: 0px 1px 2px rgba(60, 64, 67, 0.3), 0px 1px 3px 1px rgba(60, 64, 67, 0.15);\n",
              "      fill: #174EA6;\n",
              "    }\n",
              "\n",
              "    .colab-df-buttons div {\n",
              "      margin-bottom: 4px;\n",
              "    }\n",
              "\n",
              "    [theme=dark] .colab-df-convert {\n",
              "      background-color: #3B4455;\n",
              "      fill: #D2E3FC;\n",
              "    }\n",
              "\n",
              "    [theme=dark] .colab-df-convert:hover {\n",
              "      background-color: #434B5C;\n",
              "      box-shadow: 0px 1px 3px 1px rgba(0, 0, 0, 0.15);\n",
              "      filter: drop-shadow(0px 1px 2px rgba(0, 0, 0, 0.3));\n",
              "      fill: #FFFFFF;\n",
              "    }\n",
              "  </style>\n",
              "\n",
              "    <script>\n",
              "      const buttonEl =\n",
              "        document.querySelector('#df-a8fd8334-6f10-48c5-bd85-2ce4d6e8ccd4 button.colab-df-convert');\n",
              "      buttonEl.style.display =\n",
              "        google.colab.kernel.accessAllowed ? 'block' : 'none';\n",
              "\n",
              "      async function convertToInteractive(key) {\n",
              "        const element = document.querySelector('#df-a8fd8334-6f10-48c5-bd85-2ce4d6e8ccd4');\n",
              "        const dataTable =\n",
              "          await google.colab.kernel.invokeFunction('convertToInteractive',\n",
              "                                                    [key], {});\n",
              "        if (!dataTable) return;\n",
              "\n",
              "        const docLinkHtml = 'Like what you see? Visit the ' +\n",
              "          '<a target=\"_blank\" href=https://colab.research.google.com/notebooks/data_table.ipynb>data table notebook</a>'\n",
              "          + ' to learn more about interactive tables.';\n",
              "        element.innerHTML = '';\n",
              "        dataTable['output_type'] = 'display_data';\n",
              "        await google.colab.output.renderOutput(dataTable, element);\n",
              "        const docLink = document.createElement('div');\n",
              "        docLink.innerHTML = docLinkHtml;\n",
              "        element.appendChild(docLink);\n",
              "      }\n",
              "    </script>\n",
              "  </div>\n",
              "\n",
              "\n",
              "<div id=\"df-3346d2f3-4b76-48aa-b477-6c55ea33793b\">\n",
              "  <button class=\"colab-df-quickchart\" onclick=\"quickchart('df-3346d2f3-4b76-48aa-b477-6c55ea33793b')\"\n",
              "            title=\"Suggest charts\"\n",
              "            style=\"display:none;\">\n",
              "\n",
              "<svg xmlns=\"http://www.w3.org/2000/svg\" height=\"24px\"viewBox=\"0 0 24 24\"\n",
              "     width=\"24px\">\n",
              "    <g>\n",
              "        <path d=\"M19 3H5c-1.1 0-2 .9-2 2v14c0 1.1.9 2 2 2h14c1.1 0 2-.9 2-2V5c0-1.1-.9-2-2-2zM9 17H7v-7h2v7zm4 0h-2V7h2v10zm4 0h-2v-4h2v4z\"/>\n",
              "    </g>\n",
              "</svg>\n",
              "  </button>\n",
              "\n",
              "<style>\n",
              "  .colab-df-quickchart {\n",
              "      --bg-color: #E8F0FE;\n",
              "      --fill-color: #1967D2;\n",
              "      --hover-bg-color: #E2EBFA;\n",
              "      --hover-fill-color: #174EA6;\n",
              "      --disabled-fill-color: #AAA;\n",
              "      --disabled-bg-color: #DDD;\n",
              "  }\n",
              "\n",
              "  [theme=dark] .colab-df-quickchart {\n",
              "      --bg-color: #3B4455;\n",
              "      --fill-color: #D2E3FC;\n",
              "      --hover-bg-color: #434B5C;\n",
              "      --hover-fill-color: #FFFFFF;\n",
              "      --disabled-bg-color: #3B4455;\n",
              "      --disabled-fill-color: #666;\n",
              "  }\n",
              "\n",
              "  .colab-df-quickchart {\n",
              "    background-color: var(--bg-color);\n",
              "    border: none;\n",
              "    border-radius: 50%;\n",
              "    cursor: pointer;\n",
              "    display: none;\n",
              "    fill: var(--fill-color);\n",
              "    height: 32px;\n",
              "    padding: 0;\n",
              "    width: 32px;\n",
              "  }\n",
              "\n",
              "  .colab-df-quickchart:hover {\n",
              "    background-color: var(--hover-bg-color);\n",
              "    box-shadow: 0 1px 2px rgba(60, 64, 67, 0.3), 0 1px 3px 1px rgba(60, 64, 67, 0.15);\n",
              "    fill: var(--button-hover-fill-color);\n",
              "  }\n",
              "\n",
              "  .colab-df-quickchart-complete:disabled,\n",
              "  .colab-df-quickchart-complete:disabled:hover {\n",
              "    background-color: var(--disabled-bg-color);\n",
              "    fill: var(--disabled-fill-color);\n",
              "    box-shadow: none;\n",
              "  }\n",
              "\n",
              "  .colab-df-spinner {\n",
              "    border: 2px solid var(--fill-color);\n",
              "    border-color: transparent;\n",
              "    border-bottom-color: var(--fill-color);\n",
              "    animation:\n",
              "      spin 1s steps(1) infinite;\n",
              "  }\n",
              "\n",
              "  @keyframes spin {\n",
              "    0% {\n",
              "      border-color: transparent;\n",
              "      border-bottom-color: var(--fill-color);\n",
              "      border-left-color: var(--fill-color);\n",
              "    }\n",
              "    20% {\n",
              "      border-color: transparent;\n",
              "      border-left-color: var(--fill-color);\n",
              "      border-top-color: var(--fill-color);\n",
              "    }\n",
              "    30% {\n",
              "      border-color: transparent;\n",
              "      border-left-color: var(--fill-color);\n",
              "      border-top-color: var(--fill-color);\n",
              "      border-right-color: var(--fill-color);\n",
              "    }\n",
              "    40% {\n",
              "      border-color: transparent;\n",
              "      border-right-color: var(--fill-color);\n",
              "      border-top-color: var(--fill-color);\n",
              "    }\n",
              "    60% {\n",
              "      border-color: transparent;\n",
              "      border-right-color: var(--fill-color);\n",
              "    }\n",
              "    80% {\n",
              "      border-color: transparent;\n",
              "      border-right-color: var(--fill-color);\n",
              "      border-bottom-color: var(--fill-color);\n",
              "    }\n",
              "    90% {\n",
              "      border-color: transparent;\n",
              "      border-bottom-color: var(--fill-color);\n",
              "    }\n",
              "  }\n",
              "</style>\n",
              "\n",
              "  <script>\n",
              "    async function quickchart(key) {\n",
              "      const quickchartButtonEl =\n",
              "        document.querySelector('#' + key + ' button');\n",
              "      quickchartButtonEl.disabled = true;  // To prevent multiple clicks.\n",
              "      quickchartButtonEl.classList.add('colab-df-spinner');\n",
              "      try {\n",
              "        const charts = await google.colab.kernel.invokeFunction(\n",
              "            'suggestCharts', [key], {});\n",
              "      } catch (error) {\n",
              "        console.error('Error during call to suggestCharts:', error);\n",
              "      }\n",
              "      quickchartButtonEl.classList.remove('colab-df-spinner');\n",
              "      quickchartButtonEl.classList.add('colab-df-quickchart-complete');\n",
              "    }\n",
              "    (() => {\n",
              "      let quickchartButtonEl =\n",
              "        document.querySelector('#df-3346d2f3-4b76-48aa-b477-6c55ea33793b button');\n",
              "      quickchartButtonEl.style.display =\n",
              "        google.colab.kernel.accessAllowed ? 'block' : 'none';\n",
              "    })();\n",
              "  </script>\n",
              "</div>\n",
              "\n",
              "    </div>\n",
              "  </div>\n"
            ],
            "application/vnd.google.colaboratory.intrinsic+json": {
              "type": "dataframe",
              "variable_name": "df"
            }
          },
          "metadata": {},
          "execution_count": 128
        }
      ]
    },
    {
      "cell_type": "code",
      "source": [
        "df.to_excel('non_clean12282.xlsx', index=False)"
      ],
      "metadata": {
        "id": "6LdbQpx3JGk4"
      },
      "execution_count": 130,
      "outputs": []
    },
    {
      "cell_type": "code",
      "source": [
        "clean = df"
      ],
      "metadata": {
        "id": "2VyVYBHTw84k"
      },
      "execution_count": null,
      "outputs": []
    },
    {
      "cell_type": "code",
      "source": [
        "clean = pd.read_excel('non_clean12282.xlsx', engine='openpyxl')"
      ],
      "metadata": {
        "id": "g7fDeQmDv5-g"
      },
      "execution_count": 189,
      "outputs": []
    },
    {
      "cell_type": "code",
      "source": [
        "clean.rename(columns={\n",
        "    'épület_típusa': 'building_type',\n",
        "    'közös_költség': 'common_cost',\n",
        "    'rezsi_költség': 'utilities',\n",
        "    'fűtés': 'heating_type',\n",
        "    'minimum_bérlési_idő': 'minimum_rental_time',\n",
        "    'beköltözhető' : 'move_in_date',\n",
        "    'berendezés': 'furniture',\n",
        "    'különnyíló_szoba': 'number_of_rooms',\n",
        "    'emelet' : 'floor',\n",
        "    'lift' : 'elavator',\n",
        "    'kilátás' : 'sight',\n",
        "    'erkélyek_száma' : 'number_of_balconies',\n",
        "    'mosógép_van' : 'dishwasher',\n",
        "    'energiatanúsítvány': 'energy_performance_certificate',\n",
        "    'amerikai_konyha': 'american_kitchen',\n",
        "    'városrész': 'neighbourhood',\n",
        "}, inplace=True)"
      ],
      "metadata": {
        "id": "vqNDdrxzn3hI"
      },
      "execution_count": 190,
      "outputs": []
    },
    {
      "cell_type": "code",
      "source": [
        "clean.head(3).T"
      ],
      "metadata": {
        "colab": {
          "base_uri": "https://localhost:8080/",
          "height": 1000
        },
        "id": "N-qeAM8K_yeG",
        "outputId": "729dea88-b48b-4e07-8c91-f7de6e4b3aed"
      },
      "execution_count": 196,
      "outputs": [
        {
          "output_type": "execute_result",
          "data": {
            "text/plain": [
              "                                                                                                                           0  \\\n",
              "building_type                                                                                                          Lakás   \n",
              "common_cost                                                                                                     14 000 Ft/hó   \n",
              "utilities                                                                                                       15 000 Ft/hó   \n",
              "heating_type                                                                                                        Távfűtés   \n",
              "minimum_rental_time                                                                                            Legalább 1 év   \n",
              "move_in_date                                                                                                      2024-10-15   \n",
              "furniture                                                                                    Részben berendezett, gépesített   \n",
              "number_of_rooms                                                                                                          2.0   \n",
              "floor                                                                                                           Több mint 10   \n",
              "elavator                                                                                                                 Van   \n",
              "sight                                                                                                        Városi panoráma   \n",
              "number_of_balconies                                                                                                      1.0   \n",
              "min._bérlési_idő                                                                                               Legalább 1 év   \n",
              "diákoknak                                                                                                               Igen   \n",
              "dishwasher                                                                                                              Igen   \n",
              "energy_performance_certificate                                                                                     Nem adott   \n",
              "price                                                                                                                240 000   \n",
              "address                                                                                    Tömő utca Budapest, VIII. kerület   \n",
              "rooms_and_sqrt                                                                                                2 szoba, 50 m2   \n",
              "link                            https://www.alberlet.hu//kiado_alberlet/budapest-VIII-kerulet-tomo-utca--50m2-2-szoba_752985   \n",
              "american_kitchen                                                                                                         NaN   \n",
              "neighbourhood                                                                                                            NaN   \n",
              "gyermekbarát                                                                                                             NaN   \n",
              "hónapokra_is                                                                                                             NaN   \n",
              "bérleti_díj_hónapokra                                                                                                    NaN   \n",
              "kisállat                                                                                                                 NaN   \n",
              "kaució_hónapokra                                                                                                         NaN   \n",
              "hall                                                                                                                     NaN   \n",
              "dohányzás                                                                                                                NaN   \n",
              "kaució                                                                                                                   NaN   \n",
              "\n",
              "                                                                                                                                 1  \\\n",
              "building_type                                                                                                                Lakás   \n",
              "common_cost                                                                                                           15 000 Ft/hó   \n",
              "utilities                                                                                                                      NaN   \n",
              "heating_type                                                                                                   Házközp. mérőórával   \n",
              "minimum_rental_time                                                                                                  Legalább 1 év   \n",
              "move_in_date                                                                                                                   NaN   \n",
              "furniture                                                                                                         Üres, gépesített   \n",
              "number_of_rooms                                                                                                                1.0   \n",
              "floor                                                                                                                            7   \n",
              "elavator                                                                                                                       Van   \n",
              "sight                                                                                                          Hegyvidéki panoráma   \n",
              "number_of_balconies                                                                                                            1.0   \n",
              "min._bérlési_idő                                                                                                     Legalább 1 év   \n",
              "diákoknak                                                                                                                     Igen   \n",
              "dishwasher                                                                                                                    Igen   \n",
              "energy_performance_certificate                                                                                           Nem adott   \n",
              "price                                                                                                                      295 000   \n",
              "address                                                                                    Pünkösdfürdő utcaBudapest, III. kerület   \n",
              "rooms_and_sqrt                                                                                                      2 szoba, 47 m2   \n",
              "link                            https://www.alberlet.hu//kiado_alberlet/budapest-III-kerulet-punkosdfurdo-utca-47m2-2-szoba_756171   \n",
              "american_kitchen                                                                                                               Van   \n",
              "neighbourhood                                                                                                                  NaN   \n",
              "gyermekbarát                                                                                                                   NaN   \n",
              "hónapokra_is                                                                                                                   NaN   \n",
              "bérleti_díj_hónapokra                                                                                                          NaN   \n",
              "kisállat                                                                                                                       NaN   \n",
              "kaució_hónapokra                                                                                                               NaN   \n",
              "hall                                                                                                                           NaN   \n",
              "dohányzás                                                                                                                      NaN   \n",
              "kaució                                                                                                                         NaN   \n",
              "\n",
              "                                                                                                                            2  \n",
              "building_type                                                                                                           Lakás  \n",
              "common_cost                                                                                                      19 000 Ft/hó  \n",
              "utilities                                                                                                        30 000 Ft/hó  \n",
              "heating_type                                                                                                            Cirkó  \n",
              "minimum_rental_time                                                                                             Legalább 1 év  \n",
              "move_in_date                                                                                                       2024-12-13  \n",
              "furniture                                                                                             Berendezett, gépesített  \n",
              "number_of_rooms                                                                                                           2.0  \n",
              "floor                                                                                                                       3  \n",
              "elavator                                                                                                                  Van  \n",
              "sight                                                                                                         Udvari, világos  \n",
              "number_of_balconies                                                                                                       NaN  \n",
              "min._bérlési_idő                                                                                                Legalább 1 év  \n",
              "diákoknak                                                                                                                 NaN  \n",
              "dishwasher                                                                                                               Igen  \n",
              "energy_performance_certificate                                                                                      Nem adott  \n",
              "price                                                                                                                 280 000  \n",
              "address                                                                                    Nagymező utcaBudapest, VI. kerület  \n",
              "rooms_and_sqrt                                                                                                 3 szoba, 60 m2  \n",
              "link                            https://www.alberlet.hu//kiado_alberlet/budapest-VI-kerulet-nagymezo-utca-60m2-3-szoba_753763  \n",
              "american_kitchen                                                                                                          Van  \n",
              "neighbourhood                                                                                                      Terézváros  \n",
              "gyermekbarát                                                                                                              NaN  \n",
              "hónapokra_is                                                                                                              NaN  \n",
              "bérleti_díj_hónapokra                                                                                                     NaN  \n",
              "kisállat                                                                                                                  NaN  \n",
              "kaució_hónapokra                                                                                                          NaN  \n",
              "hall                                                                                                                      NaN  \n",
              "dohányzás                                                                                                                 NaN  \n",
              "kaució                                                                                                                    NaN  "
            ],
            "text/html": [
              "\n",
              "  <div id=\"df-3b4fe6d7-1303-44f6-a225-3ef910d91be3\" class=\"colab-df-container\">\n",
              "    <div>\n",
              "<style scoped>\n",
              "    .dataframe tbody tr th:only-of-type {\n",
              "        vertical-align: middle;\n",
              "    }\n",
              "\n",
              "    .dataframe tbody tr th {\n",
              "        vertical-align: top;\n",
              "    }\n",
              "\n",
              "    .dataframe thead th {\n",
              "        text-align: right;\n",
              "    }\n",
              "</style>\n",
              "<table border=\"1\" class=\"dataframe\">\n",
              "  <thead>\n",
              "    <tr style=\"text-align: right;\">\n",
              "      <th></th>\n",
              "      <th>0</th>\n",
              "      <th>1</th>\n",
              "      <th>2</th>\n",
              "    </tr>\n",
              "  </thead>\n",
              "  <tbody>\n",
              "    <tr>\n",
              "      <th>building_type</th>\n",
              "      <td>Lakás</td>\n",
              "      <td>Lakás</td>\n",
              "      <td>Lakás</td>\n",
              "    </tr>\n",
              "    <tr>\n",
              "      <th>common_cost</th>\n",
              "      <td>14 000 Ft/hó</td>\n",
              "      <td>15 000 Ft/hó</td>\n",
              "      <td>19 000 Ft/hó</td>\n",
              "    </tr>\n",
              "    <tr>\n",
              "      <th>utilities</th>\n",
              "      <td>15 000 Ft/hó</td>\n",
              "      <td>NaN</td>\n",
              "      <td>30 000 Ft/hó</td>\n",
              "    </tr>\n",
              "    <tr>\n",
              "      <th>heating_type</th>\n",
              "      <td>Távfűtés</td>\n",
              "      <td>Házközp. mérőórával</td>\n",
              "      <td>Cirkó</td>\n",
              "    </tr>\n",
              "    <tr>\n",
              "      <th>minimum_rental_time</th>\n",
              "      <td>Legalább 1 év</td>\n",
              "      <td>Legalább 1 év</td>\n",
              "      <td>Legalább 1 év</td>\n",
              "    </tr>\n",
              "    <tr>\n",
              "      <th>move_in_date</th>\n",
              "      <td>2024-10-15</td>\n",
              "      <td>NaN</td>\n",
              "      <td>2024-12-13</td>\n",
              "    </tr>\n",
              "    <tr>\n",
              "      <th>furniture</th>\n",
              "      <td>Részben berendezett, gépesített</td>\n",
              "      <td>Üres, gépesített</td>\n",
              "      <td>Berendezett, gépesített</td>\n",
              "    </tr>\n",
              "    <tr>\n",
              "      <th>number_of_rooms</th>\n",
              "      <td>2.0</td>\n",
              "      <td>1.0</td>\n",
              "      <td>2.0</td>\n",
              "    </tr>\n",
              "    <tr>\n",
              "      <th>floor</th>\n",
              "      <td>Több mint 10</td>\n",
              "      <td>7</td>\n",
              "      <td>3</td>\n",
              "    </tr>\n",
              "    <tr>\n",
              "      <th>elavator</th>\n",
              "      <td>Van</td>\n",
              "      <td>Van</td>\n",
              "      <td>Van</td>\n",
              "    </tr>\n",
              "    <tr>\n",
              "      <th>sight</th>\n",
              "      <td>Városi panoráma</td>\n",
              "      <td>Hegyvidéki panoráma</td>\n",
              "      <td>Udvari, világos</td>\n",
              "    </tr>\n",
              "    <tr>\n",
              "      <th>number_of_balconies</th>\n",
              "      <td>1.0</td>\n",
              "      <td>1.0</td>\n",
              "      <td>NaN</td>\n",
              "    </tr>\n",
              "    <tr>\n",
              "      <th>min._bérlési_idő</th>\n",
              "      <td>Legalább 1 év</td>\n",
              "      <td>Legalább 1 év</td>\n",
              "      <td>Legalább 1 év</td>\n",
              "    </tr>\n",
              "    <tr>\n",
              "      <th>diákoknak</th>\n",
              "      <td>Igen</td>\n",
              "      <td>Igen</td>\n",
              "      <td>NaN</td>\n",
              "    </tr>\n",
              "    <tr>\n",
              "      <th>dishwasher</th>\n",
              "      <td>Igen</td>\n",
              "      <td>Igen</td>\n",
              "      <td>Igen</td>\n",
              "    </tr>\n",
              "    <tr>\n",
              "      <th>energy_performance_certificate</th>\n",
              "      <td>Nem adott</td>\n",
              "      <td>Nem adott</td>\n",
              "      <td>Nem adott</td>\n",
              "    </tr>\n",
              "    <tr>\n",
              "      <th>price</th>\n",
              "      <td>240 000</td>\n",
              "      <td>295 000</td>\n",
              "      <td>280 000</td>\n",
              "    </tr>\n",
              "    <tr>\n",
              "      <th>address</th>\n",
              "      <td>Tömő utca Budapest, VIII. kerület</td>\n",
              "      <td>Pünkösdfürdő utcaBudapest, III. kerület</td>\n",
              "      <td>Nagymező utcaBudapest, VI. kerület</td>\n",
              "    </tr>\n",
              "    <tr>\n",
              "      <th>rooms_and_sqrt</th>\n",
              "      <td>2 szoba, 50 m2</td>\n",
              "      <td>2 szoba, 47 m2</td>\n",
              "      <td>3 szoba, 60 m2</td>\n",
              "    </tr>\n",
              "    <tr>\n",
              "      <th>link</th>\n",
              "      <td>https://www.alberlet.hu//kiado_alberlet/budapest-VIII-kerulet-tomo-utca--50m2-2-szoba_752985</td>\n",
              "      <td>https://www.alberlet.hu//kiado_alberlet/budapest-III-kerulet-punkosdfurdo-utca-47m2-2-szoba_756171</td>\n",
              "      <td>https://www.alberlet.hu//kiado_alberlet/budapest-VI-kerulet-nagymezo-utca-60m2-3-szoba_753763</td>\n",
              "    </tr>\n",
              "    <tr>\n",
              "      <th>american_kitchen</th>\n",
              "      <td>NaN</td>\n",
              "      <td>Van</td>\n",
              "      <td>Van</td>\n",
              "    </tr>\n",
              "    <tr>\n",
              "      <th>neighbourhood</th>\n",
              "      <td>NaN</td>\n",
              "      <td>NaN</td>\n",
              "      <td>Terézváros</td>\n",
              "    </tr>\n",
              "    <tr>\n",
              "      <th>gyermekbarát</th>\n",
              "      <td>NaN</td>\n",
              "      <td>NaN</td>\n",
              "      <td>NaN</td>\n",
              "    </tr>\n",
              "    <tr>\n",
              "      <th>hónapokra_is</th>\n",
              "      <td>NaN</td>\n",
              "      <td>NaN</td>\n",
              "      <td>NaN</td>\n",
              "    </tr>\n",
              "    <tr>\n",
              "      <th>bérleti_díj_hónapokra</th>\n",
              "      <td>NaN</td>\n",
              "      <td>NaN</td>\n",
              "      <td>NaN</td>\n",
              "    </tr>\n",
              "    <tr>\n",
              "      <th>kisállat</th>\n",
              "      <td>NaN</td>\n",
              "      <td>NaN</td>\n",
              "      <td>NaN</td>\n",
              "    </tr>\n",
              "    <tr>\n",
              "      <th>kaució_hónapokra</th>\n",
              "      <td>NaN</td>\n",
              "      <td>NaN</td>\n",
              "      <td>NaN</td>\n",
              "    </tr>\n",
              "    <tr>\n",
              "      <th>hall</th>\n",
              "      <td>NaN</td>\n",
              "      <td>NaN</td>\n",
              "      <td>NaN</td>\n",
              "    </tr>\n",
              "    <tr>\n",
              "      <th>dohányzás</th>\n",
              "      <td>NaN</td>\n",
              "      <td>NaN</td>\n",
              "      <td>NaN</td>\n",
              "    </tr>\n",
              "    <tr>\n",
              "      <th>kaució</th>\n",
              "      <td>NaN</td>\n",
              "      <td>NaN</td>\n",
              "      <td>NaN</td>\n",
              "    </tr>\n",
              "  </tbody>\n",
              "</table>\n",
              "</div>\n",
              "    <div class=\"colab-df-buttons\">\n",
              "\n",
              "  <div class=\"colab-df-container\">\n",
              "    <button class=\"colab-df-convert\" onclick=\"convertToInteractive('df-3b4fe6d7-1303-44f6-a225-3ef910d91be3')\"\n",
              "            title=\"Convert this dataframe to an interactive table.\"\n",
              "            style=\"display:none;\">\n",
              "\n",
              "  <svg xmlns=\"http://www.w3.org/2000/svg\" height=\"24px\" viewBox=\"0 -960 960 960\">\n",
              "    <path d=\"M120-120v-720h720v720H120Zm60-500h600v-160H180v160Zm220 220h160v-160H400v160Zm0 220h160v-160H400v160ZM180-400h160v-160H180v160Zm440 0h160v-160H620v160ZM180-180h160v-160H180v160Zm440 0h160v-160H620v160Z\"/>\n",
              "  </svg>\n",
              "    </button>\n",
              "\n",
              "  <style>\n",
              "    .colab-df-container {\n",
              "      display:flex;\n",
              "      gap: 12px;\n",
              "    }\n",
              "\n",
              "    .colab-df-convert {\n",
              "      background-color: #E8F0FE;\n",
              "      border: none;\n",
              "      border-radius: 50%;\n",
              "      cursor: pointer;\n",
              "      display: none;\n",
              "      fill: #1967D2;\n",
              "      height: 32px;\n",
              "      padding: 0 0 0 0;\n",
              "      width: 32px;\n",
              "    }\n",
              "\n",
              "    .colab-df-convert:hover {\n",
              "      background-color: #E2EBFA;\n",
              "      box-shadow: 0px 1px 2px rgba(60, 64, 67, 0.3), 0px 1px 3px 1px rgba(60, 64, 67, 0.15);\n",
              "      fill: #174EA6;\n",
              "    }\n",
              "\n",
              "    .colab-df-buttons div {\n",
              "      margin-bottom: 4px;\n",
              "    }\n",
              "\n",
              "    [theme=dark] .colab-df-convert {\n",
              "      background-color: #3B4455;\n",
              "      fill: #D2E3FC;\n",
              "    }\n",
              "\n",
              "    [theme=dark] .colab-df-convert:hover {\n",
              "      background-color: #434B5C;\n",
              "      box-shadow: 0px 1px 3px 1px rgba(0, 0, 0, 0.15);\n",
              "      filter: drop-shadow(0px 1px 2px rgba(0, 0, 0, 0.3));\n",
              "      fill: #FFFFFF;\n",
              "    }\n",
              "  </style>\n",
              "\n",
              "    <script>\n",
              "      const buttonEl =\n",
              "        document.querySelector('#df-3b4fe6d7-1303-44f6-a225-3ef910d91be3 button.colab-df-convert');\n",
              "      buttonEl.style.display =\n",
              "        google.colab.kernel.accessAllowed ? 'block' : 'none';\n",
              "\n",
              "      async function convertToInteractive(key) {\n",
              "        const element = document.querySelector('#df-3b4fe6d7-1303-44f6-a225-3ef910d91be3');\n",
              "        const dataTable =\n",
              "          await google.colab.kernel.invokeFunction('convertToInteractive',\n",
              "                                                    [key], {});\n",
              "        if (!dataTable) return;\n",
              "\n",
              "        const docLinkHtml = 'Like what you see? Visit the ' +\n",
              "          '<a target=\"_blank\" href=https://colab.research.google.com/notebooks/data_table.ipynb>data table notebook</a>'\n",
              "          + ' to learn more about interactive tables.';\n",
              "        element.innerHTML = '';\n",
              "        dataTable['output_type'] = 'display_data';\n",
              "        await google.colab.output.renderOutput(dataTable, element);\n",
              "        const docLink = document.createElement('div');\n",
              "        docLink.innerHTML = docLinkHtml;\n",
              "        element.appendChild(docLink);\n",
              "      }\n",
              "    </script>\n",
              "  </div>\n",
              "\n",
              "\n",
              "<div id=\"df-d8aca5a5-aeeb-42fb-b43d-adb7fed53771\">\n",
              "  <button class=\"colab-df-quickchart\" onclick=\"quickchart('df-d8aca5a5-aeeb-42fb-b43d-adb7fed53771')\"\n",
              "            title=\"Suggest charts\"\n",
              "            style=\"display:none;\">\n",
              "\n",
              "<svg xmlns=\"http://www.w3.org/2000/svg\" height=\"24px\"viewBox=\"0 0 24 24\"\n",
              "     width=\"24px\">\n",
              "    <g>\n",
              "        <path d=\"M19 3H5c-1.1 0-2 .9-2 2v14c0 1.1.9 2 2 2h14c1.1 0 2-.9 2-2V5c0-1.1-.9-2-2-2zM9 17H7v-7h2v7zm4 0h-2V7h2v10zm4 0h-2v-4h2v4z\"/>\n",
              "    </g>\n",
              "</svg>\n",
              "  </button>\n",
              "\n",
              "<style>\n",
              "  .colab-df-quickchart {\n",
              "      --bg-color: #E8F0FE;\n",
              "      --fill-color: #1967D2;\n",
              "      --hover-bg-color: #E2EBFA;\n",
              "      --hover-fill-color: #174EA6;\n",
              "      --disabled-fill-color: #AAA;\n",
              "      --disabled-bg-color: #DDD;\n",
              "  }\n",
              "\n",
              "  [theme=dark] .colab-df-quickchart {\n",
              "      --bg-color: #3B4455;\n",
              "      --fill-color: #D2E3FC;\n",
              "      --hover-bg-color: #434B5C;\n",
              "      --hover-fill-color: #FFFFFF;\n",
              "      --disabled-bg-color: #3B4455;\n",
              "      --disabled-fill-color: #666;\n",
              "  }\n",
              "\n",
              "  .colab-df-quickchart {\n",
              "    background-color: var(--bg-color);\n",
              "    border: none;\n",
              "    border-radius: 50%;\n",
              "    cursor: pointer;\n",
              "    display: none;\n",
              "    fill: var(--fill-color);\n",
              "    height: 32px;\n",
              "    padding: 0;\n",
              "    width: 32px;\n",
              "  }\n",
              "\n",
              "  .colab-df-quickchart:hover {\n",
              "    background-color: var(--hover-bg-color);\n",
              "    box-shadow: 0 1px 2px rgba(60, 64, 67, 0.3), 0 1px 3px 1px rgba(60, 64, 67, 0.15);\n",
              "    fill: var(--button-hover-fill-color);\n",
              "  }\n",
              "\n",
              "  .colab-df-quickchart-complete:disabled,\n",
              "  .colab-df-quickchart-complete:disabled:hover {\n",
              "    background-color: var(--disabled-bg-color);\n",
              "    fill: var(--disabled-fill-color);\n",
              "    box-shadow: none;\n",
              "  }\n",
              "\n",
              "  .colab-df-spinner {\n",
              "    border: 2px solid var(--fill-color);\n",
              "    border-color: transparent;\n",
              "    border-bottom-color: var(--fill-color);\n",
              "    animation:\n",
              "      spin 1s steps(1) infinite;\n",
              "  }\n",
              "\n",
              "  @keyframes spin {\n",
              "    0% {\n",
              "      border-color: transparent;\n",
              "      border-bottom-color: var(--fill-color);\n",
              "      border-left-color: var(--fill-color);\n",
              "    }\n",
              "    20% {\n",
              "      border-color: transparent;\n",
              "      border-left-color: var(--fill-color);\n",
              "      border-top-color: var(--fill-color);\n",
              "    }\n",
              "    30% {\n",
              "      border-color: transparent;\n",
              "      border-left-color: var(--fill-color);\n",
              "      border-top-color: var(--fill-color);\n",
              "      border-right-color: var(--fill-color);\n",
              "    }\n",
              "    40% {\n",
              "      border-color: transparent;\n",
              "      border-right-color: var(--fill-color);\n",
              "      border-top-color: var(--fill-color);\n",
              "    }\n",
              "    60% {\n",
              "      border-color: transparent;\n",
              "      border-right-color: var(--fill-color);\n",
              "    }\n",
              "    80% {\n",
              "      border-color: transparent;\n",
              "      border-right-color: var(--fill-color);\n",
              "      border-bottom-color: var(--fill-color);\n",
              "    }\n",
              "    90% {\n",
              "      border-color: transparent;\n",
              "      border-bottom-color: var(--fill-color);\n",
              "    }\n",
              "  }\n",
              "</style>\n",
              "\n",
              "  <script>\n",
              "    async function quickchart(key) {\n",
              "      const quickchartButtonEl =\n",
              "        document.querySelector('#' + key + ' button');\n",
              "      quickchartButtonEl.disabled = true;  // To prevent multiple clicks.\n",
              "      quickchartButtonEl.classList.add('colab-df-spinner');\n",
              "      try {\n",
              "        const charts = await google.colab.kernel.invokeFunction(\n",
              "            'suggestCharts', [key], {});\n",
              "      } catch (error) {\n",
              "        console.error('Error during call to suggestCharts:', error);\n",
              "      }\n",
              "      quickchartButtonEl.classList.remove('colab-df-spinner');\n",
              "      quickchartButtonEl.classList.add('colab-df-quickchart-complete');\n",
              "    }\n",
              "    (() => {\n",
              "      let quickchartButtonEl =\n",
              "        document.querySelector('#df-d8aca5a5-aeeb-42fb-b43d-adb7fed53771 button');\n",
              "      quickchartButtonEl.style.display =\n",
              "        google.colab.kernel.accessAllowed ? 'block' : 'none';\n",
              "    })();\n",
              "  </script>\n",
              "</div>\n",
              "\n",
              "    </div>\n",
              "  </div>\n"
            ],
            "application/vnd.google.colaboratory.intrinsic+json": {
              "type": "dataframe",
              "variable_name": "clean"
            }
          },
          "metadata": {},
          "execution_count": 196
        }
      ]
    },
    {
      "cell_type": "markdown",
      "source": [
        "**Price**"
      ],
      "metadata": {
        "id": "u3ZSBKpIF0GM"
      }
    },
    {
      "cell_type": "code",
      "source": [
        "clean.price[0]"
      ],
      "metadata": {
        "colab": {
          "base_uri": "https://localhost:8080/",
          "height": 35
        },
        "id": "dg2syaAkBBhG",
        "outputId": "78f2758b-67b3-4ee8-ab32-264ff6d01293"
      },
      "execution_count": 199,
      "outputs": [
        {
          "output_type": "execute_result",
          "data": {
            "text/plain": [
              "'240 000'"
            ],
            "application/vnd.google.colaboratory.intrinsic+json": {
              "type": "string"
            }
          },
          "metadata": {},
          "execution_count": 199
        }
      ]
    },
    {
      "cell_type": "code",
      "source": [
        "clean['price'] = clean['price'].str.replace(r'\\s+', '', regex=True)\n",
        "clean['price'] = pd.to_numeric(clean['price'], errors='coerce')"
      ],
      "metadata": {
        "id": "3T_S7UKLBQqh"
      },
      "execution_count": 202,
      "outputs": []
    },
    {
      "cell_type": "code",
      "source": [
        "from plotnine import ggplot, aes, geom_histogram, labs, theme_minimal, theme\n",
        "\n",
        "plot = (\n",
        "    ggplot(clean, aes(x='price')) +\n",
        "    geom_histogram(binwidth=100000, fill='steelblue') +\n",
        "    labs(title='Distribution of Prices', x='Price', y='Frequency') +\n",
        "    theme_minimal() +\n",
        "    theme(figure_size=(8, 5))\n",
        ")\n",
        "\n",
        "display(plot)"
      ],
      "metadata": {
        "colab": {
          "base_uri": "https://localhost:8080/",
          "height": 586
        },
        "id": "x6Z5TrwJ-VvP",
        "outputId": "456a9c3f-7b0c-4c86-b611-83c467dfe9cd"
      },
      "execution_count": 206,
      "outputs": [
        {
          "output_type": "stream",
          "name": "stderr",
          "text": [
            "/usr/local/lib/python3.10/dist-packages/plotnine/layer.py:284: PlotnineWarning:\n",
            "\n",
            "stat_bin : Removed 7 rows containing non-finite values.\n",
            "\n"
          ]
        },
        {
          "output_type": "display_data",
          "data": {
            "image/png": "[encoded data removed]"
          },
          "metadata": {
            "image/png": {
              "width": 800,
              "height": 500
            }
          }
        }
      ]
    },
    {
      "cell_type": "code",
      "source": [
        "clean.price.describe().apply(lambda x: f\"{x:,.0f}\")"
      ],
      "metadata": {
        "colab": {
          "base_uri": "https://localhost:8080/",
          "height": 335
        },
        "id": "qPEizsmrACgz",
        "outputId": "756e4a62-0770-4c6d-ec47-cb36e8f7e3cf"
      },
      "execution_count": 204,
      "outputs": [
        {
          "output_type": "execute_result",
          "data": {
            "text/plain": [
              "count        1,380\n",
              "mean       374,370\n",
              "std        257,849\n",
              "min              0\n",
              "25%        230,000\n",
              "50%        290,000\n",
              "75%        430,000\n",
              "max      3,649,000\n",
              "Name: price, dtype: object"
            ],
            "text/html": [
              "<div>\n",
              "<style scoped>\n",
              "    .dataframe tbody tr th:only-of-type {\n",
              "        vertical-align: middle;\n",
              "    }\n",
              "\n",
              "    .dataframe tbody tr th {\n",
              "        vertical-align: top;\n",
              "    }\n",
              "\n",
              "    .dataframe thead th {\n",
              "        text-align: right;\n",
              "    }\n",
              "</style>\n",
              "<table border=\"1\" class=\"dataframe\">\n",
              "  <thead>\n",
              "    <tr style=\"text-align: right;\">\n",
              "      <th></th>\n",
              "      <th>price</th>\n",
              "    </tr>\n",
              "  </thead>\n",
              "  <tbody>\n",
              "    <tr>\n",
              "      <th>count</th>\n",
              "      <td>1,380</td>\n",
              "    </tr>\n",
              "    <tr>\n",
              "      <th>mean</th>\n",
              "      <td>374,370</td>\n",
              "    </tr>\n",
              "    <tr>\n",
              "      <th>std</th>\n",
              "      <td>257,849</td>\n",
              "    </tr>\n",
              "    <tr>\n",
              "      <th>min</th>\n",
              "      <td>0</td>\n",
              "    </tr>\n",
              "    <tr>\n",
              "      <th>25%</th>\n",
              "      <td>230,000</td>\n",
              "    </tr>\n",
              "    <tr>\n",
              "      <th>50%</th>\n",
              "      <td>290,000</td>\n",
              "    </tr>\n",
              "    <tr>\n",
              "      <th>75%</th>\n",
              "      <td>430,000</td>\n",
              "    </tr>\n",
              "    <tr>\n",
              "      <th>max</th>\n",
              "      <td>3,649,000</td>\n",
              "    </tr>\n",
              "  </tbody>\n",
              "</table>\n",
              "</div><br><label><b>dtype:</b> object</label>"
            ]
          },
          "metadata": {},
          "execution_count": 204
        }
      ]
    },
    {
      "cell_type": "code",
      "source": [
        "pd.set_option('display.max_colwidth', None)\n",
        "clean.loc[clean['price'] < 25000, 'link']"
      ],
      "metadata": {
        "colab": {
          "base_uri": "https://localhost:8080/",
          "height": 210
        },
        "id": "F-lpcA1nrIhS",
        "outputId": "4040d300-4cbc-41ec-e870-ea28ae619d76"
      },
      "execution_count": 207,
      "outputs": [
        {
          "output_type": "execute_result",
          "data": {
            "text/plain": [
              "691                 https://www.alberlet.hu//kiado_alberlet/budapest-XX-kerulet-pozsony--54m2-2-szoba_754445\n",
              "780     https://www.alberlet.hu//kiado_alberlet/budapest-XXIII-kerulet-szent-laszlo-utca-50m2-2-szoba_753967\n",
              "1077                           https://www.alberlet.hu//kiado_alberlet/budapest--kerulet---m2-1-szoba_747248\n",
              "1384       https://www.alberlet.hu//kiado_alberlet/budapest-VIII-kerulet-biro-lajos-utca-63m2-2-szoba_225147\n",
              "Name: link, dtype: object"
            ],
            "text/html": [
              "<div>\n",
              "<style scoped>\n",
              "    .dataframe tbody tr th:only-of-type {\n",
              "        vertical-align: middle;\n",
              "    }\n",
              "\n",
              "    .dataframe tbody tr th {\n",
              "        vertical-align: top;\n",
              "    }\n",
              "\n",
              "    .dataframe thead th {\n",
              "        text-align: right;\n",
              "    }\n",
              "</style>\n",
              "<table border=\"1\" class=\"dataframe\">\n",
              "  <thead>\n",
              "    <tr style=\"text-align: right;\">\n",
              "      <th></th>\n",
              "      <th>link</th>\n",
              "    </tr>\n",
              "  </thead>\n",
              "  <tbody>\n",
              "    <tr>\n",
              "      <th>691</th>\n",
              "      <td>https://www.alberlet.hu//kiado_alberlet/budapest-XX-kerulet-pozsony--54m2-2-szoba_754445</td>\n",
              "    </tr>\n",
              "    <tr>\n",
              "      <th>780</th>\n",
              "      <td>https://www.alberlet.hu//kiado_alberlet/budapest-XXIII-kerulet-szent-laszlo-utca-50m2-2-szoba_753967</td>\n",
              "    </tr>\n",
              "    <tr>\n",
              "      <th>1077</th>\n",
              "      <td>https://www.alberlet.hu//kiado_alberlet/budapest--kerulet---m2-1-szoba_747248</td>\n",
              "    </tr>\n",
              "    <tr>\n",
              "      <th>1384</th>\n",
              "      <td>https://www.alberlet.hu//kiado_alberlet/budapest-VIII-kerulet-biro-lajos-utca-63m2-2-szoba_225147</td>\n",
              "    </tr>\n",
              "  </tbody>\n",
              "</table>\n",
              "</div><br><label><b>dtype:</b> object</label>"
            ]
          },
          "metadata": {},
          "execution_count": 207
        }
      ]
    },
    {
      "cell_type": "code",
      "source": [
        "clean = clean[clean['price'] > 1000]"
      ],
      "metadata": {
        "id": "g8wrBDi_AvvM"
      },
      "execution_count": 208,
      "outputs": []
    },
    {
      "cell_type": "markdown",
      "source": [
        "I looked up the observation that costs 21 000 and in the description it says it is 210 000 so I overwrite this value."
      ],
      "metadata": {
        "id": "SpmhtCCKpyIY"
      }
    },
    {
      "cell_type": "code",
      "source": [
        "clean['price'] = clean['price'].replace(21000, 210000)"
      ],
      "metadata": {
        "colab": {
          "base_uri": "https://localhost:8080/"
        },
        "id": "hUqKFNHupxt6",
        "outputId": "5a7d2a89-7116-4c10-de3c-170d99209539"
      },
      "execution_count": 209,
      "outputs": [
        {
          "output_type": "stream",
          "name": "stderr",
          "text": [
            "<ipython-input-209-17e884bef001>:1: SettingWithCopyWarning:\n",
            "\n",
            "\n",
            "A value is trying to be set on a copy of a slice from a DataFrame.\n",
            "Try using .loc[row_indexer,col_indexer] = value instead\n",
            "\n",
            "See the caveats in the documentation: https://pandas.pydata.org/pandas-docs/stable/user_guide/indexing.html#returning-a-view-versus-a-copy\n",
            "\n"
          ]
        }
      ]
    },
    {
      "cell_type": "code",
      "source": [
        "clean.price.describe().apply(lambda x: f\"{x:,.0f}\")"
      ],
      "metadata": {
        "colab": {
          "base_uri": "https://localhost:8080/",
          "height": 335
        },
        "id": "dSGtVyM-qIgL",
        "outputId": "02d4e0d2-47b9-4c04-99e1-b3d9f5315622"
      },
      "execution_count": 210,
      "outputs": [
        {
          "output_type": "execute_result",
          "data": {
            "text/plain": [
              "count        1,377\n",
              "mean       375,322\n",
              "std        257,399\n",
              "min         80,000\n",
              "25%        230,000\n",
              "50%        290,000\n",
              "75%        430,000\n",
              "max      3,649,000\n",
              "Name: price, dtype: object"
            ],
            "text/html": [
              "<div>\n",
              "<style scoped>\n",
              "    .dataframe tbody tr th:only-of-type {\n",
              "        vertical-align: middle;\n",
              "    }\n",
              "\n",
              "    .dataframe tbody tr th {\n",
              "        vertical-align: top;\n",
              "    }\n",
              "\n",
              "    .dataframe thead th {\n",
              "        text-align: right;\n",
              "    }\n",
              "</style>\n",
              "<table border=\"1\" class=\"dataframe\">\n",
              "  <thead>\n",
              "    <tr style=\"text-align: right;\">\n",
              "      <th></th>\n",
              "      <th>price</th>\n",
              "    </tr>\n",
              "  </thead>\n",
              "  <tbody>\n",
              "    <tr>\n",
              "      <th>count</th>\n",
              "      <td>1,377</td>\n",
              "    </tr>\n",
              "    <tr>\n",
              "      <th>mean</th>\n",
              "      <td>375,322</td>\n",
              "    </tr>\n",
              "    <tr>\n",
              "      <th>std</th>\n",
              "      <td>257,399</td>\n",
              "    </tr>\n",
              "    <tr>\n",
              "      <th>min</th>\n",
              "      <td>80,000</td>\n",
              "    </tr>\n",
              "    <tr>\n",
              "      <th>25%</th>\n",
              "      <td>230,000</td>\n",
              "    </tr>\n",
              "    <tr>\n",
              "      <th>50%</th>\n",
              "      <td>290,000</td>\n",
              "    </tr>\n",
              "    <tr>\n",
              "      <th>75%</th>\n",
              "      <td>430,000</td>\n",
              "    </tr>\n",
              "    <tr>\n",
              "      <th>max</th>\n",
              "      <td>3,649,000</td>\n",
              "    </tr>\n",
              "  </tbody>\n",
              "</table>\n",
              "</div><br><label><b>dtype:</b> object</label>"
            ]
          },
          "metadata": {},
          "execution_count": 210
        }
      ]
    },
    {
      "cell_type": "markdown",
      "source": [
        "**Address**"
      ],
      "metadata": {
        "id": "JLcI9_pqF5Kl"
      }
    },
    {
      "cell_type": "markdown",
      "source": [
        "Cleaning the address variable, splitting it into variable one containing only the district and one containing only the street"
      ],
      "metadata": {
        "id": "3W2OxZPE7kyg"
      }
    },
    {
      "cell_type": "code",
      "source": [
        "clean[['valami', 'district']] = clean['address'].str.split(',', expand=True)\n",
        "clean[['street', 'valami2']] = clean['valami'].str.split('Budapest', expand=True)\n",
        "clean.drop(columns=['valami', 'valami2', 'address'], inplace=True)"
      ],
      "metadata": {
        "id": "pW0UF4Jrw8yI",
        "colab": {
          "base_uri": "https://localhost:8080/"
        },
        "outputId": "16ae5973-a04f-47ce-96eb-ace057c5ca84",
        "collapsed": true
      },
      "execution_count": 211,
      "outputs": [
        {
          "output_type": "stream",
          "name": "stderr",
          "text": [
            "<ipython-input-211-78d1bd1276d1>:1: SettingWithCopyWarning:\n",
            "\n",
            "\n",
            "A value is trying to be set on a copy of a slice from a DataFrame.\n",
            "Try using .loc[row_indexer,col_indexer] = value instead\n",
            "\n",
            "See the caveats in the documentation: https://pandas.pydata.org/pandas-docs/stable/user_guide/indexing.html#returning-a-view-versus-a-copy\n",
            "\n",
            "<ipython-input-211-78d1bd1276d1>:1: SettingWithCopyWarning:\n",
            "\n",
            "\n",
            "A value is trying to be set on a copy of a slice from a DataFrame.\n",
            "Try using .loc[row_indexer,col_indexer] = value instead\n",
            "\n",
            "See the caveats in the documentation: https://pandas.pydata.org/pandas-docs/stable/user_guide/indexing.html#returning-a-view-versus-a-copy\n",
            "\n",
            "<ipython-input-211-78d1bd1276d1>:2: SettingWithCopyWarning:\n",
            "\n",
            "\n",
            "A value is trying to be set on a copy of a slice from a DataFrame.\n",
            "Try using .loc[row_indexer,col_indexer] = value instead\n",
            "\n",
            "See the caveats in the documentation: https://pandas.pydata.org/pandas-docs/stable/user_guide/indexing.html#returning-a-view-versus-a-copy\n",
            "\n",
            "<ipython-input-211-78d1bd1276d1>:2: SettingWithCopyWarning:\n",
            "\n",
            "\n",
            "A value is trying to be set on a copy of a slice from a DataFrame.\n",
            "Try using .loc[row_indexer,col_indexer] = value instead\n",
            "\n",
            "See the caveats in the documentation: https://pandas.pydata.org/pandas-docs/stable/user_guide/indexing.html#returning-a-view-versus-a-copy\n",
            "\n",
            "<ipython-input-211-78d1bd1276d1>:3: SettingWithCopyWarning:\n",
            "\n",
            "\n",
            "A value is trying to be set on a copy of a slice from a DataFrame\n",
            "\n",
            "See the caveats in the documentation: https://pandas.pydata.org/pandas-docs/stable/user_guide/indexing.html#returning-a-view-versus-a-copy\n",
            "\n"
          ]
        }
      ]
    },
    {
      "cell_type": "code",
      "source": [
        "district_counts = clean['district'].value_counts().reset_index()\n",
        "district_counts.columns = ['district', 'count']"
      ],
      "metadata": {
        "id": "7YlU5LhtE1MT"
      },
      "execution_count": 212,
      "outputs": []
    },
    {
      "cell_type": "code",
      "source": [
        "import plotly.express as px\n",
        "fig2 = px.bar(district_counts, x = 'count', y = 'district',\n",
        "              title = 'Number of listings per district',\n",
        "              template = 'simple_white',\n",
        "              text_auto = True\n",
        "              )\n",
        "\n",
        "fig2.update_layout( xaxis_title = None, yaxis_title = None,\n",
        "                   title_x = 0.5, yaxis_categoryorder = 'total ascending')\n",
        "\n",
        "fig2.update_traces( textposition = 'outside')\n",
        "\n",
        "fig2.update_xaxes(visible = False)"
      ],
      "metadata": {
        "colab": {
          "base_uri": "https://localhost:8080/",
          "height": 542
        },
        "id": "R3VsQ-9fBoRf",
        "outputId": "616c3a9e-02c3-496f-81af-392485383b9c"
      },
      "execution_count": 213,
      "outputs": [
        {
          "output_type": "display_data",
          "data": {
            "text/html": [
              "<html>\n",
              "<head><meta charset=\"utf-8\" /></head>\n",
              "<body>\n",
              "    <div>            <script src=\"https://cdnjs.cloudflare.com/ajax/libs/mathjax/2.7.5/MathJax.js?config=TeX-AMS-MML_SVG\"></script><script type=\"text/javascript\">if (window.MathJax && window.MathJax.Hub && window.MathJax.Hub.Config) {window.MathJax.Hub.Config({SVG: {font: \"STIX-Web\"}});}</script>                <script type=\"text/javascript\">window.PlotlyConfig = {MathJaxConfig: 'local'};</script>\n",
              "        <script charset=\"utf-8\" src=\"https://cdn.plot.ly/plotly-2.35.2.min.js\"></script>                <div id=\"305cffed-f3cd-4835-876e-7bdcba55852d\" class=\"plotly-graph-div\" style=\"height:525px; width:100%;\"></div>            <script type=\"text/javascript\">                                    window.PLOTLYENV=window.PLOTLYENV || {};                                    if (document.getElementById(\"305cffed-f3cd-4835-876e-7bdcba55852d\")) {                    Plotly.newPlot(                        \"305cffed-f3cd-4835-876e-7bdcba55852d\",                        [{\"alignmentgroup\":\"True\",\"hovertemplate\":\"count=%{x}\\u003cbr\\u003edistrict=%{y}\\u003cextra\\u003e\\u003c\\u002fextra\\u003e\",\"legendgroup\":\"\",\"marker\":{\"color\":\"#1F77B4\",\"pattern\":{\"shape\":\"\"}},\"name\":\"\",\"offsetgroup\":\"\",\"orientation\":\"h\",\"showlegend\":false,\"textposition\":\"outside\",\"texttemplate\":\"%{x}\",\"x\":[228,145,140,130,129,92,87,84,67,61,58,51,21,20,11,11,9,9,5,5,5,4,3,2],\"xaxis\":\"x\",\"y\":[\" XIII. kerület\",\" V. kerület\",\" VI. kerület\",\" XI. kerület\",\" II. kerület\",\" VIII. kerület\",\" IX. kerület\",\" VII. kerület\",\" III. kerület\",\" XIV. kerület\",\" XII. kerület\",\" I. kerület\",\" IV. kerület\",\" XVI. kerület\",\" XX. kerület\",\" X. kerület\",\" XV. kerület\",\" XIX. kerület\",\" XVIII. kerület\",\" . kerület\",\" XXI. kerület\",\" XXII. kerület\",\" XVII. kerület\",\" XXIII. kerület\"],\"yaxis\":\"y\",\"type\":\"bar\"}],                        {\"template\":{\"data\":{\"barpolar\":[{\"marker\":{\"line\":{\"color\":\"white\",\"width\":0.5},\"pattern\":{\"fillmode\":\"overlay\",\"size\":10,\"solidity\":0.2}},\"type\":\"barpolar\"}],\"bar\":[{\"error_x\":{\"color\":\"rgb(36,36,36)\"},\"error_y\":{\"color\":\"rgb(36,36,36)\"},\"marker\":{\"line\":{\"color\":\"white\",\"width\":0.5},\"pattern\":{\"fillmode\":\"overlay\",\"size\":10,\"solidity\":0.2}},\"type\":\"bar\"}],\"carpet\":[{\"aaxis\":{\"endlinecolor\":\"rgb(36,36,36)\",\"gridcolor\":\"white\",\"linecolor\":\"white\",\"minorgridcolor\":\"white\",\"startlinecolor\":\"rgb(36,36,36)\"},\"baxis\":{\"endlinecolor\":\"rgb(36,36,36)\",\"gridcolor\":\"white\",\"linecolor\":\"white\",\"minorgridcolor\":\"white\",\"startlinecolor\":\"rgb(36,36,36)\"},\"type\":\"carpet\"}],\"choropleth\":[{\"colorbar\":{\"outlinewidth\":1,\"tickcolor\":\"rgb(36,36,36)\",\"ticks\":\"outside\"},\"type\":\"choropleth\"}],\"contourcarpet\":[{\"colorbar\":{\"outlinewidth\":1,\"tickcolor\":\"rgb(36,36,36)\",\"ticks\":\"outside\"},\"type\":\"contourcarpet\"}],\"contour\":[{\"colorbar\":{\"outlinewidth\":1,\"tickcolor\":\"rgb(36,36,36)\",\"ticks\":\"outside\"},\"colorscale\":[[0.0,\"#440154\"],[0.1111111111111111,\"#482878\"],[0.2222222222222222,\"#3e4989\"],[0.3333333333333333,\"#31688e\"],[0.4444444444444444,\"#26828e\"],[0.5555555555555556,\"#1f9e89\"],[0.6666666666666666,\"#35b779\"],[0.7777777777777778,\"#6ece58\"],[0.8888888888888888,\"#b5de2b\"],[1.0,\"#fde725\"]],\"type\":\"contour\"}],\"heatmapgl\":[{\"colorbar\":{\"outlinewidth\":1,\"tickcolor\":\"rgb(36,36,36)\",\"ticks\":\"outside\"},\"colorscale\":[[0.0,\"#440154\"],[0.1111111111111111,\"#482878\"],[0.2222222222222222,\"#3e4989\"],[0.3333333333333333,\"#31688e\"],[0.4444444444444444,\"#26828e\"],[0.5555555555555556,\"#1f9e89\"],[0.6666666666666666,\"#35b779\"],[0.7777777777777778,\"#6ece58\"],[0.8888888888888888,\"#b5de2b\"],[1.0,\"#fde725\"]],\"type\":\"heatmapgl\"}],\"heatmap\":[{\"colorbar\":{\"outlinewidth\":1,\"tickcolor\":\"rgb(36,36,36)\",\"ticks\":\"outside\"},\"colorscale\":[[0.0,\"#440154\"],[0.1111111111111111,\"#482878\"],[0.2222222222222222,\"#3e4989\"],[0.3333333333333333,\"#31688e\"],[0.4444444444444444,\"#26828e\"],[0.5555555555555556,\"#1f9e89\"],[0.6666666666666666,\"#35b779\"],[0.7777777777777778,\"#6ece58\"],[0.8888888888888888,\"#b5de2b\"],[1.0,\"#fde725\"]],\"type\":\"heatmap\"}],\"histogram2dcontour\":[{\"colorbar\":{\"outlinewidth\":1,\"tickcolor\":\"rgb(36,36,36)\",\"ticks\":\"outside\"},\"colorscale\":[[0.0,\"#440154\"],[0.1111111111111111,\"#482878\"],[0.2222222222222222,\"#3e4989\"],[0.3333333333333333,\"#31688e\"],[0.4444444444444444,\"#26828e\"],[0.5555555555555556,\"#1f9e89\"],[0.6666666666666666,\"#35b779\"],[0.7777777777777778,\"#6ece58\"],[0.8888888888888888,\"#b5de2b\"],[1.0,\"#fde725\"]],\"type\":\"histogram2dcontour\"}],\"histogram2d\":[{\"colorbar\":{\"outlinewidth\":1,\"tickcolor\":\"rgb(36,36,36)\",\"ticks\":\"outside\"},\"colorscale\":[[0.0,\"#440154\"],[0.1111111111111111,\"#482878\"],[0.2222222222222222,\"#3e4989\"],[0.3333333333333333,\"#31688e\"],[0.4444444444444444,\"#26828e\"],[0.5555555555555556,\"#1f9e89\"],[0.6666666666666666,\"#35b779\"],[0.7777777777777778,\"#6ece58\"],[0.8888888888888888,\"#b5de2b\"],[1.0,\"#fde725\"]],\"type\":\"histogram2d\"}],\"histogram\":[{\"marker\":{\"line\":{\"color\":\"white\",\"width\":0.6}},\"type\":\"histogram\"}],\"mesh3d\":[{\"colorbar\":{\"outlinewidth\":1,\"tickcolor\":\"rgb(36,36,36)\",\"ticks\":\"outside\"},\"type\":\"mesh3d\"}],\"parcoords\":[{\"line\":{\"colorbar\":{\"outlinewidth\":1,\"tickcolor\":\"rgb(36,36,36)\",\"ticks\":\"outside\"}},\"type\":\"parcoords\"}],\"pie\":[{\"automargin\":true,\"type\":\"pie\"}],\"scatter3d\":[{\"line\":{\"colorbar\":{\"outlinewidth\":1,\"tickcolor\":\"rgb(36,36,36)\",\"ticks\":\"outside\"}},\"marker\":{\"colorbar\":{\"outlinewidth\":1,\"tickcolor\":\"rgb(36,36,36)\",\"ticks\":\"outside\"}},\"type\":\"scatter3d\"}],\"scattercarpet\":[{\"marker\":{\"colorbar\":{\"outlinewidth\":1,\"tickcolor\":\"rgb(36,36,36)\",\"ticks\":\"outside\"}},\"type\":\"scattercarpet\"}],\"scattergeo\":[{\"marker\":{\"colorbar\":{\"outlinewidth\":1,\"tickcolor\":\"rgb(36,36,36)\",\"ticks\":\"outside\"}},\"type\":\"scattergeo\"}],\"scattergl\":[{\"marker\":{\"colorbar\":{\"outlinewidth\":1,\"tickcolor\":\"rgb(36,36,36)\",\"ticks\":\"outside\"}},\"type\":\"scattergl\"}],\"scattermapbox\":[{\"marker\":{\"colorbar\":{\"outlinewidth\":1,\"tickcolor\":\"rgb(36,36,36)\",\"ticks\":\"outside\"}},\"type\":\"scattermapbox\"}],\"scatterpolargl\":[{\"marker\":{\"colorbar\":{\"outlinewidth\":1,\"tickcolor\":\"rgb(36,36,36)\",\"ticks\":\"outside\"}},\"type\":\"scatterpolargl\"}],\"scatterpolar\":[{\"marker\":{\"colorbar\":{\"outlinewidth\":1,\"tickcolor\":\"rgb(36,36,36)\",\"ticks\":\"outside\"}},\"type\":\"scatterpolar\"}],\"scatter\":[{\"fillpattern\":{\"fillmode\":\"overlay\",\"size\":10,\"solidity\":0.2},\"type\":\"scatter\"}],\"scatterternary\":[{\"marker\":{\"colorbar\":{\"outlinewidth\":1,\"tickcolor\":\"rgb(36,36,36)\",\"ticks\":\"outside\"}},\"type\":\"scatterternary\"}],\"surface\":[{\"colorbar\":{\"outlinewidth\":1,\"tickcolor\":\"rgb(36,36,36)\",\"ticks\":\"outside\"},\"colorscale\":[[0.0,\"#440154\"],[0.1111111111111111,\"#482878\"],[0.2222222222222222,\"#3e4989\"],[0.3333333333333333,\"#31688e\"],[0.4444444444444444,\"#26828e\"],[0.5555555555555556,\"#1f9e89\"],[0.6666666666666666,\"#35b779\"],[0.7777777777777778,\"#6ece58\"],[0.8888888888888888,\"#b5de2b\"],[1.0,\"#fde725\"]],\"type\":\"surface\"}],\"table\":[{\"cells\":{\"fill\":{\"color\":\"rgb(237,237,237)\"},\"line\":{\"color\":\"white\"}},\"header\":{\"fill\":{\"color\":\"rgb(217,217,217)\"},\"line\":{\"color\":\"white\"}},\"type\":\"table\"}]},\"layout\":{\"annotationdefaults\":{\"arrowhead\":0,\"arrowwidth\":1},\"autotypenumbers\":\"strict\",\"coloraxis\":{\"colorbar\":{\"outlinewidth\":1,\"tickcolor\":\"rgb(36,36,36)\",\"ticks\":\"outside\"}},\"colorscale\":{\"diverging\":[[0.0,\"rgb(103,0,31)\"],[0.1,\"rgb(178,24,43)\"],[0.2,\"rgb(214,96,77)\"],[0.3,\"rgb(244,165,130)\"],[0.4,\"rgb(253,219,199)\"],[0.5,\"rgb(247,247,247)\"],[0.6,\"rgb(209,229,240)\"],[0.7,\"rgb(146,197,222)\"],[0.8,\"rgb(67,147,195)\"],[0.9,\"rgb(33,102,172)\"],[1.0,\"rgb(5,48,97)\"]],\"sequential\":[[0.0,\"#440154\"],[0.1111111111111111,\"#482878\"],[0.2222222222222222,\"#3e4989\"],[0.3333333333333333,\"#31688e\"],[0.4444444444444444,\"#26828e\"],[0.5555555555555556,\"#1f9e89\"],[0.6666666666666666,\"#35b779\"],[0.7777777777777778,\"#6ece58\"],[0.8888888888888888,\"#b5de2b\"],[1.0,\"#fde725\"]],\"sequentialminus\":[[0.0,\"#440154\"],[0.1111111111111111,\"#482878\"],[0.2222222222222222,\"#3e4989\"],[0.3333333333333333,\"#31688e\"],[0.4444444444444444,\"#26828e\"],[0.5555555555555556,\"#1f9e89\"],[0.6666666666666666,\"#35b779\"],[0.7777777777777778,\"#6ece58\"],[0.8888888888888888,\"#b5de2b\"],[1.0,\"#fde725\"]]},\"colorway\":[\"#1F77B4\",\"#FF7F0E\",\"#2CA02C\",\"#D62728\",\"#9467BD\",\"#8C564B\",\"#E377C2\",\"#7F7F7F\",\"#BCBD22\",\"#17BECF\"],\"font\":{\"color\":\"rgb(36,36,36)\"},\"geo\":{\"bgcolor\":\"white\",\"lakecolor\":\"white\",\"landcolor\":\"white\",\"showlakes\":true,\"showland\":true,\"subunitcolor\":\"white\"},\"hoverlabel\":{\"align\":\"left\"},\"hovermode\":\"closest\",\"mapbox\":{\"style\":\"light\"},\"paper_bgcolor\":\"white\",\"plot_bgcolor\":\"white\",\"polar\":{\"angularaxis\":{\"gridcolor\":\"rgb(232,232,232)\",\"linecolor\":\"rgb(36,36,36)\",\"showgrid\":false,\"showline\":true,\"ticks\":\"outside\"},\"bgcolor\":\"white\",\"radialaxis\":{\"gridcolor\":\"rgb(232,232,232)\",\"linecolor\":\"rgb(36,36,36)\",\"showgrid\":false,\"showline\":true,\"ticks\":\"outside\"}},\"scene\":{\"xaxis\":{\"backgroundcolor\":\"white\",\"gridcolor\":\"rgb(232,232,232)\",\"gridwidth\":2,\"linecolor\":\"rgb(36,36,36)\",\"showbackground\":true,\"showgrid\":false,\"showline\":true,\"ticks\":\"outside\",\"zeroline\":false,\"zerolinecolor\":\"rgb(36,36,36)\"},\"yaxis\":{\"backgroundcolor\":\"white\",\"gridcolor\":\"rgb(232,232,232)\",\"gridwidth\":2,\"linecolor\":\"rgb(36,36,36)\",\"showbackground\":true,\"showgrid\":false,\"showline\":true,\"ticks\":\"outside\",\"zeroline\":false,\"zerolinecolor\":\"rgb(36,36,36)\"},\"zaxis\":{\"backgroundcolor\":\"white\",\"gridcolor\":\"rgb(232,232,232)\",\"gridwidth\":2,\"linecolor\":\"rgb(36,36,36)\",\"showbackground\":true,\"showgrid\":false,\"showline\":true,\"ticks\":\"outside\",\"zeroline\":false,\"zerolinecolor\":\"rgb(36,36,36)\"}},\"shapedefaults\":{\"fillcolor\":\"black\",\"line\":{\"width\":0},\"opacity\":0.3},\"ternary\":{\"aaxis\":{\"gridcolor\":\"rgb(232,232,232)\",\"linecolor\":\"rgb(36,36,36)\",\"showgrid\":false,\"showline\":true,\"ticks\":\"outside\"},\"baxis\":{\"gridcolor\":\"rgb(232,232,232)\",\"linecolor\":\"rgb(36,36,36)\",\"showgrid\":false,\"showline\":true,\"ticks\":\"outside\"},\"bgcolor\":\"white\",\"caxis\":{\"gridcolor\":\"rgb(232,232,232)\",\"linecolor\":\"rgb(36,36,36)\",\"showgrid\":false,\"showline\":true,\"ticks\":\"outside\"}},\"title\":{\"x\":0.05},\"xaxis\":{\"automargin\":true,\"gridcolor\":\"rgb(232,232,232)\",\"linecolor\":\"rgb(36,36,36)\",\"showgrid\":false,\"showline\":true,\"ticks\":\"outside\",\"title\":{\"standoff\":15},\"zeroline\":false,\"zerolinecolor\":\"rgb(36,36,36)\"},\"yaxis\":{\"automargin\":true,\"gridcolor\":\"rgb(232,232,232)\",\"linecolor\":\"rgb(36,36,36)\",\"showgrid\":false,\"showline\":true,\"ticks\":\"outside\",\"title\":{\"standoff\":15},\"zeroline\":false,\"zerolinecolor\":\"rgb(36,36,36)\"}}},\"xaxis\":{\"anchor\":\"y\",\"domain\":[0.0,1.0],\"title\":{},\"visible\":false},\"yaxis\":{\"anchor\":\"x\",\"domain\":[0.0,1.0],\"title\":{},\"categoryorder\":\"total ascending\"},\"legend\":{\"tracegroupgap\":0},\"title\":{\"text\":\"Number of listings per district\",\"x\":0.5},\"barmode\":\"relative\"},                        {\"responsive\": true}                    ).then(function(){\n",
              "                            \n",
              "var gd = document.getElementById('305cffed-f3cd-4835-876e-7bdcba55852d');\n",
              "var x = new MutationObserver(function (mutations, observer) {{\n",
              "        var display = window.getComputedStyle(gd).display;\n",
              "        if (!display || display === 'none') {{\n",
              "            console.log([gd, 'removed!']);\n",
              "            Plotly.purge(gd);\n",
              "            observer.disconnect();\n",
              "        }}\n",
              "}});\n",
              "\n",
              "// Listen for the removal of the full notebook cells\n",
              "var notebookContainer = gd.closest('#notebook-container');\n",
              "if (notebookContainer) {{\n",
              "    x.observe(notebookContainer, {childList: true});\n",
              "}}\n",
              "\n",
              "// Listen for the clearing of the current output cell\n",
              "var outputEl = gd.closest('.output');\n",
              "if (outputEl) {{\n",
              "    x.observe(outputEl, {childList: true});\n",
              "}}\n",
              "\n",
              "                        })                };                            </script>        </div>\n",
              "</body>\n",
              "</html>"
            ]
          },
          "metadata": {}
        }
      ]
    },
    {
      "cell_type": "code",
      "source": [
        "import matplotlib.pyplot as plt\n",
        "average_price = clean.groupby('district')['price'].mean()\n",
        "\n",
        "plt.figure(figsize=(10, 6))\n",
        "average_price.plot(kind='bar', color='skyblue')\n",
        "plt.title('Average Price for Different Districts', fontsize=14)\n",
        "plt.xlabel('Districts', fontsize=12)\n",
        "plt.ylabel('Average Price', fontsize=12)\n",
        "plt.xticks(rotation=45)\n",
        "plt.tight_layout()\n",
        "\n",
        "plt.show()"
      ],
      "metadata": {
        "id": "xHEXk3OfUyOc",
        "colab": {
          "base_uri": "https://localhost:8080/",
          "height": 607
        },
        "outputId": "a4c611f6-a31a-42bd-fa12-297fb8628cc5"
      },
      "execution_count": 214,
      "outputs": [
        {
          "output_type": "display_data",
          "data": {
            "text/plain": [
              "<Figure size 1000x600 with 1 Axes>"
            ],
            "image/png": "[encoded data removed]"
          },
          "metadata": {}
        }
      ]
    },
    {
      "cell_type": "markdown",
      "source": [
        "**Common cost**"
      ],
      "metadata": {
        "id": "pVFnJm0yF9F3"
      }
    },
    {
      "cell_type": "markdown",
      "source": [
        "Cleaning the common_cost variable, removing the Ft/hó part, removing extra spaces and converting it to be numeric"
      ],
      "metadata": {
        "id": "bJia5PbR7xDh"
      }
    },
    {
      "cell_type": "code",
      "source": [
        "clean[['common_cost', 'valami']] = clean['common_cost'].str.split('Ft/hó', expand=True)\n",
        "clean['common_cost'] = clean['common_cost'].str.replace(r'\\s+', '', regex=True)\n",
        "clean['common_cost'] = pd.to_numeric(clean['common_cost'], errors='coerce')\n",
        "clean.drop(columns=['valami'], inplace=True)"
      ],
      "metadata": {
        "id": "dPtO0sbk7yp3",
        "colab": {
          "base_uri": "https://localhost:8080/"
        },
        "outputId": "49bb864b-8bb4-44cd-9f3a-31cd0ef46ffe",
        "collapsed": true
      },
      "execution_count": 215,
      "outputs": [
        {
          "output_type": "stream",
          "name": "stderr",
          "text": [
            "<ipython-input-215-ec7094a8010b>:1: SettingWithCopyWarning:\n",
            "\n",
            "\n",
            "A value is trying to be set on a copy of a slice from a DataFrame.\n",
            "Try using .loc[row_indexer,col_indexer] = value instead\n",
            "\n",
            "See the caveats in the documentation: https://pandas.pydata.org/pandas-docs/stable/user_guide/indexing.html#returning-a-view-versus-a-copy\n",
            "\n",
            "<ipython-input-215-ec7094a8010b>:1: SettingWithCopyWarning:\n",
            "\n",
            "\n",
            "A value is trying to be set on a copy of a slice from a DataFrame.\n",
            "Try using .loc[row_indexer,col_indexer] = value instead\n",
            "\n",
            "See the caveats in the documentation: https://pandas.pydata.org/pandas-docs/stable/user_guide/indexing.html#returning-a-view-versus-a-copy\n",
            "\n",
            "<ipython-input-215-ec7094a8010b>:2: SettingWithCopyWarning:\n",
            "\n",
            "\n",
            "A value is trying to be set on a copy of a slice from a DataFrame.\n",
            "Try using .loc[row_indexer,col_indexer] = value instead\n",
            "\n",
            "See the caveats in the documentation: https://pandas.pydata.org/pandas-docs/stable/user_guide/indexing.html#returning-a-view-versus-a-copy\n",
            "\n",
            "<ipython-input-215-ec7094a8010b>:3: SettingWithCopyWarning:\n",
            "\n",
            "\n",
            "A value is trying to be set on a copy of a slice from a DataFrame.\n",
            "Try using .loc[row_indexer,col_indexer] = value instead\n",
            "\n",
            "See the caveats in the documentation: https://pandas.pydata.org/pandas-docs/stable/user_guide/indexing.html#returning-a-view-versus-a-copy\n",
            "\n",
            "<ipython-input-215-ec7094a8010b>:4: SettingWithCopyWarning:\n",
            "\n",
            "\n",
            "A value is trying to be set on a copy of a slice from a DataFrame\n",
            "\n",
            "See the caveats in the documentation: https://pandas.pydata.org/pandas-docs/stable/user_guide/indexing.html#returning-a-view-versus-a-copy\n",
            "\n"
          ]
        }
      ]
    },
    {
      "cell_type": "code",
      "source": [
        "clean.common_cost.describe()"
      ],
      "metadata": {
        "colab": {
          "base_uri": "https://localhost:8080/",
          "height": 335
        },
        "id": "qYKN_4IoGCdI",
        "outputId": "95948994-5df4-4c80-e547-6393a3ac9f11"
      },
      "execution_count": 216,
      "outputs": [
        {
          "output_type": "execute_result",
          "data": {
            "text/plain": [
              "count      1106.000000\n",
              "mean      24155.515371\n",
              "std       18545.364494\n",
              "min        1000.000000\n",
              "25%       15000.000000\n",
              "50%       20000.000000\n",
              "75%       30000.000000\n",
              "max      309000.000000\n",
              "Name: common_cost, dtype: float64"
            ],
            "text/html": [
              "<div>\n",
              "<style scoped>\n",
              "    .dataframe tbody tr th:only-of-type {\n",
              "        vertical-align: middle;\n",
              "    }\n",
              "\n",
              "    .dataframe tbody tr th {\n",
              "        vertical-align: top;\n",
              "    }\n",
              "\n",
              "    .dataframe thead th {\n",
              "        text-align: right;\n",
              "    }\n",
              "</style>\n",
              "<table border=\"1\" class=\"dataframe\">\n",
              "  <thead>\n",
              "    <tr style=\"text-align: right;\">\n",
              "      <th></th>\n",
              "      <th>common_cost</th>\n",
              "    </tr>\n",
              "  </thead>\n",
              "  <tbody>\n",
              "    <tr>\n",
              "      <th>count</th>\n",
              "      <td>1106.000000</td>\n",
              "    </tr>\n",
              "    <tr>\n",
              "      <th>mean</th>\n",
              "      <td>24155.515371</td>\n",
              "    </tr>\n",
              "    <tr>\n",
              "      <th>std</th>\n",
              "      <td>18545.364494</td>\n",
              "    </tr>\n",
              "    <tr>\n",
              "      <th>min</th>\n",
              "      <td>1000.000000</td>\n",
              "    </tr>\n",
              "    <tr>\n",
              "      <th>25%</th>\n",
              "      <td>15000.000000</td>\n",
              "    </tr>\n",
              "    <tr>\n",
              "      <th>50%</th>\n",
              "      <td>20000.000000</td>\n",
              "    </tr>\n",
              "    <tr>\n",
              "      <th>75%</th>\n",
              "      <td>30000.000000</td>\n",
              "    </tr>\n",
              "    <tr>\n",
              "      <th>max</th>\n",
              "      <td>309000.000000</td>\n",
              "    </tr>\n",
              "  </tbody>\n",
              "</table>\n",
              "</div><br><label><b>dtype:</b> float64</label>"
            ]
          },
          "metadata": {},
          "execution_count": 216
        }
      ]
    },
    {
      "cell_type": "code",
      "source": [
        "plot = (\n",
        "    ggplot(clean, aes(x='common_cost')) +\n",
        "    geom_histogram(binwidth=5000, fill='steelblue') +\n",
        "    labs(title='Distribution of common costs', x='Common cost', y='Frequency') +\n",
        "    theme_minimal() +\n",
        "    theme(figure_size=(8, 5))\n",
        ")\n",
        "\n",
        "display(plot)"
      ],
      "metadata": {
        "colab": {
          "base_uri": "https://localhost:8080/",
          "height": 586
        },
        "id": "_dkKSe-TGS6X",
        "outputId": "84c98e18-3d57-4e97-c8bc-1af5ade64869"
      },
      "execution_count": 220,
      "outputs": [
        {
          "output_type": "stream",
          "name": "stderr",
          "text": [
            "/usr/local/lib/python3.10/dist-packages/plotnine/layer.py:284: PlotnineWarning:\n",
            "\n",
            "stat_bin : Removed 271 rows containing non-finite values.\n",
            "\n"
          ]
        },
        {
          "output_type": "display_data",
          "data": {
            "image/png": "[encoded data removed]"
          },
          "metadata": {
            "image/png": {
              "width": 800,
              "height": 500
            }
          }
        }
      ]
    },
    {
      "cell_type": "code",
      "source": [
        "pd.set_option('display.max_colwidth', None)\n",
        "clean.loc[clean['common_cost'] > 100000, 'link']"
      ],
      "metadata": {
        "colab": {
          "base_uri": "https://localhost:8080/",
          "height": 335
        },
        "id": "_sHg543GGhtQ",
        "outputId": "e9e5e0a8-5220-4eeb-b6f4-3434a75f0498"
      },
      "execution_count": 221,
      "outputs": [
        {
          "output_type": "execute_result",
          "data": {
            "text/plain": [
              "780     https://www.alberlet.hu//kiado_alberlet/budapest-XXIII-kerulet-szent-laszlo-utca-50m2-2-szoba_753967\n",
              "1136          https://www.alberlet.hu//kiado_alberlet/budapest-I-kerulet-orszaghaz-utca-160m2-4-szoba_742394\n",
              "1178          https://www.alberlet.hu//kiado_alberlet/budapest-I-kerulet-orszaghaz-utca-160m2-4-szoba_733105\n",
              "1195                https://www.alberlet.hu//kiado_alberlet/budapest-I-kerulet-lovas-ut-105m2-3-szoba_729894\n",
              "1196                 https://www.alberlet.hu//kiado_alberlet/budapest-I-kerulet-lovas-ut-82m2-3-szoba_729890\n",
              "1202            https://www.alberlet.hu//kiado_alberlet/budapest-XIII-kerulet-meder-utca-83m2-4-szoba_728289\n",
              "1302       https://www.alberlet.hu//kiado_alberlet/budapest-VII-kerulet-erzsebet-korut-288m2-11-szoba_670982\n",
              "1303           https://www.alberlet.hu//kiado_alberlet/budapest-V-kerulet-dorottya-utca-135m2-3-szoba_670425\n",
              "Name: link, dtype: object"
            ],
            "text/html": [
              "<div>\n",
              "<style scoped>\n",
              "    .dataframe tbody tr th:only-of-type {\n",
              "        vertical-align: middle;\n",
              "    }\n",
              "\n",
              "    .dataframe tbody tr th {\n",
              "        vertical-align: top;\n",
              "    }\n",
              "\n",
              "    .dataframe thead th {\n",
              "        text-align: right;\n",
              "    }\n",
              "</style>\n",
              "<table border=\"1\" class=\"dataframe\">\n",
              "  <thead>\n",
              "    <tr style=\"text-align: right;\">\n",
              "      <th></th>\n",
              "      <th>link</th>\n",
              "    </tr>\n",
              "  </thead>\n",
              "  <tbody>\n",
              "    <tr>\n",
              "      <th>780</th>\n",
              "      <td>https://www.alberlet.hu//kiado_alberlet/budapest-XXIII-kerulet-szent-laszlo-utca-50m2-2-szoba_753967</td>\n",
              "    </tr>\n",
              "    <tr>\n",
              "      <th>1136</th>\n",
              "      <td>https://www.alberlet.hu//kiado_alberlet/budapest-I-kerulet-orszaghaz-utca-160m2-4-szoba_742394</td>\n",
              "    </tr>\n",
              "    <tr>\n",
              "      <th>1178</th>\n",
              "      <td>https://www.alberlet.hu//kiado_alberlet/budapest-I-kerulet-orszaghaz-utca-160m2-4-szoba_733105</td>\n",
              "    </tr>\n",
              "    <tr>\n",
              "      <th>1195</th>\n",
              "      <td>https://www.alberlet.hu//kiado_alberlet/budapest-I-kerulet-lovas-ut-105m2-3-szoba_729894</td>\n",
              "    </tr>\n",
              "    <tr>\n",
              "      <th>1196</th>\n",
              "      <td>https://www.alberlet.hu//kiado_alberlet/budapest-I-kerulet-lovas-ut-82m2-3-szoba_729890</td>\n",
              "    </tr>\n",
              "    <tr>\n",
              "      <th>1202</th>\n",
              "      <td>https://www.alberlet.hu//kiado_alberlet/budapest-XIII-kerulet-meder-utca-83m2-4-szoba_728289</td>\n",
              "    </tr>\n",
              "    <tr>\n",
              "      <th>1302</th>\n",
              "      <td>https://www.alberlet.hu//kiado_alberlet/budapest-VII-kerulet-erzsebet-korut-288m2-11-szoba_670982</td>\n",
              "    </tr>\n",
              "    <tr>\n",
              "      <th>1303</th>\n",
              "      <td>https://www.alberlet.hu//kiado_alberlet/budapest-V-kerulet-dorottya-utca-135m2-3-szoba_670425</td>\n",
              "    </tr>\n",
              "  </tbody>\n",
              "</table>\n",
              "</div><br><label><b>dtype:</b> object</label>"
            ]
          },
          "metadata": {},
          "execution_count": 221
        }
      ]
    },
    {
      "cell_type": "markdown",
      "source": [
        "I looked up the observations and the one in Szent László utca has common cost of 30 900."
      ],
      "metadata": {
        "id": "aNZLKJ1Xs92V"
      }
    },
    {
      "cell_type": "code",
      "source": [
        "pd.reset_option('display.max_colwidth')"
      ],
      "metadata": {
        "id": "jXOP9swlvbT3"
      },
      "execution_count": 222,
      "outputs": []
    },
    {
      "cell_type": "code",
      "source": [
        "clean.loc[(clean['common_cost'] == 309000) & (clean['street'] == 'Szent László utca'), 'common_cost'] = 30900"
      ],
      "metadata": {
        "id": "TbdGg21JtJBg"
      },
      "execution_count": 223,
      "outputs": []
    },
    {
      "cell_type": "code",
      "source": [
        "clean.common_cost.describe()"
      ],
      "metadata": {
        "colab": {
          "base_uri": "https://localhost:8080/",
          "height": 335
        },
        "id": "ozXDBg4LHVCi",
        "outputId": "65c2a9f2-cd63-4a28-965b-834e54376534"
      },
      "execution_count": 224,
      "outputs": [
        {
          "output_type": "execute_result",
          "data": {
            "text/plain": [
              "count      1106.000000\n",
              "mean      23904.068716\n",
              "std       16446.332072\n",
              "min        1000.000000\n",
              "25%       15000.000000\n",
              "50%       20000.000000\n",
              "75%       30000.000000\n",
              "max      200000.000000\n",
              "Name: common_cost, dtype: float64"
            ],
            "text/html": [
              "<div>\n",
              "<style scoped>\n",
              "    .dataframe tbody tr th:only-of-type {\n",
              "        vertical-align: middle;\n",
              "    }\n",
              "\n",
              "    .dataframe tbody tr th {\n",
              "        vertical-align: top;\n",
              "    }\n",
              "\n",
              "    .dataframe thead th {\n",
              "        text-align: right;\n",
              "    }\n",
              "</style>\n",
              "<table border=\"1\" class=\"dataframe\">\n",
              "  <thead>\n",
              "    <tr style=\"text-align: right;\">\n",
              "      <th></th>\n",
              "      <th>common_cost</th>\n",
              "    </tr>\n",
              "  </thead>\n",
              "  <tbody>\n",
              "    <tr>\n",
              "      <th>count</th>\n",
              "      <td>1106.000000</td>\n",
              "    </tr>\n",
              "    <tr>\n",
              "      <th>mean</th>\n",
              "      <td>23904.068716</td>\n",
              "    </tr>\n",
              "    <tr>\n",
              "      <th>std</th>\n",
              "      <td>16446.332072</td>\n",
              "    </tr>\n",
              "    <tr>\n",
              "      <th>min</th>\n",
              "      <td>1000.000000</td>\n",
              "    </tr>\n",
              "    <tr>\n",
              "      <th>25%</th>\n",
              "      <td>15000.000000</td>\n",
              "    </tr>\n",
              "    <tr>\n",
              "      <th>50%</th>\n",
              "      <td>20000.000000</td>\n",
              "    </tr>\n",
              "    <tr>\n",
              "      <th>75%</th>\n",
              "      <td>30000.000000</td>\n",
              "    </tr>\n",
              "    <tr>\n",
              "      <th>max</th>\n",
              "      <td>200000.000000</td>\n",
              "    </tr>\n",
              "  </tbody>\n",
              "</table>\n",
              "</div><br><label><b>dtype:</b> float64</label>"
            ]
          },
          "metadata": {},
          "execution_count": 224
        }
      ]
    },
    {
      "cell_type": "code",
      "source": [
        "plot = (\n",
        "    ggplot(clean, aes(x='common_cost')) +\n",
        "    geom_histogram(binwidth=5000, fill='steelblue') +\n",
        "    labs(title='Distribution of common costs', x='Common cost', y='Frequency') +\n",
        "    theme_minimal() +\n",
        "    theme(figure_size=(8, 5))\n",
        ")\n",
        "\n",
        "display(plot)"
      ],
      "metadata": {
        "colab": {
          "base_uri": "https://localhost:8080/",
          "height": 586
        },
        "id": "TvWSiCTaHguP",
        "outputId": "f180d18d-afc1-4341-d395-71abcfe656e3"
      },
      "execution_count": 225,
      "outputs": [
        {
          "output_type": "stream",
          "name": "stderr",
          "text": [
            "/usr/local/lib/python3.10/dist-packages/plotnine/layer.py:284: PlotnineWarning:\n",
            "\n",
            "stat_bin : Removed 271 rows containing non-finite values.\n",
            "\n"
          ]
        },
        {
          "output_type": "display_data",
          "data": {
            "image/png": "[encoded data removed]"
          },
          "metadata": {
            "image/png": {
              "width": 800,
              "height": 500
            }
          }
        }
      ]
    },
    {
      "cell_type": "markdown",
      "source": [
        "**Utilities**"
      ],
      "metadata": {
        "id": "eI8nL8iEHlvf"
      }
    },
    {
      "cell_type": "markdown",
      "source": [
        "Cleaning the utilities variable, removing the Ft/hó part, removing extra spaces and converting it to be numeric"
      ],
      "metadata": {
        "id": "8V3q0_va7_69"
      }
    },
    {
      "cell_type": "code",
      "source": [
        "clean[['utilities', 'valami']] = clean['utilities'].str.split('Ft/hó', expand=True)\n",
        "clean['utilities'] = clean['utilities'].str.replace(r'\\s+', '', regex=True)\n",
        "clean['utilities'] = pd.to_numeric(clean['utilities'], errors='coerce')\n",
        "clean.drop(columns=['valami'], inplace=True)"
      ],
      "metadata": {
        "id": "Kbjh9DY17ymA",
        "colab": {
          "base_uri": "https://localhost:8080/"
        },
        "outputId": "a4773494-57bc-4564-9588-9b02c8c3c93a"
      },
      "execution_count": 226,
      "outputs": [
        {
          "output_type": "stream",
          "name": "stderr",
          "text": [
            "<ipython-input-226-09efbc26a0ac>:1: SettingWithCopyWarning:\n",
            "\n",
            "\n",
            "A value is trying to be set on a copy of a slice from a DataFrame.\n",
            "Try using .loc[row_indexer,col_indexer] = value instead\n",
            "\n",
            "See the caveats in the documentation: https://pandas.pydata.org/pandas-docs/stable/user_guide/indexing.html#returning-a-view-versus-a-copy\n",
            "\n",
            "<ipython-input-226-09efbc26a0ac>:1: SettingWithCopyWarning:\n",
            "\n",
            "\n",
            "A value is trying to be set on a copy of a slice from a DataFrame.\n",
            "Try using .loc[row_indexer,col_indexer] = value instead\n",
            "\n",
            "See the caveats in the documentation: https://pandas.pydata.org/pandas-docs/stable/user_guide/indexing.html#returning-a-view-versus-a-copy\n",
            "\n",
            "<ipython-input-226-09efbc26a0ac>:2: SettingWithCopyWarning:\n",
            "\n",
            "\n",
            "A value is trying to be set on a copy of a slice from a DataFrame.\n",
            "Try using .loc[row_indexer,col_indexer] = value instead\n",
            "\n",
            "See the caveats in the documentation: https://pandas.pydata.org/pandas-docs/stable/user_guide/indexing.html#returning-a-view-versus-a-copy\n",
            "\n",
            "<ipython-input-226-09efbc26a0ac>:3: SettingWithCopyWarning:\n",
            "\n",
            "\n",
            "A value is trying to be set on a copy of a slice from a DataFrame.\n",
            "Try using .loc[row_indexer,col_indexer] = value instead\n",
            "\n",
            "See the caveats in the documentation: https://pandas.pydata.org/pandas-docs/stable/user_guide/indexing.html#returning-a-view-versus-a-copy\n",
            "\n",
            "<ipython-input-226-09efbc26a0ac>:4: SettingWithCopyWarning:\n",
            "\n",
            "\n",
            "A value is trying to be set on a copy of a slice from a DataFrame\n",
            "\n",
            "See the caveats in the documentation: https://pandas.pydata.org/pandas-docs/stable/user_guide/indexing.html#returning-a-view-versus-a-copy\n",
            "\n"
          ]
        }
      ]
    },
    {
      "cell_type": "code",
      "source": [
        "clean.utilities.describe().apply(lambda x: f\"{x:,.0f}\")"
      ],
      "metadata": {
        "colab": {
          "base_uri": "https://localhost:8080/",
          "height": 335
        },
        "id": "W34fz1qZIgmE",
        "outputId": "32cd5ae5-975c-478a-990c-84c8cdb26a0c"
      },
      "execution_count": 227,
      "outputs": [
        {
          "output_type": "execute_result",
          "data": {
            "text/plain": [
              "count          881\n",
              "mean        41,664\n",
              "std        333,789\n",
              "min          1,000\n",
              "25%         15,000\n",
              "50%         20,000\n",
              "75%         30,000\n",
              "max      7,000,000\n",
              "Name: utilities, dtype: object"
            ],
            "text/html": [
              "<div>\n",
              "<style scoped>\n",
              "    .dataframe tbody tr th:only-of-type {\n",
              "        vertical-align: middle;\n",
              "    }\n",
              "\n",
              "    .dataframe tbody tr th {\n",
              "        vertical-align: top;\n",
              "    }\n",
              "\n",
              "    .dataframe thead th {\n",
              "        text-align: right;\n",
              "    }\n",
              "</style>\n",
              "<table border=\"1\" class=\"dataframe\">\n",
              "  <thead>\n",
              "    <tr style=\"text-align: right;\">\n",
              "      <th></th>\n",
              "      <th>utilities</th>\n",
              "    </tr>\n",
              "  </thead>\n",
              "  <tbody>\n",
              "    <tr>\n",
              "      <th>count</th>\n",
              "      <td>881</td>\n",
              "    </tr>\n",
              "    <tr>\n",
              "      <th>mean</th>\n",
              "      <td>41,664</td>\n",
              "    </tr>\n",
              "    <tr>\n",
              "      <th>std</th>\n",
              "      <td>333,789</td>\n",
              "    </tr>\n",
              "    <tr>\n",
              "      <th>min</th>\n",
              "      <td>1,000</td>\n",
              "    </tr>\n",
              "    <tr>\n",
              "      <th>25%</th>\n",
              "      <td>15,000</td>\n",
              "    </tr>\n",
              "    <tr>\n",
              "      <th>50%</th>\n",
              "      <td>20,000</td>\n",
              "    </tr>\n",
              "    <tr>\n",
              "      <th>75%</th>\n",
              "      <td>30,000</td>\n",
              "    </tr>\n",
              "    <tr>\n",
              "      <th>max</th>\n",
              "      <td>7,000,000</td>\n",
              "    </tr>\n",
              "  </tbody>\n",
              "</table>\n",
              "</div><br><label><b>dtype:</b> object</label>"
            ]
          },
          "metadata": {},
          "execution_count": 227
        }
      ]
    },
    {
      "cell_type": "code",
      "source": [
        "pd.set_option('display.max_colwidth', None)\n",
        "clean.loc[clean['utilities']>1000000, 'link']"
      ],
      "metadata": {
        "colab": {
          "base_uri": "https://localhost:8080/",
          "height": 178
        },
        "id": "neQul8NNy22q",
        "outputId": "c080e158-6762-41a5-ccfb-5394436af381"
      },
      "execution_count": 228,
      "outputs": [
        {
          "output_type": "execute_result",
          "data": {
            "text/plain": [
              "147    https://www.alberlet.hu//kiado_alberlet/budapest-III-kerulet-gyogyszergyar-utca-41m2-2-szoba_755941\n",
              "619          https://www.alberlet.hu//kiado_alberlet/budapest-XI-kerulet-kelenhegyi-ut-52m2-2-szoba_754714\n",
              "709       https://www.alberlet.hu//kiado_alberlet/budapest-III-kerulet-kunigunda-utja--30m2-1-szoba_754379\n",
              "Name: link, dtype: object"
            ],
            "text/html": [
              "<div>\n",
              "<style scoped>\n",
              "    .dataframe tbody tr th:only-of-type {\n",
              "        vertical-align: middle;\n",
              "    }\n",
              "\n",
              "    .dataframe tbody tr th {\n",
              "        vertical-align: top;\n",
              "    }\n",
              "\n",
              "    .dataframe thead th {\n",
              "        text-align: right;\n",
              "    }\n",
              "</style>\n",
              "<table border=\"1\" class=\"dataframe\">\n",
              "  <thead>\n",
              "    <tr style=\"text-align: right;\">\n",
              "      <th></th>\n",
              "      <th>link</th>\n",
              "    </tr>\n",
              "  </thead>\n",
              "  <tbody>\n",
              "    <tr>\n",
              "      <th>147</th>\n",
              "      <td>https://www.alberlet.hu//kiado_alberlet/budapest-III-kerulet-gyogyszergyar-utca-41m2-2-szoba_755941</td>\n",
              "    </tr>\n",
              "    <tr>\n",
              "      <th>619</th>\n",
              "      <td>https://www.alberlet.hu//kiado_alberlet/budapest-XI-kerulet-kelenhegyi-ut-52m2-2-szoba_754714</td>\n",
              "    </tr>\n",
              "    <tr>\n",
              "      <th>709</th>\n",
              "      <td>https://www.alberlet.hu//kiado_alberlet/budapest-III-kerulet-kunigunda-utja--30m2-1-szoba_754379</td>\n",
              "    </tr>\n",
              "  </tbody>\n",
              "</table>\n",
              "</div><br><label><b>dtype:</b> object</label>"
            ]
          },
          "metadata": {},
          "execution_count": 228
        }
      ]
    },
    {
      "cell_type": "code",
      "source": [
        "pd.reset_option('display.max_colwidth')"
      ],
      "metadata": {
        "id": "tg8zXh6BzBoN"
      },
      "execution_count": 229,
      "outputs": []
    },
    {
      "cell_type": "code",
      "source": [
        "clean = clean[clean['utilities']<1000000]"
      ],
      "metadata": {
        "id": "a1tOaYo_JUOb"
      },
      "execution_count": 230,
      "outputs": []
    },
    {
      "cell_type": "code",
      "source": [
        "clean.utilities.describe().apply(lambda x: f\"{x:,.0f}\")"
      ],
      "metadata": {
        "colab": {
          "base_uri": "https://localhost:8080/",
          "height": 335
        },
        "id": "Sz55bpUVJdmU",
        "outputId": "ce6aa6fb-4f5c-467e-ef40-e27ca73585e1"
      },
      "execution_count": 231,
      "outputs": [
        {
          "output_type": "execute_result",
          "data": {
            "text/plain": [
              "count        878\n",
              "mean      22,444\n",
              "std       12,275\n",
              "min        1,000\n",
              "25%       15,000\n",
              "50%       20,000\n",
              "75%       30,000\n",
              "max      110,000\n",
              "Name: utilities, dtype: object"
            ],
            "text/html": [
              "<div>\n",
              "<style scoped>\n",
              "    .dataframe tbody tr th:only-of-type {\n",
              "        vertical-align: middle;\n",
              "    }\n",
              "\n",
              "    .dataframe tbody tr th {\n",
              "        vertical-align: top;\n",
              "    }\n",
              "\n",
              "    .dataframe thead th {\n",
              "        text-align: right;\n",
              "    }\n",
              "</style>\n",
              "<table border=\"1\" class=\"dataframe\">\n",
              "  <thead>\n",
              "    <tr style=\"text-align: right;\">\n",
              "      <th></th>\n",
              "      <th>utilities</th>\n",
              "    </tr>\n",
              "  </thead>\n",
              "  <tbody>\n",
              "    <tr>\n",
              "      <th>count</th>\n",
              "      <td>878</td>\n",
              "    </tr>\n",
              "    <tr>\n",
              "      <th>mean</th>\n",
              "      <td>22,444</td>\n",
              "    </tr>\n",
              "    <tr>\n",
              "      <th>std</th>\n",
              "      <td>12,275</td>\n",
              "    </tr>\n",
              "    <tr>\n",
              "      <th>min</th>\n",
              "      <td>1,000</td>\n",
              "    </tr>\n",
              "    <tr>\n",
              "      <th>25%</th>\n",
              "      <td>15,000</td>\n",
              "    </tr>\n",
              "    <tr>\n",
              "      <th>50%</th>\n",
              "      <td>20,000</td>\n",
              "    </tr>\n",
              "    <tr>\n",
              "      <th>75%</th>\n",
              "      <td>30,000</td>\n",
              "    </tr>\n",
              "    <tr>\n",
              "      <th>max</th>\n",
              "      <td>110,000</td>\n",
              "    </tr>\n",
              "  </tbody>\n",
              "</table>\n",
              "</div><br><label><b>dtype:</b> object</label>"
            ]
          },
          "metadata": {},
          "execution_count": 231
        }
      ]
    },
    {
      "cell_type": "code",
      "source": [
        "pd.set_option('display.max_colwidth', None)\n",
        "clean.loc[clean['utilities']<1500, 'link']"
      ],
      "metadata": {
        "colab": {
          "base_uri": "https://localhost:8080/",
          "height": 492
        },
        "id": "xCXuO11wDOY0",
        "outputId": "95c45e45-099c-4c0a-d645-6e04f85bef0c"
      },
      "execution_count": 232,
      "outputs": [
        {
          "output_type": "execute_result",
          "data": {
            "text/plain": [
              "237             https://www.alberlet.hu//kiado_alberlet/budapest-XIII-kerulet-csata-utca-40m2-1-szoba_755773\n",
              "732              https://www.alberlet.hu//kiado_alberlet/budapest-V-kerulet-muzeum-korut-56m2-3-szoba_754305\n",
              "1158            https://www.alberlet.hu//kiado_alberlet/budapest-VI-kerulet-andrassy-ut-120m2-3-szoba_737795\n",
              "1222         https://www.alberlet.hu//kiado_alberlet/budapest-VIII-kerulet-corvin-setany-33m2-1-szoba_723165\n",
              "1227    https://www.alberlet.hu//kiado_alberlet/budapest-VI-kerulet-bajcsy-zsilinszky-ut-41m2-2-szoba_722258\n",
              "1255               https://www.alberlet.hu//kiado_alberlet/budapest-XI-kerulet-raho-utca-75m2-3-szoba_712944\n",
              "1262             https://www.alberlet.hu//kiado_alberlet/budapest-V-kerulet-sorhaz-utca-185m2-4-szoba_706225\n",
              "1284           https://www.alberlet.hu//kiado_alberlet/budapest-II-kerulet-torokvesz-ut-130m2-4-szoba_687935\n",
              "1311           https://www.alberlet.hu//kiado_alberlet/budapest-VI-kerulet-nagymezo-utca-97m2-3-szoba_657271\n",
              "1317           https://www.alberlet.hu//kiado_alberlet/budapest-VI-kerulet-felso-erdosor-85m2-3-szoba_647396\n",
              "1323          https://www.alberlet.hu//kiado_alberlet/budapest-VI-kerulet-nagymezo-utca-171m2-4-szoba_639086\n",
              "1332            https://www.alberlet.hu//kiado_alberlet/budapest-III-kerulet-perenyi-ut-135m2-3-szoba_628924\n",
              "1352            https://www.alberlet.hu//kiado_alberlet/budapest-V-kerulet-bathory-utca-159m2-3-szoba_584255\n",
              "Name: link, dtype: object"
            ],
            "text/html": [
              "<div>\n",
              "<style scoped>\n",
              "    .dataframe tbody tr th:only-of-type {\n",
              "        vertical-align: middle;\n",
              "    }\n",
              "\n",
              "    .dataframe tbody tr th {\n",
              "        vertical-align: top;\n",
              "    }\n",
              "\n",
              "    .dataframe thead th {\n",
              "        text-align: right;\n",
              "    }\n",
              "</style>\n",
              "<table border=\"1\" class=\"dataframe\">\n",
              "  <thead>\n",
              "    <tr style=\"text-align: right;\">\n",
              "      <th></th>\n",
              "      <th>link</th>\n",
              "    </tr>\n",
              "  </thead>\n",
              "  <tbody>\n",
              "    <tr>\n",
              "      <th>237</th>\n",
              "      <td>https://www.alberlet.hu//kiado_alberlet/budapest-XIII-kerulet-csata-utca-40m2-1-szoba_755773</td>\n",
              "    </tr>\n",
              "    <tr>\n",
              "      <th>732</th>\n",
              "      <td>https://www.alberlet.hu//kiado_alberlet/budapest-V-kerulet-muzeum-korut-56m2-3-szoba_754305</td>\n",
              "    </tr>\n",
              "    <tr>\n",
              "      <th>1158</th>\n",
              "      <td>https://www.alberlet.hu//kiado_alberlet/budapest-VI-kerulet-andrassy-ut-120m2-3-szoba_737795</td>\n",
              "    </tr>\n",
              "    <tr>\n",
              "      <th>1222</th>\n",
              "      <td>https://www.alberlet.hu//kiado_alberlet/budapest-VIII-kerulet-corvin-setany-33m2-1-szoba_723165</td>\n",
              "    </tr>\n",
              "    <tr>\n",
              "      <th>1227</th>\n",
              "      <td>https://www.alberlet.hu//kiado_alberlet/budapest-VI-kerulet-bajcsy-zsilinszky-ut-41m2-2-szoba_722258</td>\n",
              "    </tr>\n",
              "    <tr>\n",
              "      <th>1255</th>\n",
              "      <td>https://www.alberlet.hu//kiado_alberlet/budapest-XI-kerulet-raho-utca-75m2-3-szoba_712944</td>\n",
              "    </tr>\n",
              "    <tr>\n",
              "      <th>1262</th>\n",
              "      <td>https://www.alberlet.hu//kiado_alberlet/budapest-V-kerulet-sorhaz-utca-185m2-4-szoba_706225</td>\n",
              "    </tr>\n",
              "    <tr>\n",
              "      <th>1284</th>\n",
              "      <td>https://www.alberlet.hu//kiado_alberlet/budapest-II-kerulet-torokvesz-ut-130m2-4-szoba_687935</td>\n",
              "    </tr>\n",
              "    <tr>\n",
              "      <th>1311</th>\n",
              "      <td>https://www.alberlet.hu//kiado_alberlet/budapest-VI-kerulet-nagymezo-utca-97m2-3-szoba_657271</td>\n",
              "    </tr>\n",
              "    <tr>\n",
              "      <th>1317</th>\n",
              "      <td>https://www.alberlet.hu//kiado_alberlet/budapest-VI-kerulet-felso-erdosor-85m2-3-szoba_647396</td>\n",
              "    </tr>\n",
              "    <tr>\n",
              "      <th>1323</th>\n",
              "      <td>https://www.alberlet.hu//kiado_alberlet/budapest-VI-kerulet-nagymezo-utca-171m2-4-szoba_639086</td>\n",
              "    </tr>\n",
              "    <tr>\n",
              "      <th>1332</th>\n",
              "      <td>https://www.alberlet.hu//kiado_alberlet/budapest-III-kerulet-perenyi-ut-135m2-3-szoba_628924</td>\n",
              "    </tr>\n",
              "    <tr>\n",
              "      <th>1352</th>\n",
              "      <td>https://www.alberlet.hu//kiado_alberlet/budapest-V-kerulet-bathory-utca-159m2-3-szoba_584255</td>\n",
              "    </tr>\n",
              "  </tbody>\n",
              "</table>\n",
              "</div><br><label><b>dtype:</b> object</label>"
            ]
          },
          "metadata": {},
          "execution_count": 232
        }
      ]
    },
    {
      "cell_type": "code",
      "source": [
        "plot = (\n",
        "    ggplot(clean, aes(x='utilities')) +\n",
        "    geom_histogram(binwidth=5000, fill='steelblue') +\n",
        "    labs(title='Distribution of utilities', x='Utility cost', y='Frequency') +\n",
        "    theme_minimal() +\n",
        "    theme(figure_size=(8, 5))\n",
        ")\n",
        "\n",
        "display(plot)"
      ],
      "metadata": {
        "colab": {
          "base_uri": "https://localhost:8080/",
          "height": 517
        },
        "id": "goFrXTErIgex",
        "outputId": "b8e9d2dd-7575-4bea-ac7f-8d9be13c23a0"
      },
      "execution_count": 233,
      "outputs": [
        {
          "output_type": "display_data",
          "data": {
            "image/png": "[encoded data removed]"
          },
          "metadata": {
            "image/png": {
              "width": 800,
              "height": 500
            }
          }
        }
      ]
    },
    {
      "cell_type": "markdown",
      "source": [
        "**Rooms and square meter**"
      ],
      "metadata": {
        "id": "dWa3dVz8KMEo"
      }
    },
    {
      "cell_type": "markdown",
      "source": [
        "cleaning the rooms_and_sqrt variable. First I split it into two variable one containing the number of rooms and one containing the square meters. Then I make two columns from the number of rooms variable, one containing the number of rooms and the second containing the number of half rooms."
      ],
      "metadata": {
        "id": "u2nyfWHD8E7D"
      }
    },
    {
      "cell_type": "code",
      "source": [
        "clean[['number_of_rooms', 'sqrt']] = clean['rooms_and_sqrt'].str.split(',', expand=True)"
      ],
      "metadata": {
        "id": "3-4gfgDJ7yiY",
        "colab": {
          "base_uri": "https://localhost:8080/"
        },
        "outputId": "4f5968e7-5b82-47d3-a869-f9b0ae96b128"
      },
      "execution_count": 234,
      "outputs": [
        {
          "output_type": "stream",
          "name": "stderr",
          "text": [
            "<ipython-input-234-ce061d050d63>:1: SettingWithCopyWarning:\n",
            "\n",
            "\n",
            "A value is trying to be set on a copy of a slice from a DataFrame.\n",
            "Try using .loc[row_indexer,col_indexer] = value instead\n",
            "\n",
            "See the caveats in the documentation: https://pandas.pydata.org/pandas-docs/stable/user_guide/indexing.html#returning-a-view-versus-a-copy\n",
            "\n",
            "<ipython-input-234-ce061d050d63>:1: SettingWithCopyWarning:\n",
            "\n",
            "\n",
            "A value is trying to be set on a copy of a slice from a DataFrame.\n",
            "Try using .loc[row_indexer,col_indexer] = value instead\n",
            "\n",
            "See the caveats in the documentation: https://pandas.pydata.org/pandas-docs/stable/user_guide/indexing.html#returning-a-view-versus-a-copy\n",
            "\n"
          ]
        }
      ]
    },
    {
      "cell_type": "code",
      "source": [
        "clean[['meter2', 'valami']] = clean['sqrt'].str.split('m2', expand=True, n=1)\n",
        "clean['meter2'] = pd.to_numeric(clean['meter2'], errors='coerce')\n",
        "clean.drop(columns=['valami'], inplace=True)"
      ],
      "metadata": {
        "colab": {
          "base_uri": "https://localhost:8080/"
        },
        "id": "4yYzV7-9KZ3H",
        "outputId": "184268df-3f0f-46ca-978a-4f844481674e"
      },
      "execution_count": 235,
      "outputs": [
        {
          "output_type": "stream",
          "name": "stderr",
          "text": [
            "<ipython-input-235-a60e30e6d583>:1: SettingWithCopyWarning:\n",
            "\n",
            "\n",
            "A value is trying to be set on a copy of a slice from a DataFrame.\n",
            "Try using .loc[row_indexer,col_indexer] = value instead\n",
            "\n",
            "See the caveats in the documentation: https://pandas.pydata.org/pandas-docs/stable/user_guide/indexing.html#returning-a-view-versus-a-copy\n",
            "\n",
            "<ipython-input-235-a60e30e6d583>:1: SettingWithCopyWarning:\n",
            "\n",
            "\n",
            "A value is trying to be set on a copy of a slice from a DataFrame.\n",
            "Try using .loc[row_indexer,col_indexer] = value instead\n",
            "\n",
            "See the caveats in the documentation: https://pandas.pydata.org/pandas-docs/stable/user_guide/indexing.html#returning-a-view-versus-a-copy\n",
            "\n",
            "<ipython-input-235-a60e30e6d583>:2: SettingWithCopyWarning:\n",
            "\n",
            "\n",
            "A value is trying to be set on a copy of a slice from a DataFrame.\n",
            "Try using .loc[row_indexer,col_indexer] = value instead\n",
            "\n",
            "See the caveats in the documentation: https://pandas.pydata.org/pandas-docs/stable/user_guide/indexing.html#returning-a-view-versus-a-copy\n",
            "\n",
            "<ipython-input-235-a60e30e6d583>:3: SettingWithCopyWarning:\n",
            "\n",
            "\n",
            "A value is trying to be set on a copy of a slice from a DataFrame\n",
            "\n",
            "See the caveats in the documentation: https://pandas.pydata.org/pandas-docs/stable/user_guide/indexing.html#returning-a-view-versus-a-copy\n",
            "\n"
          ]
        }
      ]
    },
    {
      "cell_type": "code",
      "source": [
        "clean.meter2.describe()"
      ],
      "metadata": {
        "colab": {
          "base_uri": "https://localhost:8080/",
          "height": 335
        },
        "id": "RoLNjq2UKZxH",
        "outputId": "e75ba837-b251-49d1-be6c-17405258a34b"
      },
      "execution_count": 236,
      "outputs": [
        {
          "output_type": "execute_result",
          "data": {
            "text/plain": [
              "count    878.000000\n",
              "mean      63.321185\n",
              "std       35.908179\n",
              "min        4.000000\n",
              "25%       45.000000\n",
              "50%       55.000000\n",
              "75%       75.000000\n",
              "max      650.000000\n",
              "Name: meter2, dtype: float64"
            ],
            "text/html": [
              "<div>\n",
              "<style scoped>\n",
              "    .dataframe tbody tr th:only-of-type {\n",
              "        vertical-align: middle;\n",
              "    }\n",
              "\n",
              "    .dataframe tbody tr th {\n",
              "        vertical-align: top;\n",
              "    }\n",
              "\n",
              "    .dataframe thead th {\n",
              "        text-align: right;\n",
              "    }\n",
              "</style>\n",
              "<table border=\"1\" class=\"dataframe\">\n",
              "  <thead>\n",
              "    <tr style=\"text-align: right;\">\n",
              "      <th></th>\n",
              "      <th>meter2</th>\n",
              "    </tr>\n",
              "  </thead>\n",
              "  <tbody>\n",
              "    <tr>\n",
              "      <th>count</th>\n",
              "      <td>878.000000</td>\n",
              "    </tr>\n",
              "    <tr>\n",
              "      <th>mean</th>\n",
              "      <td>63.321185</td>\n",
              "    </tr>\n",
              "    <tr>\n",
              "      <th>std</th>\n",
              "      <td>35.908179</td>\n",
              "    </tr>\n",
              "    <tr>\n",
              "      <th>min</th>\n",
              "      <td>4.000000</td>\n",
              "    </tr>\n",
              "    <tr>\n",
              "      <th>25%</th>\n",
              "      <td>45.000000</td>\n",
              "    </tr>\n",
              "    <tr>\n",
              "      <th>50%</th>\n",
              "      <td>55.000000</td>\n",
              "    </tr>\n",
              "    <tr>\n",
              "      <th>75%</th>\n",
              "      <td>75.000000</td>\n",
              "    </tr>\n",
              "    <tr>\n",
              "      <th>max</th>\n",
              "      <td>650.000000</td>\n",
              "    </tr>\n",
              "  </tbody>\n",
              "</table>\n",
              "</div><br><label><b>dtype:</b> float64</label>"
            ]
          },
          "metadata": {},
          "execution_count": 236
        }
      ]
    },
    {
      "cell_type": "markdown",
      "source": [
        "I checked the observation with 4 m^2 and in the description it is written that it is 40 m^2 so I corrected the mistake."
      ],
      "metadata": {
        "id": "uW55mD1tgolU"
      }
    },
    {
      "cell_type": "code",
      "source": [
        "clean['meter2'] = clean['meter2'].replace(4, 40)"
      ],
      "metadata": {
        "id": "OE1CJkGwgPAT",
        "colab": {
          "base_uri": "https://localhost:8080/"
        },
        "outputId": "e4efe2e0-c832-418b-9469-2d00fe61366d"
      },
      "execution_count": 237,
      "outputs": [
        {
          "output_type": "stream",
          "name": "stderr",
          "text": [
            "<ipython-input-237-41521474f7ab>:1: SettingWithCopyWarning:\n",
            "\n",
            "\n",
            "A value is trying to be set on a copy of a slice from a DataFrame.\n",
            "Try using .loc[row_indexer,col_indexer] = value instead\n",
            "\n",
            "See the caveats in the documentation: https://pandas.pydata.org/pandas-docs/stable/user_guide/indexing.html#returning-a-view-versus-a-copy\n",
            "\n"
          ]
        }
      ]
    },
    {
      "cell_type": "code",
      "source": [
        "clean.meter2.describe()"
      ],
      "metadata": {
        "colab": {
          "base_uri": "https://localhost:8080/",
          "height": 335
        },
        "id": "r5BH3lkIhnRQ",
        "outputId": "43dcca05-c19d-4c84-c689-45e540519279"
      },
      "execution_count": 238,
      "outputs": [
        {
          "output_type": "execute_result",
          "data": {
            "text/plain": [
              "count    878.000000\n",
              "mean      63.362187\n",
              "std       35.860887\n",
              "min       12.000000\n",
              "25%       45.000000\n",
              "50%       55.000000\n",
              "75%       75.000000\n",
              "max      650.000000\n",
              "Name: meter2, dtype: float64"
            ],
            "text/html": [
              "<div>\n",
              "<style scoped>\n",
              "    .dataframe tbody tr th:only-of-type {\n",
              "        vertical-align: middle;\n",
              "    }\n",
              "\n",
              "    .dataframe tbody tr th {\n",
              "        vertical-align: top;\n",
              "    }\n",
              "\n",
              "    .dataframe thead th {\n",
              "        text-align: right;\n",
              "    }\n",
              "</style>\n",
              "<table border=\"1\" class=\"dataframe\">\n",
              "  <thead>\n",
              "    <tr style=\"text-align: right;\">\n",
              "      <th></th>\n",
              "      <th>meter2</th>\n",
              "    </tr>\n",
              "  </thead>\n",
              "  <tbody>\n",
              "    <tr>\n",
              "      <th>count</th>\n",
              "      <td>878.000000</td>\n",
              "    </tr>\n",
              "    <tr>\n",
              "      <th>mean</th>\n",
              "      <td>63.362187</td>\n",
              "    </tr>\n",
              "    <tr>\n",
              "      <th>std</th>\n",
              "      <td>35.860887</td>\n",
              "    </tr>\n",
              "    <tr>\n",
              "      <th>min</th>\n",
              "      <td>12.000000</td>\n",
              "    </tr>\n",
              "    <tr>\n",
              "      <th>25%</th>\n",
              "      <td>45.000000</td>\n",
              "    </tr>\n",
              "    <tr>\n",
              "      <th>50%</th>\n",
              "      <td>55.000000</td>\n",
              "    </tr>\n",
              "    <tr>\n",
              "      <th>75%</th>\n",
              "      <td>75.000000</td>\n",
              "    </tr>\n",
              "    <tr>\n",
              "      <th>max</th>\n",
              "      <td>650.000000</td>\n",
              "    </tr>\n",
              "  </tbody>\n",
              "</table>\n",
              "</div><br><label><b>dtype:</b> float64</label>"
            ]
          },
          "metadata": {},
          "execution_count": 238
        }
      ]
    },
    {
      "cell_type": "code",
      "source": [
        "pd.set_option('display.max_colwidth', None)\n",
        "clean.loc[clean['meter2']>600, 'link']"
      ],
      "metadata": {
        "colab": {
          "base_uri": "https://localhost:8080/",
          "height": 115
        },
        "id": "_58Wxr2FGxSb",
        "outputId": "27779438-c4fa-41e7-d906-1e44cbb46cf0"
      },
      "execution_count": 239,
      "outputs": [
        {
          "output_type": "execute_result",
          "data": {
            "text/plain": [
              "1133    https://www.alberlet.hu//kiado_alberlet/budapest-IX-kerulet-illatos-ut-650m2-10-szoba_742419\n",
              "Name: link, dtype: object"
            ],
            "text/html": [
              "<div>\n",
              "<style scoped>\n",
              "    .dataframe tbody tr th:only-of-type {\n",
              "        vertical-align: middle;\n",
              "    }\n",
              "\n",
              "    .dataframe tbody tr th {\n",
              "        vertical-align: top;\n",
              "    }\n",
              "\n",
              "    .dataframe thead th {\n",
              "        text-align: right;\n",
              "    }\n",
              "</style>\n",
              "<table border=\"1\" class=\"dataframe\">\n",
              "  <thead>\n",
              "    <tr style=\"text-align: right;\">\n",
              "      <th></th>\n",
              "      <th>link</th>\n",
              "    </tr>\n",
              "  </thead>\n",
              "  <tbody>\n",
              "    <tr>\n",
              "      <th>1133</th>\n",
              "      <td>https://www.alberlet.hu//kiado_alberlet/budapest-IX-kerulet-illatos-ut-650m2-10-szoba_742419</td>\n",
              "    </tr>\n",
              "  </tbody>\n",
              "</table>\n",
              "</div><br><label><b>dtype:</b> object</label>"
            ]
          },
          "metadata": {},
          "execution_count": 239
        }
      ]
    },
    {
      "cell_type": "code",
      "source": [
        "plot = (\n",
        "    ggplot(clean, aes(x='meter2')) +\n",
        "    geom_histogram(binwidth=5, fill='steelblue') +\n",
        "    labs(title='Distribution of square meters', x='Square meters', y='Frequency') +\n",
        "    theme_minimal() +\n",
        "    theme(figure_size=(8, 5))\n",
        ")\n",
        "\n",
        "display(plot)"
      ],
      "metadata": {
        "colab": {
          "base_uri": "https://localhost:8080/",
          "height": 517
        },
        "id": "Tts0MvWNLkKJ",
        "outputId": "0972cd89-749e-43ce-dad3-14461deb7b60"
      },
      "execution_count": 240,
      "outputs": [
        {
          "output_type": "display_data",
          "data": {
            "image/png": "[encoded data removed]"
          },
          "metadata": {
            "image/png": {
              "width": 800,
              "height": 500
            }
          }
        }
      ]
    },
    {
      "cell_type": "code",
      "source": [
        "clean[['rooms', 'halfrooms']] = clean['number_of_rooms'].str.split('+', expand=True, n=1)\n",
        "clean[['n_rooms', 'room_t1']] = clean['rooms'].str.split(' ', expand=True, n=1)\n",
        "clean['n_rooms'] = pd.to_numeric(clean['n_rooms'], errors='coerce')"
      ],
      "metadata": {
        "id": "olYQLdE_Yc6T",
        "colab": {
          "base_uri": "https://localhost:8080/"
        },
        "outputId": "12e8242c-7f4c-41dc-a305-21a11264ebd0"
      },
      "execution_count": 241,
      "outputs": [
        {
          "output_type": "stream",
          "name": "stderr",
          "text": [
            "<ipython-input-241-daeef28fe613>:1: SettingWithCopyWarning:\n",
            "\n",
            "\n",
            "A value is trying to be set on a copy of a slice from a DataFrame.\n",
            "Try using .loc[row_indexer,col_indexer] = value instead\n",
            "\n",
            "See the caveats in the documentation: https://pandas.pydata.org/pandas-docs/stable/user_guide/indexing.html#returning-a-view-versus-a-copy\n",
            "\n",
            "<ipython-input-241-daeef28fe613>:1: SettingWithCopyWarning:\n",
            "\n",
            "\n",
            "A value is trying to be set on a copy of a slice from a DataFrame.\n",
            "Try using .loc[row_indexer,col_indexer] = value instead\n",
            "\n",
            "See the caveats in the documentation: https://pandas.pydata.org/pandas-docs/stable/user_guide/indexing.html#returning-a-view-versus-a-copy\n",
            "\n",
            "<ipython-input-241-daeef28fe613>:2: SettingWithCopyWarning:\n",
            "\n",
            "\n",
            "A value is trying to be set on a copy of a slice from a DataFrame.\n",
            "Try using .loc[row_indexer,col_indexer] = value instead\n",
            "\n",
            "See the caveats in the documentation: https://pandas.pydata.org/pandas-docs/stable/user_guide/indexing.html#returning-a-view-versus-a-copy\n",
            "\n",
            "<ipython-input-241-daeef28fe613>:2: SettingWithCopyWarning:\n",
            "\n",
            "\n",
            "A value is trying to be set on a copy of a slice from a DataFrame.\n",
            "Try using .loc[row_indexer,col_indexer] = value instead\n",
            "\n",
            "See the caveats in the documentation: https://pandas.pydata.org/pandas-docs/stable/user_guide/indexing.html#returning-a-view-versus-a-copy\n",
            "\n",
            "<ipython-input-241-daeef28fe613>:3: SettingWithCopyWarning:\n",
            "\n",
            "\n",
            "A value is trying to be set on a copy of a slice from a DataFrame.\n",
            "Try using .loc[row_indexer,col_indexer] = value instead\n",
            "\n",
            "See the caveats in the documentation: https://pandas.pydata.org/pandas-docs/stable/user_guide/indexing.html#returning-a-view-versus-a-copy\n",
            "\n"
          ]
        }
      ]
    },
    {
      "cell_type": "code",
      "source": [
        "clean.n_rooms.value_counts()"
      ],
      "metadata": {
        "colab": {
          "base_uri": "https://localhost:8080/",
          "height": 366
        },
        "id": "akVT_D4hW_aZ",
        "outputId": "0eb8d4b4-a788-4d40-ff69-eb25ec2b6129"
      },
      "execution_count": 242,
      "outputs": [
        {
          "output_type": "execute_result",
          "data": {
            "text/plain": [
              "n_rooms\n",
              "1     303\n",
              "2     296\n",
              "3     217\n",
              "4      55\n",
              "5       3\n",
              "6       2\n",
              "10      1\n",
              "11      1\n",
              "Name: count, dtype: int64"
            ],
            "text/html": [
              "<div>\n",
              "<style scoped>\n",
              "    .dataframe tbody tr th:only-of-type {\n",
              "        vertical-align: middle;\n",
              "    }\n",
              "\n",
              "    .dataframe tbody tr th {\n",
              "        vertical-align: top;\n",
              "    }\n",
              "\n",
              "    .dataframe thead th {\n",
              "        text-align: right;\n",
              "    }\n",
              "</style>\n",
              "<table border=\"1\" class=\"dataframe\">\n",
              "  <thead>\n",
              "    <tr style=\"text-align: right;\">\n",
              "      <th></th>\n",
              "      <th>count</th>\n",
              "    </tr>\n",
              "    <tr>\n",
              "      <th>n_rooms</th>\n",
              "      <th></th>\n",
              "    </tr>\n",
              "  </thead>\n",
              "  <tbody>\n",
              "    <tr>\n",
              "      <th>1</th>\n",
              "      <td>303</td>\n",
              "    </tr>\n",
              "    <tr>\n",
              "      <th>2</th>\n",
              "      <td>296</td>\n",
              "    </tr>\n",
              "    <tr>\n",
              "      <th>3</th>\n",
              "      <td>217</td>\n",
              "    </tr>\n",
              "    <tr>\n",
              "      <th>4</th>\n",
              "      <td>55</td>\n",
              "    </tr>\n",
              "    <tr>\n",
              "      <th>5</th>\n",
              "      <td>3</td>\n",
              "    </tr>\n",
              "    <tr>\n",
              "      <th>6</th>\n",
              "      <td>2</td>\n",
              "    </tr>\n",
              "    <tr>\n",
              "      <th>10</th>\n",
              "      <td>1</td>\n",
              "    </tr>\n",
              "    <tr>\n",
              "      <th>11</th>\n",
              "      <td>1</td>\n",
              "    </tr>\n",
              "  </tbody>\n",
              "</table>\n",
              "</div><br><label><b>dtype:</b> int64</label>"
            ]
          },
          "metadata": {},
          "execution_count": 242
        }
      ]
    },
    {
      "cell_type": "code",
      "source": [
        "plot = (\n",
        "    ggplot(clean, aes(x='n_rooms')) +\n",
        "    geom_histogram(binwidth=1, fill='steelblue') +\n",
        "    labs(title='Distribution of number_of_rooms', x='Number of rooms', y='Frequency') +\n",
        "    theme_minimal() +\n",
        "    theme(figure_size=(8, 5))\n",
        ")\n",
        "\n",
        "display(plot)"
      ],
      "metadata": {
        "colab": {
          "base_uri": "https://localhost:8080/",
          "height": 517
        },
        "id": "lofWrrx7XIjC",
        "outputId": "da09d388-3138-4e0f-d7d6-65c56eb9454f"
      },
      "execution_count": 243,
      "outputs": [
        {
          "output_type": "display_data",
          "data": {
            "image/png": "[encoded data removed]"
          },
          "metadata": {
            "image/png": {
              "width": 800,
              "height": 500
            }
          }
        }
      ]
    },
    {
      "cell_type": "code",
      "source": [
        "clean.halfrooms.unique()"
      ],
      "metadata": {
        "colab": {
          "base_uri": "https://localhost:8080/"
        },
        "id": "cY8m-PGKZIvp",
        "outputId": "2a7b65b6-a373-4579-ad9d-f1a8d8ca691d"
      },
      "execution_count": 244,
      "outputs": [
        {
          "output_type": "execute_result",
          "data": {
            "text/plain": [
              "array([None, ' 1 félszoba', ' 2 félszoba', ' 3 félszoba'], dtype=object)"
            ]
          },
          "metadata": {},
          "execution_count": 244
        }
      ]
    },
    {
      "cell_type": "code",
      "source": [
        "def categorize_halfrooms(halfroom):\n",
        "    if pd.isna(halfroom):\n",
        "        return 0\n",
        "    elif '1' in halfroom:\n",
        "        return 1\n",
        "    elif '2' in halfroom:\n",
        "        return 2\n",
        "    elif '3' in halfroom:\n",
        "        return 3\n",
        "    else:\n",
        "        return 0\n",
        "\n",
        "clean['n_halfrooms'] = clean['halfrooms'].apply(categorize_halfrooms)"
      ],
      "metadata": {
        "id": "9nuBnfFDZaU7",
        "colab": {
          "base_uri": "https://localhost:8080/"
        },
        "outputId": "b4814ea4-57f5-454a-8a84-2eb7319ee736"
      },
      "execution_count": 245,
      "outputs": [
        {
          "output_type": "stream",
          "name": "stderr",
          "text": [
            "<ipython-input-245-cc2c34fde501>:13: SettingWithCopyWarning:\n",
            "\n",
            "\n",
            "A value is trying to be set on a copy of a slice from a DataFrame.\n",
            "Try using .loc[row_indexer,col_indexer] = value instead\n",
            "\n",
            "See the caveats in the documentation: https://pandas.pydata.org/pandas-docs/stable/user_guide/indexing.html#returning-a-view-versus-a-copy\n",
            "\n"
          ]
        }
      ]
    },
    {
      "cell_type": "code",
      "source": [
        "clean.n_halfrooms.value_counts()"
      ],
      "metadata": {
        "colab": {
          "base_uri": "https://localhost:8080/",
          "height": 241
        },
        "id": "NXGUcGnPX9yG",
        "outputId": "e3e135b9-258c-4ab7-ea9b-7063c6b881d6"
      },
      "execution_count": 246,
      "outputs": [
        {
          "output_type": "execute_result",
          "data": {
            "text/plain": [
              "n_halfrooms\n",
              "0    693\n",
              "1    145\n",
              "2     39\n",
              "3      1\n",
              "Name: count, dtype: int64"
            ],
            "text/html": [
              "<div>\n",
              "<style scoped>\n",
              "    .dataframe tbody tr th:only-of-type {\n",
              "        vertical-align: middle;\n",
              "    }\n",
              "\n",
              "    .dataframe tbody tr th {\n",
              "        vertical-align: top;\n",
              "    }\n",
              "\n",
              "    .dataframe thead th {\n",
              "        text-align: right;\n",
              "    }\n",
              "</style>\n",
              "<table border=\"1\" class=\"dataframe\">\n",
              "  <thead>\n",
              "    <tr style=\"text-align: right;\">\n",
              "      <th></th>\n",
              "      <th>count</th>\n",
              "    </tr>\n",
              "    <tr>\n",
              "      <th>n_halfrooms</th>\n",
              "      <th></th>\n",
              "    </tr>\n",
              "  </thead>\n",
              "  <tbody>\n",
              "    <tr>\n",
              "      <th>0</th>\n",
              "      <td>693</td>\n",
              "    </tr>\n",
              "    <tr>\n",
              "      <th>1</th>\n",
              "      <td>145</td>\n",
              "    </tr>\n",
              "    <tr>\n",
              "      <th>2</th>\n",
              "      <td>39</td>\n",
              "    </tr>\n",
              "    <tr>\n",
              "      <th>3</th>\n",
              "      <td>1</td>\n",
              "    </tr>\n",
              "  </tbody>\n",
              "</table>\n",
              "</div><br><label><b>dtype:</b> int64</label>"
            ]
          },
          "metadata": {},
          "execution_count": 246
        }
      ]
    },
    {
      "cell_type": "code",
      "source": [
        "plot = (\n",
        "    ggplot(clean, aes(x='n_halfrooms')) +\n",
        "    geom_histogram(binwidth=1, fill='steelblue') +\n",
        "    labs(title='Distribution of n_halfrooms', x='Number of half rooms', y='Frequency') +\n",
        "    theme_minimal() +\n",
        "    theme(figure_size=(8, 5))\n",
        ")\n",
        "\n",
        "display(plot)"
      ],
      "metadata": {
        "colab": {
          "base_uri": "https://localhost:8080/",
          "height": 517
        },
        "id": "jPuM6ymnjmlX",
        "outputId": "3a3cfbaa-04ae-4f2b-9f92-4e3df0d2e293"
      },
      "execution_count": 247,
      "outputs": [
        {
          "output_type": "display_data",
          "data": {
            "image/png": "[encoded data removed]"
          },
          "metadata": {
            "image/png": {
              "width": 800,
              "height": 500
            }
          }
        }
      ]
    },
    {
      "cell_type": "code",
      "source": [
        "clean['total_n_rooms'] = clean['n_rooms']+0.5*clean['n_halfrooms']"
      ],
      "metadata": {
        "id": "jbQAwYhQj4Rj",
        "colab": {
          "base_uri": "https://localhost:8080/"
        },
        "outputId": "81c62eed-1b6a-46ad-8966-fb9259e23a0b"
      },
      "execution_count": 248,
      "outputs": [
        {
          "output_type": "stream",
          "name": "stderr",
          "text": [
            "<ipython-input-248-4a9c35d2c2ef>:1: SettingWithCopyWarning:\n",
            "\n",
            "\n",
            "A value is trying to be set on a copy of a slice from a DataFrame.\n",
            "Try using .loc[row_indexer,col_indexer] = value instead\n",
            "\n",
            "See the caveats in the documentation: https://pandas.pydata.org/pandas-docs/stable/user_guide/indexing.html#returning-a-view-versus-a-copy\n",
            "\n"
          ]
        }
      ]
    },
    {
      "cell_type": "code",
      "source": [
        "clean['total_n_rooms'].value_counts()"
      ],
      "metadata": {
        "colab": {
          "base_uri": "https://localhost:8080/",
          "height": 492
        },
        "id": "514SWgtQkIRv",
        "outputId": "3e7d1ca7-d5de-4fd5-ca83-fb916f187c83"
      },
      "execution_count": 249,
      "outputs": [
        {
          "output_type": "execute_result",
          "data": {
            "text/plain": [
              "total_n_rooms\n",
              "2.0     266\n",
              "3.0     209\n",
              "1.0     194\n",
              "1.5      82\n",
              "4.0      56\n",
              "2.5      48\n",
              "3.5      13\n",
              "5.0       3\n",
              "4.5       3\n",
              "6.0       2\n",
              "10.0      1\n",
              "11.0      1\n",
              "Name: count, dtype: int64"
            ],
            "text/html": [
              "<div>\n",
              "<style scoped>\n",
              "    .dataframe tbody tr th:only-of-type {\n",
              "        vertical-align: middle;\n",
              "    }\n",
              "\n",
              "    .dataframe tbody tr th {\n",
              "        vertical-align: top;\n",
              "    }\n",
              "\n",
              "    .dataframe thead th {\n",
              "        text-align: right;\n",
              "    }\n",
              "</style>\n",
              "<table border=\"1\" class=\"dataframe\">\n",
              "  <thead>\n",
              "    <tr style=\"text-align: right;\">\n",
              "      <th></th>\n",
              "      <th>count</th>\n",
              "    </tr>\n",
              "    <tr>\n",
              "      <th>total_n_rooms</th>\n",
              "      <th></th>\n",
              "    </tr>\n",
              "  </thead>\n",
              "  <tbody>\n",
              "    <tr>\n",
              "      <th>2.0</th>\n",
              "      <td>266</td>\n",
              "    </tr>\n",
              "    <tr>\n",
              "      <th>3.0</th>\n",
              "      <td>209</td>\n",
              "    </tr>\n",
              "    <tr>\n",
              "      <th>1.0</th>\n",
              "      <td>194</td>\n",
              "    </tr>\n",
              "    <tr>\n",
              "      <th>1.5</th>\n",
              "      <td>82</td>\n",
              "    </tr>\n",
              "    <tr>\n",
              "      <th>4.0</th>\n",
              "      <td>56</td>\n",
              "    </tr>\n",
              "    <tr>\n",
              "      <th>2.5</th>\n",
              "      <td>48</td>\n",
              "    </tr>\n",
              "    <tr>\n",
              "      <th>3.5</th>\n",
              "      <td>13</td>\n",
              "    </tr>\n",
              "    <tr>\n",
              "      <th>5.0</th>\n",
              "      <td>3</td>\n",
              "    </tr>\n",
              "    <tr>\n",
              "      <th>4.5</th>\n",
              "      <td>3</td>\n",
              "    </tr>\n",
              "    <tr>\n",
              "      <th>6.0</th>\n",
              "      <td>2</td>\n",
              "    </tr>\n",
              "    <tr>\n",
              "      <th>10.0</th>\n",
              "      <td>1</td>\n",
              "    </tr>\n",
              "    <tr>\n",
              "      <th>11.0</th>\n",
              "      <td>1</td>\n",
              "    </tr>\n",
              "  </tbody>\n",
              "</table>\n",
              "</div><br><label><b>dtype:</b> int64</label>"
            ]
          },
          "metadata": {},
          "execution_count": 249
        }
      ]
    },
    {
      "cell_type": "code",
      "source": [
        "plot = (\n",
        "    ggplot(clean, aes(x='total_n_rooms')) +\n",
        "    geom_histogram(binwidth=1, fill='steelblue') +\n",
        "    labs(title='Distribution of total_n_rooms', x='Total number rooms', y='Frequency') +\n",
        "    theme_minimal() +\n",
        "    theme(figure_size=(8, 5))\n",
        ")\n",
        "\n",
        "display(plot)"
      ],
      "metadata": {
        "colab": {
          "base_uri": "https://localhost:8080/",
          "height": 517
        },
        "id": "bmXUTN8wkXIP",
        "outputId": "2ccbacbc-f3db-4741-d631-1747c0dc5fd6"
      },
      "execution_count": 250,
      "outputs": [
        {
          "output_type": "display_data",
          "data": {
            "image/png": "[encoded data removed]"
          },
          "metadata": {
            "image/png": {
              "width": 800,
              "height": 500
            }
          }
        }
      ]
    },
    {
      "cell_type": "markdown",
      "source": [
        "**Building type**"
      ],
      "metadata": {
        "id": "_v41l6G4MHEt"
      }
    },
    {
      "cell_type": "code",
      "source": [
        "clean.building_type.unique()"
      ],
      "metadata": {
        "colab": {
          "base_uri": "https://localhost:8080/"
        },
        "id": "bVGqhHxZ7ydW",
        "outputId": "e8c191cc-31d5-406d-d63b-39f57c1f5638"
      },
      "execution_count": 251,
      "outputs": [
        {
          "output_type": "execute_result",
          "data": {
            "text/plain": [
              "array(['Lakás'], dtype=object)"
            ]
          },
          "metadata": {},
          "execution_count": 251
        }
      ]
    },
    {
      "cell_type": "markdown",
      "source": [
        "It is clean"
      ],
      "metadata": {
        "id": "YqWHXsWUMMFo"
      }
    },
    {
      "cell_type": "markdown",
      "source": [
        "**Neighbourhood**"
      ],
      "metadata": {
        "id": "wAVC05JaMOg2"
      }
    },
    {
      "cell_type": "code",
      "source": [
        "clean.neighbourhood.unique()"
      ],
      "metadata": {
        "colab": {
          "base_uri": "https://localhost:8080/"
        },
        "id": "xLkmYfnY7yWG",
        "outputId": "1efc5fab-f9c4-4214-dfbb-d18124fa8efc"
      },
      "execution_count": 252,
      "outputs": [
        {
          "output_type": "execute_result",
          "data": {
            "text/plain": [
              "array([nan, 'Terézváros', 'Belváros', 'Lipótváros',\n",
              "       'Nagyzugló – Kerepesi úti lakótelep', 'Németvölgy',\n",
              "       'Vizafogó – Marinapart', 'Alsórákos', 'Gellérthegy', 'Sasad',\n",
              "       'Gloriett lakótelep', 'Angyalföld-Kertváros', 'Istvánmező',\n",
              "       'Herminamező', 'Újlipótváros – Rómaikert',\n",
              "       'Középső-Ferencváros – Millenniumi városközpont', 'Óbuda-Óváros',\n",
              "       'Angyalföld', 'Istvántelek', 'Külső-Erzsébetváros',\n",
              "       'Józsefváros – Palotanegyed', 'Erzsébetváros', 'Óbuda',\n",
              "       'Kőbánya – Újhegyi lakótelep', 'Erzsébetfalva', 'Táborhegy',\n",
              "       'Zöldmál', 'Belső-Erzsébetváros', 'Vizafogó', 'Országút',\n",
              "       'Józsefváros – Orczynegyed', 'Albertfalva',\n",
              "       'Lágymányos – Műegyetem környéke', 'Újpest',\n",
              "       'József Attila lakótelep', 'Csepel-Csillagtelep', 'Békásmegyer',\n",
              "       'Újlipótváros', 'Szentimreváros', 'Kelenföld',\n",
              "       'Középső-Ferencváros – Rehabilitációs terület',\n",
              "       'Alsórákos – Füredi utcai lakótelep', 'Virányos', 'Budatétény',\n",
              "       'Angyalföld – Lőportárdűlő', 'Belső-Ferencváros',\n",
              "       'Józsefváros – Corvinnegyed', 'Belső-Terézváros',\n",
              "       'Újpesti lakótelep', 'Újlak', 'Sashegy', 'Kúttó', 'Józsefváros',\n",
              "       'Nádorkert', 'Középső-Ferencváros', 'Filatorigát', 'Zugliget',\n",
              "       'Széchenyi-hegy', 'Budafok', 'Ürömhegy', 'Kelenföldi lakótelep',\n",
              "       'Szépvölgy', 'Ferencváros', 'Kurucles', 'Sashalom',\n",
              "       'Kispesti lakótelep', 'József Attila-lakótelep',\n",
              "       'II/A kerület – Adyliget', 'Spanyolrét',\n",
              "       'Külső-Erzsébetváros – Ligetváros', 'Törökőr', 'Wekerletelep',\n",
              "       'Józsefváros – Csarnoknegyed',\n",
              "       'Angyalföld – Fiastyúk utcai lakótelep', 'Gubacsi lakótelep',\n",
              "       'Víziváros – Váralja', 'Szépilona', 'Külső-Terézváros',\n",
              "       'Víziváros', 'Cinkota – Európa-lakókert',\n",
              "       'Józsefváros – Népszínháznegyed',\n",
              "       'Külső-Terézváros - Diplomatanegyed', 'Kaszásdűlő', 'Gyárdűlő',\n",
              "       'Rákosszentmihály', 'Göncz Árpád-városközpont',\n",
              "       'Középső-Erzsébetváros', 'Kőbánya – Újhegy', 'Mátyásföld',\n",
              "       'Középső-Ferencváros – Malmok', 'Csepel', 'Szemlőhegy',\n",
              "       'Újlipótváros – Kleopátraház', 'Békásmegyer – Pünkösdfürdő',\n",
              "       'Kissvábhegy', 'Budapart', 'Józsefváros – Losoncinegyed',\n",
              "       'Újmátyásföld – Centenáriumi lakótelep', 'Istenhegy', 'Orbánhegy',\n",
              "       'Zugló', 'Káposztásmegyer I. lakótelep', 'Mártonhegy',\n",
              "       'Csillaghegy', 'Rózsadomb', 'Újpest-Központ',\n",
              "       'Törökkő – Gyógyszergyár utcai lakótelep',\n",
              "       'Újlipótváros – Cézárház', 'Kelenföld – Nádorliget-lakópark',\n",
              "       'Sashalom – Egyenes utcai lakótelep', 'Csepel-Belváros',\n",
              "       'Rákospalota', 'Rákoscsaba', 'Pasarét', 'Rómaifürdő – Rómaipart',\n",
              "       'Rákoshegy – Helikopter lakópark', 'Gazdagrét', 'Rómaifürdő',\n",
              "       'Vizafogó lakótelep', 'Nagyzugló',\n",
              "       'Angyalföld – Országbíró utcai lakótelep', 'Őrmező',\n",
              "       'Békásmegyeri lakótelep hegy felől', 'II/A kerület – Széphalom',\n",
              "       'Vérhalom', 'Soroksár – Millenniumtelep',\n",
              "       'Káposztásmegyer – Farkaserdő', 'Rákosfalva',\n",
              "       'Erzsébetfalva – Pesterzsébeti lakótelep', 'Óbudai lakótelep',\n",
              "       'Krisztinaváros – Városmajor', 'Újpalota', 'Kiszugló', 'Rézmál',\n",
              "       'Angyalföld – Béke–Tatai utcai lakótelep',\n",
              "       'Mátyásföld – Petőfikert', 'Kispest', 'Pálvölgy',\n",
              "       'II/A kerület – Hársakalja', 'Kőbánya-Kertváros',\n",
              "       'Külső-Ferencváros', 'Svábhegy', 'Gazdagréti lakótelep',\n",
              "       'Szent Imre-kertváros', 'Krisztinaváros', 'Vár', 'Csatárka',\n",
              "       'Pestújhely', 'Gubacs – Mediterrán lakópark', 'Törökvész',\n",
              "       'Józsefváros – Magdolnanegyed', 'Krisztinaváros – Váralja',\n",
              "       'Tisztviselőtelep', 'Farkasrét', 'Óbuda – Kísérleti lakótelep'],\n",
              "      dtype=object)"
            ]
          },
          "metadata": {},
          "execution_count": 252
        }
      ]
    },
    {
      "cell_type": "markdown",
      "source": [
        "It is clean"
      ],
      "metadata": {
        "id": "TgQnWX6jMR-h"
      }
    },
    {
      "cell_type": "markdown",
      "source": [
        "**Sight**"
      ],
      "metadata": {
        "id": "GD_saisRMT7G"
      }
    },
    {
      "cell_type": "code",
      "source": [
        "clean.sight.unique()"
      ],
      "metadata": {
        "id": "On1RT-sQ_wUV",
        "colab": {
          "base_uri": "https://localhost:8080/"
        },
        "outputId": "85f6f411-2274-4953-83cb-6c1f9de514a8"
      },
      "execution_count": 253,
      "outputs": [
        {
          "output_type": "execute_result",
          "data": {
            "text/plain": [
              "array(['Városi panoráma', 'Udvari, világos', 'Tetőkre néző',\n",
              "       'Utcai, csendes', 'Utcai és udvari', 'Udvari', 'Utcai',\n",
              "       'Kertre néző', 'Panorámás', 'Parkra néző', 'Utcai, világos',\n",
              "       'Hegyvidéki panoráma', 'Dunai', 'Udvari, nem világos',\n",
              "       'Udvari és tűzfal', 'Térre néző', 'Utcai, forgalmas'], dtype=object)"
            ]
          },
          "metadata": {},
          "execution_count": 253
        }
      ]
    },
    {
      "cell_type": "markdown",
      "source": [
        "It contains too many unnecessary variables"
      ],
      "metadata": {
        "id": "A36daeXaMWxx"
      }
    },
    {
      "cell_type": "code",
      "source": [
        "def map_sight(value):\n",
        "    if pd.isna(value):\n",
        "        return None\n",
        "    value = value.lower()\n",
        "    if 'utca' in value:\n",
        "        return 'utca'\n",
        "    elif 'udvar' in value:\n",
        "        return 'udvar'\n",
        "    elif 'park' in value:\n",
        "        return 'park'\n",
        "    else:\n",
        "        return 'other'"
      ],
      "metadata": {
        "id": "42hItD3A9_Il"
      },
      "execution_count": 254,
      "outputs": []
    },
    {
      "cell_type": "code",
      "source": [
        "clean['sight_small'] = clean['sight'].apply(map_sight)\n",
        "clean.sight_small.unique()"
      ],
      "metadata": {
        "id": "M7zcBTbX_wQy",
        "colab": {
          "base_uri": "https://localhost:8080/"
        },
        "outputId": "aae444c0-6d11-45d9-86b9-11eec1c35886"
      },
      "execution_count": 255,
      "outputs": [
        {
          "output_type": "stream",
          "name": "stderr",
          "text": [
            "<ipython-input-255-c7a6321ad1f0>:1: SettingWithCopyWarning:\n",
            "\n",
            "\n",
            "A value is trying to be set on a copy of a slice from a DataFrame.\n",
            "Try using .loc[row_indexer,col_indexer] = value instead\n",
            "\n",
            "See the caveats in the documentation: https://pandas.pydata.org/pandas-docs/stable/user_guide/indexing.html#returning-a-view-versus-a-copy\n",
            "\n"
          ]
        },
        {
          "output_type": "execute_result",
          "data": {
            "text/plain": [
              "array(['other', 'udvar', 'utca', 'park'], dtype=object)"
            ]
          },
          "metadata": {},
          "execution_count": 255
        }
      ]
    },
    {
      "cell_type": "code",
      "source": [
        "sight_counts = clean['sight_small'].value_counts().reset_index()\n",
        "sight_counts.columns = ['sight', 'count']\n",
        "\n",
        "import plotly.express as px\n",
        "fig2 = px.bar(sight_counts, x = 'count', y = 'sight',\n",
        "              title = 'Number of listings based on sight type',\n",
        "              template = 'simple_white',\n",
        "              text_auto = True\n",
        "              )\n",
        "\n",
        "fig2.update_layout( xaxis_title = None, yaxis_title = None,\n",
        "                   title_x = 0.5, yaxis_categoryorder = 'total ascending')\n",
        "\n",
        "fig2.update_traces( textposition = 'outside')\n",
        "\n",
        "fig2.update_xaxes(visible = False)"
      ],
      "metadata": {
        "id": "MkJK2o6v_wAy",
        "colab": {
          "base_uri": "https://localhost:8080/",
          "height": 542
        },
        "outputId": "9cb59514-96b1-4c30-a6ce-bdc57da3ee46"
      },
      "execution_count": 256,
      "outputs": [
        {
          "output_type": "display_data",
          "data": {
            "text/html": [
              "<html>\n",
              "<head><meta charset=\"utf-8\" /></head>\n",
              "<body>\n",
              "    <div>            <script src=\"https://cdnjs.cloudflare.com/ajax/libs/mathjax/2.7.5/MathJax.js?config=TeX-AMS-MML_SVG\"></script><script type=\"text/javascript\">if (window.MathJax && window.MathJax.Hub && window.MathJax.Hub.Config) {window.MathJax.Hub.Config({SVG: {font: \"STIX-Web\"}});}</script>                <script type=\"text/javascript\">window.PlotlyConfig = {MathJaxConfig: 'local'};</script>\n",
              "        <script charset=\"utf-8\" src=\"https://cdn.plot.ly/plotly-2.35.2.min.js\"></script>                <div id=\"d10dd22a-688d-4df0-9572-e8b571203d76\" class=\"plotly-graph-div\" style=\"height:525px; width:100%;\"></div>            <script type=\"text/javascript\">                                    window.PLOTLYENV=window.PLOTLYENV || {};                                    if (document.getElementById(\"d10dd22a-688d-4df0-9572-e8b571203d76\")) {                    Plotly.newPlot(                        \"d10dd22a-688d-4df0-9572-e8b571203d76\",                        [{\"alignmentgroup\":\"True\",\"hovertemplate\":\"count=%{x}\\u003cbr\\u003esight=%{y}\\u003cextra\\u003e\\u003c\\u002fextra\\u003e\",\"legendgroup\":\"\",\"marker\":{\"color\":\"#1F77B4\",\"pattern\":{\"shape\":\"\"}},\"name\":\"\",\"offsetgroup\":\"\",\"orientation\":\"h\",\"showlegend\":false,\"textposition\":\"outside\",\"texttemplate\":\"%{x}\",\"x\":[325,292,204,57],\"xaxis\":\"x\",\"y\":[\"utca\",\"other\",\"udvar\",\"park\"],\"yaxis\":\"y\",\"type\":\"bar\"}],                        {\"template\":{\"data\":{\"barpolar\":[{\"marker\":{\"line\":{\"color\":\"white\",\"width\":0.5},\"pattern\":{\"fillmode\":\"overlay\",\"size\":10,\"solidity\":0.2}},\"type\":\"barpolar\"}],\"bar\":[{\"error_x\":{\"color\":\"rgb(36,36,36)\"},\"error_y\":{\"color\":\"rgb(36,36,36)\"},\"marker\":{\"line\":{\"color\":\"white\",\"width\":0.5},\"pattern\":{\"fillmode\":\"overlay\",\"size\":10,\"solidity\":0.2}},\"type\":\"bar\"}],\"carpet\":[{\"aaxis\":{\"endlinecolor\":\"rgb(36,36,36)\",\"gridcolor\":\"white\",\"linecolor\":\"white\",\"minorgridcolor\":\"white\",\"startlinecolor\":\"rgb(36,36,36)\"},\"baxis\":{\"endlinecolor\":\"rgb(36,36,36)\",\"gridcolor\":\"white\",\"linecolor\":\"white\",\"minorgridcolor\":\"white\",\"startlinecolor\":\"rgb(36,36,36)\"},\"type\":\"carpet\"}],\"choropleth\":[{\"colorbar\":{\"outlinewidth\":1,\"tickcolor\":\"rgb(36,36,36)\",\"ticks\":\"outside\"},\"type\":\"choropleth\"}],\"contourcarpet\":[{\"colorbar\":{\"outlinewidth\":1,\"tickcolor\":\"rgb(36,36,36)\",\"ticks\":\"outside\"},\"type\":\"contourcarpet\"}],\"contour\":[{\"colorbar\":{\"outlinewidth\":1,\"tickcolor\":\"rgb(36,36,36)\",\"ticks\":\"outside\"},\"colorscale\":[[0.0,\"#440154\"],[0.1111111111111111,\"#482878\"],[0.2222222222222222,\"#3e4989\"],[0.3333333333333333,\"#31688e\"],[0.4444444444444444,\"#26828e\"],[0.5555555555555556,\"#1f9e89\"],[0.6666666666666666,\"#35b779\"],[0.7777777777777778,\"#6ece58\"],[0.8888888888888888,\"#b5de2b\"],[1.0,\"#fde725\"]],\"type\":\"contour\"}],\"heatmapgl\":[{\"colorbar\":{\"outlinewidth\":1,\"tickcolor\":\"rgb(36,36,36)\",\"ticks\":\"outside\"},\"colorscale\":[[0.0,\"#440154\"],[0.1111111111111111,\"#482878\"],[0.2222222222222222,\"#3e4989\"],[0.3333333333333333,\"#31688e\"],[0.4444444444444444,\"#26828e\"],[0.5555555555555556,\"#1f9e89\"],[0.6666666666666666,\"#35b779\"],[0.7777777777777778,\"#6ece58\"],[0.8888888888888888,\"#b5de2b\"],[1.0,\"#fde725\"]],\"type\":\"heatmapgl\"}],\"heatmap\":[{\"colorbar\":{\"outlinewidth\":1,\"tickcolor\":\"rgb(36,36,36)\",\"ticks\":\"outside\"},\"colorscale\":[[0.0,\"#440154\"],[0.1111111111111111,\"#482878\"],[0.2222222222222222,\"#3e4989\"],[0.3333333333333333,\"#31688e\"],[0.4444444444444444,\"#26828e\"],[0.5555555555555556,\"#1f9e89\"],[0.6666666666666666,\"#35b779\"],[0.7777777777777778,\"#6ece58\"],[0.8888888888888888,\"#b5de2b\"],[1.0,\"#fde725\"]],\"type\":\"heatmap\"}],\"histogram2dcontour\":[{\"colorbar\":{\"outlinewidth\":1,\"tickcolor\":\"rgb(36,36,36)\",\"ticks\":\"outside\"},\"colorscale\":[[0.0,\"#440154\"],[0.1111111111111111,\"#482878\"],[0.2222222222222222,\"#3e4989\"],[0.3333333333333333,\"#31688e\"],[0.4444444444444444,\"#26828e\"],[0.5555555555555556,\"#1f9e89\"],[0.6666666666666666,\"#35b779\"],[0.7777777777777778,\"#6ece58\"],[0.8888888888888888,\"#b5de2b\"],[1.0,\"#fde725\"]],\"type\":\"histogram2dcontour\"}],\"histogram2d\":[{\"colorbar\":{\"outlinewidth\":1,\"tickcolor\":\"rgb(36,36,36)\",\"ticks\":\"outside\"},\"colorscale\":[[0.0,\"#440154\"],[0.1111111111111111,\"#482878\"],[0.2222222222222222,\"#3e4989\"],[0.3333333333333333,\"#31688e\"],[0.4444444444444444,\"#26828e\"],[0.5555555555555556,\"#1f9e89\"],[0.6666666666666666,\"#35b779\"],[0.7777777777777778,\"#6ece58\"],[0.8888888888888888,\"#b5de2b\"],[1.0,\"#fde725\"]],\"type\":\"histogram2d\"}],\"histogram\":[{\"marker\":{\"line\":{\"color\":\"white\",\"width\":0.6}},\"type\":\"histogram\"}],\"mesh3d\":[{\"colorbar\":{\"outlinewidth\":1,\"tickcolor\":\"rgb(36,36,36)\",\"ticks\":\"outside\"},\"type\":\"mesh3d\"}],\"parcoords\":[{\"line\":{\"colorbar\":{\"outlinewidth\":1,\"tickcolor\":\"rgb(36,36,36)\",\"ticks\":\"outside\"}},\"type\":\"parcoords\"}],\"pie\":[{\"automargin\":true,\"type\":\"pie\"}],\"scatter3d\":[{\"line\":{\"colorbar\":{\"outlinewidth\":1,\"tickcolor\":\"rgb(36,36,36)\",\"ticks\":\"outside\"}},\"marker\":{\"colorbar\":{\"outlinewidth\":1,\"tickcolor\":\"rgb(36,36,36)\",\"ticks\":\"outside\"}},\"type\":\"scatter3d\"}],\"scattercarpet\":[{\"marker\":{\"colorbar\":{\"outlinewidth\":1,\"tickcolor\":\"rgb(36,36,36)\",\"ticks\":\"outside\"}},\"type\":\"scattercarpet\"}],\"scattergeo\":[{\"marker\":{\"colorbar\":{\"outlinewidth\":1,\"tickcolor\":\"rgb(36,36,36)\",\"ticks\":\"outside\"}},\"type\":\"scattergeo\"}],\"scattergl\":[{\"marker\":{\"colorbar\":{\"outlinewidth\":1,\"tickcolor\":\"rgb(36,36,36)\",\"ticks\":\"outside\"}},\"type\":\"scattergl\"}],\"scattermapbox\":[{\"marker\":{\"colorbar\":{\"outlinewidth\":1,\"tickcolor\":\"rgb(36,36,36)\",\"ticks\":\"outside\"}},\"type\":\"scattermapbox\"}],\"scatterpolargl\":[{\"marker\":{\"colorbar\":{\"outlinewidth\":1,\"tickcolor\":\"rgb(36,36,36)\",\"ticks\":\"outside\"}},\"type\":\"scatterpolargl\"}],\"scatterpolar\":[{\"marker\":{\"colorbar\":{\"outlinewidth\":1,\"tickcolor\":\"rgb(36,36,36)\",\"ticks\":\"outside\"}},\"type\":\"scatterpolar\"}],\"scatter\":[{\"fillpattern\":{\"fillmode\":\"overlay\",\"size\":10,\"solidity\":0.2},\"type\":\"scatter\"}],\"scatterternary\":[{\"marker\":{\"colorbar\":{\"outlinewidth\":1,\"tickcolor\":\"rgb(36,36,36)\",\"ticks\":\"outside\"}},\"type\":\"scatterternary\"}],\"surface\":[{\"colorbar\":{\"outlinewidth\":1,\"tickcolor\":\"rgb(36,36,36)\",\"ticks\":\"outside\"},\"colorscale\":[[0.0,\"#440154\"],[0.1111111111111111,\"#482878\"],[0.2222222222222222,\"#3e4989\"],[0.3333333333333333,\"#31688e\"],[0.4444444444444444,\"#26828e\"],[0.5555555555555556,\"#1f9e89\"],[0.6666666666666666,\"#35b779\"],[0.7777777777777778,\"#6ece58\"],[0.8888888888888888,\"#b5de2b\"],[1.0,\"#fde725\"]],\"type\":\"surface\"}],\"table\":[{\"cells\":{\"fill\":{\"color\":\"rgb(237,237,237)\"},\"line\":{\"color\":\"white\"}},\"header\":{\"fill\":{\"color\":\"rgb(217,217,217)\"},\"line\":{\"color\":\"white\"}},\"type\":\"table\"}]},\"layout\":{\"annotationdefaults\":{\"arrowhead\":0,\"arrowwidth\":1},\"autotypenumbers\":\"strict\",\"coloraxis\":{\"colorbar\":{\"outlinewidth\":1,\"tickcolor\":\"rgb(36,36,36)\",\"ticks\":\"outside\"}},\"colorscale\":{\"diverging\":[[0.0,\"rgb(103,0,31)\"],[0.1,\"rgb(178,24,43)\"],[0.2,\"rgb(214,96,77)\"],[0.3,\"rgb(244,165,130)\"],[0.4,\"rgb(253,219,199)\"],[0.5,\"rgb(247,247,247)\"],[0.6,\"rgb(209,229,240)\"],[0.7,\"rgb(146,197,222)\"],[0.8,\"rgb(67,147,195)\"],[0.9,\"rgb(33,102,172)\"],[1.0,\"rgb(5,48,97)\"]],\"sequential\":[[0.0,\"#440154\"],[0.1111111111111111,\"#482878\"],[0.2222222222222222,\"#3e4989\"],[0.3333333333333333,\"#31688e\"],[0.4444444444444444,\"#26828e\"],[0.5555555555555556,\"#1f9e89\"],[0.6666666666666666,\"#35b779\"],[0.7777777777777778,\"#6ece58\"],[0.8888888888888888,\"#b5de2b\"],[1.0,\"#fde725\"]],\"sequentialminus\":[[0.0,\"#440154\"],[0.1111111111111111,\"#482878\"],[0.2222222222222222,\"#3e4989\"],[0.3333333333333333,\"#31688e\"],[0.4444444444444444,\"#26828e\"],[0.5555555555555556,\"#1f9e89\"],[0.6666666666666666,\"#35b779\"],[0.7777777777777778,\"#6ece58\"],[0.8888888888888888,\"#b5de2b\"],[1.0,\"#fde725\"]]},\"colorway\":[\"#1F77B4\",\"#FF7F0E\",\"#2CA02C\",\"#D62728\",\"#9467BD\",\"#8C564B\",\"#E377C2\",\"#7F7F7F\",\"#BCBD22\",\"#17BECF\"],\"font\":{\"color\":\"rgb(36,36,36)\"},\"geo\":{\"bgcolor\":\"white\",\"lakecolor\":\"white\",\"landcolor\":\"white\",\"showlakes\":true,\"showland\":true,\"subunitcolor\":\"white\"},\"hoverlabel\":{\"align\":\"left\"},\"hovermode\":\"closest\",\"mapbox\":{\"style\":\"light\"},\"paper_bgcolor\":\"white\",\"plot_bgcolor\":\"white\",\"polar\":{\"angularaxis\":{\"gridcolor\":\"rgb(232,232,232)\",\"linecolor\":\"rgb(36,36,36)\",\"showgrid\":false,\"showline\":true,\"ticks\":\"outside\"},\"bgcolor\":\"white\",\"radialaxis\":{\"gridcolor\":\"rgb(232,232,232)\",\"linecolor\":\"rgb(36,36,36)\",\"showgrid\":false,\"showline\":true,\"ticks\":\"outside\"}},\"scene\":{\"xaxis\":{\"backgroundcolor\":\"white\",\"gridcolor\":\"rgb(232,232,232)\",\"gridwidth\":2,\"linecolor\":\"rgb(36,36,36)\",\"showbackground\":true,\"showgrid\":false,\"showline\":true,\"ticks\":\"outside\",\"zeroline\":false,\"zerolinecolor\":\"rgb(36,36,36)\"},\"yaxis\":{\"backgroundcolor\":\"white\",\"gridcolor\":\"rgb(232,232,232)\",\"gridwidth\":2,\"linecolor\":\"rgb(36,36,36)\",\"showbackground\":true,\"showgrid\":false,\"showline\":true,\"ticks\":\"outside\",\"zeroline\":false,\"zerolinecolor\":\"rgb(36,36,36)\"},\"zaxis\":{\"backgroundcolor\":\"white\",\"gridcolor\":\"rgb(232,232,232)\",\"gridwidth\":2,\"linecolor\":\"rgb(36,36,36)\",\"showbackground\":true,\"showgrid\":false,\"showline\":true,\"ticks\":\"outside\",\"zeroline\":false,\"zerolinecolor\":\"rgb(36,36,36)\"}},\"shapedefaults\":{\"fillcolor\":\"black\",\"line\":{\"width\":0},\"opacity\":0.3},\"ternary\":{\"aaxis\":{\"gridcolor\":\"rgb(232,232,232)\",\"linecolor\":\"rgb(36,36,36)\",\"showgrid\":false,\"showline\":true,\"ticks\":\"outside\"},\"baxis\":{\"gridcolor\":\"rgb(232,232,232)\",\"linecolor\":\"rgb(36,36,36)\",\"showgrid\":false,\"showline\":true,\"ticks\":\"outside\"},\"bgcolor\":\"white\",\"caxis\":{\"gridcolor\":\"rgb(232,232,232)\",\"linecolor\":\"rgb(36,36,36)\",\"showgrid\":false,\"showline\":true,\"ticks\":\"outside\"}},\"title\":{\"x\":0.05},\"xaxis\":{\"automargin\":true,\"gridcolor\":\"rgb(232,232,232)\",\"linecolor\":\"rgb(36,36,36)\",\"showgrid\":false,\"showline\":true,\"ticks\":\"outside\",\"title\":{\"standoff\":15},\"zeroline\":false,\"zerolinecolor\":\"rgb(36,36,36)\"},\"yaxis\":{\"automargin\":true,\"gridcolor\":\"rgb(232,232,232)\",\"linecolor\":\"rgb(36,36,36)\",\"showgrid\":false,\"showline\":true,\"ticks\":\"outside\",\"title\":{\"standoff\":15},\"zeroline\":false,\"zerolinecolor\":\"rgb(36,36,36)\"}}},\"xaxis\":{\"anchor\":\"y\",\"domain\":[0.0,1.0],\"title\":{},\"visible\":false},\"yaxis\":{\"anchor\":\"x\",\"domain\":[0.0,1.0],\"title\":{},\"categoryorder\":\"total ascending\"},\"legend\":{\"tracegroupgap\":0},\"title\":{\"text\":\"Number of listings based on sight type\",\"x\":0.5},\"barmode\":\"relative\"},                        {\"responsive\": true}                    ).then(function(){\n",
              "                            \n",
              "var gd = document.getElementById('d10dd22a-688d-4df0-9572-e8b571203d76');\n",
              "var x = new MutationObserver(function (mutations, observer) {{\n",
              "        var display = window.getComputedStyle(gd).display;\n",
              "        if (!display || display === 'none') {{\n",
              "            console.log([gd, 'removed!']);\n",
              "            Plotly.purge(gd);\n",
              "            observer.disconnect();\n",
              "        }}\n",
              "}});\n",
              "\n",
              "// Listen for the removal of the full notebook cells\n",
              "var notebookContainer = gd.closest('#notebook-container');\n",
              "if (notebookContainer) {{\n",
              "    x.observe(notebookContainer, {childList: true});\n",
              "}}\n",
              "\n",
              "// Listen for the clearing of the current output cell\n",
              "var outputEl = gd.closest('.output');\n",
              "if (outputEl) {{\n",
              "    x.observe(outputEl, {childList: true});\n",
              "}}\n",
              "\n",
              "                        })                };                            </script>        </div>\n",
              "</body>\n",
              "</html>"
            ]
          },
          "metadata": {}
        }
      ]
    },
    {
      "cell_type": "markdown",
      "source": [
        "**Floor**"
      ],
      "metadata": {
        "id": "GVuV8G3bNNsh"
      }
    },
    {
      "cell_type": "code",
      "source": [
        "clean.floor.unique()"
      ],
      "metadata": {
        "colab": {
          "base_uri": "https://localhost:8080/"
        },
        "id": "_ekmGdXaNIMw",
        "outputId": "c5b06af8-20ca-4fd6-b2ef-8c9efc396bf3"
      },
      "execution_count": 257,
      "outputs": [
        {
          "output_type": "execute_result",
          "data": {
            "text/plain": [
              "array(['Több mint 10', '3', '4', '1', 'Magasföldszint', 'Földszint', '2',\n",
              "       '5', '10', '6', nan, '7', '8', 'Félemelet', '9', 'Szuterén',\n",
              "       'Félszuterén', 'Tetőtér'], dtype=object)"
            ]
          },
          "metadata": {},
          "execution_count": 257
        }
      ]
    },
    {
      "cell_type": "code",
      "source": [
        "floor_counts = clean['floor'].value_counts().reset_index()\n",
        "floor_counts.columns = ['floor', 'count']\n",
        "\n",
        "import plotly.express as px\n",
        "fig2 = px.bar(floor_counts, x = 'count', y = 'floor',\n",
        "              title = 'Number of listings based on the floor',\n",
        "              template = 'simple_white',\n",
        "              text_auto = True\n",
        "              )\n",
        "\n",
        "fig2.update_layout( xaxis_title = None, yaxis_title = None,\n",
        "                   title_x = 0.5, yaxis_categoryorder = 'total ascending')\n",
        "\n",
        "fig2.update_traces( textposition = 'outside')\n",
        "\n",
        "fig2.update_xaxes(visible = False)"
      ],
      "metadata": {
        "colab": {
          "base_uri": "https://localhost:8080/",
          "height": 542
        },
        "id": "nTVF_qm9NIBJ",
        "outputId": "bf695a3c-a916-4a95-9343-e926f577b630"
      },
      "execution_count": 258,
      "outputs": [
        {
          "output_type": "display_data",
          "data": {
            "text/html": [
              "<html>\n",
              "<head><meta charset=\"utf-8\" /></head>\n",
              "<body>\n",
              "    <div>            <script src=\"https://cdnjs.cloudflare.com/ajax/libs/mathjax/2.7.5/MathJax.js?config=TeX-AMS-MML_SVG\"></script><script type=\"text/javascript\">if (window.MathJax && window.MathJax.Hub && window.MathJax.Hub.Config) {window.MathJax.Hub.Config({SVG: {font: \"STIX-Web\"}});}</script>                <script type=\"text/javascript\">window.PlotlyConfig = {MathJaxConfig: 'local'};</script>\n",
              "        <script charset=\"utf-8\" src=\"https://cdn.plot.ly/plotly-2.35.2.min.js\"></script>                <div id=\"b7397328-0f9c-456c-a9e1-cedaae23585f\" class=\"plotly-graph-div\" style=\"height:525px; width:100%;\"></div>            <script type=\"text/javascript\">                                    window.PLOTLYENV=window.PLOTLYENV || {};                                    if (document.getElementById(\"b7397328-0f9c-456c-a9e1-cedaae23585f\")) {                    Plotly.newPlot(                        \"b7397328-0f9c-456c-a9e1-cedaae23585f\",                        [{\"alignmentgroup\":\"True\",\"hovertemplate\":\"count=%{x}\\u003cbr\\u003efloor=%{y}\\u003cextra\\u003e\\u003c\\u002fextra\\u003e\",\"legendgroup\":\"\",\"marker\":{\"color\":\"#1F77B4\",\"pattern\":{\"shape\":\"\"}},\"name\":\"\",\"offsetgroup\":\"\",\"orientation\":\"h\",\"showlegend\":false,\"textposition\":\"outside\",\"texttemplate\":\"%{x}\",\"x\":[187,178,123,97,97,44,28,18,15,14,11,10,8,5,3,2,1],\"xaxis\":\"x\",\"y\":[\"1\",\"2\",\"3\",\"4\",\"Földszint\",\"5\",\"6\",\"Magasföldszint\",\"8\",\"7\",\"9\",\"Félemelet\",\"10\",\"Félszuterén\",\"Szuterén\",\"Tetőtér\",\"Több mint 10\"],\"yaxis\":\"y\",\"type\":\"bar\"}],                        {\"template\":{\"data\":{\"barpolar\":[{\"marker\":{\"line\":{\"color\":\"white\",\"width\":0.5},\"pattern\":{\"fillmode\":\"overlay\",\"size\":10,\"solidity\":0.2}},\"type\":\"barpolar\"}],\"bar\":[{\"error_x\":{\"color\":\"rgb(36,36,36)\"},\"error_y\":{\"color\":\"rgb(36,36,36)\"},\"marker\":{\"line\":{\"color\":\"white\",\"width\":0.5},\"pattern\":{\"fillmode\":\"overlay\",\"size\":10,\"solidity\":0.2}},\"type\":\"bar\"}],\"carpet\":[{\"aaxis\":{\"endlinecolor\":\"rgb(36,36,36)\",\"gridcolor\":\"white\",\"linecolor\":\"white\",\"minorgridcolor\":\"white\",\"startlinecolor\":\"rgb(36,36,36)\"},\"baxis\":{\"endlinecolor\":\"rgb(36,36,36)\",\"gridcolor\":\"white\",\"linecolor\":\"white\",\"minorgridcolor\":\"white\",\"startlinecolor\":\"rgb(36,36,36)\"},\"type\":\"carpet\"}],\"choropleth\":[{\"colorbar\":{\"outlinewidth\":1,\"tickcolor\":\"rgb(36,36,36)\",\"ticks\":\"outside\"},\"type\":\"choropleth\"}],\"contourcarpet\":[{\"colorbar\":{\"outlinewidth\":1,\"tickcolor\":\"rgb(36,36,36)\",\"ticks\":\"outside\"},\"type\":\"contourcarpet\"}],\"contour\":[{\"colorbar\":{\"outlinewidth\":1,\"tickcolor\":\"rgb(36,36,36)\",\"ticks\":\"outside\"},\"colorscale\":[[0.0,\"#440154\"],[0.1111111111111111,\"#482878\"],[0.2222222222222222,\"#3e4989\"],[0.3333333333333333,\"#31688e\"],[0.4444444444444444,\"#26828e\"],[0.5555555555555556,\"#1f9e89\"],[0.6666666666666666,\"#35b779\"],[0.7777777777777778,\"#6ece58\"],[0.8888888888888888,\"#b5de2b\"],[1.0,\"#fde725\"]],\"type\":\"contour\"}],\"heatmapgl\":[{\"colorbar\":{\"outlinewidth\":1,\"tickcolor\":\"rgb(36,36,36)\",\"ticks\":\"outside\"},\"colorscale\":[[0.0,\"#440154\"],[0.1111111111111111,\"#482878\"],[0.2222222222222222,\"#3e4989\"],[0.3333333333333333,\"#31688e\"],[0.4444444444444444,\"#26828e\"],[0.5555555555555556,\"#1f9e89\"],[0.6666666666666666,\"#35b779\"],[0.7777777777777778,\"#6ece58\"],[0.8888888888888888,\"#b5de2b\"],[1.0,\"#fde725\"]],\"type\":\"heatmapgl\"}],\"heatmap\":[{\"colorbar\":{\"outlinewidth\":1,\"tickcolor\":\"rgb(36,36,36)\",\"ticks\":\"outside\"},\"colorscale\":[[0.0,\"#440154\"],[0.1111111111111111,\"#482878\"],[0.2222222222222222,\"#3e4989\"],[0.3333333333333333,\"#31688e\"],[0.4444444444444444,\"#26828e\"],[0.5555555555555556,\"#1f9e89\"],[0.6666666666666666,\"#35b779\"],[0.7777777777777778,\"#6ece58\"],[0.8888888888888888,\"#b5de2b\"],[1.0,\"#fde725\"]],\"type\":\"heatmap\"}],\"histogram2dcontour\":[{\"colorbar\":{\"outlinewidth\":1,\"tickcolor\":\"rgb(36,36,36)\",\"ticks\":\"outside\"},\"colorscale\":[[0.0,\"#440154\"],[0.1111111111111111,\"#482878\"],[0.2222222222222222,\"#3e4989\"],[0.3333333333333333,\"#31688e\"],[0.4444444444444444,\"#26828e\"],[0.5555555555555556,\"#1f9e89\"],[0.6666666666666666,\"#35b779\"],[0.7777777777777778,\"#6ece58\"],[0.8888888888888888,\"#b5de2b\"],[1.0,\"#fde725\"]],\"type\":\"histogram2dcontour\"}],\"histogram2d\":[{\"colorbar\":{\"outlinewidth\":1,\"tickcolor\":\"rgb(36,36,36)\",\"ticks\":\"outside\"},\"colorscale\":[[0.0,\"#440154\"],[0.1111111111111111,\"#482878\"],[0.2222222222222222,\"#3e4989\"],[0.3333333333333333,\"#31688e\"],[0.4444444444444444,\"#26828e\"],[0.5555555555555556,\"#1f9e89\"],[0.6666666666666666,\"#35b779\"],[0.7777777777777778,\"#6ece58\"],[0.8888888888888888,\"#b5de2b\"],[1.0,\"#fde725\"]],\"type\":\"histogram2d\"}],\"histogram\":[{\"marker\":{\"line\":{\"color\":\"white\",\"width\":0.6}},\"type\":\"histogram\"}],\"mesh3d\":[{\"colorbar\":{\"outlinewidth\":1,\"tickcolor\":\"rgb(36,36,36)\",\"ticks\":\"outside\"},\"type\":\"mesh3d\"}],\"parcoords\":[{\"line\":{\"colorbar\":{\"outlinewidth\":1,\"tickcolor\":\"rgb(36,36,36)\",\"ticks\":\"outside\"}},\"type\":\"parcoords\"}],\"pie\":[{\"automargin\":true,\"type\":\"pie\"}],\"scatter3d\":[{\"line\":{\"colorbar\":{\"outlinewidth\":1,\"tickcolor\":\"rgb(36,36,36)\",\"ticks\":\"outside\"}},\"marker\":{\"colorbar\":{\"outlinewidth\":1,\"tickcolor\":\"rgb(36,36,36)\",\"ticks\":\"outside\"}},\"type\":\"scatter3d\"}],\"scattercarpet\":[{\"marker\":{\"colorbar\":{\"outlinewidth\":1,\"tickcolor\":\"rgb(36,36,36)\",\"ticks\":\"outside\"}},\"type\":\"scattercarpet\"}],\"scattergeo\":[{\"marker\":{\"colorbar\":{\"outlinewidth\":1,\"tickcolor\":\"rgb(36,36,36)\",\"ticks\":\"outside\"}},\"type\":\"scattergeo\"}],\"scattergl\":[{\"marker\":{\"colorbar\":{\"outlinewidth\":1,\"tickcolor\":\"rgb(36,36,36)\",\"ticks\":\"outside\"}},\"type\":\"scattergl\"}],\"scattermapbox\":[{\"marker\":{\"colorbar\":{\"outlinewidth\":1,\"tickcolor\":\"rgb(36,36,36)\",\"ticks\":\"outside\"}},\"type\":\"scattermapbox\"}],\"scatterpolargl\":[{\"marker\":{\"colorbar\":{\"outlinewidth\":1,\"tickcolor\":\"rgb(36,36,36)\",\"ticks\":\"outside\"}},\"type\":\"scatterpolargl\"}],\"scatterpolar\":[{\"marker\":{\"colorbar\":{\"outlinewidth\":1,\"tickcolor\":\"rgb(36,36,36)\",\"ticks\":\"outside\"}},\"type\":\"scatterpolar\"}],\"scatter\":[{\"fillpattern\":{\"fillmode\":\"overlay\",\"size\":10,\"solidity\":0.2},\"type\":\"scatter\"}],\"scatterternary\":[{\"marker\":{\"colorbar\":{\"outlinewidth\":1,\"tickcolor\":\"rgb(36,36,36)\",\"ticks\":\"outside\"}},\"type\":\"scatterternary\"}],\"surface\":[{\"colorbar\":{\"outlinewidth\":1,\"tickcolor\":\"rgb(36,36,36)\",\"ticks\":\"outside\"},\"colorscale\":[[0.0,\"#440154\"],[0.1111111111111111,\"#482878\"],[0.2222222222222222,\"#3e4989\"],[0.3333333333333333,\"#31688e\"],[0.4444444444444444,\"#26828e\"],[0.5555555555555556,\"#1f9e89\"],[0.6666666666666666,\"#35b779\"],[0.7777777777777778,\"#6ece58\"],[0.8888888888888888,\"#b5de2b\"],[1.0,\"#fde725\"]],\"type\":\"surface\"}],\"table\":[{\"cells\":{\"fill\":{\"color\":\"rgb(237,237,237)\"},\"line\":{\"color\":\"white\"}},\"header\":{\"fill\":{\"color\":\"rgb(217,217,217)\"},\"line\":{\"color\":\"white\"}},\"type\":\"table\"}]},\"layout\":{\"annotationdefaults\":{\"arrowhead\":0,\"arrowwidth\":1},\"autotypenumbers\":\"strict\",\"coloraxis\":{\"colorbar\":{\"outlinewidth\":1,\"tickcolor\":\"rgb(36,36,36)\",\"ticks\":\"outside\"}},\"colorscale\":{\"diverging\":[[0.0,\"rgb(103,0,31)\"],[0.1,\"rgb(178,24,43)\"],[0.2,\"rgb(214,96,77)\"],[0.3,\"rgb(244,165,130)\"],[0.4,\"rgb(253,219,199)\"],[0.5,\"rgb(247,247,247)\"],[0.6,\"rgb(209,229,240)\"],[0.7,\"rgb(146,197,222)\"],[0.8,\"rgb(67,147,195)\"],[0.9,\"rgb(33,102,172)\"],[1.0,\"rgb(5,48,97)\"]],\"sequential\":[[0.0,\"#440154\"],[0.1111111111111111,\"#482878\"],[0.2222222222222222,\"#3e4989\"],[0.3333333333333333,\"#31688e\"],[0.4444444444444444,\"#26828e\"],[0.5555555555555556,\"#1f9e89\"],[0.6666666666666666,\"#35b779\"],[0.7777777777777778,\"#6ece58\"],[0.8888888888888888,\"#b5de2b\"],[1.0,\"#fde725\"]],\"sequentialminus\":[[0.0,\"#440154\"],[0.1111111111111111,\"#482878\"],[0.2222222222222222,\"#3e4989\"],[0.3333333333333333,\"#31688e\"],[0.4444444444444444,\"#26828e\"],[0.5555555555555556,\"#1f9e89\"],[0.6666666666666666,\"#35b779\"],[0.7777777777777778,\"#6ece58\"],[0.8888888888888888,\"#b5de2b\"],[1.0,\"#fde725\"]]},\"colorway\":[\"#1F77B4\",\"#FF7F0E\",\"#2CA02C\",\"#D62728\",\"#9467BD\",\"#8C564B\",\"#E377C2\",\"#7F7F7F\",\"#BCBD22\",\"#17BECF\"],\"font\":{\"color\":\"rgb(36,36,36)\"},\"geo\":{\"bgcolor\":\"white\",\"lakecolor\":\"white\",\"landcolor\":\"white\",\"showlakes\":true,\"showland\":true,\"subunitcolor\":\"white\"},\"hoverlabel\":{\"align\":\"left\"},\"hovermode\":\"closest\",\"mapbox\":{\"style\":\"light\"},\"paper_bgcolor\":\"white\",\"plot_bgcolor\":\"white\",\"polar\":{\"angularaxis\":{\"gridcolor\":\"rgb(232,232,232)\",\"linecolor\":\"rgb(36,36,36)\",\"showgrid\":false,\"showline\":true,\"ticks\":\"outside\"},\"bgcolor\":\"white\",\"radialaxis\":{\"gridcolor\":\"rgb(232,232,232)\",\"linecolor\":\"rgb(36,36,36)\",\"showgrid\":false,\"showline\":true,\"ticks\":\"outside\"}},\"scene\":{\"xaxis\":{\"backgroundcolor\":\"white\",\"gridcolor\":\"rgb(232,232,232)\",\"gridwidth\":2,\"linecolor\":\"rgb(36,36,36)\",\"showbackground\":true,\"showgrid\":false,\"showline\":true,\"ticks\":\"outside\",\"zeroline\":false,\"zerolinecolor\":\"rgb(36,36,36)\"},\"yaxis\":{\"backgroundcolor\":\"white\",\"gridcolor\":\"rgb(232,232,232)\",\"gridwidth\":2,\"linecolor\":\"rgb(36,36,36)\",\"showbackground\":true,\"showgrid\":false,\"showline\":true,\"ticks\":\"outside\",\"zeroline\":false,\"zerolinecolor\":\"rgb(36,36,36)\"},\"zaxis\":{\"backgroundcolor\":\"white\",\"gridcolor\":\"rgb(232,232,232)\",\"gridwidth\":2,\"linecolor\":\"rgb(36,36,36)\",\"showbackground\":true,\"showgrid\":false,\"showline\":true,\"ticks\":\"outside\",\"zeroline\":false,\"zerolinecolor\":\"rgb(36,36,36)\"}},\"shapedefaults\":{\"fillcolor\":\"black\",\"line\":{\"width\":0},\"opacity\":0.3},\"ternary\":{\"aaxis\":{\"gridcolor\":\"rgb(232,232,232)\",\"linecolor\":\"rgb(36,36,36)\",\"showgrid\":false,\"showline\":true,\"ticks\":\"outside\"},\"baxis\":{\"gridcolor\":\"rgb(232,232,232)\",\"linecolor\":\"rgb(36,36,36)\",\"showgrid\":false,\"showline\":true,\"ticks\":\"outside\"},\"bgcolor\":\"white\",\"caxis\":{\"gridcolor\":\"rgb(232,232,232)\",\"linecolor\":\"rgb(36,36,36)\",\"showgrid\":false,\"showline\":true,\"ticks\":\"outside\"}},\"title\":{\"x\":0.05},\"xaxis\":{\"automargin\":true,\"gridcolor\":\"rgb(232,232,232)\",\"linecolor\":\"rgb(36,36,36)\",\"showgrid\":false,\"showline\":true,\"ticks\":\"outside\",\"title\":{\"standoff\":15},\"zeroline\":false,\"zerolinecolor\":\"rgb(36,36,36)\"},\"yaxis\":{\"automargin\":true,\"gridcolor\":\"rgb(232,232,232)\",\"linecolor\":\"rgb(36,36,36)\",\"showgrid\":false,\"showline\":true,\"ticks\":\"outside\",\"title\":{\"standoff\":15},\"zeroline\":false,\"zerolinecolor\":\"rgb(36,36,36)\"}}},\"xaxis\":{\"anchor\":\"y\",\"domain\":[0.0,1.0],\"title\":{},\"visible\":false},\"yaxis\":{\"anchor\":\"x\",\"domain\":[0.0,1.0],\"title\":{},\"categoryorder\":\"total ascending\"},\"legend\":{\"tracegroupgap\":0},\"title\":{\"text\":\"Number of listings based on the floor\",\"x\":0.5},\"barmode\":\"relative\"},                        {\"responsive\": true}                    ).then(function(){\n",
              "                            \n",
              "var gd = document.getElementById('b7397328-0f9c-456c-a9e1-cedaae23585f');\n",
              "var x = new MutationObserver(function (mutations, observer) {{\n",
              "        var display = window.getComputedStyle(gd).display;\n",
              "        if (!display || display === 'none') {{\n",
              "            console.log([gd, 'removed!']);\n",
              "            Plotly.purge(gd);\n",
              "            observer.disconnect();\n",
              "        }}\n",
              "}});\n",
              "\n",
              "// Listen for the removal of the full notebook cells\n",
              "var notebookContainer = gd.closest('#notebook-container');\n",
              "if (notebookContainer) {{\n",
              "    x.observe(notebookContainer, {childList: true});\n",
              "}}\n",
              "\n",
              "// Listen for the clearing of the current output cell\n",
              "var outputEl = gd.closest('.output');\n",
              "if (outputEl) {{\n",
              "    x.observe(outputEl, {childList: true});\n",
              "}}\n",
              "\n",
              "                        })                };                            </script>        </div>\n",
              "</body>\n",
              "</html>"
            ]
          },
          "metadata": {}
        }
      ]
    },
    {
      "cell_type": "markdown",
      "source": [
        "Magasfölszint az félemelet 0,5. félemelet is 0,5. szuterén és félszuterén -1. tetőtér legyen átlag"
      ],
      "metadata": {
        "id": "47Hw-5_39HvE"
      }
    },
    {
      "cell_type": "code",
      "source": [
        "def map_floor(floor):\n",
        "    if floor in ['Tetőtér', 'Több mint 10']:\n",
        "        return None\n",
        "    elif floor == 'Földszint':\n",
        "        return 0\n",
        "    elif floor == 'Magasfölszint' or floor == 'Félemelet':\n",
        "        return 0.5\n",
        "    elif floor == 'Szuterén' or floor == 'Félszuterén':\n",
        "        return -1\n",
        "    else:\n",
        "        return floor\n",
        "\n",
        "clean['floor_numeric'] = clean['floor'].apply(map_floor)\n",
        "clean['floor_numeric'] = pd.to_numeric(clean['floor_numeric'], errors='coerce')"
      ],
      "metadata": {
        "id": "3-M2vc4uNH0U",
        "colab": {
          "base_uri": "https://localhost:8080/"
        },
        "outputId": "66d18460-ef72-4222-c55b-f97585d3faa6"
      },
      "execution_count": 259,
      "outputs": [
        {
          "output_type": "stream",
          "name": "stderr",
          "text": [
            "<ipython-input-259-c00edd2140e8>:13: SettingWithCopyWarning:\n",
            "\n",
            "\n",
            "A value is trying to be set on a copy of a slice from a DataFrame.\n",
            "Try using .loc[row_indexer,col_indexer] = value instead\n",
            "\n",
            "See the caveats in the documentation: https://pandas.pydata.org/pandas-docs/stable/user_guide/indexing.html#returning-a-view-versus-a-copy\n",
            "\n",
            "<ipython-input-259-c00edd2140e8>:14: SettingWithCopyWarning:\n",
            "\n",
            "\n",
            "A value is trying to be set on a copy of a slice from a DataFrame.\n",
            "Try using .loc[row_indexer,col_indexer] = value instead\n",
            "\n",
            "See the caveats in the documentation: https://pandas.pydata.org/pandas-docs/stable/user_guide/indexing.html#returning-a-view-versus-a-copy\n",
            "\n"
          ]
        }
      ]
    },
    {
      "cell_type": "markdown",
      "source": [
        "This way, this column can be added to regressions as numeric variable."
      ],
      "metadata": {
        "id": "7u1YGfdDQJpH"
      }
    },
    {
      "cell_type": "code",
      "source": [
        "clean.floor_numeric.value_counts()"
      ],
      "metadata": {
        "colab": {
          "base_uri": "https://localhost:8080/",
          "height": 523
        },
        "id": "FXCxXt90Lmza",
        "outputId": "894c96b4-413f-4fc3-90f5-809b274364ca"
      },
      "execution_count": 260,
      "outputs": [
        {
          "output_type": "execute_result",
          "data": {
            "text/plain": [
              "floor_numeric\n",
              " 1.0     187\n",
              " 2.0     178\n",
              " 3.0     123\n",
              " 4.0      97\n",
              " 0.0      97\n",
              " 5.0      44\n",
              " 6.0      28\n",
              " 8.0      15\n",
              " 7.0      14\n",
              " 9.0      11\n",
              " 0.5      10\n",
              " 10.0      8\n",
              "-1.0       8\n",
              "Name: count, dtype: int64"
            ],
            "text/html": [
              "<div>\n",
              "<style scoped>\n",
              "    .dataframe tbody tr th:only-of-type {\n",
              "        vertical-align: middle;\n",
              "    }\n",
              "\n",
              "    .dataframe tbody tr th {\n",
              "        vertical-align: top;\n",
              "    }\n",
              "\n",
              "    .dataframe thead th {\n",
              "        text-align: right;\n",
              "    }\n",
              "</style>\n",
              "<table border=\"1\" class=\"dataframe\">\n",
              "  <thead>\n",
              "    <tr style=\"text-align: right;\">\n",
              "      <th></th>\n",
              "      <th>count</th>\n",
              "    </tr>\n",
              "    <tr>\n",
              "      <th>floor_numeric</th>\n",
              "      <th></th>\n",
              "    </tr>\n",
              "  </thead>\n",
              "  <tbody>\n",
              "    <tr>\n",
              "      <th>1.0</th>\n",
              "      <td>187</td>\n",
              "    </tr>\n",
              "    <tr>\n",
              "      <th>2.0</th>\n",
              "      <td>178</td>\n",
              "    </tr>\n",
              "    <tr>\n",
              "      <th>3.0</th>\n",
              "      <td>123</td>\n",
              "    </tr>\n",
              "    <tr>\n",
              "      <th>4.0</th>\n",
              "      <td>97</td>\n",
              "    </tr>\n",
              "    <tr>\n",
              "      <th>0.0</th>\n",
              "      <td>97</td>\n",
              "    </tr>\n",
              "    <tr>\n",
              "      <th>5.0</th>\n",
              "      <td>44</td>\n",
              "    </tr>\n",
              "    <tr>\n",
              "      <th>6.0</th>\n",
              "      <td>28</td>\n",
              "    </tr>\n",
              "    <tr>\n",
              "      <th>8.0</th>\n",
              "      <td>15</td>\n",
              "    </tr>\n",
              "    <tr>\n",
              "      <th>7.0</th>\n",
              "      <td>14</td>\n",
              "    </tr>\n",
              "    <tr>\n",
              "      <th>9.0</th>\n",
              "      <td>11</td>\n",
              "    </tr>\n",
              "    <tr>\n",
              "      <th>0.5</th>\n",
              "      <td>10</td>\n",
              "    </tr>\n",
              "    <tr>\n",
              "      <th>10.0</th>\n",
              "      <td>8</td>\n",
              "    </tr>\n",
              "    <tr>\n",
              "      <th>-1.0</th>\n",
              "      <td>8</td>\n",
              "    </tr>\n",
              "  </tbody>\n",
              "</table>\n",
              "</div><br><label><b>dtype:</b> int64</label>"
            ]
          },
          "metadata": {},
          "execution_count": 260
        }
      ]
    },
    {
      "cell_type": "markdown",
      "source": [
        "**Heating type**"
      ],
      "metadata": {
        "id": "7n-JJ6QRQTik"
      }
    },
    {
      "cell_type": "code",
      "source": [
        "clean.heating_type.unique()"
      ],
      "metadata": {
        "colab": {
          "base_uri": "https://localhost:8080/"
        },
        "id": "zLET21cNOSWF",
        "outputId": "40adc3ee-0a38-4417-8060-0f47cf40c55e"
      },
      "execution_count": 261,
      "outputs": [
        {
          "output_type": "execute_result",
          "data": {
            "text/plain": [
              "array(['Távfűtés', 'Cirkó', 'Házközponti', 'Gázkazán',\n",
              "       'Házközp. mérőórával', 'Gáz, konvektor', 'Villany, infrapanel',\n",
              "       'Gáz, héra', 'Villany, Nobo panel', 'Klíma', 'Távfűtés mérőórával',\n",
              "       'Hőszivattyú', 'Elektromos', 'Mennyezeti hűtés-fűtés',\n",
              "       'Villany, hőtárolós kályha', 'Padlófűtés', 'Falfűtés', 'Egyéb',\n",
              "       'Gáz, MIKA kazán', 'Fan-coil', 'Egyéb kazán', 'Hősugárzó'],\n",
              "      dtype=object)"
            ]
          },
          "metadata": {},
          "execution_count": 261
        }
      ]
    },
    {
      "cell_type": "code",
      "source": [
        "heating_counts = clean['heating_type'].value_counts().reset_index()\n",
        "heating_counts.columns = ['heating', 'count']\n",
        "\n",
        "import plotly.express as px\n",
        "fig2 = px.bar(heating_counts, x = 'count', y = 'heating',\n",
        "              title = 'Number of listings based on the heating type',\n",
        "              template = 'simple_white',\n",
        "              text_auto = True\n",
        "              )\n",
        "\n",
        "fig2.update_layout( xaxis_title = None, yaxis_title = None,\n",
        "                   title_x = 0.5, yaxis_categoryorder = 'total ascending')\n",
        "\n",
        "fig2.update_traces( textposition = 'outside')\n",
        "\n",
        "fig2.update_xaxes(visible = False)"
      ],
      "metadata": {
        "colab": {
          "base_uri": "https://localhost:8080/",
          "height": 542
        },
        "id": "6Y-rU6adOSRa",
        "outputId": "a3c4d7fe-88d3-4b4d-e5df-03eb4c14fa6a"
      },
      "execution_count": 262,
      "outputs": [
        {
          "output_type": "display_data",
          "data": {
            "text/html": [
              "<html>\n",
              "<head><meta charset=\"utf-8\" /></head>\n",
              "<body>\n",
              "    <div>            <script src=\"https://cdnjs.cloudflare.com/ajax/libs/mathjax/2.7.5/MathJax.js?config=TeX-AMS-MML_SVG\"></script><script type=\"text/javascript\">if (window.MathJax && window.MathJax.Hub && window.MathJax.Hub.Config) {window.MathJax.Hub.Config({SVG: {font: \"STIX-Web\"}});}</script>                <script type=\"text/javascript\">window.PlotlyConfig = {MathJaxConfig: 'local'};</script>\n",
              "        <script charset=\"utf-8\" src=\"https://cdn.plot.ly/plotly-2.35.2.min.js\"></script>                <div id=\"a604abf2-3c71-4f62-b039-ee6b172c892e\" class=\"plotly-graph-div\" style=\"height:525px; width:100%;\"></div>            <script type=\"text/javascript\">                                    window.PLOTLYENV=window.PLOTLYENV || {};                                    if (document.getElementById(\"a604abf2-3c71-4f62-b039-ee6b172c892e\")) {                    Plotly.newPlot(                        \"a604abf2-3c71-4f62-b039-ee6b172c892e\",                        [{\"alignmentgroup\":\"True\",\"hovertemplate\":\"count=%{x}\\u003cbr\\u003eheating=%{y}\\u003cextra\\u003e\\u003c\\u002fextra\\u003e\",\"legendgroup\":\"\",\"marker\":{\"color\":\"#1F77B4\",\"pattern\":{\"shape\":\"\"}},\"name\":\"\",\"offsetgroup\":\"\",\"orientation\":\"h\",\"showlegend\":false,\"textposition\":\"outside\",\"texttemplate\":\"%{x}\",\"x\":[190,173,101,96,60,58,36,35,22,21,18,13,10,9,8,8,6,5,3,3,2,1],\"xaxis\":\"x\",\"y\":[\"Cirkó\",\"Házközp. mérőórával\",\"Házközponti\",\"Gáz, konvektor\",\"Távfűtés\",\"Gázkazán\",\"Mennyezeti hűtés-fűtés\",\"Távfűtés mérőórával\",\"Padlófűtés\",\"Elektromos\",\"Hőszivattyú\",\"Klíma\",\"Villany, Nobo panel\",\"Fan-coil\",\"Gáz, héra\",\"Falfűtés\",\"Egyéb\",\"Villany, infrapanel\",\"Gáz, MIKA kazán\",\"Egyéb kazán\",\"Villany, hőtárolós kályha\",\"Hősugárzó\"],\"yaxis\":\"y\",\"type\":\"bar\"}],                        {\"template\":{\"data\":{\"barpolar\":[{\"marker\":{\"line\":{\"color\":\"white\",\"width\":0.5},\"pattern\":{\"fillmode\":\"overlay\",\"size\":10,\"solidity\":0.2}},\"type\":\"barpolar\"}],\"bar\":[{\"error_x\":{\"color\":\"rgb(36,36,36)\"},\"error_y\":{\"color\":\"rgb(36,36,36)\"},\"marker\":{\"line\":{\"color\":\"white\",\"width\":0.5},\"pattern\":{\"fillmode\":\"overlay\",\"size\":10,\"solidity\":0.2}},\"type\":\"bar\"}],\"carpet\":[{\"aaxis\":{\"endlinecolor\":\"rgb(36,36,36)\",\"gridcolor\":\"white\",\"linecolor\":\"white\",\"minorgridcolor\":\"white\",\"startlinecolor\":\"rgb(36,36,36)\"},\"baxis\":{\"endlinecolor\":\"rgb(36,36,36)\",\"gridcolor\":\"white\",\"linecolor\":\"white\",\"minorgridcolor\":\"white\",\"startlinecolor\":\"rgb(36,36,36)\"},\"type\":\"carpet\"}],\"choropleth\":[{\"colorbar\":{\"outlinewidth\":1,\"tickcolor\":\"rgb(36,36,36)\",\"ticks\":\"outside\"},\"type\":\"choropleth\"}],\"contourcarpet\":[{\"colorbar\":{\"outlinewidth\":1,\"tickcolor\":\"rgb(36,36,36)\",\"ticks\":\"outside\"},\"type\":\"contourcarpet\"}],\"contour\":[{\"colorbar\":{\"outlinewidth\":1,\"tickcolor\":\"rgb(36,36,36)\",\"ticks\":\"outside\"},\"colorscale\":[[0.0,\"#440154\"],[0.1111111111111111,\"#482878\"],[0.2222222222222222,\"#3e4989\"],[0.3333333333333333,\"#31688e\"],[0.4444444444444444,\"#26828e\"],[0.5555555555555556,\"#1f9e89\"],[0.6666666666666666,\"#35b779\"],[0.7777777777777778,\"#6ece58\"],[0.8888888888888888,\"#b5de2b\"],[1.0,\"#fde725\"]],\"type\":\"contour\"}],\"heatmapgl\":[{\"colorbar\":{\"outlinewidth\":1,\"tickcolor\":\"rgb(36,36,36)\",\"ticks\":\"outside\"},\"colorscale\":[[0.0,\"#440154\"],[0.1111111111111111,\"#482878\"],[0.2222222222222222,\"#3e4989\"],[0.3333333333333333,\"#31688e\"],[0.4444444444444444,\"#26828e\"],[0.5555555555555556,\"#1f9e89\"],[0.6666666666666666,\"#35b779\"],[0.7777777777777778,\"#6ece58\"],[0.8888888888888888,\"#b5de2b\"],[1.0,\"#fde725\"]],\"type\":\"heatmapgl\"}],\"heatmap\":[{\"colorbar\":{\"outlinewidth\":1,\"tickcolor\":\"rgb(36,36,36)\",\"ticks\":\"outside\"},\"colorscale\":[[0.0,\"#440154\"],[0.1111111111111111,\"#482878\"],[0.2222222222222222,\"#3e4989\"],[0.3333333333333333,\"#31688e\"],[0.4444444444444444,\"#26828e\"],[0.5555555555555556,\"#1f9e89\"],[0.6666666666666666,\"#35b779\"],[0.7777777777777778,\"#6ece58\"],[0.8888888888888888,\"#b5de2b\"],[1.0,\"#fde725\"]],\"type\":\"heatmap\"}],\"histogram2dcontour\":[{\"colorbar\":{\"outlinewidth\":1,\"tickcolor\":\"rgb(36,36,36)\",\"ticks\":\"outside\"},\"colorscale\":[[0.0,\"#440154\"],[0.1111111111111111,\"#482878\"],[0.2222222222222222,\"#3e4989\"],[0.3333333333333333,\"#31688e\"],[0.4444444444444444,\"#26828e\"],[0.5555555555555556,\"#1f9e89\"],[0.6666666666666666,\"#35b779\"],[0.7777777777777778,\"#6ece58\"],[0.8888888888888888,\"#b5de2b\"],[1.0,\"#fde725\"]],\"type\":\"histogram2dcontour\"}],\"histogram2d\":[{\"colorbar\":{\"outlinewidth\":1,\"tickcolor\":\"rgb(36,36,36)\",\"ticks\":\"outside\"},\"colorscale\":[[0.0,\"#440154\"],[0.1111111111111111,\"#482878\"],[0.2222222222222222,\"#3e4989\"],[0.3333333333333333,\"#31688e\"],[0.4444444444444444,\"#26828e\"],[0.5555555555555556,\"#1f9e89\"],[0.6666666666666666,\"#35b779\"],[0.7777777777777778,\"#6ece58\"],[0.8888888888888888,\"#b5de2b\"],[1.0,\"#fde725\"]],\"type\":\"histogram2d\"}],\"histogram\":[{\"marker\":{\"line\":{\"color\":\"white\",\"width\":0.6}},\"type\":\"histogram\"}],\"mesh3d\":[{\"colorbar\":{\"outlinewidth\":1,\"tickcolor\":\"rgb(36,36,36)\",\"ticks\":\"outside\"},\"type\":\"mesh3d\"}],\"parcoords\":[{\"line\":{\"colorbar\":{\"outlinewidth\":1,\"tickcolor\":\"rgb(36,36,36)\",\"ticks\":\"outside\"}},\"type\":\"parcoords\"}],\"pie\":[{\"automargin\":true,\"type\":\"pie\"}],\"scatter3d\":[{\"line\":{\"colorbar\":{\"outlinewidth\":1,\"tickcolor\":\"rgb(36,36,36)\",\"ticks\":\"outside\"}},\"marker\":{\"colorbar\":{\"outlinewidth\":1,\"tickcolor\":\"rgb(36,36,36)\",\"ticks\":\"outside\"}},\"type\":\"scatter3d\"}],\"scattercarpet\":[{\"marker\":{\"colorbar\":{\"outlinewidth\":1,\"tickcolor\":\"rgb(36,36,36)\",\"ticks\":\"outside\"}},\"type\":\"scattercarpet\"}],\"scattergeo\":[{\"marker\":{\"colorbar\":{\"outlinewidth\":1,\"tickcolor\":\"rgb(36,36,36)\",\"ticks\":\"outside\"}},\"type\":\"scattergeo\"}],\"scattergl\":[{\"marker\":{\"colorbar\":{\"outlinewidth\":1,\"tickcolor\":\"rgb(36,36,36)\",\"ticks\":\"outside\"}},\"type\":\"scattergl\"}],\"scattermapbox\":[{\"marker\":{\"colorbar\":{\"outlinewidth\":1,\"tickcolor\":\"rgb(36,36,36)\",\"ticks\":\"outside\"}},\"type\":\"scattermapbox\"}],\"scatterpolargl\":[{\"marker\":{\"colorbar\":{\"outlinewidth\":1,\"tickcolor\":\"rgb(36,36,36)\",\"ticks\":\"outside\"}},\"type\":\"scatterpolargl\"}],\"scatterpolar\":[{\"marker\":{\"colorbar\":{\"outlinewidth\":1,\"tickcolor\":\"rgb(36,36,36)\",\"ticks\":\"outside\"}},\"type\":\"scatterpolar\"}],\"scatter\":[{\"fillpattern\":{\"fillmode\":\"overlay\",\"size\":10,\"solidity\":0.2},\"type\":\"scatter\"}],\"scatterternary\":[{\"marker\":{\"colorbar\":{\"outlinewidth\":1,\"tickcolor\":\"rgb(36,36,36)\",\"ticks\":\"outside\"}},\"type\":\"scatterternary\"}],\"surface\":[{\"colorbar\":{\"outlinewidth\":1,\"tickcolor\":\"rgb(36,36,36)\",\"ticks\":\"outside\"},\"colorscale\":[[0.0,\"#440154\"],[0.1111111111111111,\"#482878\"],[0.2222222222222222,\"#3e4989\"],[0.3333333333333333,\"#31688e\"],[0.4444444444444444,\"#26828e\"],[0.5555555555555556,\"#1f9e89\"],[0.6666666666666666,\"#35b779\"],[0.7777777777777778,\"#6ece58\"],[0.8888888888888888,\"#b5de2b\"],[1.0,\"#fde725\"]],\"type\":\"surface\"}],\"table\":[{\"cells\":{\"fill\":{\"color\":\"rgb(237,237,237)\"},\"line\":{\"color\":\"white\"}},\"header\":{\"fill\":{\"color\":\"rgb(217,217,217)\"},\"line\":{\"color\":\"white\"}},\"type\":\"table\"}]},\"layout\":{\"annotationdefaults\":{\"arrowhead\":0,\"arrowwidth\":1},\"autotypenumbers\":\"strict\",\"coloraxis\":{\"colorbar\":{\"outlinewidth\":1,\"tickcolor\":\"rgb(36,36,36)\",\"ticks\":\"outside\"}},\"colorscale\":{\"diverging\":[[0.0,\"rgb(103,0,31)\"],[0.1,\"rgb(178,24,43)\"],[0.2,\"rgb(214,96,77)\"],[0.3,\"rgb(244,165,130)\"],[0.4,\"rgb(253,219,199)\"],[0.5,\"rgb(247,247,247)\"],[0.6,\"rgb(209,229,240)\"],[0.7,\"rgb(146,197,222)\"],[0.8,\"rgb(67,147,195)\"],[0.9,\"rgb(33,102,172)\"],[1.0,\"rgb(5,48,97)\"]],\"sequential\":[[0.0,\"#440154\"],[0.1111111111111111,\"#482878\"],[0.2222222222222222,\"#3e4989\"],[0.3333333333333333,\"#31688e\"],[0.4444444444444444,\"#26828e\"],[0.5555555555555556,\"#1f9e89\"],[0.6666666666666666,\"#35b779\"],[0.7777777777777778,\"#6ece58\"],[0.8888888888888888,\"#b5de2b\"],[1.0,\"#fde725\"]],\"sequentialminus\":[[0.0,\"#440154\"],[0.1111111111111111,\"#482878\"],[0.2222222222222222,\"#3e4989\"],[0.3333333333333333,\"#31688e\"],[0.4444444444444444,\"#26828e\"],[0.5555555555555556,\"#1f9e89\"],[0.6666666666666666,\"#35b779\"],[0.7777777777777778,\"#6ece58\"],[0.8888888888888888,\"#b5de2b\"],[1.0,\"#fde725\"]]},\"colorway\":[\"#1F77B4\",\"#FF7F0E\",\"#2CA02C\",\"#D62728\",\"#9467BD\",\"#8C564B\",\"#E377C2\",\"#7F7F7F\",\"#BCBD22\",\"#17BECF\"],\"font\":{\"color\":\"rgb(36,36,36)\"},\"geo\":{\"bgcolor\":\"white\",\"lakecolor\":\"white\",\"landcolor\":\"white\",\"showlakes\":true,\"showland\":true,\"subunitcolor\":\"white\"},\"hoverlabel\":{\"align\":\"left\"},\"hovermode\":\"closest\",\"mapbox\":{\"style\":\"light\"},\"paper_bgcolor\":\"white\",\"plot_bgcolor\":\"white\",\"polar\":{\"angularaxis\":{\"gridcolor\":\"rgb(232,232,232)\",\"linecolor\":\"rgb(36,36,36)\",\"showgrid\":false,\"showline\":true,\"ticks\":\"outside\"},\"bgcolor\":\"white\",\"radialaxis\":{\"gridcolor\":\"rgb(232,232,232)\",\"linecolor\":\"rgb(36,36,36)\",\"showgrid\":false,\"showline\":true,\"ticks\":\"outside\"}},\"scene\":{\"xaxis\":{\"backgroundcolor\":\"white\",\"gridcolor\":\"rgb(232,232,232)\",\"gridwidth\":2,\"linecolor\":\"rgb(36,36,36)\",\"showbackground\":true,\"showgrid\":false,\"showline\":true,\"ticks\":\"outside\",\"zeroline\":false,\"zerolinecolor\":\"rgb(36,36,36)\"},\"yaxis\":{\"backgroundcolor\":\"white\",\"gridcolor\":\"rgb(232,232,232)\",\"gridwidth\":2,\"linecolor\":\"rgb(36,36,36)\",\"showbackground\":true,\"showgrid\":false,\"showline\":true,\"ticks\":\"outside\",\"zeroline\":false,\"zerolinecolor\":\"rgb(36,36,36)\"},\"zaxis\":{\"backgroundcolor\":\"white\",\"gridcolor\":\"rgb(232,232,232)\",\"gridwidth\":2,\"linecolor\":\"rgb(36,36,36)\",\"showbackground\":true,\"showgrid\":false,\"showline\":true,\"ticks\":\"outside\",\"zeroline\":false,\"zerolinecolor\":\"rgb(36,36,36)\"}},\"shapedefaults\":{\"fillcolor\":\"black\",\"line\":{\"width\":0},\"opacity\":0.3},\"ternary\":{\"aaxis\":{\"gridcolor\":\"rgb(232,232,232)\",\"linecolor\":\"rgb(36,36,36)\",\"showgrid\":false,\"showline\":true,\"ticks\":\"outside\"},\"baxis\":{\"gridcolor\":\"rgb(232,232,232)\",\"linecolor\":\"rgb(36,36,36)\",\"showgrid\":false,\"showline\":true,\"ticks\":\"outside\"},\"bgcolor\":\"white\",\"caxis\":{\"gridcolor\":\"rgb(232,232,232)\",\"linecolor\":\"rgb(36,36,36)\",\"showgrid\":false,\"showline\":true,\"ticks\":\"outside\"}},\"title\":{\"x\":0.05},\"xaxis\":{\"automargin\":true,\"gridcolor\":\"rgb(232,232,232)\",\"linecolor\":\"rgb(36,36,36)\",\"showgrid\":false,\"showline\":true,\"ticks\":\"outside\",\"title\":{\"standoff\":15},\"zeroline\":false,\"zerolinecolor\":\"rgb(36,36,36)\"},\"yaxis\":{\"automargin\":true,\"gridcolor\":\"rgb(232,232,232)\",\"linecolor\":\"rgb(36,36,36)\",\"showgrid\":false,\"showline\":true,\"ticks\":\"outside\",\"title\":{\"standoff\":15},\"zeroline\":false,\"zerolinecolor\":\"rgb(36,36,36)\"}}},\"xaxis\":{\"anchor\":\"y\",\"domain\":[0.0,1.0],\"title\":{},\"visible\":false},\"yaxis\":{\"anchor\":\"x\",\"domain\":[0.0,1.0],\"title\":{},\"categoryorder\":\"total ascending\"},\"legend\":{\"tracegroupgap\":0},\"title\":{\"text\":\"Number of listings based on the heating type\",\"x\":0.5},\"barmode\":\"relative\"},                        {\"responsive\": true}                    ).then(function(){\n",
              "                            \n",
              "var gd = document.getElementById('a604abf2-3c71-4f62-b039-ee6b172c892e');\n",
              "var x = new MutationObserver(function (mutations, observer) {{\n",
              "        var display = window.getComputedStyle(gd).display;\n",
              "        if (!display || display === 'none') {{\n",
              "            console.log([gd, 'removed!']);\n",
              "            Plotly.purge(gd);\n",
              "            observer.disconnect();\n",
              "        }}\n",
              "}});\n",
              "\n",
              "// Listen for the removal of the full notebook cells\n",
              "var notebookContainer = gd.closest('#notebook-container');\n",
              "if (notebookContainer) {{\n",
              "    x.observe(notebookContainer, {childList: true});\n",
              "}}\n",
              "\n",
              "// Listen for the clearing of the current output cell\n",
              "var outputEl = gd.closest('.output');\n",
              "if (outputEl) {{\n",
              "    x.observe(outputEl, {childList: true});\n",
              "}}\n",
              "\n",
              "                        })                };                            </script>        </div>\n",
              "</body>\n",
              "</html>"
            ]
          },
          "metadata": {}
        }
      ]
    },
    {
      "cell_type": "code",
      "source": [
        "def map_heating(heating_type):\n",
        "    if heating_type in ['Házközponti', 'Házközp. mérőórával']:\n",
        "        return 'Házközponti'\n",
        "    elif heating_type in ['Távfűtés', 'Távfűtés mérőórával']:\n",
        "        return 'Távfűtés'\n",
        "    elif heating_type in ['Cirkó', 'Gázkonvektor', 'Gázkazán', 'Gáz, MIKA kazán', 'Gáz, héra']:\n",
        "        return 'Gáz alapú'\n",
        "    elif heating_type in ['Elektromos', 'Villany, Nobo panel', 'Villany, infrapanel', 'Hősugárzó']:\n",
        "        return 'Elektromos'\n",
        "    elif heating_type in ['Padlófűtés', 'Mennyezeti hűtés-fűtés', 'Klíma', 'Fan-coil']:\n",
        "        return 'Padló vagy mennyezeti'\n",
        "    elif heating_type in ['Egyéb kazán', 'Egyéb', 'Villany, hőtárolós kályha', 'Falfűtés', 'Hőszivattyú']:\n",
        "        return 'Other'\n",
        "    else:\n",
        "        return 'Unknown'\n",
        "\n",
        "clean['heating_small'] = clean['heating_type'].apply(map_heating)"
      ],
      "metadata": {
        "id": "1oOUPbe-M_NV",
        "colab": {
          "base_uri": "https://localhost:8080/"
        },
        "outputId": "2a8be8ce-285d-4ffc-c306-4a72b7a71b2c"
      },
      "execution_count": 263,
      "outputs": [
        {
          "output_type": "stream",
          "name": "stderr",
          "text": [
            "<ipython-input-263-c5a5cf81a2db>:17: SettingWithCopyWarning:\n",
            "\n",
            "\n",
            "A value is trying to be set on a copy of a slice from a DataFrame.\n",
            "Try using .loc[row_indexer,col_indexer] = value instead\n",
            "\n",
            "See the caveats in the documentation: https://pandas.pydata.org/pandas-docs/stable/user_guide/indexing.html#returning-a-view-versus-a-copy\n",
            "\n"
          ]
        }
      ]
    },
    {
      "cell_type": "code",
      "source": [
        "heating_counts = clean['heating_small'].value_counts().reset_index()\n",
        "heating_counts.columns = ['heating', 'count']\n",
        "\n",
        "import plotly.express as px\n",
        "fig2 = px.bar(heating_counts, x = 'count', y = 'heating',\n",
        "              title = 'Number of listings based on the heating type',\n",
        "              template = 'simple_white',\n",
        "              text_auto = True\n",
        "              )\n",
        "\n",
        "fig2.update_layout( xaxis_title = None, yaxis_title = None,\n",
        "                   title_x = 0.5, yaxis_categoryorder = 'total ascending')\n",
        "\n",
        "fig2.update_traces( textposition = 'outside')\n",
        "\n",
        "fig2.update_xaxes(visible = False)"
      ],
      "metadata": {
        "colab": {
          "base_uri": "https://localhost:8080/",
          "height": 542
        },
        "id": "St4_DWyRM-uc",
        "outputId": "da6b2d75-a746-478a-d8d1-04d02636cb5c"
      },
      "execution_count": 264,
      "outputs": [
        {
          "output_type": "display_data",
          "data": {
            "text/html": [
              "<html>\n",
              "<head><meta charset=\"utf-8\" /></head>\n",
              "<body>\n",
              "    <div>            <script src=\"https://cdnjs.cloudflare.com/ajax/libs/mathjax/2.7.5/MathJax.js?config=TeX-AMS-MML_SVG\"></script><script type=\"text/javascript\">if (window.MathJax && window.MathJax.Hub && window.MathJax.Hub.Config) {window.MathJax.Hub.Config({SVG: {font: \"STIX-Web\"}});}</script>                <script type=\"text/javascript\">window.PlotlyConfig = {MathJaxConfig: 'local'};</script>\n",
              "        <script charset=\"utf-8\" src=\"https://cdn.plot.ly/plotly-2.35.2.min.js\"></script>                <div id=\"9f532c64-def5-43d0-8e53-42e08c3b9289\" class=\"plotly-graph-div\" style=\"height:525px; width:100%;\"></div>            <script type=\"text/javascript\">                                    window.PLOTLYENV=window.PLOTLYENV || {};                                    if (document.getElementById(\"9f532c64-def5-43d0-8e53-42e08c3b9289\")) {                    Plotly.newPlot(                        \"9f532c64-def5-43d0-8e53-42e08c3b9289\",                        [{\"alignmentgroup\":\"True\",\"hovertemplate\":\"count=%{x}\\u003cbr\\u003eheating=%{y}\\u003cextra\\u003e\\u003c\\u002fextra\\u003e\",\"legendgroup\":\"\",\"marker\":{\"color\":\"#1F77B4\",\"pattern\":{\"shape\":\"\"}},\"name\":\"\",\"offsetgroup\":\"\",\"orientation\":\"h\",\"showlegend\":false,\"textposition\":\"outside\",\"texttemplate\":\"%{x}\",\"x\":[274,259,96,95,80,37,37],\"xaxis\":\"x\",\"y\":[\"Házközponti\",\"Gáz alapú\",\"Unknown\",\"Távfűtés\",\"Padló vagy mennyezeti\",\"Elektromos\",\"Other\"],\"yaxis\":\"y\",\"type\":\"bar\"}],                        {\"template\":{\"data\":{\"barpolar\":[{\"marker\":{\"line\":{\"color\":\"white\",\"width\":0.5},\"pattern\":{\"fillmode\":\"overlay\",\"size\":10,\"solidity\":0.2}},\"type\":\"barpolar\"}],\"bar\":[{\"error_x\":{\"color\":\"rgb(36,36,36)\"},\"error_y\":{\"color\":\"rgb(36,36,36)\"},\"marker\":{\"line\":{\"color\":\"white\",\"width\":0.5},\"pattern\":{\"fillmode\":\"overlay\",\"size\":10,\"solidity\":0.2}},\"type\":\"bar\"}],\"carpet\":[{\"aaxis\":{\"endlinecolor\":\"rgb(36,36,36)\",\"gridcolor\":\"white\",\"linecolor\":\"white\",\"minorgridcolor\":\"white\",\"startlinecolor\":\"rgb(36,36,36)\"},\"baxis\":{\"endlinecolor\":\"rgb(36,36,36)\",\"gridcolor\":\"white\",\"linecolor\":\"white\",\"minorgridcolor\":\"white\",\"startlinecolor\":\"rgb(36,36,36)\"},\"type\":\"carpet\"}],\"choropleth\":[{\"colorbar\":{\"outlinewidth\":1,\"tickcolor\":\"rgb(36,36,36)\",\"ticks\":\"outside\"},\"type\":\"choropleth\"}],\"contourcarpet\":[{\"colorbar\":{\"outlinewidth\":1,\"tickcolor\":\"rgb(36,36,36)\",\"ticks\":\"outside\"},\"type\":\"contourcarpet\"}],\"contour\":[{\"colorbar\":{\"outlinewidth\":1,\"tickcolor\":\"rgb(36,36,36)\",\"ticks\":\"outside\"},\"colorscale\":[[0.0,\"#440154\"],[0.1111111111111111,\"#482878\"],[0.2222222222222222,\"#3e4989\"],[0.3333333333333333,\"#31688e\"],[0.4444444444444444,\"#26828e\"],[0.5555555555555556,\"#1f9e89\"],[0.6666666666666666,\"#35b779\"],[0.7777777777777778,\"#6ece58\"],[0.8888888888888888,\"#b5de2b\"],[1.0,\"#fde725\"]],\"type\":\"contour\"}],\"heatmapgl\":[{\"colorbar\":{\"outlinewidth\":1,\"tickcolor\":\"rgb(36,36,36)\",\"ticks\":\"outside\"},\"colorscale\":[[0.0,\"#440154\"],[0.1111111111111111,\"#482878\"],[0.2222222222222222,\"#3e4989\"],[0.3333333333333333,\"#31688e\"],[0.4444444444444444,\"#26828e\"],[0.5555555555555556,\"#1f9e89\"],[0.6666666666666666,\"#35b779\"],[0.7777777777777778,\"#6ece58\"],[0.8888888888888888,\"#b5de2b\"],[1.0,\"#fde725\"]],\"type\":\"heatmapgl\"}],\"heatmap\":[{\"colorbar\":{\"outlinewidth\":1,\"tickcolor\":\"rgb(36,36,36)\",\"ticks\":\"outside\"},\"colorscale\":[[0.0,\"#440154\"],[0.1111111111111111,\"#482878\"],[0.2222222222222222,\"#3e4989\"],[0.3333333333333333,\"#31688e\"],[0.4444444444444444,\"#26828e\"],[0.5555555555555556,\"#1f9e89\"],[0.6666666666666666,\"#35b779\"],[0.7777777777777778,\"#6ece58\"],[0.8888888888888888,\"#b5de2b\"],[1.0,\"#fde725\"]],\"type\":\"heatmap\"}],\"histogram2dcontour\":[{\"colorbar\":{\"outlinewidth\":1,\"tickcolor\":\"rgb(36,36,36)\",\"ticks\":\"outside\"},\"colorscale\":[[0.0,\"#440154\"],[0.1111111111111111,\"#482878\"],[0.2222222222222222,\"#3e4989\"],[0.3333333333333333,\"#31688e\"],[0.4444444444444444,\"#26828e\"],[0.5555555555555556,\"#1f9e89\"],[0.6666666666666666,\"#35b779\"],[0.7777777777777778,\"#6ece58\"],[0.8888888888888888,\"#b5de2b\"],[1.0,\"#fde725\"]],\"type\":\"histogram2dcontour\"}],\"histogram2d\":[{\"colorbar\":{\"outlinewidth\":1,\"tickcolor\":\"rgb(36,36,36)\",\"ticks\":\"outside\"},\"colorscale\":[[0.0,\"#440154\"],[0.1111111111111111,\"#482878\"],[0.2222222222222222,\"#3e4989\"],[0.3333333333333333,\"#31688e\"],[0.4444444444444444,\"#26828e\"],[0.5555555555555556,\"#1f9e89\"],[0.6666666666666666,\"#35b779\"],[0.7777777777777778,\"#6ece58\"],[0.8888888888888888,\"#b5de2b\"],[1.0,\"#fde725\"]],\"type\":\"histogram2d\"}],\"histogram\":[{\"marker\":{\"line\":{\"color\":\"white\",\"width\":0.6}},\"type\":\"histogram\"}],\"mesh3d\":[{\"colorbar\":{\"outlinewidth\":1,\"tickcolor\":\"rgb(36,36,36)\",\"ticks\":\"outside\"},\"type\":\"mesh3d\"}],\"parcoords\":[{\"line\":{\"colorbar\":{\"outlinewidth\":1,\"tickcolor\":\"rgb(36,36,36)\",\"ticks\":\"outside\"}},\"type\":\"parcoords\"}],\"pie\":[{\"automargin\":true,\"type\":\"pie\"}],\"scatter3d\":[{\"line\":{\"colorbar\":{\"outlinewidth\":1,\"tickcolor\":\"rgb(36,36,36)\",\"ticks\":\"outside\"}},\"marker\":{\"colorbar\":{\"outlinewidth\":1,\"tickcolor\":\"rgb(36,36,36)\",\"ticks\":\"outside\"}},\"type\":\"scatter3d\"}],\"scattercarpet\":[{\"marker\":{\"colorbar\":{\"outlinewidth\":1,\"tickcolor\":\"rgb(36,36,36)\",\"ticks\":\"outside\"}},\"type\":\"scattercarpet\"}],\"scattergeo\":[{\"marker\":{\"colorbar\":{\"outlinewidth\":1,\"tickcolor\":\"rgb(36,36,36)\",\"ticks\":\"outside\"}},\"type\":\"scattergeo\"}],\"scattergl\":[{\"marker\":{\"colorbar\":{\"outlinewidth\":1,\"tickcolor\":\"rgb(36,36,36)\",\"ticks\":\"outside\"}},\"type\":\"scattergl\"}],\"scattermapbox\":[{\"marker\":{\"colorbar\":{\"outlinewidth\":1,\"tickcolor\":\"rgb(36,36,36)\",\"ticks\":\"outside\"}},\"type\":\"scattermapbox\"}],\"scatterpolargl\":[{\"marker\":{\"colorbar\":{\"outlinewidth\":1,\"tickcolor\":\"rgb(36,36,36)\",\"ticks\":\"outside\"}},\"type\":\"scatterpolargl\"}],\"scatterpolar\":[{\"marker\":{\"colorbar\":{\"outlinewidth\":1,\"tickcolor\":\"rgb(36,36,36)\",\"ticks\":\"outside\"}},\"type\":\"scatterpolar\"}],\"scatter\":[{\"fillpattern\":{\"fillmode\":\"overlay\",\"size\":10,\"solidity\":0.2},\"type\":\"scatter\"}],\"scatterternary\":[{\"marker\":{\"colorbar\":{\"outlinewidth\":1,\"tickcolor\":\"rgb(36,36,36)\",\"ticks\":\"outside\"}},\"type\":\"scatterternary\"}],\"surface\":[{\"colorbar\":{\"outlinewidth\":1,\"tickcolor\":\"rgb(36,36,36)\",\"ticks\":\"outside\"},\"colorscale\":[[0.0,\"#440154\"],[0.1111111111111111,\"#482878\"],[0.2222222222222222,\"#3e4989\"],[0.3333333333333333,\"#31688e\"],[0.4444444444444444,\"#26828e\"],[0.5555555555555556,\"#1f9e89\"],[0.6666666666666666,\"#35b779\"],[0.7777777777777778,\"#6ece58\"],[0.8888888888888888,\"#b5de2b\"],[1.0,\"#fde725\"]],\"type\":\"surface\"}],\"table\":[{\"cells\":{\"fill\":{\"color\":\"rgb(237,237,237)\"},\"line\":{\"color\":\"white\"}},\"header\":{\"fill\":{\"color\":\"rgb(217,217,217)\"},\"line\":{\"color\":\"white\"}},\"type\":\"table\"}]},\"layout\":{\"annotationdefaults\":{\"arrowhead\":0,\"arrowwidth\":1},\"autotypenumbers\":\"strict\",\"coloraxis\":{\"colorbar\":{\"outlinewidth\":1,\"tickcolor\":\"rgb(36,36,36)\",\"ticks\":\"outside\"}},\"colorscale\":{\"diverging\":[[0.0,\"rgb(103,0,31)\"],[0.1,\"rgb(178,24,43)\"],[0.2,\"rgb(214,96,77)\"],[0.3,\"rgb(244,165,130)\"],[0.4,\"rgb(253,219,199)\"],[0.5,\"rgb(247,247,247)\"],[0.6,\"rgb(209,229,240)\"],[0.7,\"rgb(146,197,222)\"],[0.8,\"rgb(67,147,195)\"],[0.9,\"rgb(33,102,172)\"],[1.0,\"rgb(5,48,97)\"]],\"sequential\":[[0.0,\"#440154\"],[0.1111111111111111,\"#482878\"],[0.2222222222222222,\"#3e4989\"],[0.3333333333333333,\"#31688e\"],[0.4444444444444444,\"#26828e\"],[0.5555555555555556,\"#1f9e89\"],[0.6666666666666666,\"#35b779\"],[0.7777777777777778,\"#6ece58\"],[0.8888888888888888,\"#b5de2b\"],[1.0,\"#fde725\"]],\"sequentialminus\":[[0.0,\"#440154\"],[0.1111111111111111,\"#482878\"],[0.2222222222222222,\"#3e4989\"],[0.3333333333333333,\"#31688e\"],[0.4444444444444444,\"#26828e\"],[0.5555555555555556,\"#1f9e89\"],[0.6666666666666666,\"#35b779\"],[0.7777777777777778,\"#6ece58\"],[0.8888888888888888,\"#b5de2b\"],[1.0,\"#fde725\"]]},\"colorway\":[\"#1F77B4\",\"#FF7F0E\",\"#2CA02C\",\"#D62728\",\"#9467BD\",\"#8C564B\",\"#E377C2\",\"#7F7F7F\",\"#BCBD22\",\"#17BECF\"],\"font\":{\"color\":\"rgb(36,36,36)\"},\"geo\":{\"bgcolor\":\"white\",\"lakecolor\":\"white\",\"landcolor\":\"white\",\"showlakes\":true,\"showland\":true,\"subunitcolor\":\"white\"},\"hoverlabel\":{\"align\":\"left\"},\"hovermode\":\"closest\",\"mapbox\":{\"style\":\"light\"},\"paper_bgcolor\":\"white\",\"plot_bgcolor\":\"white\",\"polar\":{\"angularaxis\":{\"gridcolor\":\"rgb(232,232,232)\",\"linecolor\":\"rgb(36,36,36)\",\"showgrid\":false,\"showline\":true,\"ticks\":\"outside\"},\"bgcolor\":\"white\",\"radialaxis\":{\"gridcolor\":\"rgb(232,232,232)\",\"linecolor\":\"rgb(36,36,36)\",\"showgrid\":false,\"showline\":true,\"ticks\":\"outside\"}},\"scene\":{\"xaxis\":{\"backgroundcolor\":\"white\",\"gridcolor\":\"rgb(232,232,232)\",\"gridwidth\":2,\"linecolor\":\"rgb(36,36,36)\",\"showbackground\":true,\"showgrid\":false,\"showline\":true,\"ticks\":\"outside\",\"zeroline\":false,\"zerolinecolor\":\"rgb(36,36,36)\"},\"yaxis\":{\"backgroundcolor\":\"white\",\"gridcolor\":\"rgb(232,232,232)\",\"gridwidth\":2,\"linecolor\":\"rgb(36,36,36)\",\"showbackground\":true,\"showgrid\":false,\"showline\":true,\"ticks\":\"outside\",\"zeroline\":false,\"zerolinecolor\":\"rgb(36,36,36)\"},\"zaxis\":{\"backgroundcolor\":\"white\",\"gridcolor\":\"rgb(232,232,232)\",\"gridwidth\":2,\"linecolor\":\"rgb(36,36,36)\",\"showbackground\":true,\"showgrid\":false,\"showline\":true,\"ticks\":\"outside\",\"zeroline\":false,\"zerolinecolor\":\"rgb(36,36,36)\"}},\"shapedefaults\":{\"fillcolor\":\"black\",\"line\":{\"width\":0},\"opacity\":0.3},\"ternary\":{\"aaxis\":{\"gridcolor\":\"rgb(232,232,232)\",\"linecolor\":\"rgb(36,36,36)\",\"showgrid\":false,\"showline\":true,\"ticks\":\"outside\"},\"baxis\":{\"gridcolor\":\"rgb(232,232,232)\",\"linecolor\":\"rgb(36,36,36)\",\"showgrid\":false,\"showline\":true,\"ticks\":\"outside\"},\"bgcolor\":\"white\",\"caxis\":{\"gridcolor\":\"rgb(232,232,232)\",\"linecolor\":\"rgb(36,36,36)\",\"showgrid\":false,\"showline\":true,\"ticks\":\"outside\"}},\"title\":{\"x\":0.05},\"xaxis\":{\"automargin\":true,\"gridcolor\":\"rgb(232,232,232)\",\"linecolor\":\"rgb(36,36,36)\",\"showgrid\":false,\"showline\":true,\"ticks\":\"outside\",\"title\":{\"standoff\":15},\"zeroline\":false,\"zerolinecolor\":\"rgb(36,36,36)\"},\"yaxis\":{\"automargin\":true,\"gridcolor\":\"rgb(232,232,232)\",\"linecolor\":\"rgb(36,36,36)\",\"showgrid\":false,\"showline\":true,\"ticks\":\"outside\",\"title\":{\"standoff\":15},\"zeroline\":false,\"zerolinecolor\":\"rgb(36,36,36)\"}}},\"xaxis\":{\"anchor\":\"y\",\"domain\":[0.0,1.0],\"title\":{},\"visible\":false},\"yaxis\":{\"anchor\":\"x\",\"domain\":[0.0,1.0],\"title\":{},\"categoryorder\":\"total ascending\"},\"legend\":{\"tracegroupgap\":0},\"title\":{\"text\":\"Number of listings based on the heating type\",\"x\":0.5},\"barmode\":\"relative\"},                        {\"responsive\": true}                    ).then(function(){\n",
              "                            \n",
              "var gd = document.getElementById('9f532c64-def5-43d0-8e53-42e08c3b9289');\n",
              "var x = new MutationObserver(function (mutations, observer) {{\n",
              "        var display = window.getComputedStyle(gd).display;\n",
              "        if (!display || display === 'none') {{\n",
              "            console.log([gd, 'removed!']);\n",
              "            Plotly.purge(gd);\n",
              "            observer.disconnect();\n",
              "        }}\n",
              "}});\n",
              "\n",
              "// Listen for the removal of the full notebook cells\n",
              "var notebookContainer = gd.closest('#notebook-container');\n",
              "if (notebookContainer) {{\n",
              "    x.observe(notebookContainer, {childList: true});\n",
              "}}\n",
              "\n",
              "// Listen for the clearing of the current output cell\n",
              "var outputEl = gd.closest('.output');\n",
              "if (outputEl) {{\n",
              "    x.observe(outputEl, {childList: true});\n",
              "}}\n",
              "\n",
              "                        })                };                            </script>        </div>\n",
              "</body>\n",
              "</html>"
            ]
          },
          "metadata": {}
        }
      ]
    },
    {
      "cell_type": "markdown",
      "source": [
        "**Furniture**"
      ],
      "metadata": {
        "id": "d57dH_hXRAKx"
      }
    },
    {
      "cell_type": "code",
      "source": [
        "clean.furniture.unique()"
      ],
      "metadata": {
        "colab": {
          "base_uri": "https://localhost:8080/"
        },
        "id": "kTo8DD7iQmw_",
        "outputId": "04c6c9fd-3e0b-490d-ef6b-c3ac54a16292"
      },
      "execution_count": 265,
      "outputs": [
        {
          "output_type": "execute_result",
          "data": {
            "text/plain": [
              "array(['Részben berendezett, gépesített', 'Berendezett, gépesített',\n",
              "       'Üres, gépesített', 'Berendezett, üresen is',\n",
              "       'Berendezett, új bútorok', nan, 'Berendezett, IKEA, KIKA',\n",
              "       'Részben berendezett', 'Berendezett, lakberendező által', 'Luxus',\n",
              "       'Üres, berendezve is', 'Üres', 'Berendezett, nem gépesített'],\n",
              "      dtype=object)"
            ]
          },
          "metadata": {},
          "execution_count": 265
        }
      ]
    },
    {
      "cell_type": "code",
      "source": [
        "furniture_counts = clean['furniture'].value_counts().reset_index()\n",
        "furniture_counts.columns = ['furniture', 'count']\n",
        "\n",
        "import plotly.express as px\n",
        "fig2 = px.bar(furniture_counts, x = 'count', y = 'furniture',\n",
        "              title = 'Number of listings based on the furnishment',\n",
        "              template = 'simple_white',\n",
        "              text_auto = True\n",
        "              )\n",
        "\n",
        "fig2.update_layout( xaxis_title = None, yaxis_title = None,\n",
        "                   title_x = 0.5, yaxis_categoryorder = 'total ascending')\n",
        "\n",
        "fig2.update_traces(texttemplate = '%{value:.2s}', textposition = 'outside')\n",
        "\n",
        "fig2.update_xaxes(visible = False)"
      ],
      "metadata": {
        "colab": {
          "base_uri": "https://localhost:8080/",
          "height": 542
        },
        "id": "AJk61LKTTAaS",
        "outputId": "eb1b9aec-0c23-414a-9b14-4c9bb4a8382d"
      },
      "execution_count": 266,
      "outputs": [
        {
          "output_type": "display_data",
          "data": {
            "text/html": [
              "<html>\n",
              "<head><meta charset=\"utf-8\" /></head>\n",
              "<body>\n",
              "    <div>            <script src=\"https://cdnjs.cloudflare.com/ajax/libs/mathjax/2.7.5/MathJax.js?config=TeX-AMS-MML_SVG\"></script><script type=\"text/javascript\">if (window.MathJax && window.MathJax.Hub && window.MathJax.Hub.Config) {window.MathJax.Hub.Config({SVG: {font: \"STIX-Web\"}});}</script>                <script type=\"text/javascript\">window.PlotlyConfig = {MathJaxConfig: 'local'};</script>\n",
              "        <script charset=\"utf-8\" src=\"https://cdn.plot.ly/plotly-2.35.2.min.js\"></script>                <div id=\"5f385ef7-5290-4418-8f37-aa05b756d0ab\" class=\"plotly-graph-div\" style=\"height:525px; width:100%;\"></div>            <script type=\"text/javascript\">                                    window.PLOTLYENV=window.PLOTLYENV || {};                                    if (document.getElementById(\"5f385ef7-5290-4418-8f37-aa05b756d0ab\")) {                    Plotly.newPlot(                        \"5f385ef7-5290-4418-8f37-aa05b756d0ab\",                        [{\"alignmentgroup\":\"True\",\"hovertemplate\":\"count=%{x}\\u003cbr\\u003efurniture=%{y}\\u003cextra\\u003e\\u003c\\u002fextra\\u003e\",\"legendgroup\":\"\",\"marker\":{\"color\":\"#1F77B4\",\"pattern\":{\"shape\":\"\"}},\"name\":\"\",\"offsetgroup\":\"\",\"orientation\":\"h\",\"showlegend\":false,\"textposition\":\"outside\",\"texttemplate\":\"%{value:.2s}\",\"x\":[540,111,78,33,30,24,13,13,12,11,9,3],\"xaxis\":\"x\",\"y\":[\"Berendezett, gépesített\",\"Részben berendezett, gépesített\",\"Üres, gépesített\",\"Üres\",\"Luxus\",\"Részben berendezett\",\"Berendezett, üresen is\",\"Üres, berendezve is\",\"Berendezett, új bútorok\",\"Berendezett, IKEA, KIKA\",\"Berendezett, lakberendező által\",\"Berendezett, nem gépesített\"],\"yaxis\":\"y\",\"type\":\"bar\"}],                        {\"template\":{\"data\":{\"barpolar\":[{\"marker\":{\"line\":{\"color\":\"white\",\"width\":0.5},\"pattern\":{\"fillmode\":\"overlay\",\"size\":10,\"solidity\":0.2}},\"type\":\"barpolar\"}],\"bar\":[{\"error_x\":{\"color\":\"rgb(36,36,36)\"},\"error_y\":{\"color\":\"rgb(36,36,36)\"},\"marker\":{\"line\":{\"color\":\"white\",\"width\":0.5},\"pattern\":{\"fillmode\":\"overlay\",\"size\":10,\"solidity\":0.2}},\"type\":\"bar\"}],\"carpet\":[{\"aaxis\":{\"endlinecolor\":\"rgb(36,36,36)\",\"gridcolor\":\"white\",\"linecolor\":\"white\",\"minorgridcolor\":\"white\",\"startlinecolor\":\"rgb(36,36,36)\"},\"baxis\":{\"endlinecolor\":\"rgb(36,36,36)\",\"gridcolor\":\"white\",\"linecolor\":\"white\",\"minorgridcolor\":\"white\",\"startlinecolor\":\"rgb(36,36,36)\"},\"type\":\"carpet\"}],\"choropleth\":[{\"colorbar\":{\"outlinewidth\":1,\"tickcolor\":\"rgb(36,36,36)\",\"ticks\":\"outside\"},\"type\":\"choropleth\"}],\"contourcarpet\":[{\"colorbar\":{\"outlinewidth\":1,\"tickcolor\":\"rgb(36,36,36)\",\"ticks\":\"outside\"},\"type\":\"contourcarpet\"}],\"contour\":[{\"colorbar\":{\"outlinewidth\":1,\"tickcolor\":\"rgb(36,36,36)\",\"ticks\":\"outside\"},\"colorscale\":[[0.0,\"#440154\"],[0.1111111111111111,\"#482878\"],[0.2222222222222222,\"#3e4989\"],[0.3333333333333333,\"#31688e\"],[0.4444444444444444,\"#26828e\"],[0.5555555555555556,\"#1f9e89\"],[0.6666666666666666,\"#35b779\"],[0.7777777777777778,\"#6ece58\"],[0.8888888888888888,\"#b5de2b\"],[1.0,\"#fde725\"]],\"type\":\"contour\"}],\"heatmapgl\":[{\"colorbar\":{\"outlinewidth\":1,\"tickcolor\":\"rgb(36,36,36)\",\"ticks\":\"outside\"},\"colorscale\":[[0.0,\"#440154\"],[0.1111111111111111,\"#482878\"],[0.2222222222222222,\"#3e4989\"],[0.3333333333333333,\"#31688e\"],[0.4444444444444444,\"#26828e\"],[0.5555555555555556,\"#1f9e89\"],[0.6666666666666666,\"#35b779\"],[0.7777777777777778,\"#6ece58\"],[0.8888888888888888,\"#b5de2b\"],[1.0,\"#fde725\"]],\"type\":\"heatmapgl\"}],\"heatmap\":[{\"colorbar\":{\"outlinewidth\":1,\"tickcolor\":\"rgb(36,36,36)\",\"ticks\":\"outside\"},\"colorscale\":[[0.0,\"#440154\"],[0.1111111111111111,\"#482878\"],[0.2222222222222222,\"#3e4989\"],[0.3333333333333333,\"#31688e\"],[0.4444444444444444,\"#26828e\"],[0.5555555555555556,\"#1f9e89\"],[0.6666666666666666,\"#35b779\"],[0.7777777777777778,\"#6ece58\"],[0.8888888888888888,\"#b5de2b\"],[1.0,\"#fde725\"]],\"type\":\"heatmap\"}],\"histogram2dcontour\":[{\"colorbar\":{\"outlinewidth\":1,\"tickcolor\":\"rgb(36,36,36)\",\"ticks\":\"outside\"},\"colorscale\":[[0.0,\"#440154\"],[0.1111111111111111,\"#482878\"],[0.2222222222222222,\"#3e4989\"],[0.3333333333333333,\"#31688e\"],[0.4444444444444444,\"#26828e\"],[0.5555555555555556,\"#1f9e89\"],[0.6666666666666666,\"#35b779\"],[0.7777777777777778,\"#6ece58\"],[0.8888888888888888,\"#b5de2b\"],[1.0,\"#fde725\"]],\"type\":\"histogram2dcontour\"}],\"histogram2d\":[{\"colorbar\":{\"outlinewidth\":1,\"tickcolor\":\"rgb(36,36,36)\",\"ticks\":\"outside\"},\"colorscale\":[[0.0,\"#440154\"],[0.1111111111111111,\"#482878\"],[0.2222222222222222,\"#3e4989\"],[0.3333333333333333,\"#31688e\"],[0.4444444444444444,\"#26828e\"],[0.5555555555555556,\"#1f9e89\"],[0.6666666666666666,\"#35b779\"],[0.7777777777777778,\"#6ece58\"],[0.8888888888888888,\"#b5de2b\"],[1.0,\"#fde725\"]],\"type\":\"histogram2d\"}],\"histogram\":[{\"marker\":{\"line\":{\"color\":\"white\",\"width\":0.6}},\"type\":\"histogram\"}],\"mesh3d\":[{\"colorbar\":{\"outlinewidth\":1,\"tickcolor\":\"rgb(36,36,36)\",\"ticks\":\"outside\"},\"type\":\"mesh3d\"}],\"parcoords\":[{\"line\":{\"colorbar\":{\"outlinewidth\":1,\"tickcolor\":\"rgb(36,36,36)\",\"ticks\":\"outside\"}},\"type\":\"parcoords\"}],\"pie\":[{\"automargin\":true,\"type\":\"pie\"}],\"scatter3d\":[{\"line\":{\"colorbar\":{\"outlinewidth\":1,\"tickcolor\":\"rgb(36,36,36)\",\"ticks\":\"outside\"}},\"marker\":{\"colorbar\":{\"outlinewidth\":1,\"tickcolor\":\"rgb(36,36,36)\",\"ticks\":\"outside\"}},\"type\":\"scatter3d\"}],\"scattercarpet\":[{\"marker\":{\"colorbar\":{\"outlinewidth\":1,\"tickcolor\":\"rgb(36,36,36)\",\"ticks\":\"outside\"}},\"type\":\"scattercarpet\"}],\"scattergeo\":[{\"marker\":{\"colorbar\":{\"outlinewidth\":1,\"tickcolor\":\"rgb(36,36,36)\",\"ticks\":\"outside\"}},\"type\":\"scattergeo\"}],\"scattergl\":[{\"marker\":{\"colorbar\":{\"outlinewidth\":1,\"tickcolor\":\"rgb(36,36,36)\",\"ticks\":\"outside\"}},\"type\":\"scattergl\"}],\"scattermapbox\":[{\"marker\":{\"colorbar\":{\"outlinewidth\":1,\"tickcolor\":\"rgb(36,36,36)\",\"ticks\":\"outside\"}},\"type\":\"scattermapbox\"}],\"scatterpolargl\":[{\"marker\":{\"colorbar\":{\"outlinewidth\":1,\"tickcolor\":\"rgb(36,36,36)\",\"ticks\":\"outside\"}},\"type\":\"scatterpolargl\"}],\"scatterpolar\":[{\"marker\":{\"colorbar\":{\"outlinewidth\":1,\"tickcolor\":\"rgb(36,36,36)\",\"ticks\":\"outside\"}},\"type\":\"scatterpolar\"}],\"scatter\":[{\"fillpattern\":{\"fillmode\":\"overlay\",\"size\":10,\"solidity\":0.2},\"type\":\"scatter\"}],\"scatterternary\":[{\"marker\":{\"colorbar\":{\"outlinewidth\":1,\"tickcolor\":\"rgb(36,36,36)\",\"ticks\":\"outside\"}},\"type\":\"scatterternary\"}],\"surface\":[{\"colorbar\":{\"outlinewidth\":1,\"tickcolor\":\"rgb(36,36,36)\",\"ticks\":\"outside\"},\"colorscale\":[[0.0,\"#440154\"],[0.1111111111111111,\"#482878\"],[0.2222222222222222,\"#3e4989\"],[0.3333333333333333,\"#31688e\"],[0.4444444444444444,\"#26828e\"],[0.5555555555555556,\"#1f9e89\"],[0.6666666666666666,\"#35b779\"],[0.7777777777777778,\"#6ece58\"],[0.8888888888888888,\"#b5de2b\"],[1.0,\"#fde725\"]],\"type\":\"surface\"}],\"table\":[{\"cells\":{\"fill\":{\"color\":\"rgb(237,237,237)\"},\"line\":{\"color\":\"white\"}},\"header\":{\"fill\":{\"color\":\"rgb(217,217,217)\"},\"line\":{\"color\":\"white\"}},\"type\":\"table\"}]},\"layout\":{\"annotationdefaults\":{\"arrowhead\":0,\"arrowwidth\":1},\"autotypenumbers\":\"strict\",\"coloraxis\":{\"colorbar\":{\"outlinewidth\":1,\"tickcolor\":\"rgb(36,36,36)\",\"ticks\":\"outside\"}},\"colorscale\":{\"diverging\":[[0.0,\"rgb(103,0,31)\"],[0.1,\"rgb(178,24,43)\"],[0.2,\"rgb(214,96,77)\"],[0.3,\"rgb(244,165,130)\"],[0.4,\"rgb(253,219,199)\"],[0.5,\"rgb(247,247,247)\"],[0.6,\"rgb(209,229,240)\"],[0.7,\"rgb(146,197,222)\"],[0.8,\"rgb(67,147,195)\"],[0.9,\"rgb(33,102,172)\"],[1.0,\"rgb(5,48,97)\"]],\"sequential\":[[0.0,\"#440154\"],[0.1111111111111111,\"#482878\"],[0.2222222222222222,\"#3e4989\"],[0.3333333333333333,\"#31688e\"],[0.4444444444444444,\"#26828e\"],[0.5555555555555556,\"#1f9e89\"],[0.6666666666666666,\"#35b779\"],[0.7777777777777778,\"#6ece58\"],[0.8888888888888888,\"#b5de2b\"],[1.0,\"#fde725\"]],\"sequentialminus\":[[0.0,\"#440154\"],[0.1111111111111111,\"#482878\"],[0.2222222222222222,\"#3e4989\"],[0.3333333333333333,\"#31688e\"],[0.4444444444444444,\"#26828e\"],[0.5555555555555556,\"#1f9e89\"],[0.6666666666666666,\"#35b779\"],[0.7777777777777778,\"#6ece58\"],[0.8888888888888888,\"#b5de2b\"],[1.0,\"#fde725\"]]},\"colorway\":[\"#1F77B4\",\"#FF7F0E\",\"#2CA02C\",\"#D62728\",\"#9467BD\",\"#8C564B\",\"#E377C2\",\"#7F7F7F\",\"#BCBD22\",\"#17BECF\"],\"font\":{\"color\":\"rgb(36,36,36)\"},\"geo\":{\"bgcolor\":\"white\",\"lakecolor\":\"white\",\"landcolor\":\"white\",\"showlakes\":true,\"showland\":true,\"subunitcolor\":\"white\"},\"hoverlabel\":{\"align\":\"left\"},\"hovermode\":\"closest\",\"mapbox\":{\"style\":\"light\"},\"paper_bgcolor\":\"white\",\"plot_bgcolor\":\"white\",\"polar\":{\"angularaxis\":{\"gridcolor\":\"rgb(232,232,232)\",\"linecolor\":\"rgb(36,36,36)\",\"showgrid\":false,\"showline\":true,\"ticks\":\"outside\"},\"bgcolor\":\"white\",\"radialaxis\":{\"gridcolor\":\"rgb(232,232,232)\",\"linecolor\":\"rgb(36,36,36)\",\"showgrid\":false,\"showline\":true,\"ticks\":\"outside\"}},\"scene\":{\"xaxis\":{\"backgroundcolor\":\"white\",\"gridcolor\":\"rgb(232,232,232)\",\"gridwidth\":2,\"linecolor\":\"rgb(36,36,36)\",\"showbackground\":true,\"showgrid\":false,\"showline\":true,\"ticks\":\"outside\",\"zeroline\":false,\"zerolinecolor\":\"rgb(36,36,36)\"},\"yaxis\":{\"backgroundcolor\":\"white\",\"gridcolor\":\"rgb(232,232,232)\",\"gridwidth\":2,\"linecolor\":\"rgb(36,36,36)\",\"showbackground\":true,\"showgrid\":false,\"showline\":true,\"ticks\":\"outside\",\"zeroline\":false,\"zerolinecolor\":\"rgb(36,36,36)\"},\"zaxis\":{\"backgroundcolor\":\"white\",\"gridcolor\":\"rgb(232,232,232)\",\"gridwidth\":2,\"linecolor\":\"rgb(36,36,36)\",\"showbackground\":true,\"showgrid\":false,\"showline\":true,\"ticks\":\"outside\",\"zeroline\":false,\"zerolinecolor\":\"rgb(36,36,36)\"}},\"shapedefaults\":{\"fillcolor\":\"black\",\"line\":{\"width\":0},\"opacity\":0.3},\"ternary\":{\"aaxis\":{\"gridcolor\":\"rgb(232,232,232)\",\"linecolor\":\"rgb(36,36,36)\",\"showgrid\":false,\"showline\":true,\"ticks\":\"outside\"},\"baxis\":{\"gridcolor\":\"rgb(232,232,232)\",\"linecolor\":\"rgb(36,36,36)\",\"showgrid\":false,\"showline\":true,\"ticks\":\"outside\"},\"bgcolor\":\"white\",\"caxis\":{\"gridcolor\":\"rgb(232,232,232)\",\"linecolor\":\"rgb(36,36,36)\",\"showgrid\":false,\"showline\":true,\"ticks\":\"outside\"}},\"title\":{\"x\":0.05},\"xaxis\":{\"automargin\":true,\"gridcolor\":\"rgb(232,232,232)\",\"linecolor\":\"rgb(36,36,36)\",\"showgrid\":false,\"showline\":true,\"ticks\":\"outside\",\"title\":{\"standoff\":15},\"zeroline\":false,\"zerolinecolor\":\"rgb(36,36,36)\"},\"yaxis\":{\"automargin\":true,\"gridcolor\":\"rgb(232,232,232)\",\"linecolor\":\"rgb(36,36,36)\",\"showgrid\":false,\"showline\":true,\"ticks\":\"outside\",\"title\":{\"standoff\":15},\"zeroline\":false,\"zerolinecolor\":\"rgb(36,36,36)\"}}},\"xaxis\":{\"anchor\":\"y\",\"domain\":[0.0,1.0],\"title\":{},\"visible\":false},\"yaxis\":{\"anchor\":\"x\",\"domain\":[0.0,1.0],\"title\":{},\"categoryorder\":\"total ascending\"},\"legend\":{\"tracegroupgap\":0},\"title\":{\"text\":\"Number of listings based on the furnishment\",\"x\":0.5},\"barmode\":\"relative\"},                        {\"responsive\": true}                    ).then(function(){\n",
              "                            \n",
              "var gd = document.getElementById('5f385ef7-5290-4418-8f37-aa05b756d0ab');\n",
              "var x = new MutationObserver(function (mutations, observer) {{\n",
              "        var display = window.getComputedStyle(gd).display;\n",
              "        if (!display || display === 'none') {{\n",
              "            console.log([gd, 'removed!']);\n",
              "            Plotly.purge(gd);\n",
              "            observer.disconnect();\n",
              "        }}\n",
              "}});\n",
              "\n",
              "// Listen for the removal of the full notebook cells\n",
              "var notebookContainer = gd.closest('#notebook-container');\n",
              "if (notebookContainer) {{\n",
              "    x.observe(notebookContainer, {childList: true});\n",
              "}}\n",
              "\n",
              "// Listen for the clearing of the current output cell\n",
              "var outputEl = gd.closest('.output');\n",
              "if (outputEl) {{\n",
              "    x.observe(outputEl, {childList: true});\n",
              "}}\n",
              "\n",
              "                        })                };                            </script>        </div>\n",
              "</body>\n",
              "</html>"
            ]
          },
          "metadata": {}
        }
      ]
    },
    {
      "cell_type": "code",
      "source": [
        "def categorize_furnished(furniture):\n",
        "    if pd.isna(furniture):\n",
        "        return 'Na'\n",
        "    elif 'üres' in furniture:\n",
        "        return 'üres'\n",
        "    elif 'részben' in furniture:\n",
        "        return 'részben'\n",
        "    else:\n",
        "        return 'berendezett'\n",
        "\n",
        "def categorize_machines(furniture):\n",
        "    if pd.isna(furniture):\n",
        "        return 'nem gépesített'\n",
        "    elif 'gépesített' in furniture:\n",
        "        return 'gépesített'\n",
        "    else:\n",
        "        return 'nem gépesített'\n",
        "\n",
        "clean['furnished'] = clean['furniture'].apply(categorize_furnished)\n",
        "clean['machines'] = clean['furniture'].apply(categorize_machines)"
      ],
      "metadata": {
        "id": "1bLkZr-tQmtU",
        "colab": {
          "base_uri": "https://localhost:8080/"
        },
        "outputId": "d6cc9e08-f9ae-4e2f-cfed-56684ff7c9b1"
      },
      "execution_count": 267,
      "outputs": [
        {
          "output_type": "stream",
          "name": "stderr",
          "text": [
            "<ipython-input-267-3973412a3280>:19: SettingWithCopyWarning:\n",
            "\n",
            "\n",
            "A value is trying to be set on a copy of a slice from a DataFrame.\n",
            "Try using .loc[row_indexer,col_indexer] = value instead\n",
            "\n",
            "See the caveats in the documentation: https://pandas.pydata.org/pandas-docs/stable/user_guide/indexing.html#returning-a-view-versus-a-copy\n",
            "\n",
            "<ipython-input-267-3973412a3280>:20: SettingWithCopyWarning:\n",
            "\n",
            "\n",
            "A value is trying to be set on a copy of a slice from a DataFrame.\n",
            "Try using .loc[row_indexer,col_indexer] = value instead\n",
            "\n",
            "See the caveats in the documentation: https://pandas.pydata.org/pandas-docs/stable/user_guide/indexing.html#returning-a-view-versus-a-copy\n",
            "\n"
          ]
        }
      ]
    },
    {
      "cell_type": "code",
      "source": [
        "furniture_counts = clean['furnished'].value_counts().reset_index()\n",
        "furniture_counts.columns = ['furniture', 'count']\n",
        "\n",
        "import plotly.express as px\n",
        "fig2 = px.bar(furniture_counts, x = 'count', y = 'furniture',\n",
        "              title = 'Number of listings based on the furnishment',\n",
        "              template = 'simple_white',\n",
        "              text_auto = True\n",
        "              )\n",
        "\n",
        "fig2.update_layout( xaxis_title = None, yaxis_title = None,\n",
        "                   title_x = 0.5, yaxis_categoryorder = 'total ascending')\n",
        "\n",
        "fig2.update_traces(texttemplate = '%{value:.2s}', textposition = 'outside')\n",
        "\n",
        "fig2.update_xaxes(visible = False)"
      ],
      "metadata": {
        "colab": {
          "base_uri": "https://localhost:8080/",
          "height": 542
        },
        "id": "ZJkmbHOBQmqF",
        "outputId": "7bdcba39-9439-4dff-e1bc-447c34186cc9"
      },
      "execution_count": 268,
      "outputs": [
        {
          "output_type": "display_data",
          "data": {
            "text/html": [
              "<html>\n",
              "<head><meta charset=\"utf-8\" /></head>\n",
              "<body>\n",
              "    <div>            <script src=\"https://cdnjs.cloudflare.com/ajax/libs/mathjax/2.7.5/MathJax.js?config=TeX-AMS-MML_SVG\"></script><script type=\"text/javascript\">if (window.MathJax && window.MathJax.Hub && window.MathJax.Hub.Config) {window.MathJax.Hub.Config({SVG: {font: \"STIX-Web\"}});}</script>                <script type=\"text/javascript\">window.PlotlyConfig = {MathJaxConfig: 'local'};</script>\n",
              "        <script charset=\"utf-8\" src=\"https://cdn.plot.ly/plotly-2.35.2.min.js\"></script>                <div id=\"b8fa2877-255c-440c-b039-f3e557ac7be9\" class=\"plotly-graph-div\" style=\"height:525px; width:100%;\"></div>            <script type=\"text/javascript\">                                    window.PLOTLYENV=window.PLOTLYENV || {};                                    if (document.getElementById(\"b8fa2877-255c-440c-b039-f3e557ac7be9\")) {                    Plotly.newPlot(                        \"b8fa2877-255c-440c-b039-f3e557ac7be9\",                        [{\"alignmentgroup\":\"True\",\"hovertemplate\":\"count=%{x}\\u003cbr\\u003efurniture=%{y}\\u003cextra\\u003e\\u003c\\u002fextra\\u003e\",\"legendgroup\":\"\",\"marker\":{\"color\":\"#1F77B4\",\"pattern\":{\"shape\":\"\"}},\"name\":\"\",\"offsetgroup\":\"\",\"orientation\":\"h\",\"showlegend\":false,\"textposition\":\"outside\",\"texttemplate\":\"%{value:.2s}\",\"x\":[864,13,1],\"xaxis\":\"x\",\"y\":[\"berendezett\",\"üres\",\"Na\"],\"yaxis\":\"y\",\"type\":\"bar\"}],                        {\"template\":{\"data\":{\"barpolar\":[{\"marker\":{\"line\":{\"color\":\"white\",\"width\":0.5},\"pattern\":{\"fillmode\":\"overlay\",\"size\":10,\"solidity\":0.2}},\"type\":\"barpolar\"}],\"bar\":[{\"error_x\":{\"color\":\"rgb(36,36,36)\"},\"error_y\":{\"color\":\"rgb(36,36,36)\"},\"marker\":{\"line\":{\"color\":\"white\",\"width\":0.5},\"pattern\":{\"fillmode\":\"overlay\",\"size\":10,\"solidity\":0.2}},\"type\":\"bar\"}],\"carpet\":[{\"aaxis\":{\"endlinecolor\":\"rgb(36,36,36)\",\"gridcolor\":\"white\",\"linecolor\":\"white\",\"minorgridcolor\":\"white\",\"startlinecolor\":\"rgb(36,36,36)\"},\"baxis\":{\"endlinecolor\":\"rgb(36,36,36)\",\"gridcolor\":\"white\",\"linecolor\":\"white\",\"minorgridcolor\":\"white\",\"startlinecolor\":\"rgb(36,36,36)\"},\"type\":\"carpet\"}],\"choropleth\":[{\"colorbar\":{\"outlinewidth\":1,\"tickcolor\":\"rgb(36,36,36)\",\"ticks\":\"outside\"},\"type\":\"choropleth\"}],\"contourcarpet\":[{\"colorbar\":{\"outlinewidth\":1,\"tickcolor\":\"rgb(36,36,36)\",\"ticks\":\"outside\"},\"type\":\"contourcarpet\"}],\"contour\":[{\"colorbar\":{\"outlinewidth\":1,\"tickcolor\":\"rgb(36,36,36)\",\"ticks\":\"outside\"},\"colorscale\":[[0.0,\"#440154\"],[0.1111111111111111,\"#482878\"],[0.2222222222222222,\"#3e4989\"],[0.3333333333333333,\"#31688e\"],[0.4444444444444444,\"#26828e\"],[0.5555555555555556,\"#1f9e89\"],[0.6666666666666666,\"#35b779\"],[0.7777777777777778,\"#6ece58\"],[0.8888888888888888,\"#b5de2b\"],[1.0,\"#fde725\"]],\"type\":\"contour\"}],\"heatmapgl\":[{\"colorbar\":{\"outlinewidth\":1,\"tickcolor\":\"rgb(36,36,36)\",\"ticks\":\"outside\"},\"colorscale\":[[0.0,\"#440154\"],[0.1111111111111111,\"#482878\"],[0.2222222222222222,\"#3e4989\"],[0.3333333333333333,\"#31688e\"],[0.4444444444444444,\"#26828e\"],[0.5555555555555556,\"#1f9e89\"],[0.6666666666666666,\"#35b779\"],[0.7777777777777778,\"#6ece58\"],[0.8888888888888888,\"#b5de2b\"],[1.0,\"#fde725\"]],\"type\":\"heatmapgl\"}],\"heatmap\":[{\"colorbar\":{\"outlinewidth\":1,\"tickcolor\":\"rgb(36,36,36)\",\"ticks\":\"outside\"},\"colorscale\":[[0.0,\"#440154\"],[0.1111111111111111,\"#482878\"],[0.2222222222222222,\"#3e4989\"],[0.3333333333333333,\"#31688e\"],[0.4444444444444444,\"#26828e\"],[0.5555555555555556,\"#1f9e89\"],[0.6666666666666666,\"#35b779\"],[0.7777777777777778,\"#6ece58\"],[0.8888888888888888,\"#b5de2b\"],[1.0,\"#fde725\"]],\"type\":\"heatmap\"}],\"histogram2dcontour\":[{\"colorbar\":{\"outlinewidth\":1,\"tickcolor\":\"rgb(36,36,36)\",\"ticks\":\"outside\"},\"colorscale\":[[0.0,\"#440154\"],[0.1111111111111111,\"#482878\"],[0.2222222222222222,\"#3e4989\"],[0.3333333333333333,\"#31688e\"],[0.4444444444444444,\"#26828e\"],[0.5555555555555556,\"#1f9e89\"],[0.6666666666666666,\"#35b779\"],[0.7777777777777778,\"#6ece58\"],[0.8888888888888888,\"#b5de2b\"],[1.0,\"#fde725\"]],\"type\":\"histogram2dcontour\"}],\"histogram2d\":[{\"colorbar\":{\"outlinewidth\":1,\"tickcolor\":\"rgb(36,36,36)\",\"ticks\":\"outside\"},\"colorscale\":[[0.0,\"#440154\"],[0.1111111111111111,\"#482878\"],[0.2222222222222222,\"#3e4989\"],[0.3333333333333333,\"#31688e\"],[0.4444444444444444,\"#26828e\"],[0.5555555555555556,\"#1f9e89\"],[0.6666666666666666,\"#35b779\"],[0.7777777777777778,\"#6ece58\"],[0.8888888888888888,\"#b5de2b\"],[1.0,\"#fde725\"]],\"type\":\"histogram2d\"}],\"histogram\":[{\"marker\":{\"line\":{\"color\":\"white\",\"width\":0.6}},\"type\":\"histogram\"}],\"mesh3d\":[{\"colorbar\":{\"outlinewidth\":1,\"tickcolor\":\"rgb(36,36,36)\",\"ticks\":\"outside\"},\"type\":\"mesh3d\"}],\"parcoords\":[{\"line\":{\"colorbar\":{\"outlinewidth\":1,\"tickcolor\":\"rgb(36,36,36)\",\"ticks\":\"outside\"}},\"type\":\"parcoords\"}],\"pie\":[{\"automargin\":true,\"type\":\"pie\"}],\"scatter3d\":[{\"line\":{\"colorbar\":{\"outlinewidth\":1,\"tickcolor\":\"rgb(36,36,36)\",\"ticks\":\"outside\"}},\"marker\":{\"colorbar\":{\"outlinewidth\":1,\"tickcolor\":\"rgb(36,36,36)\",\"ticks\":\"outside\"}},\"type\":\"scatter3d\"}],\"scattercarpet\":[{\"marker\":{\"colorbar\":{\"outlinewidth\":1,\"tickcolor\":\"rgb(36,36,36)\",\"ticks\":\"outside\"}},\"type\":\"scattercarpet\"}],\"scattergeo\":[{\"marker\":{\"colorbar\":{\"outlinewidth\":1,\"tickcolor\":\"rgb(36,36,36)\",\"ticks\":\"outside\"}},\"type\":\"scattergeo\"}],\"scattergl\":[{\"marker\":{\"colorbar\":{\"outlinewidth\":1,\"tickcolor\":\"rgb(36,36,36)\",\"ticks\":\"outside\"}},\"type\":\"scattergl\"}],\"scattermapbox\":[{\"marker\":{\"colorbar\":{\"outlinewidth\":1,\"tickcolor\":\"rgb(36,36,36)\",\"ticks\":\"outside\"}},\"type\":\"scattermapbox\"}],\"scatterpolargl\":[{\"marker\":{\"colorbar\":{\"outlinewidth\":1,\"tickcolor\":\"rgb(36,36,36)\",\"ticks\":\"outside\"}},\"type\":\"scatterpolargl\"}],\"scatterpolar\":[{\"marker\":{\"colorbar\":{\"outlinewidth\":1,\"tickcolor\":\"rgb(36,36,36)\",\"ticks\":\"outside\"}},\"type\":\"scatterpolar\"}],\"scatter\":[{\"fillpattern\":{\"fillmode\":\"overlay\",\"size\":10,\"solidity\":0.2},\"type\":\"scatter\"}],\"scatterternary\":[{\"marker\":{\"colorbar\":{\"outlinewidth\":1,\"tickcolor\":\"rgb(36,36,36)\",\"ticks\":\"outside\"}},\"type\":\"scatterternary\"}],\"surface\":[{\"colorbar\":{\"outlinewidth\":1,\"tickcolor\":\"rgb(36,36,36)\",\"ticks\":\"outside\"},\"colorscale\":[[0.0,\"#440154\"],[0.1111111111111111,\"#482878\"],[0.2222222222222222,\"#3e4989\"],[0.3333333333333333,\"#31688e\"],[0.4444444444444444,\"#26828e\"],[0.5555555555555556,\"#1f9e89\"],[0.6666666666666666,\"#35b779\"],[0.7777777777777778,\"#6ece58\"],[0.8888888888888888,\"#b5de2b\"],[1.0,\"#fde725\"]],\"type\":\"surface\"}],\"table\":[{\"cells\":{\"fill\":{\"color\":\"rgb(237,237,237)\"},\"line\":{\"color\":\"white\"}},\"header\":{\"fill\":{\"color\":\"rgb(217,217,217)\"},\"line\":{\"color\":\"white\"}},\"type\":\"table\"}]},\"layout\":{\"annotationdefaults\":{\"arrowhead\":0,\"arrowwidth\":1},\"autotypenumbers\":\"strict\",\"coloraxis\":{\"colorbar\":{\"outlinewidth\":1,\"tickcolor\":\"rgb(36,36,36)\",\"ticks\":\"outside\"}},\"colorscale\":{\"diverging\":[[0.0,\"rgb(103,0,31)\"],[0.1,\"rgb(178,24,43)\"],[0.2,\"rgb(214,96,77)\"],[0.3,\"rgb(244,165,130)\"],[0.4,\"rgb(253,219,199)\"],[0.5,\"rgb(247,247,247)\"],[0.6,\"rgb(209,229,240)\"],[0.7,\"rgb(146,197,222)\"],[0.8,\"rgb(67,147,195)\"],[0.9,\"rgb(33,102,172)\"],[1.0,\"rgb(5,48,97)\"]],\"sequential\":[[0.0,\"#440154\"],[0.1111111111111111,\"#482878\"],[0.2222222222222222,\"#3e4989\"],[0.3333333333333333,\"#31688e\"],[0.4444444444444444,\"#26828e\"],[0.5555555555555556,\"#1f9e89\"],[0.6666666666666666,\"#35b779\"],[0.7777777777777778,\"#6ece58\"],[0.8888888888888888,\"#b5de2b\"],[1.0,\"#fde725\"]],\"sequentialminus\":[[0.0,\"#440154\"],[0.1111111111111111,\"#482878\"],[0.2222222222222222,\"#3e4989\"],[0.3333333333333333,\"#31688e\"],[0.4444444444444444,\"#26828e\"],[0.5555555555555556,\"#1f9e89\"],[0.6666666666666666,\"#35b779\"],[0.7777777777777778,\"#6ece58\"],[0.8888888888888888,\"#b5de2b\"],[1.0,\"#fde725\"]]},\"colorway\":[\"#1F77B4\",\"#FF7F0E\",\"#2CA02C\",\"#D62728\",\"#9467BD\",\"#8C564B\",\"#E377C2\",\"#7F7F7F\",\"#BCBD22\",\"#17BECF\"],\"font\":{\"color\":\"rgb(36,36,36)\"},\"geo\":{\"bgcolor\":\"white\",\"lakecolor\":\"white\",\"landcolor\":\"white\",\"showlakes\":true,\"showland\":true,\"subunitcolor\":\"white\"},\"hoverlabel\":{\"align\":\"left\"},\"hovermode\":\"closest\",\"mapbox\":{\"style\":\"light\"},\"paper_bgcolor\":\"white\",\"plot_bgcolor\":\"white\",\"polar\":{\"angularaxis\":{\"gridcolor\":\"rgb(232,232,232)\",\"linecolor\":\"rgb(36,36,36)\",\"showgrid\":false,\"showline\":true,\"ticks\":\"outside\"},\"bgcolor\":\"white\",\"radialaxis\":{\"gridcolor\":\"rgb(232,232,232)\",\"linecolor\":\"rgb(36,36,36)\",\"showgrid\":false,\"showline\":true,\"ticks\":\"outside\"}},\"scene\":{\"xaxis\":{\"backgroundcolor\":\"white\",\"gridcolor\":\"rgb(232,232,232)\",\"gridwidth\":2,\"linecolor\":\"rgb(36,36,36)\",\"showbackground\":true,\"showgrid\":false,\"showline\":true,\"ticks\":\"outside\",\"zeroline\":false,\"zerolinecolor\":\"rgb(36,36,36)\"},\"yaxis\":{\"backgroundcolor\":\"white\",\"gridcolor\":\"rgb(232,232,232)\",\"gridwidth\":2,\"linecolor\":\"rgb(36,36,36)\",\"showbackground\":true,\"showgrid\":false,\"showline\":true,\"ticks\":\"outside\",\"zeroline\":false,\"zerolinecolor\":\"rgb(36,36,36)\"},\"zaxis\":{\"backgroundcolor\":\"white\",\"gridcolor\":\"rgb(232,232,232)\",\"gridwidth\":2,\"linecolor\":\"rgb(36,36,36)\",\"showbackground\":true,\"showgrid\":false,\"showline\":true,\"ticks\":\"outside\",\"zeroline\":false,\"zerolinecolor\":\"rgb(36,36,36)\"}},\"shapedefaults\":{\"fillcolor\":\"black\",\"line\":{\"width\":0},\"opacity\":0.3},\"ternary\":{\"aaxis\":{\"gridcolor\":\"rgb(232,232,232)\",\"linecolor\":\"rgb(36,36,36)\",\"showgrid\":false,\"showline\":true,\"ticks\":\"outside\"},\"baxis\":{\"gridcolor\":\"rgb(232,232,232)\",\"linecolor\":\"rgb(36,36,36)\",\"showgrid\":false,\"showline\":true,\"ticks\":\"outside\"},\"bgcolor\":\"white\",\"caxis\":{\"gridcolor\":\"rgb(232,232,232)\",\"linecolor\":\"rgb(36,36,36)\",\"showgrid\":false,\"showline\":true,\"ticks\":\"outside\"}},\"title\":{\"x\":0.05},\"xaxis\":{\"automargin\":true,\"gridcolor\":\"rgb(232,232,232)\",\"linecolor\":\"rgb(36,36,36)\",\"showgrid\":false,\"showline\":true,\"ticks\":\"outside\",\"title\":{\"standoff\":15},\"zeroline\":false,\"zerolinecolor\":\"rgb(36,36,36)\"},\"yaxis\":{\"automargin\":true,\"gridcolor\":\"rgb(232,232,232)\",\"linecolor\":\"rgb(36,36,36)\",\"showgrid\":false,\"showline\":true,\"ticks\":\"outside\",\"title\":{\"standoff\":15},\"zeroline\":false,\"zerolinecolor\":\"rgb(36,36,36)\"}}},\"xaxis\":{\"anchor\":\"y\",\"domain\":[0.0,1.0],\"title\":{},\"visible\":false},\"yaxis\":{\"anchor\":\"x\",\"domain\":[0.0,1.0],\"title\":{},\"categoryorder\":\"total ascending\"},\"legend\":{\"tracegroupgap\":0},\"title\":{\"text\":\"Number of listings based on the furnishment\",\"x\":0.5},\"barmode\":\"relative\"},                        {\"responsive\": true}                    ).then(function(){\n",
              "                            \n",
              "var gd = document.getElementById('b8fa2877-255c-440c-b039-f3e557ac7be9');\n",
              "var x = new MutationObserver(function (mutations, observer) {{\n",
              "        var display = window.getComputedStyle(gd).display;\n",
              "        if (!display || display === 'none') {{\n",
              "            console.log([gd, 'removed!']);\n",
              "            Plotly.purge(gd);\n",
              "            observer.disconnect();\n",
              "        }}\n",
              "}});\n",
              "\n",
              "// Listen for the removal of the full notebook cells\n",
              "var notebookContainer = gd.closest('#notebook-container');\n",
              "if (notebookContainer) {{\n",
              "    x.observe(notebookContainer, {childList: true});\n",
              "}}\n",
              "\n",
              "// Listen for the clearing of the current output cell\n",
              "var outputEl = gd.closest('.output');\n",
              "if (outputEl) {{\n",
              "    x.observe(outputEl, {childList: true});\n",
              "}}\n",
              "\n",
              "                        })                };                            </script>        </div>\n",
              "</body>\n",
              "</html>"
            ]
          },
          "metadata": {}
        }
      ]
    },
    {
      "cell_type": "code",
      "source": [
        "machines_counts = clean['machines'].value_counts().reset_index()\n",
        "machines_counts.columns = ['machines', 'count']\n",
        "\n",
        "import plotly.express as px\n",
        "fig2 = px.bar(machines_counts, x = 'count', y = 'machines',\n",
        "              title = 'Number of listings based on the machines',\n",
        "              template = 'simple_white',\n",
        "              text_auto = True\n",
        "              )\n",
        "\n",
        "fig2.update_layout( xaxis_title = None, yaxis_title = None,\n",
        "                   title_x = 0.5, yaxis_categoryorder = 'total ascending')\n",
        "\n",
        "fig2.update_traces(texttemplate = '%{value:.2s}', textposition = 'outside')\n",
        "\n",
        "fig2.update_xaxes(visible = False)"
      ],
      "metadata": {
        "colab": {
          "base_uri": "https://localhost:8080/",
          "height": 542
        },
        "id": "GwjNHtkzQmmv",
        "outputId": "45f71d38-e514-43c7-e640-0a7118e830ad"
      },
      "execution_count": 269,
      "outputs": [
        {
          "output_type": "display_data",
          "data": {
            "text/html": [
              "<html>\n",
              "<head><meta charset=\"utf-8\" /></head>\n",
              "<body>\n",
              "    <div>            <script src=\"https://cdnjs.cloudflare.com/ajax/libs/mathjax/2.7.5/MathJax.js?config=TeX-AMS-MML_SVG\"></script><script type=\"text/javascript\">if (window.MathJax && window.MathJax.Hub && window.MathJax.Hub.Config) {window.MathJax.Hub.Config({SVG: {font: \"STIX-Web\"}});}</script>                <script type=\"text/javascript\">window.PlotlyConfig = {MathJaxConfig: 'local'};</script>\n",
              "        <script charset=\"utf-8\" src=\"https://cdn.plot.ly/plotly-2.35.2.min.js\"></script>                <div id=\"8e6f8d41-573f-4a79-982f-c4c2d81ebe35\" class=\"plotly-graph-div\" style=\"height:525px; width:100%;\"></div>            <script type=\"text/javascript\">                                    window.PLOTLYENV=window.PLOTLYENV || {};                                    if (document.getElementById(\"8e6f8d41-573f-4a79-982f-c4c2d81ebe35\")) {                    Plotly.newPlot(                        \"8e6f8d41-573f-4a79-982f-c4c2d81ebe35\",                        [{\"alignmentgroup\":\"True\",\"hovertemplate\":\"count=%{x}\\u003cbr\\u003emachines=%{y}\\u003cextra\\u003e\\u003c\\u002fextra\\u003e\",\"legendgroup\":\"\",\"marker\":{\"color\":\"#1F77B4\",\"pattern\":{\"shape\":\"\"}},\"name\":\"\",\"offsetgroup\":\"\",\"orientation\":\"h\",\"showlegend\":false,\"textposition\":\"outside\",\"texttemplate\":\"%{value:.2s}\",\"x\":[732,146],\"xaxis\":\"x\",\"y\":[\"gépesített\",\"nem gépesített\"],\"yaxis\":\"y\",\"type\":\"bar\"}],                        {\"template\":{\"data\":{\"barpolar\":[{\"marker\":{\"line\":{\"color\":\"white\",\"width\":0.5},\"pattern\":{\"fillmode\":\"overlay\",\"size\":10,\"solidity\":0.2}},\"type\":\"barpolar\"}],\"bar\":[{\"error_x\":{\"color\":\"rgb(36,36,36)\"},\"error_y\":{\"color\":\"rgb(36,36,36)\"},\"marker\":{\"line\":{\"color\":\"white\",\"width\":0.5},\"pattern\":{\"fillmode\":\"overlay\",\"size\":10,\"solidity\":0.2}},\"type\":\"bar\"}],\"carpet\":[{\"aaxis\":{\"endlinecolor\":\"rgb(36,36,36)\",\"gridcolor\":\"white\",\"linecolor\":\"white\",\"minorgridcolor\":\"white\",\"startlinecolor\":\"rgb(36,36,36)\"},\"baxis\":{\"endlinecolor\":\"rgb(36,36,36)\",\"gridcolor\":\"white\",\"linecolor\":\"white\",\"minorgridcolor\":\"white\",\"startlinecolor\":\"rgb(36,36,36)\"},\"type\":\"carpet\"}],\"choropleth\":[{\"colorbar\":{\"outlinewidth\":1,\"tickcolor\":\"rgb(36,36,36)\",\"ticks\":\"outside\"},\"type\":\"choropleth\"}],\"contourcarpet\":[{\"colorbar\":{\"outlinewidth\":1,\"tickcolor\":\"rgb(36,36,36)\",\"ticks\":\"outside\"},\"type\":\"contourcarpet\"}],\"contour\":[{\"colorbar\":{\"outlinewidth\":1,\"tickcolor\":\"rgb(36,36,36)\",\"ticks\":\"outside\"},\"colorscale\":[[0.0,\"#440154\"],[0.1111111111111111,\"#482878\"],[0.2222222222222222,\"#3e4989\"],[0.3333333333333333,\"#31688e\"],[0.4444444444444444,\"#26828e\"],[0.5555555555555556,\"#1f9e89\"],[0.6666666666666666,\"#35b779\"],[0.7777777777777778,\"#6ece58\"],[0.8888888888888888,\"#b5de2b\"],[1.0,\"#fde725\"]],\"type\":\"contour\"}],\"heatmapgl\":[{\"colorbar\":{\"outlinewidth\":1,\"tickcolor\":\"rgb(36,36,36)\",\"ticks\":\"outside\"},\"colorscale\":[[0.0,\"#440154\"],[0.1111111111111111,\"#482878\"],[0.2222222222222222,\"#3e4989\"],[0.3333333333333333,\"#31688e\"],[0.4444444444444444,\"#26828e\"],[0.5555555555555556,\"#1f9e89\"],[0.6666666666666666,\"#35b779\"],[0.7777777777777778,\"#6ece58\"],[0.8888888888888888,\"#b5de2b\"],[1.0,\"#fde725\"]],\"type\":\"heatmapgl\"}],\"heatmap\":[{\"colorbar\":{\"outlinewidth\":1,\"tickcolor\":\"rgb(36,36,36)\",\"ticks\":\"outside\"},\"colorscale\":[[0.0,\"#440154\"],[0.1111111111111111,\"#482878\"],[0.2222222222222222,\"#3e4989\"],[0.3333333333333333,\"#31688e\"],[0.4444444444444444,\"#26828e\"],[0.5555555555555556,\"#1f9e89\"],[0.6666666666666666,\"#35b779\"],[0.7777777777777778,\"#6ece58\"],[0.8888888888888888,\"#b5de2b\"],[1.0,\"#fde725\"]],\"type\":\"heatmap\"}],\"histogram2dcontour\":[{\"colorbar\":{\"outlinewidth\":1,\"tickcolor\":\"rgb(36,36,36)\",\"ticks\":\"outside\"},\"colorscale\":[[0.0,\"#440154\"],[0.1111111111111111,\"#482878\"],[0.2222222222222222,\"#3e4989\"],[0.3333333333333333,\"#31688e\"],[0.4444444444444444,\"#26828e\"],[0.5555555555555556,\"#1f9e89\"],[0.6666666666666666,\"#35b779\"],[0.7777777777777778,\"#6ece58\"],[0.8888888888888888,\"#b5de2b\"],[1.0,\"#fde725\"]],\"type\":\"histogram2dcontour\"}],\"histogram2d\":[{\"colorbar\":{\"outlinewidth\":1,\"tickcolor\":\"rgb(36,36,36)\",\"ticks\":\"outside\"},\"colorscale\":[[0.0,\"#440154\"],[0.1111111111111111,\"#482878\"],[0.2222222222222222,\"#3e4989\"],[0.3333333333333333,\"#31688e\"],[0.4444444444444444,\"#26828e\"],[0.5555555555555556,\"#1f9e89\"],[0.6666666666666666,\"#35b779\"],[0.7777777777777778,\"#6ece58\"],[0.8888888888888888,\"#b5de2b\"],[1.0,\"#fde725\"]],\"type\":\"histogram2d\"}],\"histogram\":[{\"marker\":{\"line\":{\"color\":\"white\",\"width\":0.6}},\"type\":\"histogram\"}],\"mesh3d\":[{\"colorbar\":{\"outlinewidth\":1,\"tickcolor\":\"rgb(36,36,36)\",\"ticks\":\"outside\"},\"type\":\"mesh3d\"}],\"parcoords\":[{\"line\":{\"colorbar\":{\"outlinewidth\":1,\"tickcolor\":\"rgb(36,36,36)\",\"ticks\":\"outside\"}},\"type\":\"parcoords\"}],\"pie\":[{\"automargin\":true,\"type\":\"pie\"}],\"scatter3d\":[{\"line\":{\"colorbar\":{\"outlinewidth\":1,\"tickcolor\":\"rgb(36,36,36)\",\"ticks\":\"outside\"}},\"marker\":{\"colorbar\":{\"outlinewidth\":1,\"tickcolor\":\"rgb(36,36,36)\",\"ticks\":\"outside\"}},\"type\":\"scatter3d\"}],\"scattercarpet\":[{\"marker\":{\"colorbar\":{\"outlinewidth\":1,\"tickcolor\":\"rgb(36,36,36)\",\"ticks\":\"outside\"}},\"type\":\"scattercarpet\"}],\"scattergeo\":[{\"marker\":{\"colorbar\":{\"outlinewidth\":1,\"tickcolor\":\"rgb(36,36,36)\",\"ticks\":\"outside\"}},\"type\":\"scattergeo\"}],\"scattergl\":[{\"marker\":{\"colorbar\":{\"outlinewidth\":1,\"tickcolor\":\"rgb(36,36,36)\",\"ticks\":\"outside\"}},\"type\":\"scattergl\"}],\"scattermapbox\":[{\"marker\":{\"colorbar\":{\"outlinewidth\":1,\"tickcolor\":\"rgb(36,36,36)\",\"ticks\":\"outside\"}},\"type\":\"scattermapbox\"}],\"scatterpolargl\":[{\"marker\":{\"colorbar\":{\"outlinewidth\":1,\"tickcolor\":\"rgb(36,36,36)\",\"ticks\":\"outside\"}},\"type\":\"scatterpolargl\"}],\"scatterpolar\":[{\"marker\":{\"colorbar\":{\"outlinewidth\":1,\"tickcolor\":\"rgb(36,36,36)\",\"ticks\":\"outside\"}},\"type\":\"scatterpolar\"}],\"scatter\":[{\"fillpattern\":{\"fillmode\":\"overlay\",\"size\":10,\"solidity\":0.2},\"type\":\"scatter\"}],\"scatterternary\":[{\"marker\":{\"colorbar\":{\"outlinewidth\":1,\"tickcolor\":\"rgb(36,36,36)\",\"ticks\":\"outside\"}},\"type\":\"scatterternary\"}],\"surface\":[{\"colorbar\":{\"outlinewidth\":1,\"tickcolor\":\"rgb(36,36,36)\",\"ticks\":\"outside\"},\"colorscale\":[[0.0,\"#440154\"],[0.1111111111111111,\"#482878\"],[0.2222222222222222,\"#3e4989\"],[0.3333333333333333,\"#31688e\"],[0.4444444444444444,\"#26828e\"],[0.5555555555555556,\"#1f9e89\"],[0.6666666666666666,\"#35b779\"],[0.7777777777777778,\"#6ece58\"],[0.8888888888888888,\"#b5de2b\"],[1.0,\"#fde725\"]],\"type\":\"surface\"}],\"table\":[{\"cells\":{\"fill\":{\"color\":\"rgb(237,237,237)\"},\"line\":{\"color\":\"white\"}},\"header\":{\"fill\":{\"color\":\"rgb(217,217,217)\"},\"line\":{\"color\":\"white\"}},\"type\":\"table\"}]},\"layout\":{\"annotationdefaults\":{\"arrowhead\":0,\"arrowwidth\":1},\"autotypenumbers\":\"strict\",\"coloraxis\":{\"colorbar\":{\"outlinewidth\":1,\"tickcolor\":\"rgb(36,36,36)\",\"ticks\":\"outside\"}},\"colorscale\":{\"diverging\":[[0.0,\"rgb(103,0,31)\"],[0.1,\"rgb(178,24,43)\"],[0.2,\"rgb(214,96,77)\"],[0.3,\"rgb(244,165,130)\"],[0.4,\"rgb(253,219,199)\"],[0.5,\"rgb(247,247,247)\"],[0.6,\"rgb(209,229,240)\"],[0.7,\"rgb(146,197,222)\"],[0.8,\"rgb(67,147,195)\"],[0.9,\"rgb(33,102,172)\"],[1.0,\"rgb(5,48,97)\"]],\"sequential\":[[0.0,\"#440154\"],[0.1111111111111111,\"#482878\"],[0.2222222222222222,\"#3e4989\"],[0.3333333333333333,\"#31688e\"],[0.4444444444444444,\"#26828e\"],[0.5555555555555556,\"#1f9e89\"],[0.6666666666666666,\"#35b779\"],[0.7777777777777778,\"#6ece58\"],[0.8888888888888888,\"#b5de2b\"],[1.0,\"#fde725\"]],\"sequentialminus\":[[0.0,\"#440154\"],[0.1111111111111111,\"#482878\"],[0.2222222222222222,\"#3e4989\"],[0.3333333333333333,\"#31688e\"],[0.4444444444444444,\"#26828e\"],[0.5555555555555556,\"#1f9e89\"],[0.6666666666666666,\"#35b779\"],[0.7777777777777778,\"#6ece58\"],[0.8888888888888888,\"#b5de2b\"],[1.0,\"#fde725\"]]},\"colorway\":[\"#1F77B4\",\"#FF7F0E\",\"#2CA02C\",\"#D62728\",\"#9467BD\",\"#8C564B\",\"#E377C2\",\"#7F7F7F\",\"#BCBD22\",\"#17BECF\"],\"font\":{\"color\":\"rgb(36,36,36)\"},\"geo\":{\"bgcolor\":\"white\",\"lakecolor\":\"white\",\"landcolor\":\"white\",\"showlakes\":true,\"showland\":true,\"subunitcolor\":\"white\"},\"hoverlabel\":{\"align\":\"left\"},\"hovermode\":\"closest\",\"mapbox\":{\"style\":\"light\"},\"paper_bgcolor\":\"white\",\"plot_bgcolor\":\"white\",\"polar\":{\"angularaxis\":{\"gridcolor\":\"rgb(232,232,232)\",\"linecolor\":\"rgb(36,36,36)\",\"showgrid\":false,\"showline\":true,\"ticks\":\"outside\"},\"bgcolor\":\"white\",\"radialaxis\":{\"gridcolor\":\"rgb(232,232,232)\",\"linecolor\":\"rgb(36,36,36)\",\"showgrid\":false,\"showline\":true,\"ticks\":\"outside\"}},\"scene\":{\"xaxis\":{\"backgroundcolor\":\"white\",\"gridcolor\":\"rgb(232,232,232)\",\"gridwidth\":2,\"linecolor\":\"rgb(36,36,36)\",\"showbackground\":true,\"showgrid\":false,\"showline\":true,\"ticks\":\"outside\",\"zeroline\":false,\"zerolinecolor\":\"rgb(36,36,36)\"},\"yaxis\":{\"backgroundcolor\":\"white\",\"gridcolor\":\"rgb(232,232,232)\",\"gridwidth\":2,\"linecolor\":\"rgb(36,36,36)\",\"showbackground\":true,\"showgrid\":false,\"showline\":true,\"ticks\":\"outside\",\"zeroline\":false,\"zerolinecolor\":\"rgb(36,36,36)\"},\"zaxis\":{\"backgroundcolor\":\"white\",\"gridcolor\":\"rgb(232,232,232)\",\"gridwidth\":2,\"linecolor\":\"rgb(36,36,36)\",\"showbackground\":true,\"showgrid\":false,\"showline\":true,\"ticks\":\"outside\",\"zeroline\":false,\"zerolinecolor\":\"rgb(36,36,36)\"}},\"shapedefaults\":{\"fillcolor\":\"black\",\"line\":{\"width\":0},\"opacity\":0.3},\"ternary\":{\"aaxis\":{\"gridcolor\":\"rgb(232,232,232)\",\"linecolor\":\"rgb(36,36,36)\",\"showgrid\":false,\"showline\":true,\"ticks\":\"outside\"},\"baxis\":{\"gridcolor\":\"rgb(232,232,232)\",\"linecolor\":\"rgb(36,36,36)\",\"showgrid\":false,\"showline\":true,\"ticks\":\"outside\"},\"bgcolor\":\"white\",\"caxis\":{\"gridcolor\":\"rgb(232,232,232)\",\"linecolor\":\"rgb(36,36,36)\",\"showgrid\":false,\"showline\":true,\"ticks\":\"outside\"}},\"title\":{\"x\":0.05},\"xaxis\":{\"automargin\":true,\"gridcolor\":\"rgb(232,232,232)\",\"linecolor\":\"rgb(36,36,36)\",\"showgrid\":false,\"showline\":true,\"ticks\":\"outside\",\"title\":{\"standoff\":15},\"zeroline\":false,\"zerolinecolor\":\"rgb(36,36,36)\"},\"yaxis\":{\"automargin\":true,\"gridcolor\":\"rgb(232,232,232)\",\"linecolor\":\"rgb(36,36,36)\",\"showgrid\":false,\"showline\":true,\"ticks\":\"outside\",\"title\":{\"standoff\":15},\"zeroline\":false,\"zerolinecolor\":\"rgb(36,36,36)\"}}},\"xaxis\":{\"anchor\":\"y\",\"domain\":[0.0,1.0],\"title\":{},\"visible\":false},\"yaxis\":{\"anchor\":\"x\",\"domain\":[0.0,1.0],\"title\":{},\"categoryorder\":\"total ascending\"},\"legend\":{\"tracegroupgap\":0},\"title\":{\"text\":\"Number of listings based on the machines\",\"x\":0.5},\"barmode\":\"relative\"},                        {\"responsive\": true}                    ).then(function(){\n",
              "                            \n",
              "var gd = document.getElementById('8e6f8d41-573f-4a79-982f-c4c2d81ebe35');\n",
              "var x = new MutationObserver(function (mutations, observer) {{\n",
              "        var display = window.getComputedStyle(gd).display;\n",
              "        if (!display || display === 'none') {{\n",
              "            console.log([gd, 'removed!']);\n",
              "            Plotly.purge(gd);\n",
              "            observer.disconnect();\n",
              "        }}\n",
              "}});\n",
              "\n",
              "// Listen for the removal of the full notebook cells\n",
              "var notebookContainer = gd.closest('#notebook-container');\n",
              "if (notebookContainer) {{\n",
              "    x.observe(notebookContainer, {childList: true});\n",
              "}}\n",
              "\n",
              "// Listen for the clearing of the current output cell\n",
              "var outputEl = gd.closest('.output');\n",
              "if (outputEl) {{\n",
              "    x.observe(outputEl, {childList: true});\n",
              "}}\n",
              "\n",
              "                        })                };                            </script>        </div>\n",
              "</body>\n",
              "</html>"
            ]
          },
          "metadata": {}
        }
      ]
    },
    {
      "cell_type": "markdown",
      "source": [
        "**Elavator**"
      ],
      "metadata": {
        "id": "lSwbVLJmdvLS"
      }
    },
    {
      "cell_type": "code",
      "source": [
        "clean.elavator.value_counts()"
      ],
      "metadata": {
        "colab": {
          "base_uri": "https://localhost:8080/",
          "height": 178
        },
        "id": "ARF-d4twdybZ",
        "outputId": "478de471-fc51-41c1-e7b7-55bc7c29d785"
      },
      "execution_count": 270,
      "outputs": [
        {
          "output_type": "execute_result",
          "data": {
            "text/plain": [
              "elavator\n",
              "Van      551\n",
              "Nincs     37\n",
              "Name: count, dtype: int64"
            ],
            "text/html": [
              "<div>\n",
              "<style scoped>\n",
              "    .dataframe tbody tr th:only-of-type {\n",
              "        vertical-align: middle;\n",
              "    }\n",
              "\n",
              "    .dataframe tbody tr th {\n",
              "        vertical-align: top;\n",
              "    }\n",
              "\n",
              "    .dataframe thead th {\n",
              "        text-align: right;\n",
              "    }\n",
              "</style>\n",
              "<table border=\"1\" class=\"dataframe\">\n",
              "  <thead>\n",
              "    <tr style=\"text-align: right;\">\n",
              "      <th></th>\n",
              "      <th>count</th>\n",
              "    </tr>\n",
              "    <tr>\n",
              "      <th>elavator</th>\n",
              "      <th></th>\n",
              "    </tr>\n",
              "  </thead>\n",
              "  <tbody>\n",
              "    <tr>\n",
              "      <th>Van</th>\n",
              "      <td>551</td>\n",
              "    </tr>\n",
              "    <tr>\n",
              "      <th>Nincs</th>\n",
              "      <td>37</td>\n",
              "    </tr>\n",
              "  </tbody>\n",
              "</table>\n",
              "</div><br><label><b>dtype:</b> int64</label>"
            ]
          },
          "metadata": {},
          "execution_count": 270
        }
      ]
    },
    {
      "cell_type": "markdown",
      "source": [
        "# **Modelling**"
      ],
      "metadata": {
        "id": "J8VLC1BVQI0i"
      }
    },
    {
      "cell_type": "code",
      "source": [
        "clean['lnprice']=np.log(clean['price'])"
      ],
      "metadata": {
        "id": "2d9H0p_bQtJJ",
        "colab": {
          "base_uri": "https://localhost:8080/"
        },
        "collapsed": true,
        "outputId": "16391d91-0379-410e-f288-1c6164c5681d"
      },
      "execution_count": 274,
      "outputs": [
        {
          "output_type": "stream",
          "name": "stderr",
          "text": [
            "<ipython-input-274-31bfd564f410>:1: SettingWithCopyWarning:\n",
            "\n",
            "\n",
            "A value is trying to be set on a copy of a slice from a DataFrame.\n",
            "Try using .loc[row_indexer,col_indexer] = value instead\n",
            "\n",
            "See the caveats in the documentation: https://pandas.pydata.org/pandas-docs/stable/user_guide/indexing.html#returning-a-view-versus-a-copy\n",
            "\n"
          ]
        }
      ]
    },
    {
      "cell_type": "code",
      "source": [
        "clean[\"utca\"] = (clean[\"sight_small\"] == 'utca').astype(int)\n",
        "clean[\"other\"] = (clean[\"sight_small\"] == 'other').astype(int)\n",
        "clean[\"udvar\"] = (clean[\"sight_small\"] == 'udvar').astype(int)\n",
        "clean[\"park\"] = (clean[\"sight_small\"] == 'park').astype(int)"
      ],
      "metadata": {
        "id": "K_iCNrzJSefO",
        "colab": {
          "base_uri": "https://localhost:8080/"
        },
        "collapsed": true,
        "outputId": "16374c9c-a493-4639-adf5-695ff75c1bd4"
      },
      "execution_count": 275,
      "outputs": [
        {
          "output_type": "stream",
          "name": "stderr",
          "text": [
            "<ipython-input-275-829eab7efa1d>:1: SettingWithCopyWarning:\n",
            "\n",
            "\n",
            "A value is trying to be set on a copy of a slice from a DataFrame.\n",
            "Try using .loc[row_indexer,col_indexer] = value instead\n",
            "\n",
            "See the caveats in the documentation: https://pandas.pydata.org/pandas-docs/stable/user_guide/indexing.html#returning-a-view-versus-a-copy\n",
            "\n",
            "<ipython-input-275-829eab7efa1d>:2: SettingWithCopyWarning:\n",
            "\n",
            "\n",
            "A value is trying to be set on a copy of a slice from a DataFrame.\n",
            "Try using .loc[row_indexer,col_indexer] = value instead\n",
            "\n",
            "See the caveats in the documentation: https://pandas.pydata.org/pandas-docs/stable/user_guide/indexing.html#returning-a-view-versus-a-copy\n",
            "\n",
            "<ipython-input-275-829eab7efa1d>:3: SettingWithCopyWarning:\n",
            "\n",
            "\n",
            "A value is trying to be set on a copy of a slice from a DataFrame.\n",
            "Try using .loc[row_indexer,col_indexer] = value instead\n",
            "\n",
            "See the caveats in the documentation: https://pandas.pydata.org/pandas-docs/stable/user_guide/indexing.html#returning-a-view-versus-a-copy\n",
            "\n",
            "<ipython-input-275-829eab7efa1d>:4: SettingWithCopyWarning:\n",
            "\n",
            "\n",
            "A value is trying to be set on a copy of a slice from a DataFrame.\n",
            "Try using .loc[row_indexer,col_indexer] = value instead\n",
            "\n",
            "See the caveats in the documentation: https://pandas.pydata.org/pandas-docs/stable/user_guide/indexing.html#returning-a-view-versus-a-copy\n",
            "\n"
          ]
        }
      ]
    },
    {
      "cell_type": "code",
      "source": [
        "clean[\"american_kitchen01\"] = (clean[\"american_kitchen\"] == 'Van').astype(int)"
      ],
      "metadata": {
        "id": "LbfKlEA57nji",
        "colab": {
          "base_uri": "https://localhost:8080/"
        },
        "collapsed": true,
        "outputId": "cd84824a-9905-4635-81c8-0b1462cbf384"
      },
      "execution_count": 276,
      "outputs": [
        {
          "output_type": "stream",
          "name": "stderr",
          "text": [
            "<ipython-input-276-08b507a85392>:1: SettingWithCopyWarning:\n",
            "\n",
            "\n",
            "A value is trying to be set on a copy of a slice from a DataFrame.\n",
            "Try using .loc[row_indexer,col_indexer] = value instead\n",
            "\n",
            "See the caveats in the documentation: https://pandas.pydata.org/pandas-docs/stable/user_guide/indexing.html#returning-a-view-versus-a-copy\n",
            "\n"
          ]
        }
      ]
    },
    {
      "cell_type": "code",
      "source": [
        "clean[\"balcony1\"] = (clean[\"number_of_balconies\"] == '1').astype(int)\n",
        "clean[\"balcony2\"] = (clean[\"number_of_balconies\"] == '2').astype(int)\n",
        "clean[\"balcony3\"] = (clean[\"number_of_balconies\"] == '3').astype(int)\n",
        "\n",
        "clean[\"balcony\"] = clean[\"number_of_balconies\"].apply(lambda x: 1 if str(x) in [\"1\", \"2\", \"3\"] else 0)"
      ],
      "metadata": {
        "id": "xC7_wEXF8SYN",
        "colab": {
          "base_uri": "https://localhost:8080/"
        },
        "collapsed": true,
        "outputId": "4b55b578-af01-4e86-817b-f8974f9673af"
      },
      "execution_count": 277,
      "outputs": [
        {
          "output_type": "stream",
          "name": "stderr",
          "text": [
            "<ipython-input-277-3b2b222ad2de>:1: SettingWithCopyWarning:\n",
            "\n",
            "\n",
            "A value is trying to be set on a copy of a slice from a DataFrame.\n",
            "Try using .loc[row_indexer,col_indexer] = value instead\n",
            "\n",
            "See the caveats in the documentation: https://pandas.pydata.org/pandas-docs/stable/user_guide/indexing.html#returning-a-view-versus-a-copy\n",
            "\n",
            "<ipython-input-277-3b2b222ad2de>:2: SettingWithCopyWarning:\n",
            "\n",
            "\n",
            "A value is trying to be set on a copy of a slice from a DataFrame.\n",
            "Try using .loc[row_indexer,col_indexer] = value instead\n",
            "\n",
            "See the caveats in the documentation: https://pandas.pydata.org/pandas-docs/stable/user_guide/indexing.html#returning-a-view-versus-a-copy\n",
            "\n",
            "<ipython-input-277-3b2b222ad2de>:3: SettingWithCopyWarning:\n",
            "\n",
            "\n",
            "A value is trying to be set on a copy of a slice from a DataFrame.\n",
            "Try using .loc[row_indexer,col_indexer] = value instead\n",
            "\n",
            "See the caveats in the documentation: https://pandas.pydata.org/pandas-docs/stable/user_guide/indexing.html#returning-a-view-versus-a-copy\n",
            "\n",
            "<ipython-input-277-3b2b222ad2de>:5: SettingWithCopyWarning:\n",
            "\n",
            "\n",
            "A value is trying to be set on a copy of a slice from a DataFrame.\n",
            "Try using .loc[row_indexer,col_indexer] = value instead\n",
            "\n",
            "See the caveats in the documentation: https://pandas.pydata.org/pandas-docs/stable/user_guide/indexing.html#returning-a-view-versus-a-copy\n",
            "\n"
          ]
        }
      ]
    },
    {
      "cell_type": "code",
      "source": [
        "clean[\"district1\"] = (clean[\"district\"] == ' I. kerület').astype(int)\n",
        "clean[\"district2\"] = (clean[\"district\"] == ' II. kerület').astype(int)\n",
        "clean[\"district3\"] = (clean[\"district\"] == ' III. kerület').astype(int)\n",
        "clean[\"district4\"] = (clean[\"district\"] == ' IV. kerület').astype(int)\n",
        "clean[\"district5\"] = (clean[\"district\"] == ' V. kerület').astype(int)\n",
        "clean[\"district6\"] = (clean[\"district\"] == ' VI. kerület').astype(int)\n",
        "clean[\"district7\"] = (clean[\"district\"] == ' VII. kerület').astype(int)\n",
        "clean[\"district8\"] = (clean[\"district\"] == ' VIII. kerület').astype(int)\n",
        "clean[\"district9\"] = (clean[\"district\"] == ' IX. kerület').astype(int)\n",
        "clean[\"district10\"] = (clean[\"district\"] == ' X. kerület').astype(int)\n",
        "clean[\"district11\"] = (clean[\"district\"] == ' XI. kerület').astype(int)\n",
        "clean[\"district12\"] = (clean[\"district\"] == ' XII. kerület').astype(int)\n",
        "clean[\"district13\"] = (clean[\"district\"] == ' XIII. kerület').astype(int)\n",
        "clean[\"district14\"] = (clean[\"district\"] == ' XIV. kerület').astype(int)\n",
        "clean[\"district15\"] = (clean[\"district\"] == ' XV. kerület').astype(int)\n",
        "clean[\"district16\"] = (clean[\"district\"] == ' XVI. kerület').astype(int)\n",
        "clean[\"district17\"] = (clean[\"district\"] == ' XVII. kerület').astype(int)\n",
        "clean[\"district18\"] = (clean[\"district\"] == ' XVIII. kerület').astype(int)\n",
        "clean[\"district19\"] = (clean[\"district\"] == ' XIX. kerület').astype(int)\n",
        "clean[\"district20\"] = (clean[\"district\"] == ' XX. kerület').astype(int)\n",
        "clean[\"district21\"] = (clean[\"district\"] == ' XXI. kerület').astype(int)\n",
        "clean[\"district22\"] = (clean[\"district\"] == ' XXII. kerület').astype(int)\n",
        "clean[\"district23\"] = (clean[\"district\"] == ' XXIII. kerület').astype(int)"
      ],
      "metadata": {
        "id": "6irJMZqD_RZS",
        "colab": {
          "base_uri": "https://localhost:8080/"
        },
        "collapsed": true,
        "outputId": "55671615-adcb-48e6-ac3c-408c49c9c09a"
      },
      "execution_count": 278,
      "outputs": [
        {
          "output_type": "stream",
          "name": "stderr",
          "text": [
            "<ipython-input-278-c1ffdaa287f7>:1: SettingWithCopyWarning:\n",
            "\n",
            "\n",
            "A value is trying to be set on a copy of a slice from a DataFrame.\n",
            "Try using .loc[row_indexer,col_indexer] = value instead\n",
            "\n",
            "See the caveats in the documentation: https://pandas.pydata.org/pandas-docs/stable/user_guide/indexing.html#returning-a-view-versus-a-copy\n",
            "\n",
            "<ipython-input-278-c1ffdaa287f7>:2: SettingWithCopyWarning:\n",
            "\n",
            "\n",
            "A value is trying to be set on a copy of a slice from a DataFrame.\n",
            "Try using .loc[row_indexer,col_indexer] = value instead\n",
            "\n",
            "See the caveats in the documentation: https://pandas.pydata.org/pandas-docs/stable/user_guide/indexing.html#returning-a-view-versus-a-copy\n",
            "\n",
            "<ipython-input-278-c1ffdaa287f7>:3: SettingWithCopyWarning:\n",
            "\n",
            "\n",
            "A value is trying to be set on a copy of a slice from a DataFrame.\n",
            "Try using .loc[row_indexer,col_indexer] = value instead\n",
            "\n",
            "See the caveats in the documentation: https://pandas.pydata.org/pandas-docs/stable/user_guide/indexing.html#returning-a-view-versus-a-copy\n",
            "\n",
            "<ipython-input-278-c1ffdaa287f7>:4: SettingWithCopyWarning:\n",
            "\n",
            "\n",
            "A value is trying to be set on a copy of a slice from a DataFrame.\n",
            "Try using .loc[row_indexer,col_indexer] = value instead\n",
            "\n",
            "See the caveats in the documentation: https://pandas.pydata.org/pandas-docs/stable/user_guide/indexing.html#returning-a-view-versus-a-copy\n",
            "\n",
            "<ipython-input-278-c1ffdaa287f7>:5: SettingWithCopyWarning:\n",
            "\n",
            "\n",
            "A value is trying to be set on a copy of a slice from a DataFrame.\n",
            "Try using .loc[row_indexer,col_indexer] = value instead\n",
            "\n",
            "See the caveats in the documentation: https://pandas.pydata.org/pandas-docs/stable/user_guide/indexing.html#returning-a-view-versus-a-copy\n",
            "\n",
            "<ipython-input-278-c1ffdaa287f7>:6: SettingWithCopyWarning:\n",
            "\n",
            "\n",
            "A value is trying to be set on a copy of a slice from a DataFrame.\n",
            "Try using .loc[row_indexer,col_indexer] = value instead\n",
            "\n",
            "See the caveats in the documentation: https://pandas.pydata.org/pandas-docs/stable/user_guide/indexing.html#returning-a-view-versus-a-copy\n",
            "\n",
            "<ipython-input-278-c1ffdaa287f7>:7: SettingWithCopyWarning:\n",
            "\n",
            "\n",
            "A value is trying to be set on a copy of a slice from a DataFrame.\n",
            "Try using .loc[row_indexer,col_indexer] = value instead\n",
            "\n",
            "See the caveats in the documentation: https://pandas.pydata.org/pandas-docs/stable/user_guide/indexing.html#returning-a-view-versus-a-copy\n",
            "\n",
            "<ipython-input-278-c1ffdaa287f7>:8: SettingWithCopyWarning:\n",
            "\n",
            "\n",
            "A value is trying to be set on a copy of a slice from a DataFrame.\n",
            "Try using .loc[row_indexer,col_indexer] = value instead\n",
            "\n",
            "See the caveats in the documentation: https://pandas.pydata.org/pandas-docs/stable/user_guide/indexing.html#returning-a-view-versus-a-copy\n",
            "\n",
            "<ipython-input-278-c1ffdaa287f7>:9: SettingWithCopyWarning:\n",
            "\n",
            "\n",
            "A value is trying to be set on a copy of a slice from a DataFrame.\n",
            "Try using .loc[row_indexer,col_indexer] = value instead\n",
            "\n",
            "See the caveats in the documentation: https://pandas.pydata.org/pandas-docs/stable/user_guide/indexing.html#returning-a-view-versus-a-copy\n",
            "\n",
            "<ipython-input-278-c1ffdaa287f7>:10: SettingWithCopyWarning:\n",
            "\n",
            "\n",
            "A value is trying to be set on a copy of a slice from a DataFrame.\n",
            "Try using .loc[row_indexer,col_indexer] = value instead\n",
            "\n",
            "See the caveats in the documentation: https://pandas.pydata.org/pandas-docs/stable/user_guide/indexing.html#returning-a-view-versus-a-copy\n",
            "\n",
            "<ipython-input-278-c1ffdaa287f7>:11: SettingWithCopyWarning:\n",
            "\n",
            "\n",
            "A value is trying to be set on a copy of a slice from a DataFrame.\n",
            "Try using .loc[row_indexer,col_indexer] = value instead\n",
            "\n",
            "See the caveats in the documentation: https://pandas.pydata.org/pandas-docs/stable/user_guide/indexing.html#returning-a-view-versus-a-copy\n",
            "\n",
            "<ipython-input-278-c1ffdaa287f7>:12: SettingWithCopyWarning:\n",
            "\n",
            "\n",
            "A value is trying to be set on a copy of a slice from a DataFrame.\n",
            "Try using .loc[row_indexer,col_indexer] = value instead\n",
            "\n",
            "See the caveats in the documentation: https://pandas.pydata.org/pandas-docs/stable/user_guide/indexing.html#returning-a-view-versus-a-copy\n",
            "\n",
            "<ipython-input-278-c1ffdaa287f7>:13: SettingWithCopyWarning:\n",
            "\n",
            "\n",
            "A value is trying to be set on a copy of a slice from a DataFrame.\n",
            "Try using .loc[row_indexer,col_indexer] = value instead\n",
            "\n",
            "See the caveats in the documentation: https://pandas.pydata.org/pandas-docs/stable/user_guide/indexing.html#returning-a-view-versus-a-copy\n",
            "\n",
            "<ipython-input-278-c1ffdaa287f7>:14: SettingWithCopyWarning:\n",
            "\n",
            "\n",
            "A value is trying to be set on a copy of a slice from a DataFrame.\n",
            "Try using .loc[row_indexer,col_indexer] = value instead\n",
            "\n",
            "See the caveats in the documentation: https://pandas.pydata.org/pandas-docs/stable/user_guide/indexing.html#returning-a-view-versus-a-copy\n",
            "\n",
            "<ipython-input-278-c1ffdaa287f7>:15: SettingWithCopyWarning:\n",
            "\n",
            "\n",
            "A value is trying to be set on a copy of a slice from a DataFrame.\n",
            "Try using .loc[row_indexer,col_indexer] = value instead\n",
            "\n",
            "See the caveats in the documentation: https://pandas.pydata.org/pandas-docs/stable/user_guide/indexing.html#returning-a-view-versus-a-copy\n",
            "\n",
            "<ipython-input-278-c1ffdaa287f7>:16: SettingWithCopyWarning:\n",
            "\n",
            "\n",
            "A value is trying to be set on a copy of a slice from a DataFrame.\n",
            "Try using .loc[row_indexer,col_indexer] = value instead\n",
            "\n",
            "See the caveats in the documentation: https://pandas.pydata.org/pandas-docs/stable/user_guide/indexing.html#returning-a-view-versus-a-copy\n",
            "\n",
            "<ipython-input-278-c1ffdaa287f7>:17: SettingWithCopyWarning:\n",
            "\n",
            "\n",
            "A value is trying to be set on a copy of a slice from a DataFrame.\n",
            "Try using .loc[row_indexer,col_indexer] = value instead\n",
            "\n",
            "See the caveats in the documentation: https://pandas.pydata.org/pandas-docs/stable/user_guide/indexing.html#returning-a-view-versus-a-copy\n",
            "\n",
            "<ipython-input-278-c1ffdaa287f7>:18: SettingWithCopyWarning:\n",
            "\n",
            "\n",
            "A value is trying to be set on a copy of a slice from a DataFrame.\n",
            "Try using .loc[row_indexer,col_indexer] = value instead\n",
            "\n",
            "See the caveats in the documentation: https://pandas.pydata.org/pandas-docs/stable/user_guide/indexing.html#returning-a-view-versus-a-copy\n",
            "\n",
            "<ipython-input-278-c1ffdaa287f7>:19: SettingWithCopyWarning:\n",
            "\n",
            "\n",
            "A value is trying to be set on a copy of a slice from a DataFrame.\n",
            "Try using .loc[row_indexer,col_indexer] = value instead\n",
            "\n",
            "See the caveats in the documentation: https://pandas.pydata.org/pandas-docs/stable/user_guide/indexing.html#returning-a-view-versus-a-copy\n",
            "\n",
            "<ipython-input-278-c1ffdaa287f7>:20: SettingWithCopyWarning:\n",
            "\n",
            "\n",
            "A value is trying to be set on a copy of a slice from a DataFrame.\n",
            "Try using .loc[row_indexer,col_indexer] = value instead\n",
            "\n",
            "See the caveats in the documentation: https://pandas.pydata.org/pandas-docs/stable/user_guide/indexing.html#returning-a-view-versus-a-copy\n",
            "\n",
            "<ipython-input-278-c1ffdaa287f7>:21: SettingWithCopyWarning:\n",
            "\n",
            "\n",
            "A value is trying to be set on a copy of a slice from a DataFrame.\n",
            "Try using .loc[row_indexer,col_indexer] = value instead\n",
            "\n",
            "See the caveats in the documentation: https://pandas.pydata.org/pandas-docs/stable/user_guide/indexing.html#returning-a-view-versus-a-copy\n",
            "\n",
            "<ipython-input-278-c1ffdaa287f7>:22: SettingWithCopyWarning:\n",
            "\n",
            "\n",
            "A value is trying to be set on a copy of a slice from a DataFrame.\n",
            "Try using .loc[row_indexer,col_indexer] = value instead\n",
            "\n",
            "See the caveats in the documentation: https://pandas.pydata.org/pandas-docs/stable/user_guide/indexing.html#returning-a-view-versus-a-copy\n",
            "\n",
            "<ipython-input-278-c1ffdaa287f7>:23: SettingWithCopyWarning:\n",
            "\n",
            "\n",
            "A value is trying to be set on a copy of a slice from a DataFrame.\n",
            "Try using .loc[row_indexer,col_indexer] = value instead\n",
            "\n",
            "See the caveats in the documentation: https://pandas.pydata.org/pandas-docs/stable/user_guide/indexing.html#returning-a-view-versus-a-copy\n",
            "\n"
          ]
        }
      ]
    },
    {
      "cell_type": "code",
      "source": [
        "clean[\"elavator1\"] = (clean[\"elavator\"] == 'Van').astype(int)"
      ],
      "metadata": {
        "id": "7oCtxxmaJFui",
        "colab": {
          "base_uri": "https://localhost:8080/"
        },
        "collapsed": true,
        "outputId": "a9584e25-de12-4b34-8c3a-d49acda3ce67"
      },
      "execution_count": 279,
      "outputs": [
        {
          "output_type": "stream",
          "name": "stderr",
          "text": [
            "<ipython-input-279-8afb18bacf5a>:1: SettingWithCopyWarning:\n",
            "\n",
            "\n",
            "A value is trying to be set on a copy of a slice from a DataFrame.\n",
            "Try using .loc[row_indexer,col_indexer] = value instead\n",
            "\n",
            "See the caveats in the documentation: https://pandas.pydata.org/pandas-docs/stable/user_guide/indexing.html#returning-a-view-versus-a-copy\n",
            "\n"
          ]
        }
      ]
    },
    {
      "cell_type": "code",
      "source": [
        "clean[\"elavator1\"].value_counts()"
      ],
      "metadata": {
        "colab": {
          "base_uri": "https://localhost:8080/",
          "height": 178
        },
        "id": "3SfUkTl2LLAU",
        "outputId": "1fbd68e6-6553-42a6-aa67-cad91c094bba"
      },
      "execution_count": 280,
      "outputs": [
        {
          "output_type": "execute_result",
          "data": {
            "text/plain": [
              "elavator1\n",
              "1    551\n",
              "0    327\n",
              "Name: count, dtype: int64"
            ],
            "text/html": [
              "<div>\n",
              "<style scoped>\n",
              "    .dataframe tbody tr th:only-of-type {\n",
              "        vertical-align: middle;\n",
              "    }\n",
              "\n",
              "    .dataframe tbody tr th {\n",
              "        vertical-align: top;\n",
              "    }\n",
              "\n",
              "    .dataframe thead th {\n",
              "        text-align: right;\n",
              "    }\n",
              "</style>\n",
              "<table border=\"1\" class=\"dataframe\">\n",
              "  <thead>\n",
              "    <tr style=\"text-align: right;\">\n",
              "      <th></th>\n",
              "      <th>count</th>\n",
              "    </tr>\n",
              "    <tr>\n",
              "      <th>elavator1</th>\n",
              "      <th></th>\n",
              "    </tr>\n",
              "  </thead>\n",
              "  <tbody>\n",
              "    <tr>\n",
              "      <th>1</th>\n",
              "      <td>551</td>\n",
              "    </tr>\n",
              "    <tr>\n",
              "      <th>0</th>\n",
              "      <td>327</td>\n",
              "    </tr>\n",
              "  </tbody>\n",
              "</table>\n",
              "</div><br><label><b>dtype:</b> int64</label>"
            ]
          },
          "metadata": {},
          "execution_count": 280
        }
      ]
    },
    {
      "cell_type": "code",
      "source": [
        "clean[\"gaz\"] = (clean[\"heating_small\"] == 'Házközponti').astype(int)\n",
        "clean[\"tav\"] = (clean[\"heating_small\"] == 'Távfűtés').astype(int)\n",
        "clean[\"padlomenny\"] = (clean[\"heating_small\"] == 'Padló vagy mennyezeti').astype(int)\n",
        "clean[\"elektromos\"] = (clean[\"heating_small\"] == 'Elektromos').astype(int)"
      ],
      "metadata": {
        "id": "GrrJkxTRDucx",
        "colab": {
          "base_uri": "https://localhost:8080/"
        },
        "collapsed": true,
        "outputId": "b22f0af6-9263-4744-f77e-6286107fa9ac"
      },
      "execution_count": 281,
      "outputs": [
        {
          "output_type": "stream",
          "name": "stderr",
          "text": [
            "<ipython-input-281-43764d9b973a>:1: SettingWithCopyWarning:\n",
            "\n",
            "\n",
            "A value is trying to be set on a copy of a slice from a DataFrame.\n",
            "Try using .loc[row_indexer,col_indexer] = value instead\n",
            "\n",
            "See the caveats in the documentation: https://pandas.pydata.org/pandas-docs/stable/user_guide/indexing.html#returning-a-view-versus-a-copy\n",
            "\n",
            "<ipython-input-281-43764d9b973a>:2: SettingWithCopyWarning:\n",
            "\n",
            "\n",
            "A value is trying to be set on a copy of a slice from a DataFrame.\n",
            "Try using .loc[row_indexer,col_indexer] = value instead\n",
            "\n",
            "See the caveats in the documentation: https://pandas.pydata.org/pandas-docs/stable/user_guide/indexing.html#returning-a-view-versus-a-copy\n",
            "\n",
            "<ipython-input-281-43764d9b973a>:3: SettingWithCopyWarning:\n",
            "\n",
            "\n",
            "A value is trying to be set on a copy of a slice from a DataFrame.\n",
            "Try using .loc[row_indexer,col_indexer] = value instead\n",
            "\n",
            "See the caveats in the documentation: https://pandas.pydata.org/pandas-docs/stable/user_guide/indexing.html#returning-a-view-versus-a-copy\n",
            "\n",
            "<ipython-input-281-43764d9b973a>:4: SettingWithCopyWarning:\n",
            "\n",
            "\n",
            "A value is trying to be set on a copy of a slice from a DataFrame.\n",
            "Try using .loc[row_indexer,col_indexer] = value instead\n",
            "\n",
            "See the caveats in the documentation: https://pandas.pydata.org/pandas-docs/stable/user_guide/indexing.html#returning-a-view-versus-a-copy\n",
            "\n"
          ]
        }
      ]
    },
    {
      "cell_type": "code",
      "source": [
        "clean[\"gepesitett\"] = (clean[\"machines\"] == 'gépesített').astype(int)"
      ],
      "metadata": {
        "id": "fWgnWdCrFDT8",
        "colab": {
          "base_uri": "https://localhost:8080/"
        },
        "collapsed": true,
        "outputId": "185f6b83-1a58-467a-88cd-dce585ea9c40"
      },
      "execution_count": 285,
      "outputs": [
        {
          "output_type": "stream",
          "name": "stderr",
          "text": [
            "<ipython-input-285-cffadb6344c8>:1: SettingWithCopyWarning:\n",
            "\n",
            "\n",
            "A value is trying to be set on a copy of a slice from a DataFrame.\n",
            "Try using .loc[row_indexer,col_indexer] = value instead\n",
            "\n",
            "See the caveats in the documentation: https://pandas.pydata.org/pandas-docs/stable/user_guide/indexing.html#returning-a-view-versus-a-copy\n",
            "\n"
          ]
        }
      ]
    },
    {
      "cell_type": "code",
      "source": [
        "clean[\"berendezett\"] = (clean[\"furniture\"] == 'berendezett').astype(int)"
      ],
      "metadata": {
        "colab": {
          "base_uri": "https://localhost:8080/"
        },
        "id": "LkJLPMUqFBKl",
        "outputId": "9dc8b341-d24d-43f8-bcde-6db79f687fad"
      },
      "execution_count": 286,
      "outputs": [
        {
          "output_type": "stream",
          "name": "stderr",
          "text": [
            "<ipython-input-286-8cbd46e296e8>:1: SettingWithCopyWarning:\n",
            "\n",
            "\n",
            "A value is trying to be set on a copy of a slice from a DataFrame.\n",
            "Try using .loc[row_indexer,col_indexer] = value instead\n",
            "\n",
            "See the caveats in the documentation: https://pandas.pydata.org/pandas-docs/stable/user_guide/indexing.html#returning-a-view-versus-a-copy\n",
            "\n"
          ]
        }
      ]
    },
    {
      "cell_type": "code",
      "source": [
        "formula = (\n",
        "    \"lnprice ~  utilities + common_cost + american_kitchen01 + \"\n",
        "    \"floor_numeric + elavator1 + meter2 + n_rooms + n_halfrooms + balcony1 + \"\n",
        "    \"balcony2 + balcony3 + other + udvar + park + district1 + district2 + \"\n",
        "    \"district3 + district4 + district5 + district6 + district7 + district8 + \"\n",
        "    \"district9 + district10 + district11 + district12 + district14 + \"\n",
        "    \"district15 + district16 + district17 + district18 + district19 + \"\n",
        "    \"district20 + district21 + district22 + district23 + gaz + tav + padlomenny + \"\n",
        "    \"elektromos + berendezett + gepesitett\"\n",
        ")\n",
        "\n",
        "log = smf.ols(formula=formula, data=clean).fit(cov_type=\"HC1\")\n",
        "log.summary()"
      ],
      "metadata": {
        "id": "5M9n54pPgfMJ",
        "colab": {
          "base_uri": "https://localhost:8080/",
          "height": 1000
        },
        "outputId": "feb30a17-dddb-474a-a190-06f8b75f3b39"
      },
      "execution_count": 287,
      "outputs": [
        {
          "output_type": "stream",
          "name": "stderr",
          "text": [
            "/usr/local/lib/python3.10/dist-packages/statsmodels/base/model.py:1894: ValueWarning:\n",
            "\n",
            "covariance of constraints does not have full rank. The number of constraints is 42, but rank is 36\n",
            "\n"
          ]
        },
        {
          "output_type": "execute_result",
          "data": {
            "text/plain": [
              "<class 'statsmodels.iolib.summary.Summary'>\n",
              "\"\"\"\n",
              "                            OLS Regression Results                            \n",
              "==============================================================================\n",
              "Dep. Variable:                lnprice   R-squared:                       0.740\n",
              "Model:                            OLS   Adj. R-squared:                  0.728\n",
              "Method:                 Least Squares   F-statistic:                     132.8\n",
              "Date:                Sat, 28 Dec 2024   Prob (F-statistic):          3.35e-295\n",
              "Time:                        11:44:00   Log-Likelihood:                -72.799\n",
              "No. Observations:                 776   AIC:                             219.6\n",
              "Df Residuals:                     739   BIC:                             391.8\n",
              "Df Model:                          36                                         \n",
              "Covariance Type:                  HC1                                         \n",
              "======================================================================================\n",
              "                         coef    std err          z      P>|z|      [0.025      0.975]\n",
              "--------------------------------------------------------------------------------------\n",
              "Intercept             11.7707      0.063    185.971      0.000      11.647      11.895\n",
              "utilities           3.312e-06   1.15e-06      2.886      0.004    1.06e-06    5.56e-06\n",
              "common_cost         3.094e-06    1.5e-06      2.068      0.039    1.62e-07    6.03e-06\n",
              "american_kitchen01     0.1098      0.024      4.574      0.000       0.063       0.157\n",
              "floor_numeric          0.0172      0.005      3.207      0.001       0.007       0.028\n",
              "elavator1              0.0628      0.027      2.363      0.018       0.011       0.115\n",
              "meter2                 0.0038      0.002      1.528      0.126      -0.001       0.009\n",
              "n_rooms                0.1693      0.051      3.334      0.001       0.070       0.269\n",
              "n_halfrooms            0.0809      0.032      2.536      0.011       0.018       0.143\n",
              "balcony1           -5.697e-16    1.5e-16     -3.792      0.000   -8.64e-16   -2.75e-16\n",
              "balcony2            3.859e-16   2.03e-16      1.899      0.058   -1.24e-17    7.84e-16\n",
              "balcony3             3.25e-16   1.42e-16      2.285      0.022    4.63e-17    6.04e-16\n",
              "other                  0.1099      0.028      3.961      0.000       0.056       0.164\n",
              "udvar                 -0.0747      0.026     -2.909      0.004      -0.125      -0.024\n",
              "park                   0.0052      0.032      0.164      0.870      -0.057       0.068\n",
              "district1              0.1193      0.076      1.563      0.118      -0.030       0.269\n",
              "district2              0.1773      0.059      2.982      0.003       0.061       0.294\n",
              "district3             -0.1221      0.046     -2.629      0.009      -0.213      -0.031\n",
              "district4             -0.1558      0.046     -3.420      0.001      -0.245      -0.067\n",
              "district5              0.2816      0.052      5.378      0.000       0.179       0.384\n",
              "district6              0.1815      0.049      3.726      0.000       0.086       0.277\n",
              "district7             -0.0453      0.048     -0.940      0.347      -0.140       0.049\n",
              "district8              0.0202      0.040      0.499      0.618      -0.059       0.099\n",
              "district9             -0.0927      0.043     -2.136      0.033      -0.178      -0.008\n",
              "district10            -0.2242      0.057     -3.949      0.000      -0.336      -0.113\n",
              "district11            -0.0415      0.034     -1.221      0.222      -0.108       0.025\n",
              "district12             0.0972      0.052      1.882      0.060      -0.004       0.198\n",
              "district14            -0.1654      0.035     -4.776      0.000      -0.233      -0.098\n",
              "district15            -0.2011      0.130     -1.548      0.122      -0.456       0.053\n",
              "district16            -0.2215      0.072     -3.056      0.002      -0.364      -0.079\n",
              "district17           7.65e-17   5.12e-17      1.495      0.135   -2.38e-17    1.77e-16\n",
              "district18             0.0050      0.068      0.074      0.941      -0.127       0.137\n",
              "district19            -0.2727      0.076     -3.590      0.000      -0.422      -0.124\n",
              "district20            -0.2745      0.061     -4.486      0.000      -0.394      -0.155\n",
              "district21            -0.3272      0.113     -2.893      0.004      -0.549      -0.106\n",
              "district22            -0.2009      0.099     -2.022      0.043      -0.396      -0.006\n",
              "district23          -7.74e-18   1.36e-17     -0.570      0.569   -3.44e-17    1.89e-17\n",
              "gaz                    0.0203      0.027      0.753      0.451      -0.033       0.073\n",
              "tav                   -0.0593      0.036     -1.645      0.100      -0.130       0.011\n",
              "padlomenny             0.1884      0.035      5.405      0.000       0.120       0.257\n",
              "elektromos            -0.0256      0.048     -0.537      0.591      -0.119       0.068\n",
              "berendezett                 0          0        nan        nan           0           0\n",
              "gepesitett            -0.0608      0.033     -1.859      0.063      -0.125       0.003\n",
              "==============================================================================\n",
              "Omnibus:                      105.646   Durbin-Watson:                   1.997\n",
              "Prob(Omnibus):                  0.000   Jarque-Bera (JB):             1082.260\n",
              "Skew:                          -0.125   Prob(JB):                    9.78e-236\n",
              "Kurtosis:                       8.780   Cond. No.                     1.13e+16\n",
              "==============================================================================\n",
              "\n",
              "Notes:\n",
              "[1] Standard Errors are heteroscedasticity robust (HC1)\n",
              "[2] The smallest eigenvalue is 8.13e-21. This might indicate that there are\n",
              "strong multicollinearity problems or that the design matrix is singular.\n",
              "\"\"\""
            ],
            "text/html": [
              "<table class=\"simpletable\">\n",
              "<caption>OLS Regression Results</caption>\n",
              "<tr>\n",
              "  <th>Dep. Variable:</th>         <td>lnprice</td>     <th>  R-squared:         </th> <td>   0.740</td> \n",
              "</tr>\n",
              "<tr>\n",
              "  <th>Model:</th>                   <td>OLS</td>       <th>  Adj. R-squared:    </th> <td>   0.728</td> \n",
              "</tr>\n",
              "<tr>\n",
              "  <th>Method:</th>             <td>Least Squares</td>  <th>  F-statistic:       </th> <td>   132.8</td> \n",
              "</tr>\n",
              "<tr>\n",
              "  <th>Date:</th>             <td>Sat, 28 Dec 2024</td> <th>  Prob (F-statistic):</th> <td>3.35e-295</td>\n",
              "</tr>\n",
              "<tr>\n",
              "  <th>Time:</th>                 <td>11:44:00</td>     <th>  Log-Likelihood:    </th> <td> -72.799</td> \n",
              "</tr>\n",
              "<tr>\n",
              "  <th>No. Observations:</th>      <td>   776</td>      <th>  AIC:               </th> <td>   219.6</td> \n",
              "</tr>\n",
              "<tr>\n",
              "  <th>Df Residuals:</th>          <td>   739</td>      <th>  BIC:               </th> <td>   391.8</td> \n",
              "</tr>\n",
              "<tr>\n",
              "  <th>Df Model:</th>              <td>    36</td>      <th>                     </th>     <td> </td>    \n",
              "</tr>\n",
              "<tr>\n",
              "  <th>Covariance Type:</th>         <td>HC1</td>       <th>                     </th>     <td> </td>    \n",
              "</tr>\n",
              "</table>\n",
              "<table class=\"simpletable\">\n",
              "<tr>\n",
              "           <td></td>             <th>coef</th>     <th>std err</th>      <th>z</th>      <th>P>|z|</th>  <th>[0.025</th>    <th>0.975]</th>  \n",
              "</tr>\n",
              "<tr>\n",
              "  <th>Intercept</th>          <td>   11.7707</td> <td>    0.063</td> <td>  185.971</td> <td> 0.000</td> <td>   11.647</td> <td>   11.895</td>\n",
              "</tr>\n",
              "<tr>\n",
              "  <th>utilities</th>          <td> 3.312e-06</td> <td> 1.15e-06</td> <td>    2.886</td> <td> 0.004</td> <td> 1.06e-06</td> <td> 5.56e-06</td>\n",
              "</tr>\n",
              "<tr>\n",
              "  <th>common_cost</th>        <td> 3.094e-06</td> <td>  1.5e-06</td> <td>    2.068</td> <td> 0.039</td> <td> 1.62e-07</td> <td> 6.03e-06</td>\n",
              "</tr>\n",
              "<tr>\n",
              "  <th>american_kitchen01</th> <td>    0.1098</td> <td>    0.024</td> <td>    4.574</td> <td> 0.000</td> <td>    0.063</td> <td>    0.157</td>\n",
              "</tr>\n",
              "<tr>\n",
              "  <th>floor_numeric</th>      <td>    0.0172</td> <td>    0.005</td> <td>    3.207</td> <td> 0.001</td> <td>    0.007</td> <td>    0.028</td>\n",
              "</tr>\n",
              "<tr>\n",
              "  <th>elavator1</th>          <td>    0.0628</td> <td>    0.027</td> <td>    2.363</td> <td> 0.018</td> <td>    0.011</td> <td>    0.115</td>\n",
              "</tr>\n",
              "<tr>\n",
              "  <th>meter2</th>             <td>    0.0038</td> <td>    0.002</td> <td>    1.528</td> <td> 0.126</td> <td>   -0.001</td> <td>    0.009</td>\n",
              "</tr>\n",
              "<tr>\n",
              "  <th>n_rooms</th>            <td>    0.1693</td> <td>    0.051</td> <td>    3.334</td> <td> 0.001</td> <td>    0.070</td> <td>    0.269</td>\n",
              "</tr>\n",
              "<tr>\n",
              "  <th>n_halfrooms</th>        <td>    0.0809</td> <td>    0.032</td> <td>    2.536</td> <td> 0.011</td> <td>    0.018</td> <td>    0.143</td>\n",
              "</tr>\n",
              "<tr>\n",
              "  <th>balcony1</th>           <td>-5.697e-16</td> <td>  1.5e-16</td> <td>   -3.792</td> <td> 0.000</td> <td>-8.64e-16</td> <td>-2.75e-16</td>\n",
              "</tr>\n",
              "<tr>\n",
              "  <th>balcony2</th>           <td> 3.859e-16</td> <td> 2.03e-16</td> <td>    1.899</td> <td> 0.058</td> <td>-1.24e-17</td> <td> 7.84e-16</td>\n",
              "</tr>\n",
              "<tr>\n",
              "  <th>balcony3</th>           <td>  3.25e-16</td> <td> 1.42e-16</td> <td>    2.285</td> <td> 0.022</td> <td> 4.63e-17</td> <td> 6.04e-16</td>\n",
              "</tr>\n",
              "<tr>\n",
              "  <th>other</th>              <td>    0.1099</td> <td>    0.028</td> <td>    3.961</td> <td> 0.000</td> <td>    0.056</td> <td>    0.164</td>\n",
              "</tr>\n",
              "<tr>\n",
              "  <th>udvar</th>              <td>   -0.0747</td> <td>    0.026</td> <td>   -2.909</td> <td> 0.004</td> <td>   -0.125</td> <td>   -0.024</td>\n",
              "</tr>\n",
              "<tr>\n",
              "  <th>park</th>               <td>    0.0052</td> <td>    0.032</td> <td>    0.164</td> <td> 0.870</td> <td>   -0.057</td> <td>    0.068</td>\n",
              "</tr>\n",
              "<tr>\n",
              "  <th>district1</th>          <td>    0.1193</td> <td>    0.076</td> <td>    1.563</td> <td> 0.118</td> <td>   -0.030</td> <td>    0.269</td>\n",
              "</tr>\n",
              "<tr>\n",
              "  <th>district2</th>          <td>    0.1773</td> <td>    0.059</td> <td>    2.982</td> <td> 0.003</td> <td>    0.061</td> <td>    0.294</td>\n",
              "</tr>\n",
              "<tr>\n",
              "  <th>district3</th>          <td>   -0.1221</td> <td>    0.046</td> <td>   -2.629</td> <td> 0.009</td> <td>   -0.213</td> <td>   -0.031</td>\n",
              "</tr>\n",
              "<tr>\n",
              "  <th>district4</th>          <td>   -0.1558</td> <td>    0.046</td> <td>   -3.420</td> <td> 0.001</td> <td>   -0.245</td> <td>   -0.067</td>\n",
              "</tr>\n",
              "<tr>\n",
              "  <th>district5</th>          <td>    0.2816</td> <td>    0.052</td> <td>    5.378</td> <td> 0.000</td> <td>    0.179</td> <td>    0.384</td>\n",
              "</tr>\n",
              "<tr>\n",
              "  <th>district6</th>          <td>    0.1815</td> <td>    0.049</td> <td>    3.726</td> <td> 0.000</td> <td>    0.086</td> <td>    0.277</td>\n",
              "</tr>\n",
              "<tr>\n",
              "  <th>district7</th>          <td>   -0.0453</td> <td>    0.048</td> <td>   -0.940</td> <td> 0.347</td> <td>   -0.140</td> <td>    0.049</td>\n",
              "</tr>\n",
              "<tr>\n",
              "  <th>district8</th>          <td>    0.0202</td> <td>    0.040</td> <td>    0.499</td> <td> 0.618</td> <td>   -0.059</td> <td>    0.099</td>\n",
              "</tr>\n",
              "<tr>\n",
              "  <th>district9</th>          <td>   -0.0927</td> <td>    0.043</td> <td>   -2.136</td> <td> 0.033</td> <td>   -0.178</td> <td>   -0.008</td>\n",
              "</tr>\n",
              "<tr>\n",
              "  <th>district10</th>         <td>   -0.2242</td> <td>    0.057</td> <td>   -3.949</td> <td> 0.000</td> <td>   -0.336</td> <td>   -0.113</td>\n",
              "</tr>\n",
              "<tr>\n",
              "  <th>district11</th>         <td>   -0.0415</td> <td>    0.034</td> <td>   -1.221</td> <td> 0.222</td> <td>   -0.108</td> <td>    0.025</td>\n",
              "</tr>\n",
              "<tr>\n",
              "  <th>district12</th>         <td>    0.0972</td> <td>    0.052</td> <td>    1.882</td> <td> 0.060</td> <td>   -0.004</td> <td>    0.198</td>\n",
              "</tr>\n",
              "<tr>\n",
              "  <th>district14</th>         <td>   -0.1654</td> <td>    0.035</td> <td>   -4.776</td> <td> 0.000</td> <td>   -0.233</td> <td>   -0.098</td>\n",
              "</tr>\n",
              "<tr>\n",
              "  <th>district15</th>         <td>   -0.2011</td> <td>    0.130</td> <td>   -1.548</td> <td> 0.122</td> <td>   -0.456</td> <td>    0.053</td>\n",
              "</tr>\n",
              "<tr>\n",
              "  <th>district16</th>         <td>   -0.2215</td> <td>    0.072</td> <td>   -3.056</td> <td> 0.002</td> <td>   -0.364</td> <td>   -0.079</td>\n",
              "</tr>\n",
              "<tr>\n",
              "  <th>district17</th>         <td>  7.65e-17</td> <td> 5.12e-17</td> <td>    1.495</td> <td> 0.135</td> <td>-2.38e-17</td> <td> 1.77e-16</td>\n",
              "</tr>\n",
              "<tr>\n",
              "  <th>district18</th>         <td>    0.0050</td> <td>    0.068</td> <td>    0.074</td> <td> 0.941</td> <td>   -0.127</td> <td>    0.137</td>\n",
              "</tr>\n",
              "<tr>\n",
              "  <th>district19</th>         <td>   -0.2727</td> <td>    0.076</td> <td>   -3.590</td> <td> 0.000</td> <td>   -0.422</td> <td>   -0.124</td>\n",
              "</tr>\n",
              "<tr>\n",
              "  <th>district20</th>         <td>   -0.2745</td> <td>    0.061</td> <td>   -4.486</td> <td> 0.000</td> <td>   -0.394</td> <td>   -0.155</td>\n",
              "</tr>\n",
              "<tr>\n",
              "  <th>district21</th>         <td>   -0.3272</td> <td>    0.113</td> <td>   -2.893</td> <td> 0.004</td> <td>   -0.549</td> <td>   -0.106</td>\n",
              "</tr>\n",
              "<tr>\n",
              "  <th>district22</th>         <td>   -0.2009</td> <td>    0.099</td> <td>   -2.022</td> <td> 0.043</td> <td>   -0.396</td> <td>   -0.006</td>\n",
              "</tr>\n",
              "<tr>\n",
              "  <th>district23</th>         <td> -7.74e-18</td> <td> 1.36e-17</td> <td>   -0.570</td> <td> 0.569</td> <td>-3.44e-17</td> <td> 1.89e-17</td>\n",
              "</tr>\n",
              "<tr>\n",
              "  <th>gaz</th>                <td>    0.0203</td> <td>    0.027</td> <td>    0.753</td> <td> 0.451</td> <td>   -0.033</td> <td>    0.073</td>\n",
              "</tr>\n",
              "<tr>\n",
              "  <th>tav</th>                <td>   -0.0593</td> <td>    0.036</td> <td>   -1.645</td> <td> 0.100</td> <td>   -0.130</td> <td>    0.011</td>\n",
              "</tr>\n",
              "<tr>\n",
              "  <th>padlomenny</th>         <td>    0.1884</td> <td>    0.035</td> <td>    5.405</td> <td> 0.000</td> <td>    0.120</td> <td>    0.257</td>\n",
              "</tr>\n",
              "<tr>\n",
              "  <th>elektromos</th>         <td>   -0.0256</td> <td>    0.048</td> <td>   -0.537</td> <td> 0.591</td> <td>   -0.119</td> <td>    0.068</td>\n",
              "</tr>\n",
              "<tr>\n",
              "  <th>berendezett</th>        <td>         0</td> <td>        0</td> <td>      nan</td> <td>   nan</td> <td>        0</td> <td>        0</td>\n",
              "</tr>\n",
              "<tr>\n",
              "  <th>gepesitett</th>         <td>   -0.0608</td> <td>    0.033</td> <td>   -1.859</td> <td> 0.063</td> <td>   -0.125</td> <td>    0.003</td>\n",
              "</tr>\n",
              "</table>\n",
              "<table class=\"simpletable\">\n",
              "<tr>\n",
              "  <th>Omnibus:</th>       <td>105.646</td> <th>  Durbin-Watson:     </th> <td>   1.997</td> \n",
              "</tr>\n",
              "<tr>\n",
              "  <th>Prob(Omnibus):</th> <td> 0.000</td>  <th>  Jarque-Bera (JB):  </th> <td>1082.260</td> \n",
              "</tr>\n",
              "<tr>\n",
              "  <th>Skew:</th>          <td>-0.125</td>  <th>  Prob(JB):          </th> <td>9.78e-236</td>\n",
              "</tr>\n",
              "<tr>\n",
              "  <th>Kurtosis:</th>      <td> 8.780</td>  <th>  Cond. No.          </th> <td>1.13e+16</td> \n",
              "</tr>\n",
              "</table><br/><br/>Notes:<br/>[1] Standard Errors are heteroscedasticity robust (HC1)<br/>[2] The smallest eigenvalue is 8.13e-21. This might indicate that there are<br/>strong multicollinearity problems or that the design matrix is singular."
            ],
            "text/latex": "\\begin{center}\n\\begin{tabular}{lclc}\n\\toprule\n\\textbf{Dep. Variable:}      &     lnprice      & \\textbf{  R-squared:         } &     0.740   \\\\\n\\textbf{Model:}              &       OLS        & \\textbf{  Adj. R-squared:    } &     0.728   \\\\\n\\textbf{Method:}             &  Least Squares   & \\textbf{  F-statistic:       } &     132.8   \\\\\n\\textbf{Date:}               & Sat, 28 Dec 2024 & \\textbf{  Prob (F-statistic):} & 3.35e-295   \\\\\n\\textbf{Time:}               &     11:44:00     & \\textbf{  Log-Likelihood:    } &   -72.799   \\\\\n\\textbf{No. Observations:}   &         776      & \\textbf{  AIC:               } &     219.6   \\\\\n\\textbf{Df Residuals:}       &         739      & \\textbf{  BIC:               } &     391.8   \\\\\n\\textbf{Df Model:}           &          36      & \\textbf{                     } &             \\\\\n\\textbf{Covariance Type:}    &       HC1        & \\textbf{                     } &             \\\\\n\\bottomrule\n\\end{tabular}\n\\begin{tabular}{lcccccc}\n                             & \\textbf{coef} & \\textbf{std err} & \\textbf{z} & \\textbf{P$> |$z$|$} & \\textbf{[0.025} & \\textbf{0.975]}  \\\\\n\\midrule\n\\textbf{Intercept}           &      11.7707  &        0.063     &   185.971  &         0.000        &       11.647    &       11.895     \\\\\n\\textbf{utilities}           &    3.312e-06  &     1.15e-06     &     2.886  &         0.004        &     1.06e-06    &     5.56e-06     \\\\\n\\textbf{common\\_cost}        &    3.094e-06  &      1.5e-06     &     2.068  &         0.039        &     1.62e-07    &     6.03e-06     \\\\\n\\textbf{american\\_kitchen01} &       0.1098  &        0.024     &     4.574  &         0.000        &        0.063    &        0.157     \\\\\n\\textbf{floor\\_numeric}      &       0.0172  &        0.005     &     3.207  &         0.001        &        0.007    &        0.028     \\\\\n\\textbf{elavator1}           &       0.0628  &        0.027     &     2.363  &         0.018        &        0.011    &        0.115     \\\\\n\\textbf{meter2}              &       0.0038  &        0.002     &     1.528  &         0.126        &       -0.001    &        0.009     \\\\\n\\textbf{n\\_rooms}            &       0.1693  &        0.051     &     3.334  &         0.001        &        0.070    &        0.269     \\\\\n\\textbf{n\\_halfrooms}        &       0.0809  &        0.032     &     2.536  &         0.011        &        0.018    &        0.143     \\\\\n\\textbf{balcony1}            &   -5.697e-16  &      1.5e-16     &    -3.792  &         0.000        &    -8.64e-16    &    -2.75e-16     \\\\\n\\textbf{balcony2}            &    3.859e-16  &     2.03e-16     &     1.899  &         0.058        &    -1.24e-17    &     7.84e-16     \\\\\n\\textbf{balcony3}            &     3.25e-16  &     1.42e-16     &     2.285  &         0.022        &     4.63e-17    &     6.04e-16     \\\\\n\\textbf{other}               &       0.1099  &        0.028     &     3.961  &         0.000        &        0.056    &        0.164     \\\\\n\\textbf{udvar}               &      -0.0747  &        0.026     &    -2.909  &         0.004        &       -0.125    &       -0.024     \\\\\n\\textbf{park}                &       0.0052  &        0.032     &     0.164  &         0.870        &       -0.057    &        0.068     \\\\\n\\textbf{district1}           &       0.1193  &        0.076     &     1.563  &         0.118        &       -0.030    &        0.269     \\\\\n\\textbf{district2}           &       0.1773  &        0.059     &     2.982  &         0.003        &        0.061    &        0.294     \\\\\n\\textbf{district3}           &      -0.1221  &        0.046     &    -2.629  &         0.009        &       -0.213    &       -0.031     \\\\\n\\textbf{district4}           &      -0.1558  &        0.046     &    -3.420  &         0.001        &       -0.245    &       -0.067     \\\\\n\\textbf{district5}           &       0.2816  &        0.052     &     5.378  &         0.000        &        0.179    &        0.384     \\\\\n\\textbf{district6}           &       0.1815  &        0.049     &     3.726  &         0.000        &        0.086    &        0.277     \\\\\n\\textbf{district7}           &      -0.0453  &        0.048     &    -0.940  &         0.347        &       -0.140    &        0.049     \\\\\n\\textbf{district8}           &       0.0202  &        0.040     &     0.499  &         0.618        &       -0.059    &        0.099     \\\\\n\\textbf{district9}           &      -0.0927  &        0.043     &    -2.136  &         0.033        &       -0.178    &       -0.008     \\\\\n\\textbf{district10}          &      -0.2242  &        0.057     &    -3.949  &         0.000        &       -0.336    &       -0.113     \\\\\n\\textbf{district11}          &      -0.0415  &        0.034     &    -1.221  &         0.222        &       -0.108    &        0.025     \\\\\n\\textbf{district12}          &       0.0972  &        0.052     &     1.882  &         0.060        &       -0.004    &        0.198     \\\\\n\\textbf{district14}          &      -0.1654  &        0.035     &    -4.776  &         0.000        &       -0.233    &       -0.098     \\\\\n\\textbf{district15}          &      -0.2011  &        0.130     &    -1.548  &         0.122        &       -0.456    &        0.053     \\\\\n\\textbf{district16}          &      -0.2215  &        0.072     &    -3.056  &         0.002        &       -0.364    &       -0.079     \\\\\n\\textbf{district17}          &     7.65e-17  &     5.12e-17     &     1.495  &         0.135        &    -2.38e-17    &     1.77e-16     \\\\\n\\textbf{district18}          &       0.0050  &        0.068     &     0.074  &         0.941        &       -0.127    &        0.137     \\\\\n\\textbf{district19}          &      -0.2727  &        0.076     &    -3.590  &         0.000        &       -0.422    &       -0.124     \\\\\n\\textbf{district20}          &      -0.2745  &        0.061     &    -4.486  &         0.000        &       -0.394    &       -0.155     \\\\\n\\textbf{district21}          &      -0.3272  &        0.113     &    -2.893  &         0.004        &       -0.549    &       -0.106     \\\\\n\\textbf{district22}          &      -0.2009  &        0.099     &    -2.022  &         0.043        &       -0.396    &       -0.006     \\\\\n\\textbf{district23}          &    -7.74e-18  &     1.36e-17     &    -0.570  &         0.569        &    -3.44e-17    &     1.89e-17     \\\\\n\\textbf{gaz}                 &       0.0203  &        0.027     &     0.753  &         0.451        &       -0.033    &        0.073     \\\\\n\\textbf{tav}                 &      -0.0593  &        0.036     &    -1.645  &         0.100        &       -0.130    &        0.011     \\\\\n\\textbf{padlomenny}          &       0.1884  &        0.035     &     5.405  &         0.000        &        0.120    &        0.257     \\\\\n\\textbf{elektromos}          &      -0.0256  &        0.048     &    -0.537  &         0.591        &       -0.119    &        0.068     \\\\\n\\textbf{berendezett}         &            0  &            0     &       nan  &           nan        &            0    &            0     \\\\\n\\textbf{gepesitett}          &      -0.0608  &        0.033     &    -1.859  &         0.063        &       -0.125    &        0.003     \\\\\n\\bottomrule\n\\end{tabular}\n\\begin{tabular}{lclc}\n\\textbf{Omnibus:}       & 105.646 & \\textbf{  Durbin-Watson:     } &     1.997  \\\\\n\\textbf{Prob(Omnibus):} &   0.000 & \\textbf{  Jarque-Bera (JB):  } &  1082.260  \\\\\n\\textbf{Skew:}          &  -0.125 & \\textbf{  Prob(JB):          } & 9.78e-236  \\\\\n\\textbf{Kurtosis:}      &   8.780 & \\textbf{  Cond. No.          } &  1.13e+16  \\\\\n\\bottomrule\n\\end{tabular}\n%\\caption{OLS Regression Results}\n\\end{center}\n\nNotes: \\newline\n [1] Standard Errors are heteroscedasticity robust (HC1) \\newline\n [2] The smallest eigenvalue is 8.13e-21. This might indicate that there are \\newline\n strong multicollinearity problems or that the design matrix is singular."
          },
          "metadata": {},
          "execution_count": 287
        }
      ]
    },
    {
      "cell_type": "code",
      "source": [
        "formula = (\n",
        "    \"lnprice ~  utilities + common_cost + american_kitchen01 + \"\n",
        "    \"floor_numeric + elavator1 + meter2 + n_rooms + n_halfrooms + balcony + \"\n",
        "    \"district1 + district2 + district3 + district4 + district5 + district6 + district7 + district8 +\"\n",
        "    \"district9 + district10 + district11 + district12 + district14 + district15 + district16 + district17 + district18 + district19 + \"\n",
        "    \"district20 + district21 + district22 + district23 + gaz + tav + padlomenny + \"\n",
        "    \"elektromos + berendezett + gepesitett\"\n",
        ")\n",
        "\n",
        "log = smf.ols(formula=formula, data=clean).fit(cov_type=\"HC1\")\n",
        "log.summary()"
      ],
      "metadata": {
        "colab": {
          "base_uri": "https://localhost:8080/",
          "height": 1000
        },
        "id": "3Y-l-W30GUhu",
        "outputId": "f0023642-20a0-439f-8110-cb530d4ae44e"
      },
      "execution_count": 288,
      "outputs": [
        {
          "output_type": "stream",
          "name": "stderr",
          "text": [
            "/usr/local/lib/python3.10/dist-packages/statsmodels/base/model.py:1894: ValueWarning:\n",
            "\n",
            "covariance of constraints does not have full rank. The number of constraints is 37, but rank is 33\n",
            "\n"
          ]
        },
        {
          "output_type": "execute_result",
          "data": {
            "text/plain": [
              "<class 'statsmodels.iolib.summary.Summary'>\n",
              "\"\"\"\n",
              "                            OLS Regression Results                            \n",
              "==============================================================================\n",
              "Dep. Variable:                lnprice   R-squared:                       0.727\n",
              "Model:                            OLS   Adj. R-squared:                  0.715\n",
              "Method:                 Least Squares   F-statistic:                     139.9\n",
              "Date:                Sat, 28 Dec 2024   Prob (F-statistic):          5.27e-293\n",
              "Time:                        11:44:06   Log-Likelihood:                -91.917\n",
              "No. Observations:                 776   AIC:                             251.8\n",
              "Df Residuals:                     742   BIC:                             410.1\n",
              "Df Model:                          33                                         \n",
              "Covariance Type:                  HC1                                         \n",
              "======================================================================================\n",
              "                         coef    std err          z      P>|z|      [0.025      0.975]\n",
              "--------------------------------------------------------------------------------------\n",
              "Intercept             11.7409      0.061    193.704      0.000      11.622      11.860\n",
              "utilities           3.176e-06   1.18e-06      2.701      0.007    8.71e-07    5.48e-06\n",
              "common_cost         3.613e-06   1.54e-06      2.343      0.019     5.9e-07    6.64e-06\n",
              "american_kitchen01     0.1236      0.025      4.988      0.000       0.075       0.172\n",
              "floor_numeric          0.0236      0.006      4.210      0.000       0.013       0.035\n",
              "elavator1              0.0613      0.027      2.276      0.023       0.009       0.114\n",
              "meter2                 0.0038      0.003      1.505      0.132      -0.001       0.009\n",
              "n_rooms                0.1795      0.053      3.418      0.001       0.077       0.282\n",
              "n_halfrooms            0.0866      0.033      2.633      0.008       0.022       0.151\n",
              "balcony                 1e-15   1.51e-16      6.627      0.000    7.04e-16     1.3e-15\n",
              "district1              0.1222      0.076      1.610      0.107      -0.027       0.271\n",
              "district2              0.2172      0.063      3.461      0.001       0.094       0.340\n",
              "district3             -0.1111      0.048     -2.293      0.022      -0.206      -0.016\n",
              "district4             -0.1678      0.043     -3.911      0.000      -0.252      -0.084\n",
              "district5              0.2529      0.053      4.801      0.000       0.150       0.356\n",
              "district6              0.1452      0.049      2.985      0.003       0.050       0.241\n",
              "district7             -0.0879      0.050     -1.758      0.079      -0.186       0.010\n",
              "district8             -0.0125      0.042     -0.300      0.764      -0.094       0.069\n",
              "district9             -0.1117      0.044     -2.553      0.011      -0.197      -0.026\n",
              "district10            -0.1715      0.053     -3.256      0.001      -0.275      -0.068\n",
              "district11            -0.0286      0.034     -0.846      0.398      -0.095       0.038\n",
              "district12             0.1320      0.053      2.482      0.013       0.028       0.236\n",
              "district14            -0.1641      0.034     -4.764      0.000      -0.232      -0.097\n",
              "district15            -0.1747      0.124     -1.406      0.160      -0.418       0.069\n",
              "district16            -0.2420      0.069     -3.488      0.000      -0.378      -0.106\n",
              "district17          1.761e-16   1.31e-17     13.463      0.000     1.5e-16    2.02e-16\n",
              "district18            -0.0466      0.064     -0.734      0.463      -0.171       0.078\n",
              "district19            -0.2690      0.075     -3.568      0.000      -0.417      -0.121\n",
              "district20            -0.3073      0.058     -5.340      0.000      -0.420      -0.195\n",
              "district21            -0.3650      0.127     -2.881      0.004      -0.613      -0.117\n",
              "district22            -0.2173      0.073     -2.973      0.003      -0.361      -0.074\n",
              "district23          2.152e-16   4.26e-17      5.048      0.000    1.32e-16    2.99e-16\n",
              "gaz                    0.0354      0.028      1.280      0.200      -0.019       0.090\n",
              "tav                   -0.0500      0.035     -1.421      0.155      -0.119       0.019\n",
              "padlomenny             0.1984      0.035      5.707      0.000       0.130       0.267\n",
              "elektromos            -0.0264      0.048     -0.546      0.585      -0.121       0.068\n",
              "berendezett                 0          0        nan        nan           0           0\n",
              "gepesitett            -0.0673      0.034     -2.001      0.045      -0.133      -0.001\n",
              "==============================================================================\n",
              "Omnibus:                      113.435   Durbin-Watson:                   1.992\n",
              "Prob(Omnibus):                  0.000   Jarque-Bera (JB):             1290.279\n",
              "Skew:                          -0.156   Prob(JB):                    6.60e-281\n",
              "Kurtosis:                       9.309   Cond. No.                     1.13e+16\n",
              "==============================================================================\n",
              "\n",
              "Notes:\n",
              "[1] Standard Errors are heteroscedasticity robust (HC1)\n",
              "[2] The smallest eigenvalue is 8.13e-21. This might indicate that there are\n",
              "strong multicollinearity problems or that the design matrix is singular.\n",
              "\"\"\""
            ],
            "text/html": [
              "<table class=\"simpletable\">\n",
              "<caption>OLS Regression Results</caption>\n",
              "<tr>\n",
              "  <th>Dep. Variable:</th>         <td>lnprice</td>     <th>  R-squared:         </th> <td>   0.727</td> \n",
              "</tr>\n",
              "<tr>\n",
              "  <th>Model:</th>                   <td>OLS</td>       <th>  Adj. R-squared:    </th> <td>   0.715</td> \n",
              "</tr>\n",
              "<tr>\n",
              "  <th>Method:</th>             <td>Least Squares</td>  <th>  F-statistic:       </th> <td>   139.9</td> \n",
              "</tr>\n",
              "<tr>\n",
              "  <th>Date:</th>             <td>Sat, 28 Dec 2024</td> <th>  Prob (F-statistic):</th> <td>5.27e-293</td>\n",
              "</tr>\n",
              "<tr>\n",
              "  <th>Time:</th>                 <td>11:44:06</td>     <th>  Log-Likelihood:    </th> <td> -91.917</td> \n",
              "</tr>\n",
              "<tr>\n",
              "  <th>No. Observations:</th>      <td>   776</td>      <th>  AIC:               </th> <td>   251.8</td> \n",
              "</tr>\n",
              "<tr>\n",
              "  <th>Df Residuals:</th>          <td>   742</td>      <th>  BIC:               </th> <td>   410.1</td> \n",
              "</tr>\n",
              "<tr>\n",
              "  <th>Df Model:</th>              <td>    33</td>      <th>                     </th>     <td> </td>    \n",
              "</tr>\n",
              "<tr>\n",
              "  <th>Covariance Type:</th>         <td>HC1</td>       <th>                     </th>     <td> </td>    \n",
              "</tr>\n",
              "</table>\n",
              "<table class=\"simpletable\">\n",
              "<tr>\n",
              "           <td></td>             <th>coef</th>     <th>std err</th>      <th>z</th>      <th>P>|z|</th>  <th>[0.025</th>    <th>0.975]</th>  \n",
              "</tr>\n",
              "<tr>\n",
              "  <th>Intercept</th>          <td>   11.7409</td> <td>    0.061</td> <td>  193.704</td> <td> 0.000</td> <td>   11.622</td> <td>   11.860</td>\n",
              "</tr>\n",
              "<tr>\n",
              "  <th>utilities</th>          <td> 3.176e-06</td> <td> 1.18e-06</td> <td>    2.701</td> <td> 0.007</td> <td> 8.71e-07</td> <td> 5.48e-06</td>\n",
              "</tr>\n",
              "<tr>\n",
              "  <th>common_cost</th>        <td> 3.613e-06</td> <td> 1.54e-06</td> <td>    2.343</td> <td> 0.019</td> <td>  5.9e-07</td> <td> 6.64e-06</td>\n",
              "</tr>\n",
              "<tr>\n",
              "  <th>american_kitchen01</th> <td>    0.1236</td> <td>    0.025</td> <td>    4.988</td> <td> 0.000</td> <td>    0.075</td> <td>    0.172</td>\n",
              "</tr>\n",
              "<tr>\n",
              "  <th>floor_numeric</th>      <td>    0.0236</td> <td>    0.006</td> <td>    4.210</td> <td> 0.000</td> <td>    0.013</td> <td>    0.035</td>\n",
              "</tr>\n",
              "<tr>\n",
              "  <th>elavator1</th>          <td>    0.0613</td> <td>    0.027</td> <td>    2.276</td> <td> 0.023</td> <td>    0.009</td> <td>    0.114</td>\n",
              "</tr>\n",
              "<tr>\n",
              "  <th>meter2</th>             <td>    0.0038</td> <td>    0.003</td> <td>    1.505</td> <td> 0.132</td> <td>   -0.001</td> <td>    0.009</td>\n",
              "</tr>\n",
              "<tr>\n",
              "  <th>n_rooms</th>            <td>    0.1795</td> <td>    0.053</td> <td>    3.418</td> <td> 0.001</td> <td>    0.077</td> <td>    0.282</td>\n",
              "</tr>\n",
              "<tr>\n",
              "  <th>n_halfrooms</th>        <td>    0.0866</td> <td>    0.033</td> <td>    2.633</td> <td> 0.008</td> <td>    0.022</td> <td>    0.151</td>\n",
              "</tr>\n",
              "<tr>\n",
              "  <th>balcony</th>            <td>     1e-15</td> <td> 1.51e-16</td> <td>    6.627</td> <td> 0.000</td> <td> 7.04e-16</td> <td>  1.3e-15</td>\n",
              "</tr>\n",
              "<tr>\n",
              "  <th>district1</th>          <td>    0.1222</td> <td>    0.076</td> <td>    1.610</td> <td> 0.107</td> <td>   -0.027</td> <td>    0.271</td>\n",
              "</tr>\n",
              "<tr>\n",
              "  <th>district2</th>          <td>    0.2172</td> <td>    0.063</td> <td>    3.461</td> <td> 0.001</td> <td>    0.094</td> <td>    0.340</td>\n",
              "</tr>\n",
              "<tr>\n",
              "  <th>district3</th>          <td>   -0.1111</td> <td>    0.048</td> <td>   -2.293</td> <td> 0.022</td> <td>   -0.206</td> <td>   -0.016</td>\n",
              "</tr>\n",
              "<tr>\n",
              "  <th>district4</th>          <td>   -0.1678</td> <td>    0.043</td> <td>   -3.911</td> <td> 0.000</td> <td>   -0.252</td> <td>   -0.084</td>\n",
              "</tr>\n",
              "<tr>\n",
              "  <th>district5</th>          <td>    0.2529</td> <td>    0.053</td> <td>    4.801</td> <td> 0.000</td> <td>    0.150</td> <td>    0.356</td>\n",
              "</tr>\n",
              "<tr>\n",
              "  <th>district6</th>          <td>    0.1452</td> <td>    0.049</td> <td>    2.985</td> <td> 0.003</td> <td>    0.050</td> <td>    0.241</td>\n",
              "</tr>\n",
              "<tr>\n",
              "  <th>district7</th>          <td>   -0.0879</td> <td>    0.050</td> <td>   -1.758</td> <td> 0.079</td> <td>   -0.186</td> <td>    0.010</td>\n",
              "</tr>\n",
              "<tr>\n",
              "  <th>district8</th>          <td>   -0.0125</td> <td>    0.042</td> <td>   -0.300</td> <td> 0.764</td> <td>   -0.094</td> <td>    0.069</td>\n",
              "</tr>\n",
              "<tr>\n",
              "  <th>district9</th>          <td>   -0.1117</td> <td>    0.044</td> <td>   -2.553</td> <td> 0.011</td> <td>   -0.197</td> <td>   -0.026</td>\n",
              "</tr>\n",
              "<tr>\n",
              "  <th>district10</th>         <td>   -0.1715</td> <td>    0.053</td> <td>   -3.256</td> <td> 0.001</td> <td>   -0.275</td> <td>   -0.068</td>\n",
              "</tr>\n",
              "<tr>\n",
              "  <th>district11</th>         <td>   -0.0286</td> <td>    0.034</td> <td>   -0.846</td> <td> 0.398</td> <td>   -0.095</td> <td>    0.038</td>\n",
              "</tr>\n",
              "<tr>\n",
              "  <th>district12</th>         <td>    0.1320</td> <td>    0.053</td> <td>    2.482</td> <td> 0.013</td> <td>    0.028</td> <td>    0.236</td>\n",
              "</tr>\n",
              "<tr>\n",
              "  <th>district14</th>         <td>   -0.1641</td> <td>    0.034</td> <td>   -4.764</td> <td> 0.000</td> <td>   -0.232</td> <td>   -0.097</td>\n",
              "</tr>\n",
              "<tr>\n",
              "  <th>district15</th>         <td>   -0.1747</td> <td>    0.124</td> <td>   -1.406</td> <td> 0.160</td> <td>   -0.418</td> <td>    0.069</td>\n",
              "</tr>\n",
              "<tr>\n",
              "  <th>district16</th>         <td>   -0.2420</td> <td>    0.069</td> <td>   -3.488</td> <td> 0.000</td> <td>   -0.378</td> <td>   -0.106</td>\n",
              "</tr>\n",
              "<tr>\n",
              "  <th>district17</th>         <td> 1.761e-16</td> <td> 1.31e-17</td> <td>   13.463</td> <td> 0.000</td> <td>  1.5e-16</td> <td> 2.02e-16</td>\n",
              "</tr>\n",
              "<tr>\n",
              "  <th>district18</th>         <td>   -0.0466</td> <td>    0.064</td> <td>   -0.734</td> <td> 0.463</td> <td>   -0.171</td> <td>    0.078</td>\n",
              "</tr>\n",
              "<tr>\n",
              "  <th>district19</th>         <td>   -0.2690</td> <td>    0.075</td> <td>   -3.568</td> <td> 0.000</td> <td>   -0.417</td> <td>   -0.121</td>\n",
              "</tr>\n",
              "<tr>\n",
              "  <th>district20</th>         <td>   -0.3073</td> <td>    0.058</td> <td>   -5.340</td> <td> 0.000</td> <td>   -0.420</td> <td>   -0.195</td>\n",
              "</tr>\n",
              "<tr>\n",
              "  <th>district21</th>         <td>   -0.3650</td> <td>    0.127</td> <td>   -2.881</td> <td> 0.004</td> <td>   -0.613</td> <td>   -0.117</td>\n",
              "</tr>\n",
              "<tr>\n",
              "  <th>district22</th>         <td>   -0.2173</td> <td>    0.073</td> <td>   -2.973</td> <td> 0.003</td> <td>   -0.361</td> <td>   -0.074</td>\n",
              "</tr>\n",
              "<tr>\n",
              "  <th>district23</th>         <td> 2.152e-16</td> <td> 4.26e-17</td> <td>    5.048</td> <td> 0.000</td> <td> 1.32e-16</td> <td> 2.99e-16</td>\n",
              "</tr>\n",
              "<tr>\n",
              "  <th>gaz</th>                <td>    0.0354</td> <td>    0.028</td> <td>    1.280</td> <td> 0.200</td> <td>   -0.019</td> <td>    0.090</td>\n",
              "</tr>\n",
              "<tr>\n",
              "  <th>tav</th>                <td>   -0.0500</td> <td>    0.035</td> <td>   -1.421</td> <td> 0.155</td> <td>   -0.119</td> <td>    0.019</td>\n",
              "</tr>\n",
              "<tr>\n",
              "  <th>padlomenny</th>         <td>    0.1984</td> <td>    0.035</td> <td>    5.707</td> <td> 0.000</td> <td>    0.130</td> <td>    0.267</td>\n",
              "</tr>\n",
              "<tr>\n",
              "  <th>elektromos</th>         <td>   -0.0264</td> <td>    0.048</td> <td>   -0.546</td> <td> 0.585</td> <td>   -0.121</td> <td>    0.068</td>\n",
              "</tr>\n",
              "<tr>\n",
              "  <th>berendezett</th>        <td>         0</td> <td>        0</td> <td>      nan</td> <td>   nan</td> <td>        0</td> <td>        0</td>\n",
              "</tr>\n",
              "<tr>\n",
              "  <th>gepesitett</th>         <td>   -0.0673</td> <td>    0.034</td> <td>   -2.001</td> <td> 0.045</td> <td>   -0.133</td> <td>   -0.001</td>\n",
              "</tr>\n",
              "</table>\n",
              "<table class=\"simpletable\">\n",
              "<tr>\n",
              "  <th>Omnibus:</th>       <td>113.435</td> <th>  Durbin-Watson:     </th> <td>   1.992</td> \n",
              "</tr>\n",
              "<tr>\n",
              "  <th>Prob(Omnibus):</th> <td> 0.000</td>  <th>  Jarque-Bera (JB):  </th> <td>1290.279</td> \n",
              "</tr>\n",
              "<tr>\n",
              "  <th>Skew:</th>          <td>-0.156</td>  <th>  Prob(JB):          </th> <td>6.60e-281</td>\n",
              "</tr>\n",
              "<tr>\n",
              "  <th>Kurtosis:</th>      <td> 9.309</td>  <th>  Cond. No.          </th> <td>1.13e+16</td> \n",
              "</tr>\n",
              "</table><br/><br/>Notes:<br/>[1] Standard Errors are heteroscedasticity robust (HC1)<br/>[2] The smallest eigenvalue is 8.13e-21. This might indicate that there are<br/>strong multicollinearity problems or that the design matrix is singular."
            ],
            "text/latex": "\\begin{center}\n\\begin{tabular}{lclc}\n\\toprule\n\\textbf{Dep. Variable:}      &     lnprice      & \\textbf{  R-squared:         } &     0.727   \\\\\n\\textbf{Model:}              &       OLS        & \\textbf{  Adj. R-squared:    } &     0.715   \\\\\n\\textbf{Method:}             &  Least Squares   & \\textbf{  F-statistic:       } &     139.9   \\\\\n\\textbf{Date:}               & Sat, 28 Dec 2024 & \\textbf{  Prob (F-statistic):} & 5.27e-293   \\\\\n\\textbf{Time:}               &     11:44:06     & \\textbf{  Log-Likelihood:    } &   -91.917   \\\\\n\\textbf{No. Observations:}   &         776      & \\textbf{  AIC:               } &     251.8   \\\\\n\\textbf{Df Residuals:}       &         742      & \\textbf{  BIC:               } &     410.1   \\\\\n\\textbf{Df Model:}           &          33      & \\textbf{                     } &             \\\\\n\\textbf{Covariance Type:}    &       HC1        & \\textbf{                     } &             \\\\\n\\bottomrule\n\\end{tabular}\n\\begin{tabular}{lcccccc}\n                             & \\textbf{coef} & \\textbf{std err} & \\textbf{z} & \\textbf{P$> |$z$|$} & \\textbf{[0.025} & \\textbf{0.975]}  \\\\\n\\midrule\n\\textbf{Intercept}           &      11.7409  &        0.061     &   193.704  &         0.000        &       11.622    &       11.860     \\\\\n\\textbf{utilities}           &    3.176e-06  &     1.18e-06     &     2.701  &         0.007        &     8.71e-07    &     5.48e-06     \\\\\n\\textbf{common\\_cost}        &    3.613e-06  &     1.54e-06     &     2.343  &         0.019        &      5.9e-07    &     6.64e-06     \\\\\n\\textbf{american\\_kitchen01} &       0.1236  &        0.025     &     4.988  &         0.000        &        0.075    &        0.172     \\\\\n\\textbf{floor\\_numeric}      &       0.0236  &        0.006     &     4.210  &         0.000        &        0.013    &        0.035     \\\\\n\\textbf{elavator1}           &       0.0613  &        0.027     &     2.276  &         0.023        &        0.009    &        0.114     \\\\\n\\textbf{meter2}              &       0.0038  &        0.003     &     1.505  &         0.132        &       -0.001    &        0.009     \\\\\n\\textbf{n\\_rooms}            &       0.1795  &        0.053     &     3.418  &         0.001        &        0.077    &        0.282     \\\\\n\\textbf{n\\_halfrooms}        &       0.0866  &        0.033     &     2.633  &         0.008        &        0.022    &        0.151     \\\\\n\\textbf{balcony}             &        1e-15  &     1.51e-16     &     6.627  &         0.000        &     7.04e-16    &      1.3e-15     \\\\\n\\textbf{district1}           &       0.1222  &        0.076     &     1.610  &         0.107        &       -0.027    &        0.271     \\\\\n\\textbf{district2}           &       0.2172  &        0.063     &     3.461  &         0.001        &        0.094    &        0.340     \\\\\n\\textbf{district3}           &      -0.1111  &        0.048     &    -2.293  &         0.022        &       -0.206    &       -0.016     \\\\\n\\textbf{district4}           &      -0.1678  &        0.043     &    -3.911  &         0.000        &       -0.252    &       -0.084     \\\\\n\\textbf{district5}           &       0.2529  &        0.053     &     4.801  &         0.000        &        0.150    &        0.356     \\\\\n\\textbf{district6}           &       0.1452  &        0.049     &     2.985  &         0.003        &        0.050    &        0.241     \\\\\n\\textbf{district7}           &      -0.0879  &        0.050     &    -1.758  &         0.079        &       -0.186    &        0.010     \\\\\n\\textbf{district8}           &      -0.0125  &        0.042     &    -0.300  &         0.764        &       -0.094    &        0.069     \\\\\n\\textbf{district9}           &      -0.1117  &        0.044     &    -2.553  &         0.011        &       -0.197    &       -0.026     \\\\\n\\textbf{district10}          &      -0.1715  &        0.053     &    -3.256  &         0.001        &       -0.275    &       -0.068     \\\\\n\\textbf{district11}          &      -0.0286  &        0.034     &    -0.846  &         0.398        &       -0.095    &        0.038     \\\\\n\\textbf{district12}          &       0.1320  &        0.053     &     2.482  &         0.013        &        0.028    &        0.236     \\\\\n\\textbf{district14}          &      -0.1641  &        0.034     &    -4.764  &         0.000        &       -0.232    &       -0.097     \\\\\n\\textbf{district15}          &      -0.1747  &        0.124     &    -1.406  &         0.160        &       -0.418    &        0.069     \\\\\n\\textbf{district16}          &      -0.2420  &        0.069     &    -3.488  &         0.000        &       -0.378    &       -0.106     \\\\\n\\textbf{district17}          &    1.761e-16  &     1.31e-17     &    13.463  &         0.000        &      1.5e-16    &     2.02e-16     \\\\\n\\textbf{district18}          &      -0.0466  &        0.064     &    -0.734  &         0.463        &       -0.171    &        0.078     \\\\\n\\textbf{district19}          &      -0.2690  &        0.075     &    -3.568  &         0.000        &       -0.417    &       -0.121     \\\\\n\\textbf{district20}          &      -0.3073  &        0.058     &    -5.340  &         0.000        &       -0.420    &       -0.195     \\\\\n\\textbf{district21}          &      -0.3650  &        0.127     &    -2.881  &         0.004        &       -0.613    &       -0.117     \\\\\n\\textbf{district22}          &      -0.2173  &        0.073     &    -2.973  &         0.003        &       -0.361    &       -0.074     \\\\\n\\textbf{district23}          &    2.152e-16  &     4.26e-17     &     5.048  &         0.000        &     1.32e-16    &     2.99e-16     \\\\\n\\textbf{gaz}                 &       0.0354  &        0.028     &     1.280  &         0.200        &       -0.019    &        0.090     \\\\\n\\textbf{tav}                 &      -0.0500  &        0.035     &    -1.421  &         0.155        &       -0.119    &        0.019     \\\\\n\\textbf{padlomenny}          &       0.1984  &        0.035     &     5.707  &         0.000        &        0.130    &        0.267     \\\\\n\\textbf{elektromos}          &      -0.0264  &        0.048     &    -0.546  &         0.585        &       -0.121    &        0.068     \\\\\n\\textbf{berendezett}         &            0  &            0     &       nan  &           nan        &            0    &            0     \\\\\n\\textbf{gepesitett}          &      -0.0673  &        0.034     &    -2.001  &         0.045        &       -0.133    &       -0.001     \\\\\n\\bottomrule\n\\end{tabular}\n\\begin{tabular}{lclc}\n\\textbf{Omnibus:}       & 113.435 & \\textbf{  Durbin-Watson:     } &     1.992  \\\\\n\\textbf{Prob(Omnibus):} &   0.000 & \\textbf{  Jarque-Bera (JB):  } &  1290.279  \\\\\n\\textbf{Skew:}          &  -0.156 & \\textbf{  Prob(JB):          } & 6.60e-281  \\\\\n\\textbf{Kurtosis:}      &   9.309 & \\textbf{  Cond. No.          } &  1.13e+16  \\\\\n\\bottomrule\n\\end{tabular}\n%\\caption{OLS Regression Results}\n\\end{center}\n\nNotes: \\newline\n [1] Standard Errors are heteroscedasticity robust (HC1) \\newline\n [2] The smallest eigenvalue is 8.13e-21. This might indicate that there are \\newline\n strong multicollinearity problems or that the design matrix is singular."
          },
          "metadata": {},
          "execution_count": 288
        }
      ]
    }
  ]
}